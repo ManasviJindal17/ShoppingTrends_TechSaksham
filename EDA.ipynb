{
 "cells": [
  {
   "cell_type": "code",
   "execution_count": 56,
   "metadata": {},
   "outputs": [],
   "source": [
    "import seaborn as sns\n",
    "import pandas as pd\n",
    "import matplotlib.pyplot as plt\n",
    "import plotly.express as px"
   ]
  },
  {
   "cell_type": "code",
   "execution_count": 57,
   "metadata": {},
   "outputs": [],
   "source": [
    "shop= pd.read_csv('shopping_trends_updated(in).csv')"
   ]
  },
  {
   "cell_type": "code",
   "execution_count": 58,
   "metadata": {},
   "outputs": [
    {
     "data": {
      "text/plain": [
       "(3900, 18)"
      ]
     },
     "execution_count": 58,
     "metadata": {},
     "output_type": "execute_result"
    }
   ],
   "source": [
    "shop.shape"
   ]
  },
  {
   "cell_type": "code",
   "execution_count": 59,
   "metadata": {},
   "outputs": [
    {
     "data": {
      "text/html": [
       "<div>\n",
       "<style scoped>\n",
       "    .dataframe tbody tr th:only-of-type {\n",
       "        vertical-align: middle;\n",
       "    }\n",
       "\n",
       "    .dataframe tbody tr th {\n",
       "        vertical-align: top;\n",
       "    }\n",
       "\n",
       "    .dataframe thead th {\n",
       "        text-align: right;\n",
       "    }\n",
       "</style>\n",
       "<table border=\"1\" class=\"dataframe\">\n",
       "  <thead>\n",
       "    <tr style=\"text-align: right;\">\n",
       "      <th></th>\n",
       "      <th>Customer ID</th>\n",
       "      <th>Age</th>\n",
       "      <th>Gender</th>\n",
       "      <th>Item Purchased</th>\n",
       "      <th>Category</th>\n",
       "      <th>Purchase Amount (USD)</th>\n",
       "      <th>Location</th>\n",
       "      <th>Size</th>\n",
       "      <th>Color</th>\n",
       "      <th>Season</th>\n",
       "      <th>Review Rating</th>\n",
       "      <th>Subscription Status</th>\n",
       "      <th>Shipping Type</th>\n",
       "      <th>Discount Applied</th>\n",
       "      <th>Promo Code Used</th>\n",
       "      <th>Previous Purchases</th>\n",
       "      <th>Payment Method</th>\n",
       "      <th>Frequency of Purchases</th>\n",
       "    </tr>\n",
       "  </thead>\n",
       "  <tbody>\n",
       "    <tr>\n",
       "      <th>0</th>\n",
       "      <td>1</td>\n",
       "      <td>55</td>\n",
       "      <td>Male</td>\n",
       "      <td>Blouse</td>\n",
       "      <td>Clothing</td>\n",
       "      <td>53</td>\n",
       "      <td>Kentucky</td>\n",
       "      <td>L</td>\n",
       "      <td>Gray</td>\n",
       "      <td>Winter</td>\n",
       "      <td>3.1</td>\n",
       "      <td>Yes</td>\n",
       "      <td>Express</td>\n",
       "      <td>Yes</td>\n",
       "      <td>Yes</td>\n",
       "      <td>14</td>\n",
       "      <td>Venmo</td>\n",
       "      <td>Fortnightly</td>\n",
       "    </tr>\n",
       "    <tr>\n",
       "      <th>1</th>\n",
       "      <td>2</td>\n",
       "      <td>19</td>\n",
       "      <td>Male</td>\n",
       "      <td>Sweater</td>\n",
       "      <td>Clothing</td>\n",
       "      <td>64</td>\n",
       "      <td>Maine</td>\n",
       "      <td>L</td>\n",
       "      <td>Maroon</td>\n",
       "      <td>Winter</td>\n",
       "      <td>3.1</td>\n",
       "      <td>Yes</td>\n",
       "      <td>Express</td>\n",
       "      <td>Yes</td>\n",
       "      <td>Yes</td>\n",
       "      <td>2</td>\n",
       "      <td>Cash</td>\n",
       "      <td>Fortnightly</td>\n",
       "    </tr>\n",
       "    <tr>\n",
       "      <th>2</th>\n",
       "      <td>3</td>\n",
       "      <td>50</td>\n",
       "      <td>Male</td>\n",
       "      <td>Jeans</td>\n",
       "      <td>Clothing</td>\n",
       "      <td>73</td>\n",
       "      <td>Massachusetts</td>\n",
       "      <td>S</td>\n",
       "      <td>Maroon</td>\n",
       "      <td>Spring</td>\n",
       "      <td>3.1</td>\n",
       "      <td>Yes</td>\n",
       "      <td>Free Shipping</td>\n",
       "      <td>Yes</td>\n",
       "      <td>Yes</td>\n",
       "      <td>23</td>\n",
       "      <td>Credit Card</td>\n",
       "      <td>Weekly</td>\n",
       "    </tr>\n",
       "    <tr>\n",
       "      <th>3</th>\n",
       "      <td>4</td>\n",
       "      <td>21</td>\n",
       "      <td>Male</td>\n",
       "      <td>Sandals</td>\n",
       "      <td>Footwear</td>\n",
       "      <td>90</td>\n",
       "      <td>Rhode Island</td>\n",
       "      <td>M</td>\n",
       "      <td>Maroon</td>\n",
       "      <td>Spring</td>\n",
       "      <td>3.5</td>\n",
       "      <td>Yes</td>\n",
       "      <td>Next Day Air</td>\n",
       "      <td>Yes</td>\n",
       "      <td>Yes</td>\n",
       "      <td>49</td>\n",
       "      <td>PayPal</td>\n",
       "      <td>Weekly</td>\n",
       "    </tr>\n",
       "    <tr>\n",
       "      <th>4</th>\n",
       "      <td>5</td>\n",
       "      <td>45</td>\n",
       "      <td>Male</td>\n",
       "      <td>Blouse</td>\n",
       "      <td>Clothing</td>\n",
       "      <td>49</td>\n",
       "      <td>Oregon</td>\n",
       "      <td>M</td>\n",
       "      <td>Turquoise</td>\n",
       "      <td>Spring</td>\n",
       "      <td>2.7</td>\n",
       "      <td>Yes</td>\n",
       "      <td>Free Shipping</td>\n",
       "      <td>Yes</td>\n",
       "      <td>Yes</td>\n",
       "      <td>31</td>\n",
       "      <td>PayPal</td>\n",
       "      <td>Annually</td>\n",
       "    </tr>\n",
       "  </tbody>\n",
       "</table>\n",
       "</div>"
      ],
      "text/plain": [
       "   Customer ID  Age Gender Item Purchased  Category  Purchase Amount (USD)  \\\n",
       "0            1   55   Male         Blouse  Clothing                     53   \n",
       "1            2   19   Male        Sweater  Clothing                     64   \n",
       "2            3   50   Male          Jeans  Clothing                     73   \n",
       "3            4   21   Male        Sandals  Footwear                     90   \n",
       "4            5   45   Male         Blouse  Clothing                     49   \n",
       "\n",
       "        Location Size      Color  Season  Review Rating Subscription Status  \\\n",
       "0       Kentucky    L       Gray  Winter            3.1                 Yes   \n",
       "1          Maine    L     Maroon  Winter            3.1                 Yes   \n",
       "2  Massachusetts    S     Maroon  Spring            3.1                 Yes   \n",
       "3   Rhode Island    M     Maroon  Spring            3.5                 Yes   \n",
       "4         Oregon    M  Turquoise  Spring            2.7                 Yes   \n",
       "\n",
       "   Shipping Type Discount Applied Promo Code Used  Previous Purchases  \\\n",
       "0        Express              Yes             Yes                  14   \n",
       "1        Express              Yes             Yes                   2   \n",
       "2  Free Shipping              Yes             Yes                  23   \n",
       "3   Next Day Air              Yes             Yes                  49   \n",
       "4  Free Shipping              Yes             Yes                  31   \n",
       "\n",
       "  Payment Method Frequency of Purchases  \n",
       "0          Venmo            Fortnightly  \n",
       "1           Cash            Fortnightly  \n",
       "2    Credit Card                 Weekly  \n",
       "3         PayPal                 Weekly  \n",
       "4         PayPal               Annually  "
      ]
     },
     "execution_count": 59,
     "metadata": {},
     "output_type": "execute_result"
    }
   ],
   "source": [
    "shop.head()"
   ]
  },
  {
   "cell_type": "code",
   "execution_count": 60,
   "metadata": {},
   "outputs": [
    {
     "data": {
      "text/plain": [
       "Customer ID                 int64\n",
       "Age                         int64\n",
       "Gender                     object\n",
       "Item Purchased             object\n",
       "Category                   object\n",
       "Purchase Amount (USD)       int64\n",
       "Location                   object\n",
       "Size                       object\n",
       "Color                      object\n",
       "Season                     object\n",
       "Review Rating             float64\n",
       "Subscription Status        object\n",
       "Shipping Type              object\n",
       "Discount Applied           object\n",
       "Promo Code Used            object\n",
       "Previous Purchases          int64\n",
       "Payment Method             object\n",
       "Frequency of Purchases     object\n",
       "dtype: object"
      ]
     },
     "execution_count": 60,
     "metadata": {},
     "output_type": "execute_result"
    }
   ],
   "source": [
    "shop.dtypes"
   ]
  },
  {
   "cell_type": "code",
   "execution_count": 61,
   "metadata": {},
   "outputs": [
    {
     "data": {
      "text/plain": [
       "Index(['Customer ID', 'Age', 'Gender', 'Item Purchased', 'Category',\n",
       "       'Purchase Amount (USD)', 'Location', 'Size', 'Color', 'Season',\n",
       "       'Review Rating', 'Subscription Status', 'Shipping Type',\n",
       "       'Discount Applied', 'Promo Code Used', 'Previous Purchases',\n",
       "       'Payment Method', 'Frequency of Purchases'],\n",
       "      dtype='object')"
      ]
     },
     "execution_count": 61,
     "metadata": {},
     "output_type": "execute_result"
    }
   ],
   "source": [
    "shop.columns "
   ]
  },
  {
   "cell_type": "code",
   "execution_count": 62,
   "metadata": {},
   "outputs": [
    {
     "name": "stdout",
     "output_type": "stream",
     "text": [
      "<class 'pandas.core.frame.DataFrame'>\n",
      "RangeIndex: 3900 entries, 0 to 3899\n",
      "Data columns (total 18 columns):\n",
      " #   Column                  Non-Null Count  Dtype  \n",
      "---  ------                  --------------  -----  \n",
      " 0   Customer ID             3900 non-null   int64  \n",
      " 1   Age                     3900 non-null   int64  \n",
      " 2   Gender                  3900 non-null   object \n",
      " 3   Item Purchased          3900 non-null   object \n",
      " 4   Category                3900 non-null   object \n",
      " 5   Purchase Amount (USD)   3900 non-null   int64  \n",
      " 6   Location                3900 non-null   object \n",
      " 7   Size                    3900 non-null   object \n",
      " 8   Color                   3900 non-null   object \n",
      " 9   Season                  3900 non-null   object \n",
      " 10  Review Rating           3900 non-null   float64\n",
      " 11  Subscription Status     3900 non-null   object \n",
      " 12  Shipping Type           3900 non-null   object \n",
      " 13  Discount Applied        3900 non-null   object \n",
      " 14  Promo Code Used         3900 non-null   object \n",
      " 15  Previous Purchases      3900 non-null   int64  \n",
      " 16  Payment Method          3900 non-null   object \n",
      " 17  Frequency of Purchases  3900 non-null   object \n",
      "dtypes: float64(1), int64(4), object(13)\n",
      "memory usage: 548.6+ KB\n"
     ]
    }
   ],
   "source": [
    "shop.info()"
   ]
  },
  {
   "cell_type": "code",
   "execution_count": 63,
   "metadata": {},
   "outputs": [
    {
     "data": {
      "text/plain": [
       "Customer ID               0\n",
       "Age                       0\n",
       "Gender                    0\n",
       "Item Purchased            0\n",
       "Category                  0\n",
       "Purchase Amount (USD)     0\n",
       "Location                  0\n",
       "Size                      0\n",
       "Color                     0\n",
       "Season                    0\n",
       "Review Rating             0\n",
       "Subscription Status       0\n",
       "Shipping Type             0\n",
       "Discount Applied          0\n",
       "Promo Code Used           0\n",
       "Previous Purchases        0\n",
       "Payment Method            0\n",
       "Frequency of Purchases    0\n",
       "dtype: int64"
      ]
     },
     "execution_count": 63,
     "metadata": {},
     "output_type": "execute_result"
    }
   ],
   "source": [
    "shop.isnull().sum()"
   ]
  },
  {
   "cell_type": "code",
   "execution_count": 64,
   "metadata": {},
   "outputs": [
    {
     "name": "stdout",
     "output_type": "stream",
     "text": [
      "The unique values of the Gender column ['Male' 'Female']\n",
      "\n",
      "The unique values of the Category column ['Clothing' 'Footwear' 'Outerwear' 'Accessories']\n",
      "\n",
      "The unique values of the Size column ['L' 'S' 'M' 'XL']\n",
      "\n",
      "The unique values of the Shipping Type column ['Express' 'Free Shipping' 'Next Day Air' 'Standard' '2-Day Shipping'\n",
      " 'Store Pickup']\n",
      "\n",
      "The unique values of the Payment Method column ['Venmo' 'Cash' 'Credit Card' 'PayPal' 'Bank Transfer' 'Debit Card']\n"
     ]
    }
   ],
   "source": [
    "print(f\"The unique values of the Gender column {shop['Gender'].unique()}\")\n",
    "print()\n",
    "print(f\"The unique values of the Category column {shop['Category'].unique()}\")\n",
    "print()\n",
    "print(f\"The unique values of the Size column {shop['Size'].unique()}\")\n",
    "print()\n",
    "print(f\"The unique values of the Shipping Type column {shop['Shipping Type'].unique()}\")\n",
    "print()\n",
    "print(f\"The unique values of the Payment Method column {shop['Payment Method'].unique()}\")"
   ]
  },
  {
   "cell_type": "markdown",
   "metadata": {},
   "source": [
    "1. What is the overall distribution of customer ages in the dataset?"
   ]
  },
  {
   "cell_type": "code",
   "execution_count": 65,
   "metadata": {},
   "outputs": [
    {
     "data": {
      "text/plain": [
       "Age\n",
       "69    88\n",
       "57    87\n",
       "41    86\n",
       "25    85\n",
       "49    84\n",
       "54    83\n",
       "27    83\n",
       "50    83\n",
       "62    83\n",
       "32    82\n",
       "58    81\n",
       "19    81\n",
       "42    80\n",
       "31    79\n",
       "28    79\n",
       "43    79\n",
       "37    77\n",
       "29    76\n",
       "46    76\n",
       "63    75\n",
       "59    75\n",
       "68    75\n",
       "56    74\n",
       "36    74\n",
       "52    73\n",
       "64    73\n",
       "55    73\n",
       "51    72\n",
       "65    72\n",
       "45    72\n",
       "40    72\n",
       "35    72\n",
       "47    71\n",
       "66    71\n",
       "30    71\n",
       "23    71\n",
       "53    70\n",
       "38    70\n",
       "18    69\n",
       "26    69\n",
       "21    69\n",
       "34    68\n",
       "39    68\n",
       "48    68\n",
       "24    68\n",
       "70    67\n",
       "22    66\n",
       "61    65\n",
       "60    65\n",
       "33    63\n",
       "20    62\n",
       "67    54\n",
       "44    51\n",
       "Name: count, dtype: int64"
      ]
     },
     "execution_count": 65,
     "metadata": {},
     "output_type": "execute_result"
    }
   ],
   "source": [
    "shop['Age'].value_counts()"
   ]
  },
  {
   "cell_type": "code",
   "execution_count": 66,
   "metadata": {},
   "outputs": [
    {
     "data": {
      "text/plain": [
       "np.float64(44.06846153846154)"
      ]
     },
     "execution_count": 66,
     "metadata": {},
     "output_type": "execute_result"
    }
   ],
   "source": [
    "shop['Age'].mean()"
   ]
  },
  {
   "cell_type": "code",
   "execution_count": 67,
   "metadata": {},
   "outputs": [
    {
     "data": {
      "text/plain": [
       "array(['Male', 'Female'], dtype=object)"
      ]
     },
     "execution_count": 67,
     "metadata": {},
     "output_type": "execute_result"
    }
   ],
   "source": [
    "shop['Gender'].unique()"
   ]
  },
  {
   "cell_type": "code",
   "execution_count": 68,
   "metadata": {},
   "outputs": [
    {
     "data": {
      "application/vnd.plotly.v1+json": {
       "config": {
        "plotlyServerURL": "https://plot.ly"
       },
       "data": [
        {
         "bingroup": "y",
         "histfunc": "sum",
         "hovertemplate": "sum of Age=%{x}<br>Age_Category=%{y}<extra></extra>",
         "legendgroup": "",
         "marker": {
          "color": "#636efa",
          "pattern": {
           "shape": ""
          }
         },
         "name": "",
         "orientation": "h",
         "showlegend": false,
         "type": "histogram",
         "x": {
          "bdata": "NxMyFS0uPxsaOTUePUFAQBk1NEIVHzgfEhImODYfOSEkNiQ2IyMdRkVDFBknMjk3KkQxOyodLygpFUU/MjceIUFBHy05MBYkEjAxQDIWMiYTQxMkNDUYNCEvGSw9JTolIBUUGj4bMzY3RUAcRjo4GiUsRjU3MjImQBMoOSwxKxgUGCwcHjQrKydERDE/OCUeExg0PyUmIxweRSk/IyQZOhtBNjY7Ki4hIhs0HTYZKTU1FT1AMyAmOiAuJxMyJEFALiQzMyY7OTYZRTlGGEMYPjk3LUVDHhg+KyMcICccLxQ/GR0yEkZCHDYTFCsmMkAxLyQ3GTUxIx0vNSEVIDRDKzoUPSAmFSUbJCAzQEREIUEwRTswGR05Fy0mFSA/HRs4HjE6OTxFRjUZMEUZHS4lFCg8Gh1CQjhFJioeQiQ6LS9CKSlCJUY+PTBGLh8TJykUJCBFKCgUQBsYMDEkOCUqHBs/OiU4EjAfM0E1Nz43QDQYJjsbGBdFOzM/NiAnQhwyRkNALRYbGSUaISslLhYUPCcrHxMjKTQtIiMdOxhGHUMkFxI1ICYvLkIoKzoVKhgrLzEyMygtND4UKx0WMCoTPCAaGUItNiU2MhkvP0ASOyUXNiYTIhUyNxQiPhUVKiMnRC4pF0QwJik6MTkxMhwmIR4rKyQkQDs3Kj0cQRspFT0TFkAcIj0YEzMkQS47MzMVIiAwMho5QTgsMhsxMTQbNSIhPiYkHz4dGD84PygSMkIZQTU9Qzs3FSxBQTY4OjY6MBNFOjEgKBlGRS0dLxxALzxDIx4XRhUzFiAlHywoGy8pMzUrQz1EQx0yPRMhM0UTNzEfKkUaKTcjQiQbKRU1NjUvQBJEPjM2FjUiIEAUGBQqMD4+MjkYOz8pIyIxKz8mOyMwQBw8Gzg6HhchP0ZGExkTGTwjLikeLD03MjkzEj8iGS47JTEWQColGiEeFRY/ISsbIyU9ID4dKTArIi1BPRIvOEAaFkAVQy4oMyM4GUEnLyRCPilCMyE5LT03NjkbQDQTFhIdKjExNx08Ih4cPx8uRjUyIRYyIhhFJyoqHTcgGSYgKyk4Gy4wNBJANh8eGhk7Nzg+IzM9GzYfGCopQjorNCMXGSEwKjc7QTsfMTUwF0QjIj4VRjcrEy8aLhMxM0BDJSgmQi84MxklKUAXPic0MhxDKRNGMTs0FB8hLChFHTZBNjwrLEUuKSAaPTE1GCUrHzFFQSklRj83NBY2HEM7Ghg+Ri06HyAkGTAnGiA2Ji45MSE2LyREPDcdJkYkEj4dFSorOhs5KC0vPTxFOiIUOEA4GyMYGiA2PjJGMBQuMzUsHUAzMis9NzghKxU6KSc2Kxw7HEQUFTIgGDc9PRw8MSEtHToWNxNEPUQ0KR1EJDccJzYoHx4tMC08OxJGFEEdFhskOz4iOzESNyYyPTAWMDkhOiUSQT42IyIZNS0xKCYsRDwZEzk6MRMyHjQjIyE0RRtCHBZFHDceQxkxIhY/RiQqGxcyOCVDQzIkPkEXLhI6HydFRCkfMDsiFR0pPhsxQxQlRUIlPy8aRDMwPEQZOSk7LCojJDYlFBc9JRc/Lz84REA+IjEoMhkeNigxGxswKEM0Fj4UKSIXIEQeQj4yNxNDEjpFPhw1GzciGUI5LiYXKhk3Pik6OBlGKhtBPj40OBwnNh4tRC9EPxQdKTQgFC8XK0NGIyk2NzMTHD8eHRhFQUAoGEIjQ0UaFxseMCwdHUMqFyJAHzYXOyArIEJGKjgcHDRBODsXOiccKDQlRh4mQh0uOBclOCQoGjlEOCgsLBMVHx5BJ0A7MRgTGzgxKSREHC08FSAbKEASFio5ISUVMx5EJC4pRBU+Oxk1Hy4aLyU3HhMkFz4aJCEgODoiPTAZMx02MD4SKxZELDNCOzwfFBgwJyJGOy0jRToZGyI1OiBAPxdAEhk2PCRCPDs6IxRGNiY2IS46HiocKx8nRR8sJxgcMCdAHCcxFhkoFxhCGz5GKy0/RTsTPyUlMjwuI0IjFDciPBYaJxQ5RDIVHSY2Fh0pGkUUOz9EMjckEkQ4IBwYOzgeMDwuRRNCQDYbQCsrGyMrOTIlRBY6MB4zFB4cJSQSNDhEPiNBRRwlKSUZKTAqNhI4PSgiKisvMBRBNhcSRjcxGiEUKRIaHkAaKz85GUQfQCYiIEUtIz9BIzYcRDojRClBMhImRDU6IiQ6PDtBHyslFUUgNTtAPysTKDMzQioWHxIVIyMbQSk8PRhBFx4hFkMcIChAOD8UNh8kGRQ+RTYnOCclGSMtExVBMR4XRR02LRkiLkYqLTkxFy8XFS1DHzo5KjwVRSkzFzkoQT0iKx85IhlCODETG0QUFSQlPUQ8RRkgNS46FS4SOBIxHUMfNCogLy0UQjQyPiZBPEQ+PiggFiE5PB4pOiJDOikqMiggMxogOjMTOUI+OhctFCEeMj5FIjFBQiklICofPSQ8M0QuEx4zHCkdGTw/MxY2Eh07GRM4Hy0XEis4K0BDPzZFIjgiOiwZGxoSQD47JEUnHCofOTU7IEE4HzsWLxdFEjIdQR0xHDMaJiMiMy8SQB47QigZO0I2KjAiE0YrLkIyNz8gHiM7OzY/KyE5GRoyRkQnLjkvKDQoQ0MlQ0AcNjYYGzUgGC0xM0UpOxoXPkUuIyAuISAhQ0MqFCcaMx9ELBI6GjklGDkwJzM5NUY8Hyk+Oy4+KiUyHRlCFS45PTUlJzUjRUITLzEfJzotRCNBLRNBHDdCHTgVIDY9HxtAPEYkOEUnJiQuO0AxIB0YKSkgRUE2JyUzGioVNSQVITEfRDEXHjVBPC42OzQpKz8lLEMbPDo1KyA2Lzk/Rj4oGRMZFTciLxtDKDUYLzUvJjAvEyY5RiYjLiAmKRMSLRc8NCodHx4XHygnHBcqRBgYFTEpFioeJig3JSkmKhopGz06GSE5JzwnKjUULi5FHCoeMjs2MhkpI0MhExkgHhImFig2RjQiQSYjKBctKCo5EhI4IzExIj8qKRowPhgwHykYPCY6NSwzJBQgQjEbHR03OR0fGT01FhwSLCAiQ0IcRiUcKyU2Mi48KEASJSQzGkQbHDFGHhsTQCpFHC9FOBwyJyM7LEIULTE8PSQhMR8TJ0IZPzgUOiIcFiU2QTkmRjg4Fjk1NRMxLBs8PjQeQh0YM0MyJUU8FSwaKCk+JzUYKRMkFRlBKig6KD4mJUE3KystQBxFNjQXGjAxNUUaFTsVFhopJR4xMTpGG0E5FCI7NiQVNCsgNx8tNRgvPyY7NhpEKUQVIBQ7NUIvOhxEPC8SIBtBRDceGDkXRTwZEiU9KUUgPCs9OThCND8yFSooQyMSNDsxLkU4Gzk6FxMoNjJFKiUuQBQoQB0UKzwnLxM0IhkrN0IpLzMsEiEYIT0bLiY/LyopNR09RTMYGEYxMDogOUUqHiMTNCokLTY2GzUUNDZBKzkTRRo5FDcsNDkoFyQ7HT88QD8VPUFFLylEKSpCQiE3OhIxPR9GRBswPzETHjJCGT0dNRgzGjspFBYSHhknMRkXITwzFxQzF0MXGjQ0NCMYKxkuFkYxMDsnHiU4QygYKy0hNSwXO0QuOCg9NR0sKyg3QjI5KjcZFjFGODRBGCA5I0UeJRM1GS8SFkU3Exc2NEAhKBofFzQVHz8uLDkyIRNEGz0mHCcSGEAzGzBFOzsqJyBEKR86HD9AQh83IDI6Eic4JS40Rj0hQSkTITU2JDgcIis2JSEhNz80F0ZAFi5BEi04MUIbRUItHyErGS5DGiM9GidFIBQZOD8iHSsnITNBM0YoExwzIBoyRCE4OTooJSQdQSwiHxxCRCU6HDYVLTkvLj8sJBhBID8+EyY7FjcdKhdGQCcvFkUjOB4rFzIpKRsmKTo6EysbIBwwKy0aPjoTQCEULRwvNkAtKB8mJEEbJjofHBwgPSY2HTIgJjQ9GRYvMi0hKjRFNyY5ITk0LDA0IhokGB4fGTk9HiY1H0YVITwtLj4/RS5FQikgRR1GKR8fOR1GMy0SJRcnPkYUKikYJR46KxMXQToyQyg3ND5AKz0aFjNFMjM4OxIwNS0VKjwVRSgfLDAgKhtFQykuLyEzGhYxOkYgPjQXGjoaNkI8IDBFQDgWLhgvPiIyHUQ0HRY+RTBCKjIgMxsrMD5BMjwTFRMuFRoyKz0/Lj8XOTkhOTdBPDQiITojRDoiLyMiJBdEFzkVLSUSNzQxOBsWEhUePhxCQjEoMRMYHyNBRDlFLSMkN0I5Eh8yMj00JkMqGSk+Ez8rRBgbPTtDLkE/OSgkQz1AHjUbGzUiJywlOSYVLUQlNTkcJTYxPi0tMRs/PRkhODItLUE/RjUWGhcZRSQVOTwsHzknMCo4HCgxJRYbOyM6Oi4rJzs7Oy0bGC9GOi0YQx80HT4TPkYUQ0EtGiQkFB4iPxI3MC0dNzc3MCoVLRdCIDQ2JR0vLyoiJjcbN0IsJxcdFCo3Qhg+HB4WHCMtKzcfKignKTgrFi8yOjIrJiweLx4xOEYWMxYlMT0pOSIbJz4iNSMmIC81PB8sHRM2KCcsFh5FHDkuMBgyHT0iGyYZNjUXEzkTISEmLycgG0MuJD4fRDkWGistQBwvNSozPhIwFCAaHzcxKkBERCkzLBskEzESJCQTKx8/KTBENSQuFTRCEywyMxk+MD4WMDA+GCcjLxYmNR8fQTASLjQyMUUkHhkTIh0yHyk0GzFFLRQZJjc+Nj0yQUQ3OTgdGDs+OkAwPDQ/LD9CFj4nGUY0RBISPy8rPDEcIB0jF0YXKx09HUIuIjMaFzQnJyEhFx8bMD0/ExUcHRclQyI6LT9EKTIYFRI/LzouIyowHCw8Ji4nFixFJzU0QTAbJzs0MiAoGi8zLzUjJkUvH0QzFBtDFRQjOhwbEz9FQT8cQzM7GR8+MyAjRhMgODUWGioeHS87IjQvGD87Qi0mPzcZMxwuOh5EHBojKB88RTMxEj85LSQUFT4XGh4SLyk+HC42JBkmJioTIiYqOjg+GDw1GiIYKiQYJy5AQD09LEE8QRskFj47MjMXFSwZOSkTKxk8NjQoJzZAHyUrOBsoKz4sLShEPzwTGkYwJTASJiE5Li4yPS0gHUJGJCIURjI2MTI+KkUWJEAsKzo+LS9CHkQjQB46OTwWLhsyQT05KCcqHkE5QDgoNxk6LhIaPTcpKkY/PBw8Gio4IyIvMSUoLTkjJCMVQig0Liw0",
          "dtype": "i1"
         },
         "xaxis": "x",
         "y": [
          "Old",
          "Young Adult",
          "Adult",
          "Young Adult",
          "Adult",
          "Adult",
          "Old",
          "Young Adult",
          "Young Adult",
          "Old",
          "Old",
          "Young Adult",
          "Old",
          "Old",
          "Old",
          "Old",
          "Young Adult",
          "Old",
          "Old",
          "Old",
          "Young Adult",
          "Adult",
          "Old",
          "Adult",
          "teen",
          "teen",
          "Adult",
          "Old",
          "Old",
          "Adult",
          "Old",
          "Adult",
          "Adult",
          "Old",
          "Adult",
          "Old",
          "Adult",
          "Adult",
          "Young Adult",
          "Old",
          "Old",
          "Old",
          "Young Adult",
          "Young Adult",
          "Adult",
          "Adult",
          "Old",
          "Old",
          "Adult",
          "Old",
          "Adult",
          "Old",
          "Adult",
          "Young Adult",
          "Adult",
          "Adult",
          "Adult",
          "Young Adult",
          "Old",
          "Old",
          "Adult",
          "Old",
          "Young Adult",
          "Adult",
          "Old",
          "Old",
          "Adult",
          "Adult",
          "Old",
          "Adult",
          "Young Adult",
          "Adult",
          "teen",
          "Adult",
          "Adult",
          "Old",
          "Adult",
          "Young Adult",
          "Adult",
          "Adult",
          "Young Adult",
          "Old",
          "Young Adult",
          "Adult",
          "Old",
          "Old",
          "Young Adult",
          "Old",
          "Adult",
          "Adult",
          "Young Adult",
          "Adult",
          "Old",
          "Adult",
          "Old",
          "Adult",
          "Adult",
          "Young Adult",
          "Young Adult",
          "Young Adult",
          "Old",
          "Young Adult",
          "Old",
          "Old",
          "Old",
          "Old",
          "Old",
          "Young Adult",
          "Old",
          "Old",
          "Old",
          "Young Adult",
          "Adult",
          "Adult",
          "Old",
          "Old",
          "Old",
          "Adult",
          "Adult",
          "Adult",
          "Old",
          "Young Adult",
          "Adult",
          "Old",
          "Adult",
          "Adult",
          "Adult",
          "Young Adult",
          "Young Adult",
          "Young Adult",
          "Adult",
          "Young Adult",
          "Young Adult",
          "Old",
          "Adult",
          "Adult",
          "Adult",
          "Old",
          "Old",
          "Adult",
          "Old",
          "Old",
          "Adult",
          "Young Adult",
          "Young Adult",
          "Young Adult",
          "Old",
          "Old",
          "Adult",
          "Adult",
          "Adult",
          "Young Adult",
          "Young Adult",
          "Old",
          "Adult",
          "Old",
          "Adult",
          "Adult",
          "Young Adult",
          "Old",
          "Young Adult",
          "Old",
          "Old",
          "Old",
          "Old",
          "Adult",
          "Adult",
          "Adult",
          "Adult",
          "Young Adult",
          "Old",
          "Young Adult",
          "Old",
          "Young Adult",
          "Adult",
          "Old",
          "Old",
          "Young Adult",
          "Old",
          "Old",
          "Old",
          "Adult",
          "Adult",
          "Old",
          "Adult",
          "Adult",
          "Adult",
          "Young Adult",
          "Adult",
          "Adult",
          "Old",
          "Old",
          "Adult",
          "Adult",
          "Old",
          "Old",
          "Adult",
          "Old",
          "Old",
          "Old",
          "Young Adult",
          "Old",
          "Old",
          "Old",
          "Young Adult",
          "Old",
          "Young Adult",
          "Old",
          "Old",
          "Old",
          "Adult",
          "Old",
          "Old",
          "Young Adult",
          "Young Adult",
          "Old",
          "Adult",
          "Adult",
          "Young Adult",
          "Adult",
          "Adult",
          "Young Adult",
          "Adult",
          "Young Adult",
          "Old",
          "Young Adult",
          "Young Adult",
          "Adult",
          "teen",
          "Old",
          "Old",
          "Young Adult",
          "Old",
          "Young Adult",
          "Young Adult",
          "Adult",
          "Adult",
          "Adult",
          "Old",
          "Adult",
          "Adult",
          "Adult",
          "Old",
          "Young Adult",
          "Old",
          "Adult",
          "Adult",
          "Young Adult",
          "Adult",
          "Old",
          "Adult",
          "Young Adult",
          "Adult",
          "Old",
          "Old",
          "Adult",
          "Old",
          "Young Adult",
          "Old",
          "Adult",
          "Adult",
          "Young Adult",
          "Adult",
          "Young Adult",
          "Adult",
          "Adult",
          "Old",
          "Old",
          "Old",
          "Old",
          "Adult",
          "Old",
          "Adult",
          "Old",
          "Old",
          "Adult",
          "Young Adult",
          "Young Adult",
          "Old",
          "Young Adult",
          "Adult",
          "Adult",
          "Young Adult",
          "Adult",
          "Old",
          "Young Adult",
          "Young Adult",
          "Old",
          "Young Adult",
          "Adult",
          "Old",
          "Old",
          "Old",
          "Old",
          "Old",
          "Old",
          "Young Adult",
          "Adult",
          "Old",
          "Young Adult",
          "Young Adult",
          "Adult",
          "Adult",
          "Young Adult",
          "Adult",
          "Old",
          "Young Adult",
          "Young Adult",
          "Old",
          "Old",
          "Old",
          "Old",
          "Adult",
          "Adult",
          "Young Adult",
          "Old",
          "Adult",
          "Old",
          "Adult",
          "Adult",
          "Old",
          "Adult",
          "Adult",
          "Old",
          "Adult",
          "Old",
          "Old",
          "Old",
          "Adult",
          "Old",
          "Adult",
          "Adult",
          "Young Adult",
          "Adult",
          "Adult",
          "Young Adult",
          "Adult",
          "Adult",
          "Old",
          "Adult",
          "Adult",
          "Young Adult",
          "Old",
          "Young Adult",
          "Young Adult",
          "Adult",
          "Adult",
          "Adult",
          "Old",
          "Adult",
          "Adult",
          "Young Adult",
          "Young Adult",
          "Old",
          "Old",
          "Adult",
          "Old",
          "teen",
          "Adult",
          "Adult",
          "Old",
          "Old",
          "Old",
          "Old",
          "Old",
          "Old",
          "Old",
          "Old",
          "Young Adult",
          "Adult",
          "Old",
          "Young Adult",
          "Young Adult",
          "Young Adult",
          "Old",
          "Old",
          "Old",
          "Old",
          "Old",
          "Adult",
          "Adult",
          "Old",
          "Young Adult",
          "Adult",
          "Old",
          "Old",
          "Old",
          "Adult",
          "Young Adult",
          "Young Adult",
          "Young Adult",
          "Adult",
          "Young Adult",
          "Adult",
          "Adult",
          "Adult",
          "Adult",
          "Young Adult",
          "Young Adult",
          "Old",
          "Adult",
          "Adult",
          "Adult",
          "Young Adult",
          "Adult",
          "Adult",
          "Old",
          "Adult",
          "Adult",
          "Adult",
          "Young Adult",
          "Old",
          "Young Adult",
          "Old",
          "Young Adult",
          "Old",
          "Adult",
          "Young Adult",
          "teen",
          "Old",
          "Adult",
          "Adult",
          "Adult",
          "Adult",
          "Old",
          "Adult",
          "Adult",
          "Old",
          "Young Adult",
          "Adult",
          "Young Adult",
          "Adult",
          "Adult",
          "Adult",
          "Adult",
          "Old",
          "Adult",
          "Adult",
          "Old",
          "Old",
          "Young Adult",
          "Adult",
          "Young Adult",
          "Young Adult",
          "Adult",
          "Adult",
          "Young Adult",
          "Old",
          "Adult",
          "Young Adult",
          "Young Adult",
          "Old",
          "Adult",
          "Old",
          "Adult",
          "Old",
          "Adult",
          "Young Adult",
          "Adult",
          "Old",
          "Old",
          "teen",
          "Old",
          "Adult",
          "Young Adult",
          "Old",
          "Adult",
          "Young Adult",
          "Adult",
          "Young Adult",
          "Adult",
          "Old",
          "Young Adult",
          "Adult",
          "Old",
          "Young Adult",
          "Young Adult",
          "Adult",
          "Adult",
          "Adult",
          "Old",
          "Adult",
          "Adult",
          "Young Adult",
          "Old",
          "Adult",
          "Adult",
          "Adult",
          "Old",
          "Adult",
          "Old",
          "Adult",
          "Adult",
          "Young Adult",
          "Adult",
          "Adult",
          "Young Adult",
          "Adult",
          "Adult",
          "Adult",
          "Adult",
          "Old",
          "Old",
          "Old",
          "Adult",
          "Old",
          "Young Adult",
          "Old",
          "Young Adult",
          "Adult",
          "Young Adult",
          "Old",
          "Young Adult",
          "Young Adult",
          "Old",
          "Young Adult",
          "Adult",
          "Old",
          "Young Adult",
          "Young Adult",
          "Old",
          "Adult",
          "Old",
          "Adult",
          "Old",
          "Old",
          "Old",
          "Young Adult",
          "Adult",
          "Adult",
          "Adult",
          "Adult",
          "Young Adult",
          "Old",
          "Old",
          "Old",
          "Adult",
          "Adult",
          "Young Adult",
          "Adult",
          "Adult",
          "Old",
          "Young Adult",
          "Old",
          "Adult",
          "Adult",
          "Old",
          "Adult",
          "Adult",
          "Adult",
          "Old",
          "Young Adult",
          "Young Adult",
          "Old",
          "Old",
          "Old",
          "Adult",
          "teen",
          "Adult",
          "Old",
          "Young Adult",
          "Old",
          "Old",
          "Old",
          "Old",
          "Old",
          "Old",
          "Young Adult",
          "Adult",
          "Old",
          "Old",
          "Old",
          "Old",
          "Old",
          "Old",
          "Old",
          "Adult",
          "Young Adult",
          "Old",
          "Old",
          "Adult",
          "Adult",
          "Adult",
          "Young Adult",
          "Old",
          "Old",
          "Adult",
          "Young Adult",
          "Adult",
          "Young Adult",
          "Old",
          "Adult",
          "Old",
          "Old",
          "Adult",
          "Young Adult",
          "Young Adult",
          "Old",
          "Young Adult",
          "Old",
          "Young Adult",
          "Adult",
          "Adult",
          "Adult",
          "Adult",
          "Adult",
          "Young Adult",
          "Adult",
          "Adult",
          "Old",
          "Old",
          "Adult",
          "Old",
          "Old",
          "Old",
          "Old",
          "Young Adult",
          "Adult",
          "Old",
          "Young Adult",
          "Adult",
          "Old",
          "Old",
          "Young Adult",
          "Old",
          "Adult",
          "Adult",
          "Adult",
          "Old",
          "Young Adult",
          "Adult",
          "Old",
          "Adult",
          "Old",
          "Adult",
          "Young Adult",
          "Adult",
          "Young Adult",
          "Old",
          "Old",
          "Old",
          "Adult",
          "Old",
          "teen",
          "Old",
          "Old",
          "Old",
          "Old",
          "Young Adult",
          "Old",
          "Adult",
          "Adult",
          "Old",
          "Young Adult",
          "Young Adult",
          "Young Adult",
          "Adult",
          "Adult",
          "Old",
          "Old",
          "Adult",
          "Old",
          "Young Adult",
          "Old",
          "Old",
          "Adult",
          "Adult",
          "Adult",
          "Adult",
          "Adult",
          "Old",
          "Adult",
          "Old",
          "Adult",
          "Adult",
          "Old",
          "Young Adult",
          "Old",
          "Young Adult",
          "Old",
          "Old",
          "Young Adult",
          "Young Adult",
          "Adult",
          "Old",
          "Old",
          "Old",
          "Young Adult",
          "Young Adult",
          "Young Adult",
          "Young Adult",
          "Old",
          "Adult",
          "Adult",
          "Adult",
          "Young Adult",
          "Adult",
          "Old",
          "Old",
          "Adult",
          "Old",
          "Old",
          "teen",
          "Old",
          "Adult",
          "Young Adult",
          "Adult",
          "Old",
          "Adult",
          "Adult",
          "Young Adult",
          "Old",
          "Adult",
          "Adult",
          "Young Adult",
          "Adult",
          "Young Adult",
          "Young Adult",
          "Young Adult",
          "Old",
          "Adult",
          "Adult",
          "Young Adult",
          "Adult",
          "Adult",
          "Old",
          "Adult",
          "Old",
          "Young Adult",
          "Adult",
          "Adult",
          "Adult",
          "Adult",
          "Adult",
          "Old",
          "Old",
          "teen",
          "Adult",
          "Old",
          "Old",
          "Young Adult",
          "Young Adult",
          "Old",
          "Young Adult",
          "Old",
          "Adult",
          "Adult",
          "Old",
          "Adult",
          "Old",
          "Young Adult",
          "Old",
          "Adult",
          "Adult",
          "Adult",
          "Old",
          "Old",
          "Adult",
          "Old",
          "Old",
          "Adult",
          "Old",
          "Adult",
          "Old",
          "Old",
          "Old",
          "Old",
          "Young Adult",
          "Old",
          "Old",
          "Young Adult",
          "Young Adult",
          "teen",
          "Young Adult",
          "Adult",
          "Adult",
          "Adult",
          "Old",
          "Young Adult",
          "Old",
          "Adult",
          "Young Adult",
          "Young Adult",
          "Old",
          "Adult",
          "Adult",
          "Old",
          "Old",
          "Adult",
          "Adult",
          "Young Adult",
          "Adult",
          "Adult",
          "Young Adult",
          "Old",
          "Adult",
          "Adult",
          "Adult",
          "Young Adult",
          "Old",
          "Adult",
          "Young Adult",
          "Adult",
          "Adult",
          "Adult",
          "Adult",
          "Old",
          "Young Adult",
          "Adult",
          "Adult",
          "Old",
          "teen",
          "Old",
          "Old",
          "Adult",
          "Young Adult",
          "Young Adult",
          "Young Adult",
          "Old",
          "Old",
          "Old",
          "Old",
          "Adult",
          "Old",
          "Old",
          "Young Adult",
          "Old",
          "Adult",
          "Young Adult",
          "Adult",
          "Adult",
          "Old",
          "Old",
          "Adult",
          "Old",
          "Adult",
          "Young Adult",
          "Young Adult",
          "Adult",
          "Adult",
          "Adult",
          "Old",
          "Old",
          "Old",
          "Old",
          "Adult",
          "Adult",
          "Old",
          "Adult",
          "Young Adult",
          "Old",
          "Adult",
          "Adult",
          "Old",
          "Young Adult",
          "Old",
          "Old",
          "Adult",
          "Young Adult",
          "Adult",
          "Young Adult",
          "Adult",
          "Young Adult",
          "Adult",
          "Old",
          "Old",
          "Old",
          "Adult",
          "Adult",
          "Adult",
          "Old",
          "Adult",
          "Old",
          "Old",
          "Young Adult",
          "Adult",
          "Adult",
          "Old",
          "Young Adult",
          "Old",
          "Adult",
          "Old",
          "Adult",
          "Young Adult",
          "Old",
          "Adult",
          "Young Adult",
          "Old",
          "Adult",
          "Old",
          "Old",
          "Young Adult",
          "Adult",
          "Adult",
          "Adult",
          "Adult",
          "Old",
          "Young Adult",
          "Old",
          "Old",
          "Old",
          "Old",
          "Adult",
          "Adult",
          "Old",
          "Adult",
          "Adult",
          "Adult",
          "Young Adult",
          "Old",
          "Adult",
          "Old",
          "Young Adult",
          "Adult",
          "Adult",
          "Adult",
          "Adult",
          "Old",
          "Old",
          "Adult",
          "Adult",
          "Old",
          "Old",
          "Old",
          "Old",
          "Young Adult",
          "Old",
          "Young Adult",
          "Old",
          "Old",
          "Young Adult",
          "Young Adult",
          "Old",
          "Old",
          "Adult",
          "Old",
          "Adult",
          "Adult",
          "Adult",
          "Young Adult",
          "Adult",
          "Adult",
          "Young Adult",
          "Adult",
          "Old",
          "Adult",
          "Adult",
          "Old",
          "Adult",
          "Adult",
          "Old",
          "Adult",
          "Adult",
          "Old",
          "Old",
          "Old",
          "Young Adult",
          "Adult",
          "Old",
          "Adult",
          "teen",
          "Old",
          "Young Adult",
          "Young Adult",
          "Adult",
          "Adult",
          "Old",
          "Young Adult",
          "Old",
          "Adult",
          "Adult",
          "Adult",
          "Old",
          "Old",
          "Old",
          "Old",
          "Adult",
          "Young Adult",
          "Old",
          "Old",
          "Old",
          "Young Adult",
          "Adult",
          "Young Adult",
          "Young Adult",
          "Adult",
          "Old",
          "Old",
          "Adult",
          "Old",
          "Adult",
          "Young Adult",
          "Adult",
          "Old",
          "Old",
          "Adult",
          "Young Adult",
          "Old",
          "Old",
          "Adult",
          "Adult",
          "Old",
          "Old",
          "Old",
          "Adult",
          "Adult",
          "Young Adult",
          "Old",
          "Adult",
          "Adult",
          "Old",
          "Adult",
          "Young Adult",
          "Old",
          "Young Adult",
          "Old",
          "Young Adult",
          "Young Adult",
          "Adult",
          "Adult",
          "Young Adult",
          "Old",
          "Old",
          "Old",
          "Young Adult",
          "Old",
          "Adult",
          "Adult",
          "Adult",
          "Young Adult",
          "Old",
          "Young Adult",
          "Old",
          "Young Adult",
          "Old",
          "Old",
          "Old",
          "Old",
          "Adult",
          "Young Adult",
          "Old",
          "Adult",
          "Old",
          "Young Adult",
          "Adult",
          "Old",
          "Adult",
          "Adult",
          "Young Adult",
          "Adult",
          "Adult",
          "Adult",
          "Old",
          "Old",
          "teen",
          "Old",
          "Young Adult",
          "Old",
          "Young Adult",
          "Young Adult",
          "Young Adult",
          "Adult",
          "Old",
          "Old",
          "Adult",
          "Old",
          "Adult",
          "teen",
          "Old",
          "Adult",
          "Adult",
          "Old",
          "Adult",
          "Young Adult",
          "Adult",
          "Old",
          "Adult",
          "Old",
          "Adult",
          "teen",
          "Old",
          "Old",
          "Old",
          "Adult",
          "Adult",
          "Young Adult",
          "Old",
          "Adult",
          "Adult",
          "Adult",
          "Adult",
          "Adult",
          "Old",
          "Old",
          "Young Adult",
          "Young Adult",
          "Old",
          "Old",
          "Adult",
          "Young Adult",
          "Adult",
          "Young Adult",
          "Old",
          "Adult",
          "Adult",
          "Adult",
          "Old",
          "Old",
          "Young Adult",
          "Old",
          "Young Adult",
          "Young Adult",
          "Old",
          "Young Adult",
          "Old",
          "Young Adult",
          "Old",
          "Young Adult",
          "Adult",
          "Adult",
          "Young Adult",
          "Old",
          "Old",
          "Adult",
          "Adult",
          "Young Adult",
          "Young Adult",
          "Adult",
          "Old",
          "Adult",
          "Old",
          "Old",
          "Adult",
          "Adult",
          "Old",
          "Old",
          "Young Adult",
          "Adult",
          "teen",
          "Old",
          "Adult",
          "Adult",
          "Old",
          "Old",
          "Adult",
          "Adult",
          "Adult",
          "Old",
          "Adult",
          "Young Adult",
          "Young Adult",
          "Adult",
          "Old",
          "Young Adult",
          "Adult",
          "Old",
          "Young Adult",
          "Adult",
          "Old",
          "Old",
          "Adult",
          "Old",
          "Adult",
          "Young Adult",
          "Old",
          "Old",
          "Adult",
          "Old",
          "Old",
          "Young Adult",
          "Old",
          "Adult",
          "Old",
          "Adult",
          "Adult",
          "Adult",
          "Adult",
          "Old",
          "Adult",
          "Young Adult",
          "Young Adult",
          "Old",
          "Adult",
          "Young Adult",
          "Old",
          "Adult",
          "Old",
          "Old",
          "Old",
          "Old",
          "Old",
          "Adult",
          "Adult",
          "Adult",
          "Adult",
          "Young Adult",
          "Young Adult",
          "Old",
          "Adult",
          "Adult",
          "Young Adult",
          "Young Adult",
          "Adult",
          "Adult",
          "Old",
          "Old",
          "Young Adult",
          "Old",
          "Young Adult",
          "Adult",
          "Adult",
          "Young Adult",
          "Adult",
          "Old",
          "Young Adult",
          "Old",
          "Old",
          "Adult",
          "Old",
          "Young Adult",
          "Old",
          "teen",
          "Old",
          "Old",
          "Old",
          "Young Adult",
          "Old",
          "Young Adult",
          "Old",
          "Adult",
          "Young Adult",
          "Old",
          "Old",
          "Adult",
          "Adult",
          "Young Adult",
          "Adult",
          "Young Adult",
          "Old",
          "Old",
          "Adult",
          "Old",
          "Old",
          "Young Adult",
          "Old",
          "Adult",
          "Young Adult",
          "Old",
          "Old",
          "Old",
          "Old",
          "Old",
          "Young Adult",
          "Adult",
          "Old",
          "Young Adult",
          "Adult",
          "Old",
          "Adult",
          "Old",
          "Old",
          "Young Adult",
          "Young Adult",
          "Adult",
          "Old",
          "Adult",
          "Young Adult",
          "Adult",
          "Young Adult",
          "Adult",
          "Old",
          "Old",
          "Adult",
          "Adult",
          "Old",
          "Old",
          "Old",
          "Young Adult",
          "Young Adult",
          "Old",
          "Young Adult",
          "Young Adult",
          "Young Adult",
          "Old",
          "Old",
          "Old",
          "Adult",
          "Young Adult",
          "Old",
          "Adult",
          "Old",
          "Old",
          "Young Adult",
          "Young Adult",
          "Young Adult",
          "Young Adult",
          "Adult",
          "Adult",
          "Young Adult",
          "Young Adult",
          "Old",
          "Adult",
          "Young Adult",
          "Adult",
          "Old",
          "Adult",
          "Old",
          "Young Adult",
          "Old",
          "Adult",
          "Adult",
          "Adult",
          "Old",
          "Old",
          "Adult",
          "Old",
          "Young Adult",
          "Young Adult",
          "Old",
          "Old",
          "Old",
          "Old",
          "Young Adult",
          "Old",
          "Adult",
          "Young Adult",
          "Adult",
          "Old",
          "Adult",
          "Old",
          "Young Adult",
          "Adult",
          "Old",
          "Young Adult",
          "Adult",
          "Old",
          "Young Adult",
          "Adult",
          "Old",
          "Adult",
          "Adult",
          "Young Adult",
          "Old",
          "Old",
          "Old",
          "Adult",
          "Adult",
          "Adult",
          "Young Adult",
          "Young Adult",
          "Adult",
          "Young Adult",
          "Old",
          "Adult",
          "Old",
          "Old",
          "Adult",
          "Young Adult",
          "Young Adult",
          "Young Adult",
          "Old",
          "Adult",
          "Adult",
          "Adult",
          "Old",
          "Young Adult",
          "Adult",
          "Old",
          "Young Adult",
          "Adult",
          "Young Adult",
          "Adult",
          "Old",
          "teen",
          "Young Adult",
          "Adult",
          "Old",
          "Adult",
          "Adult",
          "Young Adult",
          "Old",
          "Young Adult",
          "Old",
          "Adult",
          "Adult",
          "Adult",
          "Old",
          "Young Adult",
          "Old",
          "Old",
          "Young Adult",
          "Old",
          "Adult",
          "Adult",
          "Young Adult",
          "Adult",
          "Adult",
          "Old",
          "Young Adult",
          "Young Adult",
          "Adult",
          "Young Adult",
          "Old",
          "Young Adult",
          "Adult",
          "Adult",
          "Adult",
          "Old",
          "Old",
          "Adult",
          "Old",
          "Adult",
          "Young Adult",
          "Old",
          "Young Adult",
          "Old",
          "Adult",
          "Old",
          "teen",
          "Adult",
          "Young Adult",
          "Old",
          "Adult",
          "Old",
          "Old",
          "Old",
          "Old",
          "Adult",
          "Young Adult",
          "Young Adult",
          "Adult",
          "Adult",
          "Adult",
          "Old",
          "Old",
          "Adult",
          "Adult",
          "Old",
          "Old",
          "Young Adult",
          "Young Adult",
          "Adult",
          "Old",
          "Old",
          "Adult",
          "Old",
          "Old",
          "Young Adult",
          "Old",
          "teen",
          "Young Adult",
          "Old",
          "Old",
          "Adult",
          "Old",
          "Old",
          "Old",
          "Old",
          "Adult",
          "Young Adult",
          "Old",
          "Old",
          "Adult",
          "Old",
          "Adult",
          "Adult",
          "Old",
          "Young Adult",
          "Adult",
          "Young Adult",
          "Adult",
          "Adult",
          "Adult",
          "Old",
          "Adult",
          "Adult",
          "Adult",
          "Young Adult",
          "Young Adult",
          "Adult",
          "Adult",
          "Old",
          "Young Adult",
          "Adult",
          "Adult",
          "Young Adult",
          "Young Adult",
          "Adult",
          "Young Adult",
          "Young Adult",
          "Old",
          "Young Adult",
          "Old",
          "Old",
          "Adult",
          "Adult",
          "Old",
          "Old",
          "Old",
          "Young Adult",
          "Old",
          "Adult",
          "Adult",
          "Adult",
          "Old",
          "Adult",
          "Adult",
          "Old",
          "Adult",
          "Young Adult",
          "Old",
          "Adult",
          "Old",
          "Young Adult",
          "Young Adult",
          "Adult",
          "Young Adult",
          "Old",
          "Old",
          "Adult",
          "Young Adult",
          "Young Adult",
          "Adult",
          "Old",
          "Young Adult",
          "Young Adult",
          "Adult",
          "Young Adult",
          "Old",
          "Young Adult",
          "Old",
          "Old",
          "Old",
          "Adult",
          "Old",
          "Adult",
          "teen",
          "Old",
          "Old",
          "Adult",
          "Young Adult",
          "Young Adult",
          "Old",
          "Old",
          "Young Adult",
          "Adult",
          "Old",
          "Adult",
          "Old",
          "Young Adult",
          "Old",
          "Old",
          "Old",
          "Young Adult",
          "Old",
          "Adult",
          "Adult",
          "Young Adult",
          "Adult",
          "Adult",
          "Old",
          "Adult",
          "Adult",
          "Old",
          "Young Adult",
          "Old",
          "Adult",
          "Young Adult",
          "Old",
          "Young Adult",
          "Young Adult",
          "Young Adult",
          "Adult",
          "Adult",
          "teen",
          "Old",
          "Old",
          "Old",
          "Old",
          "Adult",
          "Old",
          "Old",
          "Young Adult",
          "Adult",
          "Adult",
          "Adult",
          "Young Adult",
          "Adult",
          "Adult",
          "Adult",
          "Old",
          "teen",
          "Old",
          "Old",
          "Adult",
          "Adult",
          "Adult",
          "Adult",
          "Adult",
          "Adult",
          "Young Adult",
          "Old",
          "Old",
          "Young Adult",
          "teen",
          "Old",
          "Old",
          "Adult",
          "Young Adult",
          "Adult",
          "Young Adult",
          "Adult",
          "teen",
          "Young Adult",
          "Young Adult",
          "Old",
          "Young Adult",
          "Adult",
          "Old",
          "Old",
          "Young Adult",
          "Old",
          "Adult",
          "Old",
          "Adult",
          "Adult",
          "Adult",
          "Old",
          "Adult",
          "Adult",
          "Old",
          "Old",
          "Adult",
          "Old",
          "Young Adult",
          "Old",
          "Old",
          "Adult",
          "Old",
          "Adult",
          "Old",
          "Adult",
          "teen",
          "Adult",
          "Old",
          "Old",
          "Old",
          "Adult",
          "Adult",
          "Old",
          "Old",
          "Old",
          "Old",
          "Adult",
          "Adult",
          "Adult",
          "Young Adult",
          "Old",
          "Adult",
          "Old",
          "Old",
          "Old",
          "Old",
          "Adult",
          "Young Adult",
          "Adult",
          "Old",
          "Old",
          "Old",
          "Adult",
          "Young Adult",
          "Adult",
          "teen",
          "Young Adult",
          "Adult",
          "Adult",
          "Young Adult",
          "Old",
          "Adult",
          "Old",
          "Old",
          "Young Adult",
          "Old",
          "Young Adult",
          "Young Adult",
          "Adult",
          "Young Adult",
          "Old",
          "Young Adult",
          "Adult",
          "Adult",
          "Old",
          "Old",
          "Old",
          "Young Adult",
          "Old",
          "Adult",
          "Adult",
          "Young Adult",
          "Young Adult",
          "Old",
          "Old",
          "Old",
          "Adult",
          "Old",
          "Adult",
          "Adult",
          "Young Adult",
          "Adult",
          "Adult",
          "Young Adult",
          "Young Adult",
          "Old",
          "Adult",
          "Young Adult",
          "Young Adult",
          "Old",
          "Young Adult",
          "Old",
          "Adult",
          "Young Adult",
          "Adult",
          "Adult",
          "Old",
          "Adult",
          "Adult",
          "Old",
          "Adult",
          "Young Adult",
          "Adult",
          "Young Adult",
          "Young Adult",
          "Adult",
          "Old",
          "Adult",
          "Old",
          "Old",
          "Adult",
          "Old",
          "Young Adult",
          "Old",
          "Adult",
          "Old",
          "Young Adult",
          "Old",
          "Adult",
          "Old",
          "Old",
          "Adult",
          "Adult",
          "Adult",
          "Old",
          "Adult",
          "Young Adult",
          "Old",
          "Old",
          "Adult",
          "Young Adult",
          "Young Adult",
          "Old",
          "Young Adult",
          "Young Adult",
          "Adult",
          "Adult",
          "Old",
          "Old",
          "Old",
          "Old",
          "Young Adult",
          "Adult",
          "Old",
          "Adult",
          "Old",
          "Young Adult",
          "Adult",
          "teen",
          "Old",
          "teen",
          "Adult",
          "Young Adult",
          "Old",
          "Adult",
          "Old",
          "Adult",
          "Adult",
          "Adult",
          "Adult",
          "Young Adult",
          "Old",
          "Old",
          "Adult",
          "Old",
          "Adult",
          "Old",
          "Old",
          "Old",
          "Old",
          "Old",
          "Adult",
          "Adult",
          "Young Adult",
          "Adult",
          "Old",
          "Old",
          "Young Adult",
          "Adult",
          "Old",
          "Adult",
          "Old",
          "Old",
          "Adult",
          "Adult",
          "Adult",
          "Adult",
          "Adult",
          "Old",
          "Young Adult",
          "Adult",
          "Old",
          "Old",
          "Young Adult",
          "Old",
          "Old",
          "Old",
          "Old",
          "Young Adult",
          "Adult",
          "Young Adult",
          "Adult",
          "Young Adult",
          "Adult",
          "Old",
          "Old",
          "Adult",
          "Adult",
          "Old",
          "Old",
          "Adult",
          "Adult",
          "Adult",
          "Adult",
          "Adult",
          "Old",
          "Adult",
          "Old",
          "Old",
          "Old",
          "Adult",
          "Young Adult",
          "Young Adult",
          "Old",
          "Young Adult",
          "Adult",
          "Young Adult",
          "Young Adult",
          "Old",
          "Old",
          "Old",
          "Young Adult",
          "Old",
          "teen",
          "Young Adult",
          "Old",
          "Young Adult",
          "Young Adult",
          "Old",
          "Adult",
          "Adult",
          "Young Adult",
          "teen",
          "Adult",
          "Old",
          "Adult",
          "Old",
          "Old",
          "Old",
          "Old",
          "Old",
          "Adult",
          "Old",
          "Adult",
          "Old",
          "Adult",
          "Young Adult",
          "Young Adult",
          "Young Adult",
          "teen",
          "Old",
          "Old",
          "Old",
          "Adult",
          "Old",
          "Adult",
          "Young Adult",
          "Adult",
          "Adult",
          "Old",
          "Old",
          "Old",
          "Adult",
          "Old",
          "Old",
          "Adult",
          "Old",
          "Young Adult",
          "Adult",
          "Young Adult",
          "Old",
          "teen",
          "Adult",
          "Young Adult",
          "Old",
          "Young Adult",
          "Adult",
          "Young Adult",
          "Old",
          "Young Adult",
          "Adult",
          "Adult",
          "Adult",
          "Old",
          "Adult",
          "teen",
          "Old",
          "Young Adult",
          "Old",
          "Old",
          "Adult",
          "Young Adult",
          "Old",
          "Old",
          "Old",
          "Adult",
          "Adult",
          "Adult",
          "Young Adult",
          "Old",
          "Adult",
          "Adult",
          "Old",
          "Adult",
          "Old",
          "Old",
          "Adult",
          "Young Adult",
          "Adult",
          "Old",
          "Old",
          "Old",
          "Old",
          "Adult",
          "Adult",
          "Old",
          "Young Adult",
          "Young Adult",
          "Adult",
          "Old",
          "Old",
          "Adult",
          "Adult",
          "Old",
          "Adult",
          "Adult",
          "Old",
          "Adult",
          "Old",
          "Old",
          "Adult",
          "Old",
          "Old",
          "Young Adult",
          "Old",
          "Old",
          "Young Adult",
          "Young Adult",
          "Old",
          "Adult",
          "Young Adult",
          "Adult",
          "Adult",
          "Old",
          "Old",
          "Adult",
          "Old",
          "Young Adult",
          "Young Adult",
          "Old",
          "Old",
          "Adult",
          "Adult",
          "Adult",
          "Adult",
          "Adult",
          "Adult",
          "Adult",
          "Old",
          "Old",
          "Adult",
          "Young Adult",
          "Adult",
          "Young Adult",
          "Old",
          "Adult",
          "Old",
          "Adult",
          "teen",
          "Old",
          "Young Adult",
          "Old",
          "Adult",
          "Young Adult",
          "Old",
          "Adult",
          "Adult",
          "Old",
          "Old",
          "Old",
          "Old",
          "Old",
          "Adult",
          "Adult",
          "Old",
          "Old",
          "Adult",
          "Old",
          "Adult",
          "Adult",
          "Adult",
          "Young Adult",
          "Young Adult",
          "Old",
          "Young Adult",
          "Adult",
          "Old",
          "Old",
          "Old",
          "Adult",
          "Adult",
          "Old",
          "Adult",
          "Old",
          "Old",
          "Young Adult",
          "Adult",
          "Adult",
          "Adult",
          "Adult",
          "Old",
          "Adult",
          "Old",
          "Adult",
          "Old",
          "Adult",
          "Young Adult",
          "Old",
          "Young Adult",
          "Old",
          "Old",
          "Young Adult",
          "Old",
          "Young Adult",
          "Adult",
          "Old",
          "Old",
          "Adult",
          "Young Adult",
          "Old",
          "Old",
          "Old",
          "Adult",
          "Old",
          "Old",
          "Adult",
          "Adult",
          "Adult",
          "Adult",
          "Old",
          "Old",
          "Adult",
          "Adult",
          "Young Adult",
          "Young Adult",
          "Adult",
          "Adult",
          "Adult",
          "Old",
          "Old",
          "Old",
          "Adult",
          "Adult",
          "Old",
          "Young Adult",
          "Adult",
          "Young Adult",
          "Old",
          "Adult",
          "Young Adult",
          "Adult",
          "Adult",
          "Adult",
          "Old",
          "Adult",
          "Young Adult",
          "Young Adult",
          "Old",
          "Old",
          "Old",
          "Adult",
          "Old",
          "Old",
          "Old",
          "Adult",
          "Adult",
          "Old",
          "Adult",
          "Adult",
          "Old",
          "Young Adult",
          "Old",
          "Old",
          "Old",
          "Adult",
          "Adult",
          "Old",
          "Adult",
          "Old",
          "Old",
          "Old",
          "Old",
          "Adult",
          "Young Adult",
          "Young Adult",
          "Young Adult",
          "Young Adult",
          "Old",
          "Adult",
          "Adult",
          "Young Adult",
          "Old",
          "Adult",
          "Old",
          "Young Adult",
          "Adult",
          "Old",
          "Adult",
          "Adult",
          "Adult",
          "Adult",
          "Young Adult",
          "Adult",
          "Old",
          "Old",
          "Adult",
          "Adult",
          "Adult",
          "Adult",
          "Adult",
          "Adult",
          "Young Adult",
          "teen",
          "Adult",
          "Young Adult",
          "Old",
          "Old",
          "Adult",
          "Young Adult",
          "Adult",
          "Young Adult",
          "Young Adult",
          "Adult",
          "Adult",
          "Adult",
          "Young Adult",
          "Young Adult",
          "Adult",
          "Old",
          "Young Adult",
          "Young Adult",
          "Young Adult",
          "Adult",
          "Adult",
          "Young Adult",
          "Adult",
          "Young Adult",
          "Adult",
          "Adult",
          "Old",
          "Adult",
          "Adult",
          "Adult",
          "Adult",
          "Young Adult",
          "Adult",
          "Young Adult",
          "Old",
          "Old",
          "Young Adult",
          "Adult",
          "Old",
          "Adult",
          "Old",
          "Adult",
          "Adult",
          "Old",
          "Young Adult",
          "Adult",
          "Adult",
          "Old",
          "Young Adult",
          "Adult",
          "Young Adult",
          "Adult",
          "Old",
          "Old",
          "Adult",
          "Young Adult",
          "Adult",
          "Adult",
          "Old",
          "Adult",
          "Young Adult",
          "Young Adult",
          "Adult",
          "Young Adult",
          "teen",
          "Adult",
          "Young Adult",
          "Adult",
          "Old",
          "Old",
          "Old",
          "Adult",
          "Old",
          "Adult",
          "Adult",
          "Adult",
          "Young Adult",
          "Adult",
          "Adult",
          "Adult",
          "Old",
          "teen",
          "teen",
          "Old",
          "Adult",
          "Adult",
          "Adult",
          "Adult",
          "Old",
          "Adult",
          "Adult",
          "Young Adult",
          "Adult",
          "Old",
          "Young Adult",
          "Adult",
          "Adult",
          "Adult",
          "Young Adult",
          "Old",
          "Adult",
          "Old",
          "Old",
          "Adult",
          "Old",
          "Adult",
          "Young Adult",
          "Adult",
          "Old",
          "Adult",
          "Young Adult",
          "Young Adult",
          "Young Adult",
          "Old",
          "Old",
          "Young Adult",
          "Adult",
          "Young Adult",
          "Old",
          "Old",
          "Young Adult",
          "Young Adult",
          "teen",
          "Adult",
          "Adult",
          "Adult",
          "Old",
          "Old",
          "Young Adult",
          "Old",
          "Adult",
          "Young Adult",
          "Adult",
          "Adult",
          "Old",
          "Adult",
          "Adult",
          "Old",
          "Adult",
          "Old",
          "teen",
          "Adult",
          "Adult",
          "Old",
          "Young Adult",
          "Old",
          "Young Adult",
          "Young Adult",
          "Adult",
          "Old",
          "Young Adult",
          "Young Adult",
          "Young Adult",
          "Old",
          "Adult",
          "Old",
          "Young Adult",
          "Adult",
          "Old",
          "Old",
          "Young Adult",
          "Adult",
          "Adult",
          "Adult",
          "Old",
          "Adult",
          "Old",
          "Young Adult",
          "Adult",
          "Adult",
          "Old",
          "Old",
          "Adult",
          "Adult",
          "Adult",
          "Adult",
          "Young Adult",
          "Adult",
          "Old",
          "Young Adult",
          "Old",
          "Old",
          "Young Adult",
          "Old",
          "Adult",
          "Young Adult",
          "Young Adult",
          "Adult",
          "Old",
          "Old",
          "Old",
          "Adult",
          "Old",
          "Old",
          "Old",
          "Young Adult",
          "Old",
          "Old",
          "Old",
          "Young Adult",
          "Adult",
          "Adult",
          "Young Adult",
          "Old",
          "Old",
          "Old",
          "Young Adult",
          "Old",
          "Young Adult",
          "Young Adult",
          "Old",
          "Old",
          "Adult",
          "Adult",
          "Old",
          "Old",
          "Young Adult",
          "Adult",
          "Young Adult",
          "Adult",
          "Adult",
          "Old",
          "Adult",
          "Old",
          "Young Adult",
          "Adult",
          "Young Adult",
          "Adult",
          "Young Adult",
          "Young Adult",
          "Old",
          "Adult",
          "Adult",
          "Old",
          "Adult",
          "Old",
          "Adult",
          "Adult",
          "Old",
          "Old",
          "Adult",
          "Adult",
          "Adult",
          "Old",
          "Young Adult",
          "Old",
          "Old",
          "Old",
          "Young Adult",
          "Young Adult",
          "Adult",
          "Adult",
          "Old",
          "Old",
          "Young Adult",
          "Young Adult",
          "Old",
          "Young Adult",
          "Young Adult",
          "Young Adult",
          "Adult",
          "Adult",
          "Young Adult",
          "Adult",
          "Adult",
          "Old",
          "Old",
          "Young Adult",
          "Old",
          "Old",
          "Young Adult",
          "Adult",
          "Old",
          "Old",
          "Adult",
          "Young Adult",
          "Old",
          "Adult",
          "Adult",
          "Old",
          "Adult",
          "Adult",
          "Old",
          "Young Adult",
          "Adult",
          "Old",
          "Adult",
          "Old",
          "Old",
          "Young Adult",
          "Old",
          "Adult",
          "Old",
          "Young Adult",
          "Adult",
          "Young Adult",
          "Old",
          "Old",
          "Old",
          "Adult",
          "Old",
          "Young Adult",
          "Old",
          "Old",
          "Adult",
          "teen",
          "Adult",
          "Young Adult",
          "Old",
          "Old",
          "Old",
          "Young Adult",
          "Young Adult",
          "Old",
          "Young Adult",
          "Old",
          "Old",
          "Young Adult",
          "teen",
          "Adult",
          "Old",
          "Adult",
          "Old",
          "Adult",
          "Old",
          "Adult",
          "Old",
          "Old",
          "Old",
          "Old",
          "Old",
          "Old",
          "Adult",
          "Young Adult",
          "Adult",
          "Adult",
          "Old",
          "Adult",
          "teen",
          "Old",
          "Old",
          "Adult",
          "Adult",
          "Old",
          "Old",
          "Young Adult",
          "Old",
          "Old",
          "Young Adult",
          "Young Adult",
          "Adult",
          "Old",
          "Adult",
          "Old",
          "Adult",
          "Adult",
          "Adult",
          "Old",
          "Young Adult",
          "Adult",
          "Old",
          "Young Adult",
          "Young Adult",
          "Adult",
          "Old",
          "Adult",
          "Adult",
          "Young Adult",
          "Old",
          "Adult",
          "Young Adult",
          "Adult",
          "Old",
          "Old",
          "Adult",
          "Adult",
          "Old",
          "Adult",
          "teen",
          "Adult",
          "Young Adult",
          "Adult",
          "Old",
          "Young Adult",
          "Adult",
          "Adult",
          "Old",
          "Adult",
          "Adult",
          "Adult",
          "Old",
          "Young Adult",
          "Old",
          "Old",
          "Old",
          "Young Adult",
          "Young Adult",
          "Old",
          "Adult",
          "Adult",
          "Old",
          "Adult",
          "Old",
          "Old",
          "Adult",
          "Young Adult",
          "Adult",
          "Young Adult",
          "Old",
          "Adult",
          "Adult",
          "Adult",
          "Old",
          "Old",
          "Young Adult",
          "Old",
          "Young Adult",
          "Old",
          "Old",
          "Old",
          "Adult",
          "Old",
          "Young Adult",
          "Old",
          "Young Adult",
          "Old",
          "Young Adult",
          "Old",
          "Adult",
          "Old",
          "Old",
          "Adult",
          "Young Adult",
          "Adult",
          "Old",
          "Young Adult",
          "Old",
          "Old",
          "Old",
          "Old",
          "Young Adult",
          "Old",
          "Old",
          "Old",
          "Adult",
          "Adult",
          "Old",
          "Adult",
          "Adult",
          "Old",
          "Old",
          "Adult",
          "Old",
          "Old",
          "teen",
          "Adult",
          "Old",
          "Adult",
          "Old",
          "Old",
          "Young Adult",
          "Adult",
          "Old",
          "Adult",
          "Young Adult",
          "Young Adult",
          "Adult",
          "Old",
          "Young Adult",
          "Old",
          "Young Adult",
          "Old",
          "Young Adult",
          "Old",
          "Young Adult",
          "Old",
          "Adult",
          "Young Adult",
          "Young Adult",
          "teen",
          "Young Adult",
          "Young Adult",
          "Adult",
          "Adult",
          "Young Adult",
          "Young Adult",
          "Adult",
          "Old",
          "Old",
          "Young Adult",
          "Young Adult",
          "Old",
          "Young Adult",
          "Old",
          "Young Adult",
          "Young Adult",
          "Old",
          "Old",
          "Old",
          "Adult",
          "Young Adult",
          "Adult",
          "Young Adult",
          "Adult",
          "Young Adult",
          "Old",
          "Adult",
          "Adult",
          "Old",
          "Adult",
          "Young Adult",
          "Adult",
          "Old",
          "Old",
          "Adult",
          "Young Adult",
          "Adult",
          "Adult",
          "Adult",
          "Old",
          "Adult",
          "Young Adult",
          "Old",
          "Old",
          "Adult",
          "Old",
          "Adult",
          "Old",
          "Old",
          "Young Adult",
          "Adult",
          "Adult",
          "Adult",
          "Old",
          "Old",
          "Adult",
          "Old",
          "Adult",
          "Old",
          "Young Adult",
          "Young Adult",
          "Adult",
          "Old",
          "Old",
          "Old",
          "Old",
          "Young Adult",
          "Adult",
          "Old",
          "Adult",
          "Old",
          "Young Adult",
          "Adult",
          "Young Adult",
          "Old",
          "Young Adult",
          "Adult",
          "teen",
          "Young Adult",
          "Old",
          "Old",
          "Young Adult",
          "Young Adult",
          "Old",
          "Old",
          "Old",
          "Adult",
          "Adult",
          "Young Adult",
          "Adult",
          "Young Adult",
          "Old",
          "Young Adult",
          "Adult",
          "Old",
          "Adult",
          "Adult",
          "Old",
          "Adult",
          "Adult",
          "Young Adult",
          "Old",
          "Young Adult",
          "Old",
          "Adult",
          "Young Adult",
          "Adult",
          "teen",
          "Young Adult",
          "Old",
          "Old",
          "Young Adult",
          "Adult",
          "Old",
          "Old",
          "Old",
          "Adult",
          "Adult",
          "Adult",
          "Old",
          "Adult",
          "Adult",
          "Old",
          "Young Adult",
          "Old",
          "Old",
          "Old",
          "Adult",
          "Old",
          "Adult",
          "Adult",
          "Old",
          "teen",
          "Adult",
          "Old",
          "Adult",
          "Adult",
          "Old",
          "Old",
          "Old",
          "Adult",
          "Old",
          "Adult",
          "Young Adult",
          "Adult",
          "Old",
          "Old",
          "Adult",
          "Old",
          "Young Adult",
          "Adult",
          "Adult",
          "Old",
          "Adult",
          "Adult",
          "Adult",
          "Old",
          "Old",
          "Old",
          "Young Adult",
          "Old",
          "Old",
          "Young Adult",
          "Adult",
          "Old",
          "teen",
          "Adult",
          "Old",
          "Adult",
          "Old",
          "Young Adult",
          "Old",
          "Old",
          "Adult",
          "Adult",
          "Adult",
          "Adult",
          "Young Adult",
          "Adult",
          "Old",
          "Young Adult",
          "Adult",
          "Old",
          "Young Adult",
          "Adult",
          "Old",
          "Adult",
          "Young Adult",
          "Young Adult",
          "Old",
          "Old",
          "Adult",
          "Young Adult",
          "Adult",
          "Adult",
          "Adult",
          "Old",
          "Old",
          "Old",
          "Old",
          "Adult",
          "Young Adult",
          "Young Adult",
          "Old",
          "Adult",
          "Young Adult",
          "Adult",
          "Old",
          "Adult",
          "Old",
          "Old",
          "Old",
          "Adult",
          "Adult",
          "Adult",
          "Young Adult",
          "Old",
          "Adult",
          "Adult",
          "Adult",
          "Young Adult",
          "Old",
          "Old",
          "Adult",
          "Old",
          "Young Adult",
          "Old",
          "Young Adult",
          "Adult",
          "Old",
          "Adult",
          "Adult",
          "Old",
          "Adult",
          "Adult",
          "Young Adult",
          "Old",
          "Adult",
          "Old",
          "Old",
          "Young Adult",
          "Adult",
          "Old",
          "Young Adult",
          "Old",
          "Young Adult",
          "Adult",
          "Young Adult",
          "Old",
          "Old",
          "Adult",
          "Adult",
          "Young Adult",
          "Old",
          "Adult",
          "Old",
          "Young Adult",
          "Adult",
          "Young Adult",
          "Adult",
          "Adult",
          "Adult",
          "Young Adult",
          "Adult",
          "Adult",
          "Old",
          "Old",
          "Young Adult",
          "Adult",
          "Young Adult",
          "Adult",
          "Young Adult",
          "Adult",
          "Adult",
          "Adult",
          "Young Adult",
          "Old",
          "Old",
          "Young Adult",
          "Old",
          "Adult",
          "Young Adult",
          "Adult",
          "Young Adult",
          "Adult",
          "Old",
          "Old",
          "Adult",
          "Adult",
          "Adult",
          "Adult",
          "Adult",
          "Old",
          "Young Adult",
          "Adult",
          "Old",
          "Adult",
          "Young Adult",
          "Young Adult",
          "Adult",
          "Old",
          "Adult",
          "Old",
          "Young Adult",
          "Adult",
          "Adult",
          "Adult",
          "Old",
          "Old",
          "Young Adult",
          "Young Adult",
          "Adult",
          "Adult",
          "Adult",
          "Adult",
          "Adult",
          "Old",
          "Old",
          "Old",
          "Adult",
          "Old",
          "Adult",
          "Old",
          "Old",
          "Adult",
          "Adult",
          "Old",
          "Adult",
          "Young Adult",
          "Adult",
          "Young Adult",
          "Young Adult",
          "Adult",
          "Young Adult",
          "Old",
          "Old",
          "Young Adult",
          "Adult",
          "Old",
          "Adult",
          "Old",
          "Young Adult",
          "Adult",
          "Old",
          "Adult",
          "Adult",
          "Old",
          "Old",
          "Old",
          "Adult",
          "Old",
          "Old",
          "Adult",
          "Adult",
          "Old",
          "Young Adult",
          "Old",
          "Adult",
          "Adult",
          "Adult",
          "Old",
          "Young Adult",
          "Old",
          "Old",
          "Adult",
          "teen",
          "Adult",
          "Young Adult",
          "Adult",
          "Old",
          "Old",
          "Young Adult",
          "Adult",
          "Adult",
          "Young Adult",
          "Adult",
          "Young Adult",
          "Old",
          "Adult",
          "Young Adult",
          "Young Adult",
          "Old",
          "Old",
          "Adult",
          "Old",
          "Adult",
          "Old",
          "Old",
          "Old",
          "Old",
          "Adult",
          "Old",
          "Young Adult",
          "Young Adult",
          "Old",
          "Old",
          "Adult",
          "Old",
          "Old",
          "Old",
          "teen",
          "Adult",
          "Old",
          "Adult",
          "Young Adult",
          "Adult",
          "Old",
          "Young Adult",
          "Old",
          "Adult",
          "Adult",
          "Adult",
          "Adult",
          "Adult",
          "Adult",
          "Young Adult",
          "Old",
          "Old",
          "Adult",
          "Adult",
          "Adult",
          "Adult",
          "Old",
          "Young Adult",
          "Young Adult",
          "Adult",
          "Old",
          "Old",
          "Adult",
          "Old",
          "Old",
          "Young Adult",
          "Young Adult",
          "Old",
          "Young Adult",
          "Old",
          "Old",
          "Old",
          "Adult",
          "Adult",
          "Old",
          "Old",
          "Old",
          "Young Adult",
          "Adult",
          "Young Adult",
          "Adult",
          "Old",
          "Adult",
          "Adult",
          "Young Adult",
          "Old",
          "Old",
          "Young Adult",
          "Young Adult",
          "Old",
          "Old",
          "Adult",
          "Old",
          "Adult",
          "Adult",
          "Adult",
          "Old",
          "Young Adult",
          "Adult",
          "Adult",
          "Old",
          "Old",
          "Adult",
          "Old",
          "Young Adult",
          "Young Adult",
          "Young Adult",
          "Adult",
          "Young Adult",
          "Young Adult",
          "Adult",
          "Adult",
          "Old",
          "Old",
          "Adult",
          "Old",
          "Young Adult",
          "Old",
          "Old",
          "Adult",
          "Old",
          "Old",
          "Old",
          "Old",
          "Old",
          "Adult",
          "Adult",
          "Old",
          "Adult",
          "Old",
          "Old",
          "Adult",
          "Adult",
          "Adult",
          "Adult",
          "Adult",
          "Young Adult",
          "Old",
          "Young Adult",
          "Old",
          "Young Adult",
          "Adult",
          "Adult",
          "teen",
          "Old",
          "Old",
          "Adult",
          "Old",
          "Young Adult",
          "Young Adult",
          "teen",
          "Young Adult",
          "Young Adult",
          "Old",
          "Young Adult",
          "Old",
          "Old",
          "Adult",
          "Adult",
          "Adult",
          "Young Adult",
          "Young Adult",
          "Adult",
          "Adult",
          "Old",
          "Old",
          "Old",
          "Old",
          "Adult",
          "Adult",
          "Adult",
          "Old",
          "Old",
          "Old",
          "teen",
          "Adult",
          "Adult",
          "Adult",
          "Old",
          "Old",
          "Adult",
          "Old",
          "Adult",
          "Young Adult",
          "Adult",
          "Old",
          "Young Adult",
          "Old",
          "Adult",
          "Old",
          "Young Adult",
          "Young Adult",
          "Old",
          "Old",
          "Old",
          "Adult",
          "Old",
          "Old",
          "Old",
          "Adult",
          "Adult",
          "Old",
          "Old",
          "Old",
          "Young Adult",
          "Old",
          "Young Adult",
          "Young Adult",
          "Old",
          "Adult",
          "Adult",
          "Adult",
          "Adult",
          "Old",
          "Adult",
          "Young Adult",
          "Adult",
          "Old",
          "Adult",
          "Old",
          "Old",
          "Young Adult",
          "Adult",
          "Old",
          "Adult",
          "Old",
          "Adult",
          "Adult",
          "Adult",
          "Young Adult",
          "Old",
          "Old",
          "Young Adult",
          "Adult",
          "Old",
          "Adult",
          "Adult",
          "Adult",
          "Old",
          "Old",
          "Old",
          "Old",
          "Young Adult",
          "Young Adult",
          "Young Adult",
          "Young Adult",
          "Old",
          "Adult",
          "Young Adult",
          "Old",
          "Old",
          "Adult",
          "Adult",
          "Old",
          "Adult",
          "Adult",
          "Adult",
          "Old",
          "Young Adult",
          "Adult",
          "Adult",
          "Adult",
          "Young Adult",
          "Young Adult",
          "Old",
          "Adult",
          "Old",
          "Old",
          "Adult",
          "Adult",
          "Adult",
          "Old",
          "Old",
          "Old",
          "Adult",
          "Young Adult",
          "Young Adult",
          "Adult",
          "Old",
          "Old",
          "Adult",
          "Young Adult",
          "Old",
          "Adult",
          "Old",
          "Young Adult",
          "Old",
          "Young Adult",
          "Old",
          "Old",
          "Young Adult",
          "Old",
          "Old",
          "Adult",
          "Young Adult",
          "Adult",
          "Adult",
          "Young Adult",
          "Young Adult",
          "Adult",
          "Old",
          "teen",
          "Old",
          "Adult",
          "Adult",
          "Young Adult",
          "Old",
          "Old",
          "Old",
          "Adult",
          "Adult",
          "Young Adult",
          "Adult",
          "Young Adult",
          "Old",
          "Adult",
          "Old",
          "Old",
          "Adult",
          "Young Adult",
          "Adult",
          "Adult",
          "Adult",
          "Adult",
          "Adult",
          "Old",
          "Young Adult",
          "Old",
          "Old",
          "Adult",
          "Adult",
          "Young Adult",
          "Young Adult",
          "Young Adult",
          "Adult",
          "Old",
          "Old",
          "Young Adult",
          "Old",
          "Young Adult",
          "Young Adult",
          "Young Adult",
          "Young Adult",
          "Adult",
          "Adult",
          "Adult",
          "Old",
          "Adult",
          "Adult",
          "Adult",
          "Adult",
          "Adult",
          "Old",
          "Adult",
          "Young Adult",
          "Adult",
          "Adult",
          "Old",
          "Adult",
          "Adult",
          "Adult",
          "Adult",
          "Young Adult",
          "Adult",
          "Young Adult",
          "Adult",
          "Old",
          "Old",
          "Young Adult",
          "Old",
          "Young Adult",
          "Adult",
          "Adult",
          "Old",
          "Adult",
          "Old",
          "Adult",
          "Young Adult",
          "Adult",
          "Old",
          "Adult",
          "Old",
          "Adult",
          "Adult",
          "Adult",
          "Adult",
          "Old",
          "Old",
          "Adult",
          "Adult",
          "Young Adult",
          "Young Adult",
          "Old",
          "Adult",
          "Adult",
          "Adult",
          "Young Adult",
          "Young Adult",
          "Old",
          "Young Adult",
          "Old",
          "Adult",
          "Adult",
          "Young Adult",
          "Adult",
          "Young Adult",
          "Old",
          "Adult",
          "Young Adult",
          "Adult",
          "Young Adult",
          "Old",
          "Old",
          "Young Adult",
          "Young Adult",
          "Old",
          "Young Adult",
          "Adult",
          "Adult",
          "Adult",
          "Adult",
          "Adult",
          "Adult",
          "Young Adult",
          "Old",
          "Adult",
          "Adult",
          "Old",
          "Adult",
          "Old",
          "Old",
          "Young Adult",
          "Young Adult",
          "Adult",
          "Adult",
          "Old",
          "Young Adult",
          "Adult",
          "Old",
          "Adult",
          "Old",
          "Old",
          "teen",
          "Adult",
          "Young Adult",
          "Adult",
          "Young Adult",
          "Adult",
          "Old",
          "Adult",
          "Adult",
          "Old",
          "Old",
          "Old",
          "Adult",
          "Old",
          "Adult",
          "Young Adult",
          "Adult",
          "Young Adult",
          "Adult",
          "teen",
          "Adult",
          "Adult",
          "Young Adult",
          "Adult",
          "Adult",
          "Old",
          "Adult",
          "Adult",
          "Old",
          "Old",
          "Adult",
          "Adult",
          "Young Adult",
          "Old",
          "Old",
          "Young Adult",
          "Adult",
          "Adult",
          "Old",
          "Young Adult",
          "Old",
          "Adult",
          "Old",
          "Young Adult",
          "Adult",
          "Adult",
          "Old",
          "Young Adult",
          "Adult",
          "Adult",
          "Adult",
          "Young Adult",
          "Adult",
          "Old",
          "Adult",
          "Adult",
          "Old",
          "Adult",
          "teen",
          "Adult",
          "Old",
          "Adult",
          "Adult",
          "Old",
          "Adult",
          "Young Adult",
          "Young Adult",
          "Young Adult",
          "Adult",
          "Young Adult",
          "Adult",
          "Adult",
          "Adult",
          "Old",
          "Young Adult",
          "Adult",
          "Old",
          "Adult",
          "Young Adult",
          "Young Adult",
          "Adult",
          "Old",
          "Old",
          "Old",
          "Old",
          "Adult",
          "Old",
          "Old",
          "Old",
          "Old",
          "Old",
          "Young Adult",
          "Young Adult",
          "Old",
          "Old",
          "Old",
          "Old",
          "Adult",
          "Old",
          "Old",
          "Old",
          "Adult",
          "Old",
          "Old",
          "Young Adult",
          "Old",
          "Adult",
          "Young Adult",
          "Old",
          "Old",
          "Old",
          "teen",
          "teen",
          "Old",
          "Adult",
          "Adult",
          "Old",
          "Adult",
          "Young Adult",
          "Adult",
          "Young Adult",
          "Adult",
          "Young Adult",
          "Old",
          "Young Adult",
          "Adult",
          "Young Adult",
          "Old",
          "Young Adult",
          "Old",
          "Adult",
          "Adult",
          "Old",
          "Young Adult",
          "Young Adult",
          "Old",
          "Adult",
          "Adult",
          "Adult",
          "Adult",
          "Young Adult",
          "Adult",
          "Young Adult",
          "Adult",
          "Old",
          "Old",
          "Young Adult",
          "Young Adult",
          "Young Adult",
          "Young Adult",
          "Young Adult",
          "Adult",
          "Old",
          "Adult",
          "Old",
          "Adult",
          "Old",
          "Old",
          "Adult",
          "Adult",
          "Young Adult",
          "Young Adult",
          "teen",
          "Old",
          "Adult",
          "Old",
          "Adult",
          "Adult",
          "Adult",
          "Adult",
          "Young Adult",
          "Adult",
          "Old",
          "Adult",
          "Adult",
          "Adult",
          "Young Adult",
          "Adult",
          "Old",
          "Adult",
          "Old",
          "Old",
          "Old",
          "Adult",
          "Young Adult",
          "Adult",
          "Old",
          "Old",
          "Adult",
          "Adult",
          "Adult",
          "Young Adult",
          "Adult",
          "Old",
          "Adult",
          "Old",
          "Adult",
          "Adult",
          "Old",
          "Adult",
          "Adult",
          "Old",
          "Old",
          "Young Adult",
          "Young Adult",
          "Old",
          "Young Adult",
          "Young Adult",
          "Adult",
          "Old",
          "Young Adult",
          "Young Adult",
          "Young Adult",
          "Old",
          "Old",
          "Old",
          "Old",
          "Young Adult",
          "Old",
          "Old",
          "Old",
          "Young Adult",
          "Adult",
          "Old",
          "Old",
          "Adult",
          "Adult",
          "Old",
          "Young Adult",
          "Adult",
          "Old",
          "Old",
          "Young Adult",
          "Young Adult",
          "Adult",
          "Young Adult",
          "Young Adult",
          "Adult",
          "Old",
          "Adult",
          "Old",
          "Adult",
          "Young Adult",
          "Old",
          "Old",
          "Old",
          "Adult",
          "Adult",
          "Old",
          "Old",
          "Young Adult",
          "Old",
          "Young Adult",
          "Adult",
          "Old",
          "Young Adult",
          "Old",
          "Young Adult",
          "Young Adult",
          "Adult",
          "Adult",
          "Adult",
          "Old",
          "Old",
          "Old",
          "Adult",
          "teen",
          "Old",
          "Old",
          "Adult",
          "Adult",
          "Young Adult",
          "Young Adult",
          "Old",
          "Young Adult",
          "Young Adult",
          "Young Adult",
          "teen",
          "Adult",
          "Adult",
          "Old",
          "Young Adult",
          "Adult",
          "Old",
          "Adult",
          "Young Adult",
          "Adult",
          "Adult",
          "Adult",
          "Young Adult",
          "Adult",
          "Adult",
          "Adult",
          "Old",
          "Old",
          "Old",
          "Young Adult",
          "Old",
          "Old",
          "Young Adult",
          "Adult",
          "Young Adult",
          "Adult",
          "Adult",
          "Young Adult",
          "Adult",
          "Adult",
          "Old",
          "Old",
          "Old",
          "Old",
          "Adult",
          "Old",
          "Old",
          "Old",
          "Young Adult",
          "Adult",
          "Young Adult",
          "Old",
          "Old",
          "Adult",
          "Old",
          "Young Adult",
          "Young Adult",
          "Adult",
          "Young Adult",
          "Old",
          "Adult",
          "Young Adult",
          "Adult",
          "Young Adult",
          "Old",
          "Old",
          "Old",
          "Adult",
          "Adult",
          "Old",
          "Old",
          "Adult",
          "Adult",
          "Adult",
          "Old",
          "Young Adult",
          "Adult",
          "Adult",
          "Old",
          "Adult",
          "Adult",
          "Adult",
          "Old",
          "Old",
          "Old",
          "Young Adult",
          "Young Adult",
          "Old",
          "Adult",
          "Adult",
          "Adult",
          "teen",
          "Adult",
          "Adult",
          "Old",
          "Adult",
          "Adult",
          "Adult",
          "Old",
          "Adult",
          "Adult",
          "Young Adult",
          "Old",
          "Old",
          "Adult",
          "Adult",
          "Young Adult",
          "Old",
          "Adult",
          "Old",
          "Adult",
          "Adult",
          "Old",
          "Adult",
          "Old",
          "Young Adult",
          "Adult",
          "Old",
          "Adult",
          "Adult",
          "Old",
          "Old",
          "Adult",
          "Adult",
          "Old",
          "Young Adult",
          "Old",
          "Adult",
          "Old",
          "Young Adult",
          "Old",
          "Old",
          "Old",
          "Young Adult",
          "Adult",
          "Young Adult",
          "Adult",
          "Old",
          "Old",
          "Old",
          "Adult",
          "Adult",
          "Adult",
          "Young Adult",
          "Old",
          "Old",
          "Old",
          "Old",
          "Adult",
          "Old",
          "Young Adult",
          "Old",
          "Adult",
          "teen",
          "Young Adult",
          "Old",
          "Old",
          "Adult",
          "Adult",
          "Old",
          "Old",
          "Old",
          "Young Adult",
          "Old",
          "Young Adult",
          "Adult",
          "Old",
          "Adult",
          "Adult",
          "Adult",
          "Adult",
          "Adult",
          "Adult",
          "Adult",
          "Old",
          "Adult",
          "Adult",
          "Adult",
          "Young Adult",
          "Old",
          "Adult",
          "Old",
          "Adult",
          "Adult",
          "Old"
         ],
         "yaxis": "y"
        }
       ],
       "layout": {
        "barmode": "relative",
        "legend": {
         "tracegroupgap": 0
        },
        "margin": {
         "t": 60
        },
        "template": {
         "data": {
          "bar": [
           {
            "error_x": {
             "color": "#2a3f5f"
            },
            "error_y": {
             "color": "#2a3f5f"
            },
            "marker": {
             "line": {
              "color": "#E5ECF6",
              "width": 0.5
             },
             "pattern": {
              "fillmode": "overlay",
              "size": 10,
              "solidity": 0.2
             }
            },
            "type": "bar"
           }
          ],
          "barpolar": [
           {
            "marker": {
             "line": {
              "color": "#E5ECF6",
              "width": 0.5
             },
             "pattern": {
              "fillmode": "overlay",
              "size": 10,
              "solidity": 0.2
             }
            },
            "type": "barpolar"
           }
          ],
          "carpet": [
           {
            "aaxis": {
             "endlinecolor": "#2a3f5f",
             "gridcolor": "white",
             "linecolor": "white",
             "minorgridcolor": "white",
             "startlinecolor": "#2a3f5f"
            },
            "baxis": {
             "endlinecolor": "#2a3f5f",
             "gridcolor": "white",
             "linecolor": "white",
             "minorgridcolor": "white",
             "startlinecolor": "#2a3f5f"
            },
            "type": "carpet"
           }
          ],
          "choropleth": [
           {
            "colorbar": {
             "outlinewidth": 0,
             "ticks": ""
            },
            "type": "choropleth"
           }
          ],
          "contour": [
           {
            "colorbar": {
             "outlinewidth": 0,
             "ticks": ""
            },
            "colorscale": [
             [
              0,
              "#0d0887"
             ],
             [
              0.1111111111111111,
              "#46039f"
             ],
             [
              0.2222222222222222,
              "#7201a8"
             ],
             [
              0.3333333333333333,
              "#9c179e"
             ],
             [
              0.4444444444444444,
              "#bd3786"
             ],
             [
              0.5555555555555556,
              "#d8576b"
             ],
             [
              0.6666666666666666,
              "#ed7953"
             ],
             [
              0.7777777777777778,
              "#fb9f3a"
             ],
             [
              0.8888888888888888,
              "#fdca26"
             ],
             [
              1,
              "#f0f921"
             ]
            ],
            "type": "contour"
           }
          ],
          "contourcarpet": [
           {
            "colorbar": {
             "outlinewidth": 0,
             "ticks": ""
            },
            "type": "contourcarpet"
           }
          ],
          "heatmap": [
           {
            "colorbar": {
             "outlinewidth": 0,
             "ticks": ""
            },
            "colorscale": [
             [
              0,
              "#0d0887"
             ],
             [
              0.1111111111111111,
              "#46039f"
             ],
             [
              0.2222222222222222,
              "#7201a8"
             ],
             [
              0.3333333333333333,
              "#9c179e"
             ],
             [
              0.4444444444444444,
              "#bd3786"
             ],
             [
              0.5555555555555556,
              "#d8576b"
             ],
             [
              0.6666666666666666,
              "#ed7953"
             ],
             [
              0.7777777777777778,
              "#fb9f3a"
             ],
             [
              0.8888888888888888,
              "#fdca26"
             ],
             [
              1,
              "#f0f921"
             ]
            ],
            "type": "heatmap"
           }
          ],
          "histogram": [
           {
            "marker": {
             "pattern": {
              "fillmode": "overlay",
              "size": 10,
              "solidity": 0.2
             }
            },
            "type": "histogram"
           }
          ],
          "histogram2d": [
           {
            "colorbar": {
             "outlinewidth": 0,
             "ticks": ""
            },
            "colorscale": [
             [
              0,
              "#0d0887"
             ],
             [
              0.1111111111111111,
              "#46039f"
             ],
             [
              0.2222222222222222,
              "#7201a8"
             ],
             [
              0.3333333333333333,
              "#9c179e"
             ],
             [
              0.4444444444444444,
              "#bd3786"
             ],
             [
              0.5555555555555556,
              "#d8576b"
             ],
             [
              0.6666666666666666,
              "#ed7953"
             ],
             [
              0.7777777777777778,
              "#fb9f3a"
             ],
             [
              0.8888888888888888,
              "#fdca26"
             ],
             [
              1,
              "#f0f921"
             ]
            ],
            "type": "histogram2d"
           }
          ],
          "histogram2dcontour": [
           {
            "colorbar": {
             "outlinewidth": 0,
             "ticks": ""
            },
            "colorscale": [
             [
              0,
              "#0d0887"
             ],
             [
              0.1111111111111111,
              "#46039f"
             ],
             [
              0.2222222222222222,
              "#7201a8"
             ],
             [
              0.3333333333333333,
              "#9c179e"
             ],
             [
              0.4444444444444444,
              "#bd3786"
             ],
             [
              0.5555555555555556,
              "#d8576b"
             ],
             [
              0.6666666666666666,
              "#ed7953"
             ],
             [
              0.7777777777777778,
              "#fb9f3a"
             ],
             [
              0.8888888888888888,
              "#fdca26"
             ],
             [
              1,
              "#f0f921"
             ]
            ],
            "type": "histogram2dcontour"
           }
          ],
          "mesh3d": [
           {
            "colorbar": {
             "outlinewidth": 0,
             "ticks": ""
            },
            "type": "mesh3d"
           }
          ],
          "parcoords": [
           {
            "line": {
             "colorbar": {
              "outlinewidth": 0,
              "ticks": ""
             }
            },
            "type": "parcoords"
           }
          ],
          "pie": [
           {
            "automargin": true,
            "type": "pie"
           }
          ],
          "scatter": [
           {
            "fillpattern": {
             "fillmode": "overlay",
             "size": 10,
             "solidity": 0.2
            },
            "type": "scatter"
           }
          ],
          "scatter3d": [
           {
            "line": {
             "colorbar": {
              "outlinewidth": 0,
              "ticks": ""
             }
            },
            "marker": {
             "colorbar": {
              "outlinewidth": 0,
              "ticks": ""
             }
            },
            "type": "scatter3d"
           }
          ],
          "scattercarpet": [
           {
            "marker": {
             "colorbar": {
              "outlinewidth": 0,
              "ticks": ""
             }
            },
            "type": "scattercarpet"
           }
          ],
          "scattergeo": [
           {
            "marker": {
             "colorbar": {
              "outlinewidth": 0,
              "ticks": ""
             }
            },
            "type": "scattergeo"
           }
          ],
          "scattergl": [
           {
            "marker": {
             "colorbar": {
              "outlinewidth": 0,
              "ticks": ""
             }
            },
            "type": "scattergl"
           }
          ],
          "scattermap": [
           {
            "marker": {
             "colorbar": {
              "outlinewidth": 0,
              "ticks": ""
             }
            },
            "type": "scattermap"
           }
          ],
          "scattermapbox": [
           {
            "marker": {
             "colorbar": {
              "outlinewidth": 0,
              "ticks": ""
             }
            },
            "type": "scattermapbox"
           }
          ],
          "scatterpolar": [
           {
            "marker": {
             "colorbar": {
              "outlinewidth": 0,
              "ticks": ""
             }
            },
            "type": "scatterpolar"
           }
          ],
          "scatterpolargl": [
           {
            "marker": {
             "colorbar": {
              "outlinewidth": 0,
              "ticks": ""
             }
            },
            "type": "scatterpolargl"
           }
          ],
          "scatterternary": [
           {
            "marker": {
             "colorbar": {
              "outlinewidth": 0,
              "ticks": ""
             }
            },
            "type": "scatterternary"
           }
          ],
          "surface": [
           {
            "colorbar": {
             "outlinewidth": 0,
             "ticks": ""
            },
            "colorscale": [
             [
              0,
              "#0d0887"
             ],
             [
              0.1111111111111111,
              "#46039f"
             ],
             [
              0.2222222222222222,
              "#7201a8"
             ],
             [
              0.3333333333333333,
              "#9c179e"
             ],
             [
              0.4444444444444444,
              "#bd3786"
             ],
             [
              0.5555555555555556,
              "#d8576b"
             ],
             [
              0.6666666666666666,
              "#ed7953"
             ],
             [
              0.7777777777777778,
              "#fb9f3a"
             ],
             [
              0.8888888888888888,
              "#fdca26"
             ],
             [
              1,
              "#f0f921"
             ]
            ],
            "type": "surface"
           }
          ],
          "table": [
           {
            "cells": {
             "fill": {
              "color": "#EBF0F8"
             },
             "line": {
              "color": "white"
             }
            },
            "header": {
             "fill": {
              "color": "#C8D4E3"
             },
             "line": {
              "color": "white"
             }
            },
            "type": "table"
           }
          ]
         },
         "layout": {
          "annotationdefaults": {
           "arrowcolor": "#2a3f5f",
           "arrowhead": 0,
           "arrowwidth": 1
          },
          "autotypenumbers": "strict",
          "coloraxis": {
           "colorbar": {
            "outlinewidth": 0,
            "ticks": ""
           }
          },
          "colorscale": {
           "diverging": [
            [
             0,
             "#8e0152"
            ],
            [
             0.1,
             "#c51b7d"
            ],
            [
             0.2,
             "#de77ae"
            ],
            [
             0.3,
             "#f1b6da"
            ],
            [
             0.4,
             "#fde0ef"
            ],
            [
             0.5,
             "#f7f7f7"
            ],
            [
             0.6,
             "#e6f5d0"
            ],
            [
             0.7,
             "#b8e186"
            ],
            [
             0.8,
             "#7fbc41"
            ],
            [
             0.9,
             "#4d9221"
            ],
            [
             1,
             "#276419"
            ]
           ],
           "sequential": [
            [
             0,
             "#0d0887"
            ],
            [
             0.1111111111111111,
             "#46039f"
            ],
            [
             0.2222222222222222,
             "#7201a8"
            ],
            [
             0.3333333333333333,
             "#9c179e"
            ],
            [
             0.4444444444444444,
             "#bd3786"
            ],
            [
             0.5555555555555556,
             "#d8576b"
            ],
            [
             0.6666666666666666,
             "#ed7953"
            ],
            [
             0.7777777777777778,
             "#fb9f3a"
            ],
            [
             0.8888888888888888,
             "#fdca26"
            ],
            [
             1,
             "#f0f921"
            ]
           ],
           "sequentialminus": [
            [
             0,
             "#0d0887"
            ],
            [
             0.1111111111111111,
             "#46039f"
            ],
            [
             0.2222222222222222,
             "#7201a8"
            ],
            [
             0.3333333333333333,
             "#9c179e"
            ],
            [
             0.4444444444444444,
             "#bd3786"
            ],
            [
             0.5555555555555556,
             "#d8576b"
            ],
            [
             0.6666666666666666,
             "#ed7953"
            ],
            [
             0.7777777777777778,
             "#fb9f3a"
            ],
            [
             0.8888888888888888,
             "#fdca26"
            ],
            [
             1,
             "#f0f921"
            ]
           ]
          },
          "colorway": [
           "#636efa",
           "#EF553B",
           "#00cc96",
           "#ab63fa",
           "#FFA15A",
           "#19d3f3",
           "#FF6692",
           "#B6E880",
           "#FF97FF",
           "#FECB52"
          ],
          "font": {
           "color": "#2a3f5f"
          },
          "geo": {
           "bgcolor": "white",
           "lakecolor": "white",
           "landcolor": "#E5ECF6",
           "showlakes": true,
           "showland": true,
           "subunitcolor": "white"
          },
          "hoverlabel": {
           "align": "left"
          },
          "hovermode": "closest",
          "mapbox": {
           "style": "light"
          },
          "paper_bgcolor": "white",
          "plot_bgcolor": "#E5ECF6",
          "polar": {
           "angularaxis": {
            "gridcolor": "white",
            "linecolor": "white",
            "ticks": ""
           },
           "bgcolor": "#E5ECF6",
           "radialaxis": {
            "gridcolor": "white",
            "linecolor": "white",
            "ticks": ""
           }
          },
          "scene": {
           "xaxis": {
            "backgroundcolor": "#E5ECF6",
            "gridcolor": "white",
            "gridwidth": 2,
            "linecolor": "white",
            "showbackground": true,
            "ticks": "",
            "zerolinecolor": "white"
           },
           "yaxis": {
            "backgroundcolor": "#E5ECF6",
            "gridcolor": "white",
            "gridwidth": 2,
            "linecolor": "white",
            "showbackground": true,
            "ticks": "",
            "zerolinecolor": "white"
           },
           "zaxis": {
            "backgroundcolor": "#E5ECF6",
            "gridcolor": "white",
            "gridwidth": 2,
            "linecolor": "white",
            "showbackground": true,
            "ticks": "",
            "zerolinecolor": "white"
           }
          },
          "shapedefaults": {
           "line": {
            "color": "#2a3f5f"
           }
          },
          "ternary": {
           "aaxis": {
            "gridcolor": "white",
            "linecolor": "white",
            "ticks": ""
           },
           "baxis": {
            "gridcolor": "white",
            "linecolor": "white",
            "ticks": ""
           },
           "bgcolor": "#E5ECF6",
           "caxis": {
            "gridcolor": "white",
            "linecolor": "white",
            "ticks": ""
           }
          },
          "title": {
           "x": 0.05
          },
          "xaxis": {
           "automargin": true,
           "gridcolor": "white",
           "linecolor": "white",
           "ticks": "",
           "title": {
            "standoff": 15
           },
           "zerolinecolor": "white",
           "zerolinewidth": 2
          },
          "yaxis": {
           "automargin": true,
           "gridcolor": "white",
           "linecolor": "white",
           "ticks": "",
           "title": {
            "standoff": 15
           },
           "zerolinecolor": "white",
           "zerolinewidth": 2
          }
         }
        },
        "xaxis": {
         "anchor": "y",
         "domain": [
          0,
          1
         ],
         "title": {
          "text": "sum of Age"
         }
        },
        "yaxis": {
         "anchor": "x",
         "domain": [
          0,
          1
         ],
         "title": {
          "text": "Age_Category"
         }
        }
       }
      }
     },
     "metadata": {},
     "output_type": "display_data"
    }
   ],
   "source": [
    "shop['Age_Category'] = pd.cut(shop['Age'], bins=[0, 15, 18, 30, 50, 70], \n",
    "                               labels=['child', 'teen', 'Young Adult', 'Adult', 'Old'])\n",
    "\n",
    "fig=px.histogram(shop, x='Age', y='Age_Category')\n",
    "fig.show()"
   ]
  },
  {
   "cell_type": "markdown",
   "metadata": {},
   "source": [
    "2. How does the average purchase amount vary across different product categories?"
   ]
  },
  {
   "cell_type": "code",
   "execution_count": 69,
   "metadata": {},
   "outputs": [
    {
     "data": {
      "text/plain": [
       "array(['Clothing', 'Footwear', 'Outerwear', 'Accessories'], dtype=object)"
      ]
     },
     "execution_count": 69,
     "metadata": {},
     "output_type": "execute_result"
    }
   ],
   "source": [
    "shop['Category'].unique()"
   ]
  },
  {
   "cell_type": "code",
   "execution_count": 70,
   "metadata": {},
   "outputs": [
    {
     "data": {
      "text/plain": [
       "Category\n",
       "Accessories    59.838710\n",
       "Clothing       60.025331\n",
       "Footwear       60.255426\n",
       "Outerwear      57.172840\n",
       "Name: Purchase Amount (USD), dtype: float64"
      ]
     },
     "execution_count": 70,
     "metadata": {},
     "output_type": "execute_result"
    }
   ],
   "source": [
    "shop.groupby('Category')['Purchase Amount (USD)'].mean()"
   ]
  },
  {
   "cell_type": "markdown",
   "metadata": {},
   "source": [
    "3. Which gender has the highest number of purchases?"
   ]
  },
  {
   "cell_type": "code",
   "execution_count": 71,
   "metadata": {},
   "outputs": [
    {
     "data": {
      "text/plain": [
       "<Axes: xlabel='Gender', ylabel='Purchase Amount (USD)'>"
      ]
     },
     "execution_count": 71,
     "metadata": {},
     "output_type": "execute_result"
    },
    {
     "data": {
      "image/png": "[encoded data removed]",
      "text/plain": [
       "<Figure size 640x480 with 1 Axes>"
      ]
     },
     "metadata": {},
     "output_type": "display_data"
    }
   ],
   "source": [
    "sns.barplot(shop, x='Gender', y='Purchase Amount (USD)')"
   ]
  },
  {
   "cell_type": "markdown",
   "metadata": {},
   "source": [
    "4. What are the most commonly purchased items in each category?"
   ]
  },
  {
   "cell_type": "code",
   "execution_count": 72,
   "metadata": {},
   "outputs": [
    {
     "data": {
      "text/plain": [
       "Category     Item Purchased\n",
       "Accessories  Jewelry           171\n",
       "             Belt              161\n",
       "             Sunglasses        161\n",
       "             Scarf             157\n",
       "             Hat               154\n",
       "             Handbag           153\n",
       "             Backpack          143\n",
       "             Gloves            140\n",
       "Clothing     Blouse            171\n",
       "             Pants             171\n",
       "             Shirt             169\n",
       "             Dress             166\n",
       "             Sweater           164\n",
       "             Socks             159\n",
       "             Skirt             158\n",
       "             Shorts            157\n",
       "             Hoodie            151\n",
       "             T-shirt           147\n",
       "             Jeans             124\n",
       "Footwear     Sandals           160\n",
       "             Shoes             150\n",
       "             Sneakers          145\n",
       "             Boots             144\n",
       "Outerwear    Jacket            163\n",
       "             Coat              161\n",
       "Name: count, dtype: int64"
      ]
     },
     "execution_count": 72,
     "metadata": {},
     "output_type": "execute_result"
    }
   ],
   "source": [
    "shop.groupby('Category')['Item Purchased'].value_counts()"
   ]
  },
  {
   "cell_type": "code",
   "execution_count": 73,
   "metadata": {},
   "outputs": [
    {
     "data": {
      "application/vnd.plotly.v1+json": {
       "config": {
        "plotlyServerURL": "https://plot.ly"
       },
       "data": [
        {
         "bingroup": "x",
         "hovertemplate": "Category=Clothing<br>Item Purchased=%{x}<br>count=%{y}<extra></extra>",
         "legendgroup": "Clothing",
         "marker": {
          "color": "#636efa",
          "pattern": {
           "shape": ""
          }
         },
         "name": "Clothing",
         "orientation": "v",
         "showlegend": true,
         "type": "histogram",
         "x": [
          "Blouse",
          "Sweater",
          "Jeans",
          "Blouse",
          "Shirt",
          "Shorts",
          "Shorts",
          "Dress",
          "Skirt",
          "Dress",
          "Sweater",
          "Pants",
          "Pants",
          "Pants",
          "Pants",
          "Pants",
          "Hoodie",
          "Shorts",
          "Dress",
          "Dress",
          "Pants",
          "T-shirt",
          "Blouse",
          "T-shirt",
          "Jeans",
          "Dress",
          "Pants",
          "Socks",
          "Shirt",
          "Shirt",
          "Hoodie",
          "Blouse",
          "Skirt",
          "T-shirt",
          "Skirt",
          "Hoodie",
          "Sweater",
          "Blouse",
          "Dress",
          "Dress",
          "Pants",
          "Dress",
          "Skirt",
          "Pants",
          "Dress",
          "Hoodie",
          "T-shirt",
          "Sweater",
          "Skirt",
          "Jeans",
          "Hoodie",
          "Socks",
          "Socks",
          "T-shirt",
          "Skirt",
          "Sweater",
          "Shorts",
          "Sweater",
          "Sweater",
          "Shorts",
          "Shorts",
          "Sweater",
          "Dress",
          "Skirt",
          "Sweater",
          "Blouse",
          "Skirt",
          "Shirt",
          "Skirt",
          "Pants",
          "Shirt",
          "Hoodie",
          "Dress",
          "Socks",
          "Shorts",
          "Shirt",
          "Skirt",
          "Shirt",
          "Shorts",
          "Hoodie",
          "Skirt",
          "Pants",
          "Skirt",
          "T-shirt",
          "Hoodie",
          "Blouse",
          "Dress",
          "Blouse",
          "Shirt",
          "T-shirt",
          "Skirt",
          "Skirt",
          "Shorts",
          "T-shirt",
          "Pants",
          "Socks",
          "Jeans",
          "Socks",
          "Blouse",
          "Sweater",
          "Dress",
          "Skirt",
          "Pants",
          "Sweater",
          "Hoodie",
          "Sweater",
          "Skirt",
          "Shorts",
          "Jeans",
          "Jeans",
          "Pants",
          "Shorts",
          "Pants",
          "Sweater",
          "Blouse",
          "Jeans",
          "Skirt",
          "Shirt",
          "Sweater",
          "Skirt",
          "Sweater",
          "Skirt",
          "T-shirt",
          "T-shirt",
          "Dress",
          "Skirt",
          "T-shirt",
          "Skirt",
          "Sweater",
          "Dress",
          "Sweater",
          "Dress",
          "Pants",
          "Jeans",
          "Pants",
          "Dress",
          "Pants",
          "Sweater",
          "Shorts",
          "Hoodie",
          "Shirt",
          "Pants",
          "Socks",
          "Sweater",
          "Shirt",
          "Shirt",
          "Sweater",
          "Blouse",
          "Sweater",
          "Sweater",
          "Hoodie",
          "Shorts",
          "Shorts",
          "Skirt",
          "Jeans",
          "Blouse",
          "Sweater",
          "Skirt",
          "Jeans",
          "Pants",
          "Pants",
          "T-shirt",
          "Shorts",
          "Socks",
          "Dress",
          "Sweater",
          "Dress",
          "T-shirt",
          "Jeans",
          "Sweater",
          "Shorts",
          "Sweater",
          "T-shirt",
          "Dress",
          "T-shirt",
          "T-shirt",
          "Jeans",
          "Hoodie",
          "Shorts",
          "Sweater",
          "Jeans",
          "Sweater",
          "Shorts",
          "Socks",
          "Shirt",
          "Pants",
          "Sweater",
          "Jeans",
          "Pants",
          "Shirt",
          "Shirt",
          "Skirt",
          "Pants",
          "Shirt",
          "Hoodie",
          "Dress",
          "Shirt",
          "Shorts",
          "Pants",
          "Blouse",
          "Blouse",
          "Shorts",
          "Skirt",
          "Jeans",
          "Shorts",
          "Dress",
          "Jeans",
          "Sweater",
          "Sweater",
          "Hoodie",
          "Hoodie",
          "Sweater",
          "Socks",
          "Shirt",
          "Dress",
          "T-shirt",
          "Pants",
          "T-shirt",
          "Shorts",
          "T-shirt",
          "Shirt",
          "Shirt",
          "Skirt",
          "Hoodie",
          "Blouse",
          "Shorts",
          "Shirt",
          "Pants",
          "T-shirt",
          "Shorts",
          "Pants",
          "T-shirt",
          "Blouse",
          "Socks",
          "Dress",
          "Skirt",
          "Hoodie",
          "T-shirt",
          "Shirt",
          "Jeans",
          "Hoodie",
          "Blouse",
          "Pants",
          "Skirt",
          "T-shirt",
          "Pants",
          "Jeans",
          "Skirt",
          "Sweater",
          "Sweater",
          "Shorts",
          "Socks",
          "Socks",
          "Hoodie",
          "Socks",
          "Shirt",
          "Hoodie",
          "Dress",
          "Hoodie",
          "Sweater",
          "Shorts",
          "Socks",
          "Pants",
          "Sweater",
          "Hoodie",
          "Sweater",
          "Dress",
          "Skirt",
          "Blouse",
          "Skirt",
          "Sweater",
          "Hoodie",
          "Blouse",
          "Hoodie",
          "Pants",
          "Jeans",
          "Shorts",
          "Shirt",
          "Dress",
          "Pants",
          "Pants",
          "Hoodie",
          "T-shirt",
          "Sweater",
          "Socks",
          "Shirt",
          "Pants",
          "Socks",
          "Blouse",
          "Shirt",
          "Blouse",
          "Sweater",
          "Hoodie",
          "Shorts",
          "Shorts",
          "Dress",
          "Shorts",
          "Pants",
          "Shirt",
          "Dress",
          "Hoodie",
          "Pants",
          "Jeans",
          "Shirt",
          "Blouse",
          "Hoodie",
          "Jeans",
          "Socks",
          "Shirt",
          "Shorts",
          "Blouse",
          "Sweater",
          "T-shirt",
          "Shorts",
          "Sweater",
          "Jeans",
          "Shirt",
          "Dress",
          "Shirt",
          "Dress",
          "Shorts",
          "Jeans",
          "T-shirt",
          "Pants",
          "T-shirt",
          "Shorts",
          "T-shirt",
          "Hoodie",
          "Dress",
          "Sweater",
          "Skirt",
          "Socks",
          "Sweater",
          "Jeans",
          "Shirt",
          "Socks",
          "Socks",
          "Dress",
          "Hoodie",
          "T-shirt",
          "Jeans",
          "Shorts",
          "Pants",
          "Sweater",
          "Pants",
          "Socks",
          "Socks",
          "Socks",
          "Pants",
          "Shorts",
          "Dress",
          "Jeans",
          "T-shirt",
          "Shirt",
          "Sweater",
          "Shirt",
          "Hoodie",
          "Shirt",
          "Blouse",
          "Dress",
          "Socks",
          "Socks",
          "Shorts",
          "Hoodie",
          "Shirt",
          "Shirt",
          "Sweater",
          "Shirt",
          "Hoodie",
          "Hoodie",
          "Jeans",
          "Dress",
          "Pants",
          "Socks",
          "Shirt",
          "Shorts",
          "Hoodie",
          "Skirt",
          "Jeans",
          "Blouse",
          "Dress",
          "Hoodie",
          "Jeans",
          "Skirt",
          "Skirt",
          "Dress",
          "Shorts",
          "Skirt",
          "Shorts",
          "Hoodie",
          "Shirt",
          "Sweater",
          "T-shirt",
          "Dress",
          "Pants",
          "Sweater",
          "Hoodie",
          "Pants",
          "Hoodie",
          "Dress",
          "Dress",
          "Jeans",
          "Sweater",
          "Shorts",
          "Shirt",
          "Shirt",
          "Socks",
          "Jeans",
          "Jeans",
          "Dress",
          "T-shirt",
          "Skirt",
          "Jeans",
          "Hoodie",
          "Shorts",
          "Blouse",
          "T-shirt",
          "Dress",
          "Blouse",
          "Jeans",
          "Dress",
          "Dress",
          "Shirt",
          "Skirt",
          "Dress",
          "Hoodie",
          "Shorts",
          "Jeans",
          "Skirt",
          "Sweater",
          "T-shirt",
          "Pants",
          "Shorts",
          "Pants",
          "Socks",
          "Socks",
          "Dress",
          "Pants",
          "Hoodie",
          "Jeans",
          "Dress",
          "Shirt",
          "T-shirt",
          "Shirt",
          "Hoodie",
          "Pants",
          "Socks",
          "Blouse",
          "Pants",
          "Jeans",
          "Shirt",
          "Jeans",
          "Jeans",
          "Sweater",
          "Socks",
          "Socks",
          "Socks",
          "Blouse",
          "Shorts",
          "Sweater",
          "Sweater",
          "Hoodie",
          "T-shirt",
          "Dress",
          "Shirt",
          "Skirt",
          "Shorts",
          "Sweater",
          "T-shirt",
          "Jeans",
          "Pants",
          "Sweater",
          "Sweater",
          "Pants",
          "Sweater",
          "Hoodie",
          "T-shirt",
          "Skirt",
          "Shorts",
          "Hoodie",
          "Hoodie",
          "Hoodie",
          "Skirt",
          "T-shirt",
          "Sweater",
          "Shirt",
          "Hoodie",
          "Shirt",
          "Hoodie",
          "T-shirt",
          "Skirt",
          "Shirt",
          "Pants",
          "Jeans",
          "T-shirt",
          "Jeans",
          "Pants",
          "Blouse",
          "Shirt",
          "Dress",
          "T-shirt",
          "Shorts",
          "Pants",
          "Dress",
          "T-shirt",
          "Dress",
          "Socks",
          "Skirt",
          "Socks",
          "Dress",
          "Skirt",
          "Dress",
          "T-shirt",
          "Skirt",
          "Shorts",
          "Pants",
          "Jeans",
          "Jeans",
          "Blouse",
          "Shirt",
          "Shirt",
          "T-shirt",
          "Hoodie",
          "Socks",
          "Pants",
          "Hoodie",
          "Blouse",
          "Pants",
          "Sweater",
          "Socks",
          "Jeans",
          "Pants",
          "Shorts",
          "Blouse",
          "Socks",
          "Pants",
          "Sweater",
          "Dress",
          "Pants",
          "Hoodie",
          "Socks",
          "Blouse",
          "Socks",
          "Dress",
          "Hoodie",
          "T-shirt",
          "Jeans",
          "Shorts",
          "Dress",
          "Skirt",
          "Shirt",
          "Shirt",
          "Hoodie",
          "Sweater",
          "Shirt",
          "Blouse",
          "T-shirt",
          "Hoodie",
          "Jeans",
          "Sweater",
          "Blouse",
          "Shorts",
          "Hoodie",
          "Pants",
          "Shirt",
          "Shirt",
          "Dress",
          "Jeans",
          "Skirt",
          "Sweater",
          "Shirt",
          "Jeans",
          "Pants",
          "T-shirt",
          "Shirt",
          "Blouse",
          "Pants",
          "Sweater",
          "Dress",
          "Blouse",
          "Hoodie",
          "T-shirt",
          "Shorts",
          "Pants",
          "Shorts",
          "T-shirt",
          "Pants",
          "Shorts",
          "Sweater",
          "Socks",
          "Hoodie",
          "Pants",
          "Sweater",
          "Hoodie",
          "T-shirt",
          "Dress",
          "Hoodie",
          "Sweater",
          "Socks",
          "Pants",
          "Shorts",
          "Hoodie",
          "Skirt",
          "Dress",
          "Blouse",
          "Shirt",
          "Pants",
          "Blouse",
          "T-shirt",
          "Blouse",
          "Dress",
          "Blouse",
          "Pants",
          "Dress",
          "Socks",
          "Shirt",
          "Blouse",
          "Skirt",
          "Shorts",
          "Blouse",
          "Socks",
          "Shorts",
          "Shirt",
          "Jeans",
          "Dress",
          "Dress",
          "Pants",
          "Blouse",
          "Skirt",
          "Pants",
          "Hoodie",
          "Sweater",
          "Pants",
          "Hoodie",
          "Sweater",
          "Jeans",
          "Hoodie",
          "Socks",
          "Dress",
          "Pants",
          "Shirt",
          "Sweater",
          "Shorts",
          "Shorts",
          "Sweater",
          "Blouse",
          "Skirt",
          "Shorts",
          "Skirt",
          "Shirt",
          "T-shirt",
          "T-shirt",
          "Sweater",
          "Jeans",
          "Jeans",
          "Pants",
          "Shirt",
          "Dress",
          "Blouse",
          "Dress",
          "Blouse",
          "Dress",
          "Socks",
          "Jeans",
          "Jeans",
          "Shorts",
          "Socks",
          "Socks",
          "T-shirt",
          "Blouse",
          "Dress",
          "Shorts",
          "Blouse",
          "Jeans",
          "Dress",
          "Blouse",
          "Blouse",
          "Shorts",
          "Shorts",
          "Hoodie",
          "Pants",
          "Skirt",
          "Pants",
          "Skirt",
          "T-shirt",
          "Skirt",
          "Shirt",
          "Dress",
          "Pants",
          "Blouse",
          "Sweater",
          "Socks",
          "Jeans",
          "Skirt",
          "Dress",
          "Shirt",
          "Shirt",
          "Shorts",
          "Sweater",
          "T-shirt",
          "Shorts",
          "Shirt",
          "Socks",
          "Pants",
          "Skirt",
          "T-shirt",
          "Blouse",
          "Shorts",
          "Sweater",
          "Skirt",
          "Dress",
          "Blouse",
          "Sweater",
          "Socks",
          "Dress",
          "Hoodie",
          "Pants",
          "T-shirt",
          "Sweater",
          "Sweater",
          "Blouse",
          "Skirt",
          "T-shirt",
          "Shirt",
          "Skirt",
          "Blouse",
          "T-shirt",
          "Pants",
          "Hoodie",
          "Blouse",
          "Pants",
          "Jeans",
          "Pants",
          "Dress",
          "Socks",
          "Shirt",
          "Blouse",
          "Skirt",
          "Shirt",
          "Shirt",
          "Shirt",
          "Sweater",
          "Hoodie",
          "Jeans",
          "Shorts",
          "Skirt",
          "Pants",
          "T-shirt",
          "T-shirt",
          "Jeans",
          "Dress",
          "Blouse",
          "Hoodie",
          "T-shirt",
          "Sweater",
          "Shorts",
          "T-shirt",
          "Blouse",
          "Jeans",
          "Shorts",
          "Shirt",
          "Blouse",
          "Jeans",
          "Dress",
          "Shorts",
          "Pants",
          "Pants",
          "Skirt",
          "Skirt",
          "Skirt",
          "Hoodie",
          "Sweater",
          "Skirt",
          "Dress",
          "Dress",
          "Sweater",
          "Skirt",
          "Hoodie",
          "Dress",
          "Hoodie",
          "Sweater",
          "Socks",
          "Shirt",
          "Sweater",
          "T-shirt",
          "Pants",
          "Sweater",
          "Blouse",
          "Blouse",
          "Jeans",
          "Jeans",
          "Skirt",
          "Dress",
          "Hoodie",
          "Sweater",
          "Shorts",
          "Sweater",
          "T-shirt",
          "Jeans",
          "Shorts",
          "Jeans",
          "T-shirt",
          "Socks",
          "Shirt",
          "Shorts",
          "Shirt",
          "Socks",
          "Pants",
          "T-shirt",
          "T-shirt",
          "Blouse",
          "Skirt",
          "Pants",
          "Shirt",
          "Socks",
          "Shorts",
          "Jeans",
          "Skirt",
          "Skirt",
          "Sweater",
          "Blouse",
          "Sweater",
          "Shirt",
          "T-shirt",
          "T-shirt",
          "Pants",
          "T-shirt",
          "Skirt",
          "Blouse",
          "Blouse",
          "Jeans",
          "T-shirt",
          "Sweater",
          "Pants",
          "Skirt",
          "Socks",
          "T-shirt",
          "Blouse",
          "Blouse",
          "Shorts",
          "Hoodie",
          "Hoodie",
          "Skirt",
          "Dress",
          "Hoodie",
          "Jeans",
          "Pants",
          "Shorts",
          "Socks",
          "Pants",
          "T-shirt",
          "Skirt",
          "Sweater",
          "Sweater",
          "Skirt",
          "Shorts",
          "Hoodie",
          "Skirt",
          "Skirt",
          "Blouse",
          "Shirt",
          "Pants",
          "Jeans",
          "Pants",
          "Hoodie",
          "Blouse",
          "Socks",
          "Jeans",
          "Pants",
          "Socks",
          "Hoodie",
          "Hoodie",
          "Pants",
          "Shirt",
          "T-shirt",
          "Dress",
          "Skirt",
          "Hoodie",
          "Socks",
          "Shorts",
          "Jeans",
          "Shorts",
          "Pants",
          "Sweater",
          "Dress",
          "Shirt",
          "Dress",
          "Skirt",
          "Jeans",
          "Skirt",
          "Pants",
          "Hoodie",
          "Blouse",
          "Pants",
          "Socks",
          "Shirt",
          "Shirt",
          "Skirt",
          "Sweater",
          "Jeans",
          "Skirt",
          "Socks",
          "Shirt",
          "Sweater",
          "Socks",
          "Socks",
          "Shirt",
          "Socks",
          "Blouse",
          "Jeans",
          "Shorts",
          "T-shirt",
          "Blouse",
          "Blouse",
          "T-shirt",
          "Jeans",
          "Pants",
          "T-shirt",
          "Sweater",
          "Socks",
          "Shirt",
          "Shorts",
          "Sweater",
          "Shorts",
          "Pants",
          "T-shirt",
          "Sweater",
          "Dress",
          "Jeans",
          "Jeans",
          "Blouse",
          "Jeans",
          "Dress",
          "Socks",
          "Jeans",
          "Dress",
          "Socks",
          "Hoodie",
          "Dress",
          "T-shirt",
          "T-shirt",
          "Sweater",
          "Shirt",
          "Pants",
          "Pants",
          "Hoodie",
          "Socks",
          "Dress",
          "Shirt",
          "Dress",
          "Socks",
          "Skirt",
          "Skirt",
          "Shorts",
          "Skirt",
          "Socks",
          "Sweater",
          "Dress",
          "Skirt",
          "Skirt",
          "T-shirt",
          "Shirt",
          "Jeans",
          "Shorts",
          "Shirt",
          "Skirt",
          "Shirt",
          "Blouse",
          "Dress",
          "Shorts",
          "Pants",
          "Skirt",
          "Sweater",
          "Shorts",
          "Skirt",
          "Dress",
          "Socks",
          "Blouse",
          "Shorts",
          "Shorts",
          "Blouse",
          "Blouse",
          "Blouse",
          "Shirt",
          "Socks",
          "Jeans",
          "Dress",
          "Pants",
          "Dress",
          "Dress",
          "Jeans",
          "Sweater",
          "Sweater",
          "Pants",
          "Pants",
          "Blouse",
          "Shorts",
          "Pants",
          "Shirt",
          "Pants",
          "Blouse",
          "Socks",
          "T-shirt",
          "Skirt",
          "Shirt",
          "Shorts",
          "Socks",
          "T-shirt",
          "Hoodie",
          "Blouse",
          "Skirt",
          "T-shirt",
          "Jeans",
          "Dress",
          "Sweater",
          "Skirt",
          "Blouse",
          "Dress",
          "Dress",
          "Shorts",
          "Jeans",
          "Hoodie",
          "Blouse",
          "Socks",
          "Blouse",
          "Shorts",
          "T-shirt",
          "Sweater",
          "Socks",
          "Pants",
          "Hoodie",
          "Skirt",
          "Dress",
          "T-shirt",
          "Dress",
          "Socks",
          "Hoodie",
          "Skirt",
          "Skirt",
          "Pants",
          "Shirt",
          "Shirt",
          "Blouse",
          "Skirt",
          "Socks",
          "T-shirt",
          "Blouse",
          "Sweater",
          "Blouse",
          "Skirt",
          "Shirt",
          "Sweater",
          "Jeans",
          "Socks",
          "Socks",
          "Sweater",
          "Socks",
          "Hoodie",
          "Blouse",
          "Sweater",
          "Blouse",
          "Socks",
          "Dress",
          "Shirt",
          "Shirt",
          "Jeans",
          "Socks",
          "Blouse",
          "Shirt",
          "Dress",
          "Shorts",
          "Shorts",
          "Jeans",
          "Shorts",
          "Hoodie",
          "Shorts",
          "Socks",
          "Pants",
          "Sweater",
          "T-shirt",
          "Hoodie",
          "T-shirt",
          "T-shirt",
          "Jeans",
          "Socks",
          "Blouse",
          "Shirt",
          "Pants",
          "T-shirt",
          "Socks",
          "Shirt",
          "Sweater",
          "Jeans",
          "T-shirt",
          "Socks",
          "Jeans",
          "Pants",
          "Blouse",
          "Shorts",
          "Shorts",
          "Skirt",
          "Blouse",
          "Shirt",
          "Socks",
          "T-shirt",
          "Dress",
          "Socks",
          "Dress",
          "Socks",
          "Skirt",
          "Hoodie",
          "Blouse",
          "Jeans",
          "Blouse",
          "Socks",
          "Hoodie",
          "Shorts",
          "Skirt",
          "Shorts",
          "Dress",
          "Socks",
          "Socks",
          "Blouse",
          "Shorts",
          "Shirt",
          "Sweater",
          "Shorts",
          "Pants",
          "Skirt",
          "Socks",
          "Pants",
          "Pants",
          "T-shirt",
          "Shorts",
          "Hoodie",
          "Hoodie",
          "Shorts",
          "Socks",
          "T-shirt",
          "Dress",
          "Blouse",
          "T-shirt",
          "Shorts",
          "Hoodie",
          "Socks",
          "Blouse",
          "Jeans",
          "Dress",
          "Dress",
          "Jeans",
          "Socks",
          "Pants",
          "Shorts",
          "Pants",
          "Skirt",
          "Blouse",
          "Shirt",
          "Dress",
          "Dress",
          "Sweater",
          "Hoodie",
          "Jeans",
          "T-shirt",
          "Shorts",
          "Pants",
          "Blouse",
          "Dress",
          "Skirt",
          "Shirt",
          "Hoodie",
          "Skirt",
          "Skirt",
          "Hoodie",
          "Pants",
          "Shirt",
          "Blouse",
          "Skirt",
          "Pants",
          "T-shirt",
          "Pants",
          "Socks",
          "Shorts",
          "Blouse",
          "Shorts",
          "Dress",
          "Pants",
          "Skirt",
          "T-shirt",
          "Hoodie",
          "Shorts",
          "Shorts",
          "Shorts",
          "Socks",
          "Dress",
          "Socks",
          "Dress",
          "Blouse",
          "Pants",
          "Hoodie",
          "T-shirt",
          "Sweater",
          "Dress",
          "Dress",
          "Shirt",
          "Sweater",
          "Shorts",
          "Hoodie",
          "Shirt",
          "Skirt",
          "Socks",
          "Jeans",
          "Skirt",
          "Hoodie",
          "Shirt",
          "Dress",
          "Shirt",
          "Hoodie",
          "Jeans",
          "Dress",
          "Sweater",
          "Blouse",
          "Skirt",
          "T-shirt",
          "Sweater",
          "Dress",
          "Dress",
          "Blouse",
          "Shirt",
          "Pants",
          "Socks",
          "Blouse",
          "Skirt",
          "Skirt",
          "Blouse",
          "Sweater",
          "Socks",
          "Shorts",
          "Hoodie",
          "T-shirt",
          "Shirt",
          "Shirt",
          "T-shirt",
          "Hoodie",
          "Blouse",
          "Hoodie",
          "Skirt",
          "Shorts",
          "Jeans",
          "Hoodie",
          "Shirt",
          "T-shirt",
          "Blouse",
          "Skirt",
          "Shorts",
          "Shirt",
          "Skirt",
          "Dress",
          "Blouse",
          "Skirt",
          "Hoodie",
          "Jeans",
          "T-shirt",
          "Pants",
          "T-shirt",
          "Dress",
          "Sweater",
          "Socks",
          "Sweater",
          "Blouse",
          "Dress",
          "Jeans",
          "Shorts",
          "Shirt",
          "T-shirt",
          "Sweater",
          "Skirt",
          "Blouse",
          "Socks",
          "Shorts",
          "Sweater",
          "Shirt",
          "Pants",
          "Hoodie",
          "Socks",
          "Dress",
          "Blouse",
          "Skirt",
          "Blouse",
          "Socks",
          "Hoodie",
          "Jeans",
          "T-shirt",
          "Dress",
          "Hoodie",
          "Blouse",
          "Blouse",
          "Blouse",
          "Blouse",
          "Socks",
          "Sweater",
          "Shirt",
          "Shorts",
          "Shirt",
          "Shirt",
          "Shirt",
          "Sweater",
          "Shirt",
          "Socks",
          "T-shirt",
          "Skirt",
          "Sweater",
          "Skirt",
          "Socks",
          "Shirt",
          "Pants",
          "Pants",
          "Jeans",
          "Dress",
          "T-shirt",
          "Dress",
          "Skirt",
          "Hoodie",
          "Pants",
          "Sweater",
          "Shorts",
          "Shorts",
          "Jeans",
          "Pants",
          "Dress",
          "Pants",
          "Skirt",
          "Socks",
          "Shirt",
          "Dress",
          "Socks",
          "Sweater",
          "Jeans",
          "Sweater",
          "Hoodie",
          "Blouse",
          "Skirt",
          "Shorts",
          "Dress",
          "Skirt",
          "T-shirt",
          "Blouse",
          "Jeans",
          "Blouse",
          "Shirt",
          "Hoodie",
          "Dress",
          "Dress",
          "Blouse",
          "Sweater",
          "Hoodie",
          "Blouse",
          "Socks",
          "Sweater",
          "T-shirt",
          "Skirt",
          "Jeans",
          "Sweater",
          "Shirt",
          "Shorts",
          "Sweater",
          "Hoodie",
          "T-shirt",
          "Pants",
          "Sweater",
          "Shirt",
          "Dress",
          "Shirt",
          "Dress",
          "Socks",
          "Shirt",
          "Pants",
          "Shirt",
          "Shirt",
          "Pants",
          "Skirt",
          "Blouse",
          "Socks",
          "Blouse",
          "Shirt",
          "Hoodie",
          "Shorts",
          "Shirt",
          "Hoodie",
          "Socks",
          "Pants",
          "Sweater",
          "T-shirt",
          "Skirt",
          "Blouse",
          "Hoodie",
          "Shirt",
          "Sweater",
          "Shorts",
          "Blouse",
          "T-shirt",
          "Socks",
          "Shirt",
          "Dress",
          "Pants",
          "Dress",
          "Shirt",
          "Dress",
          "Jeans",
          "T-shirt",
          "Socks",
          "Skirt",
          "Pants",
          "Socks",
          "Shorts",
          "Sweater",
          "Skirt",
          "Blouse",
          "Blouse",
          "Jeans",
          "Hoodie",
          "Sweater",
          "Sweater",
          "Socks",
          "Pants",
          "Hoodie",
          "Socks",
          "Socks",
          "Pants",
          "Skirt",
          "Hoodie",
          "Skirt",
          "T-shirt",
          "Shirt",
          "Hoodie",
          "Blouse",
          "Pants",
          "T-shirt",
          "T-shirt",
          "Socks",
          "Hoodie",
          "Sweater",
          "Pants",
          "T-shirt",
          "Sweater",
          "Shorts",
          "Shirt",
          "T-shirt",
          "Shorts",
          "Pants",
          "Hoodie",
          "Dress",
          "Blouse",
          "Socks",
          "Socks",
          "Sweater",
          "Pants",
          "Skirt",
          "Dress",
          "Pants",
          "T-shirt",
          "Skirt",
          "Sweater",
          "Blouse",
          "Blouse",
          "Shorts",
          "Pants",
          "Blouse",
          "Hoodie",
          "Jeans",
          "Socks",
          "Socks",
          "Shorts",
          "Blouse",
          "Sweater",
          "T-shirt",
          "Shorts",
          "T-shirt",
          "Jeans",
          "Shirt",
          "Blouse",
          "Skirt",
          "T-shirt",
          "Shorts",
          "Jeans",
          "T-shirt",
          "Shirt",
          "Dress",
          "Skirt",
          "Blouse",
          "Jeans",
          "Hoodie",
          "T-shirt",
          "Sweater",
          "Skirt",
          "T-shirt",
          "Sweater",
          "Hoodie",
          "Socks",
          "Blouse",
          "Shirt",
          "Shorts",
          "Dress",
          "Sweater",
          "Hoodie",
          "T-shirt",
          "Pants",
          "Sweater",
          "Pants",
          "Socks",
          "Hoodie",
          "Dress",
          "Dress",
          "Pants",
          "Blouse",
          "Jeans",
          "Pants",
          "Hoodie",
          "Blouse",
          "Sweater",
          "Dress",
          "Socks",
          "Shirt",
          "Blouse",
          "Socks",
          "T-shirt",
          "Skirt",
          "Socks",
          "Socks",
          "Pants",
          "Socks",
          "Shirt",
          "Sweater",
          "Skirt",
          "Dress",
          "Pants",
          "Blouse",
          "Shorts",
          "Blouse",
          "Shirt",
          "T-shirt",
          "Hoodie",
          "Hoodie",
          "Jeans",
          "Socks",
          "Socks",
          "Blouse",
          "Dress",
          "Pants",
          "Sweater",
          "Socks",
          "Hoodie",
          "Dress",
          "Shirt",
          "Shorts",
          "Sweater",
          "Dress",
          "Pants",
          "Pants",
          "Shorts",
          "Socks",
          "Shirt",
          "Shirt",
          "Shirt",
          "Pants",
          "T-shirt",
          "Shirt",
          "Blouse",
          "Dress",
          "Skirt",
          "Shirt",
          "Shorts",
          "Pants",
          "Pants",
          "Sweater",
          "Blouse",
          "T-shirt",
          "Pants",
          "Shorts",
          "Shorts",
          "Blouse",
          "Socks",
          "Blouse",
          "T-shirt",
          "Dress",
          "Blouse",
          "Sweater",
          "Shorts",
          "Socks",
          "Blouse",
          "Jeans",
          "Dress",
          "Skirt",
          "Shorts",
          "Jeans",
          "Socks",
          "Blouse",
          "Dress",
          "Shorts",
          "Blouse",
          "Hoodie",
          "Sweater",
          "Dress",
          "Blouse",
          "Hoodie",
          "Hoodie",
          "Dress",
          "T-shirt",
          "Skirt",
          "Jeans",
          "Hoodie",
          "Jeans",
          "Socks",
          "T-shirt",
          "Dress",
          "Hoodie",
          "Dress",
          "Blouse",
          "Blouse",
          "T-shirt",
          "Socks",
          "Dress",
          "Blouse",
          "Shorts",
          "Skirt",
          "Skirt",
          "Jeans",
          "Sweater",
          "T-shirt",
          "Shorts",
          "Socks",
          "Pants",
          "Blouse",
          "Socks",
          "Socks",
          "Shirt",
          "Shirt",
          "Socks",
          "Skirt",
          "Shorts",
          "Shirt",
          "Blouse",
          "Blouse",
          "Sweater",
          "Skirt",
          "Blouse",
          "Hoodie",
          "Skirt",
          "Skirt",
          "Hoodie",
          "Socks",
          "Blouse",
          "Shirt",
          "T-shirt",
          "Pants",
          "Pants",
          "Dress",
          "Socks",
          "Shirt",
          "Socks",
          "Hoodie",
          "Jeans",
          "Shorts",
          "Pants",
          "Shirt",
          "Shirt",
          "Pants",
          "Hoodie",
          "Socks",
          "Sweater",
          "Blouse",
          "Hoodie",
          "Skirt",
          "Skirt",
          "Skirt",
          "Socks",
          "Shorts",
          "Shirt",
          "Socks",
          "Shorts",
          "Sweater",
          "Pants",
          "T-shirt",
          "Pants",
          "Sweater",
          "Shorts",
          "Jeans",
          "Socks",
          "Jeans",
          "Blouse",
          "Shirt",
          "Shorts",
          "Sweater",
          "Blouse",
          "Blouse",
          "Socks",
          "Skirt",
          "Skirt",
          "Pants",
          "Dress",
          "Pants",
          "Shirt",
          "Shorts",
          "Shorts",
          "Blouse",
          "Pants",
          "Hoodie",
          "Skirt",
          "Hoodie",
          "Dress",
          "Jeans",
          "Jeans",
          "Shorts",
          "Sweater",
          "Blouse",
          "Sweater",
          "Hoodie",
          "T-shirt",
          "Shirt",
          "T-shirt",
          "Shorts",
          "Shirt",
          "T-shirt",
          "Shorts",
          "Dress",
          "T-shirt",
          "Sweater",
          "Hoodie",
          "Skirt",
          "Shirt",
          "Pants",
          "Socks",
          "Shirt",
          "Dress",
          "Shirt",
          "Dress",
          "Skirt",
          "Hoodie"
         ],
         "xaxis": "x",
         "yaxis": "y"
        },
        {
         "bingroup": "x",
         "hovertemplate": "Category=Footwear<br>Item Purchased=%{x}<br>count=%{y}<extra></extra>",
         "legendgroup": "Footwear",
         "marker": {
          "color": "#EF553B",
          "pattern": {
           "shape": ""
          }
         },
         "name": "Footwear",
         "orientation": "v",
         "showlegend": true,
         "type": "histogram",
         "x": [
          "Sandals",
          "Sneakers",
          "Shoes",
          "Sneakers",
          "Boots",
          "Sandals",
          "Shoes",
          "Shoes",
          "Sneakers",
          "Shoes",
          "Boots",
          "Sneakers",
          "Shoes",
          "Sandals",
          "Sandals",
          "Sneakers",
          "Shoes",
          "Shoes",
          "Boots",
          "Sneakers",
          "Shoes",
          "Shoes",
          "Boots",
          "Sandals",
          "Sneakers",
          "Shoes",
          "Shoes",
          "Boots",
          "Sneakers",
          "Sandals",
          "Sneakers",
          "Shoes",
          "Sandals",
          "Sandals",
          "Boots",
          "Shoes",
          "Sneakers",
          "Sandals",
          "Shoes",
          "Sandals",
          "Shoes",
          "Sneakers",
          "Sandals",
          "Sneakers",
          "Sandals",
          "Shoes",
          "Sandals",
          "Sneakers",
          "Sneakers",
          "Sneakers",
          "Shoes",
          "Sneakers",
          "Shoes",
          "Boots",
          "Shoes",
          "Sneakers",
          "Boots",
          "Boots",
          "Sneakers",
          "Sneakers",
          "Sandals",
          "Sandals",
          "Shoes",
          "Boots",
          "Boots",
          "Shoes",
          "Boots",
          "Sneakers",
          "Shoes",
          "Sandals",
          "Sneakers",
          "Boots",
          "Sneakers",
          "Boots",
          "Shoes",
          "Boots",
          "Shoes",
          "Shoes",
          "Boots",
          "Sandals",
          "Sneakers",
          "Sandals",
          "Sandals",
          "Boots",
          "Sandals",
          "Sneakers",
          "Sneakers",
          "Shoes",
          "Sneakers",
          "Sneakers",
          "Sandals",
          "Sandals",
          "Boots",
          "Boots",
          "Shoes",
          "Shoes",
          "Boots",
          "Shoes",
          "Sandals",
          "Shoes",
          "Sandals",
          "Shoes",
          "Boots",
          "Sandals",
          "Sneakers",
          "Sandals",
          "Boots",
          "Sandals",
          "Sneakers",
          "Sandals",
          "Boots",
          "Boots",
          "Boots",
          "Boots",
          "Boots",
          "Sandals",
          "Boots",
          "Shoes",
          "Sneakers",
          "Sneakers",
          "Shoes",
          "Sneakers",
          "Sandals",
          "Boots",
          "Shoes",
          "Boots",
          "Sneakers",
          "Boots",
          "Sneakers",
          "Shoes",
          "Boots",
          "Sandals",
          "Boots",
          "Sandals",
          "Shoes",
          "Sandals",
          "Shoes",
          "Sneakers",
          "Boots",
          "Sandals",
          "Sandals",
          "Boots",
          "Sneakers",
          "Sneakers",
          "Sneakers",
          "Sneakers",
          "Boots",
          "Sneakers",
          "Shoes",
          "Boots",
          "Sneakers",
          "Boots",
          "Boots",
          "Sandals",
          "Boots",
          "Sneakers",
          "Boots",
          "Shoes",
          "Shoes",
          "Sandals",
          "Shoes",
          "Sandals",
          "Shoes",
          "Shoes",
          "Sandals",
          "Shoes",
          "Sandals",
          "Boots",
          "Sneakers",
          "Sneakers",
          "Shoes",
          "Boots",
          "Sneakers",
          "Sneakers",
          "Shoes",
          "Sneakers",
          "Sandals",
          "Shoes",
          "Boots",
          "Sneakers",
          "Sneakers",
          "Shoes",
          "Sandals",
          "Sneakers",
          "Sandals",
          "Shoes",
          "Sneakers",
          "Boots",
          "Boots",
          "Shoes",
          "Boots",
          "Boots",
          "Sandals",
          "Boots",
          "Sandals",
          "Sandals",
          "Sneakers",
          "Boots",
          "Boots",
          "Sandals",
          "Boots",
          "Sandals",
          "Sneakers",
          "Sandals",
          "Sneakers",
          "Shoes",
          "Shoes",
          "Boots",
          "Shoes",
          "Boots",
          "Sneakers",
          "Sneakers",
          "Shoes",
          "Sneakers",
          "Sandals",
          "Sneakers",
          "Shoes",
          "Sneakers",
          "Sandals",
          "Boots",
          "Sandals",
          "Sandals",
          "Sneakers",
          "Boots",
          "Boots",
          "Sandals",
          "Sandals",
          "Boots",
          "Boots",
          "Sneakers",
          "Shoes",
          "Boots",
          "Sneakers",
          "Sandals",
          "Sneakers",
          "Sneakers",
          "Boots",
          "Sneakers",
          "Shoes",
          "Shoes",
          "Sandals",
          "Shoes",
          "Sneakers",
          "Sneakers",
          "Sneakers",
          "Sneakers",
          "Boots",
          "Sneakers",
          "Boots",
          "Sneakers",
          "Shoes",
          "Boots",
          "Sandals",
          "Sandals",
          "Sneakers",
          "Shoes",
          "Boots",
          "Boots",
          "Boots",
          "Shoes",
          "Sneakers",
          "Shoes",
          "Sneakers",
          "Boots",
          "Shoes",
          "Sandals",
          "Boots",
          "Sandals",
          "Sandals",
          "Shoes",
          "Sneakers",
          "Sneakers",
          "Sneakers",
          "Sneakers",
          "Boots",
          "Shoes",
          "Boots",
          "Sandals",
          "Sandals",
          "Sandals",
          "Sneakers",
          "Sandals",
          "Boots",
          "Sandals",
          "Sandals",
          "Boots",
          "Sandals",
          "Sandals",
          "Sneakers",
          "Sandals",
          "Shoes",
          "Shoes",
          "Shoes",
          "Boots",
          "Sandals",
          "Sandals",
          "Shoes",
          "Sneakers",
          "Boots",
          "Sneakers",
          "Sneakers",
          "Shoes",
          "Sandals",
          "Boots",
          "Sandals",
          "Shoes",
          "Shoes",
          "Shoes",
          "Shoes",
          "Sneakers",
          "Boots",
          "Shoes",
          "Sneakers",
          "Sneakers",
          "Sandals",
          "Sandals",
          "Sneakers",
          "Shoes",
          "Shoes",
          "Boots",
          "Sandals",
          "Boots",
          "Sandals",
          "Shoes",
          "Sandals",
          "Shoes",
          "Sandals",
          "Shoes",
          "Sandals",
          "Boots",
          "Sandals",
          "Sandals",
          "Sandals",
          "Sandals",
          "Sneakers",
          "Shoes",
          "Boots",
          "Sandals",
          "Sneakers",
          "Sandals",
          "Shoes",
          "Shoes",
          "Shoes",
          "Sneakers",
          "Shoes",
          "Sneakers",
          "Boots",
          "Sneakers",
          "Sneakers",
          "Sandals",
          "Shoes",
          "Sandals",
          "Boots",
          "Boots",
          "Boots",
          "Sneakers",
          "Sandals",
          "Shoes",
          "Shoes",
          "Boots",
          "Sneakers",
          "Shoes",
          "Shoes",
          "Boots",
          "Sandals",
          "Sandals",
          "Boots",
          "Sneakers",
          "Shoes",
          "Sandals",
          "Sneakers",
          "Shoes",
          "Sneakers",
          "Sneakers",
          "Sneakers",
          "Sandals",
          "Sandals",
          "Sandals",
          "Boots",
          "Shoes",
          "Boots",
          "Shoes",
          "Sneakers",
          "Boots",
          "Sandals",
          "Sandals",
          "Shoes",
          "Boots",
          "Boots",
          "Shoes",
          "Boots",
          "Sneakers",
          "Shoes",
          "Shoes",
          "Sandals",
          "Shoes",
          "Shoes",
          "Sandals",
          "Shoes",
          "Sneakers",
          "Boots",
          "Boots",
          "Sneakers",
          "Sandals",
          "Boots",
          "Sandals",
          "Boots",
          "Shoes",
          "Sneakers",
          "Boots",
          "Sneakers",
          "Boots",
          "Boots",
          "Shoes",
          "Shoes",
          "Sneakers",
          "Shoes",
          "Sandals",
          "Shoes",
          "Sneakers",
          "Sneakers",
          "Shoes",
          "Boots",
          "Sandals",
          "Shoes",
          "Sneakers",
          "Boots",
          "Boots",
          "Boots",
          "Sandals",
          "Boots",
          "Boots",
          "Boots",
          "Shoes",
          "Shoes",
          "Boots",
          "Sandals",
          "Boots",
          "Sneakers",
          "Boots",
          "Sandals",
          "Sneakers",
          "Boots",
          "Boots",
          "Sandals",
          "Shoes",
          "Shoes",
          "Sneakers",
          "Sneakers",
          "Boots",
          "Boots",
          "Boots",
          "Sneakers",
          "Boots",
          "Sneakers",
          "Sandals",
          "Shoes",
          "Boots",
          "Sandals",
          "Shoes",
          "Sneakers",
          "Boots",
          "Boots",
          "Shoes",
          "Sneakers",
          "Shoes",
          "Shoes",
          "Boots",
          "Sandals",
          "Boots",
          "Shoes",
          "Boots",
          "Sneakers",
          "Sandals",
          "Sandals",
          "Shoes",
          "Sandals",
          "Sandals",
          "Sandals",
          "Boots",
          "Shoes",
          "Sneakers",
          "Boots",
          "Shoes",
          "Sandals",
          "Sandals",
          "Sneakers",
          "Boots",
          "Sneakers",
          "Boots",
          "Shoes",
          "Sneakers",
          "Sneakers",
          "Sneakers",
          "Shoes",
          "Sneakers",
          "Sandals",
          "Sneakers",
          "Sandals",
          "Shoes",
          "Shoes",
          "Sneakers",
          "Sandals",
          "Sandals",
          "Sneakers",
          "Shoes",
          "Shoes",
          "Sandals",
          "Sandals",
          "Boots",
          "Sandals",
          "Boots",
          "Sandals",
          "Shoes",
          "Sandals",
          "Boots",
          "Sandals",
          "Shoes",
          "Boots",
          "Boots",
          "Boots",
          "Sandals",
          "Shoes",
          "Sandals",
          "Sneakers",
          "Boots",
          "Sandals",
          "Sandals",
          "Boots",
          "Shoes",
          "Sandals",
          "Shoes",
          "Sneakers",
          "Sneakers",
          "Boots",
          "Shoes",
          "Shoes",
          "Sneakers",
          "Shoes",
          "Shoes",
          "Sandals",
          "Shoes",
          "Shoes",
          "Sneakers",
          "Sneakers",
          "Sandals",
          "Sandals",
          "Boots",
          "Shoes",
          "Sneakers",
          "Boots",
          "Sandals",
          "Sandals",
          "Sandals",
          "Sandals",
          "Sneakers",
          "Sneakers",
          "Sandals",
          "Sandals",
          "Boots",
          "Shoes",
          "Sandals",
          "Shoes",
          "Sandals",
          "Shoes",
          "Sandals",
          "Sandals",
          "Sandals",
          "Sandals",
          "Shoes",
          "Sandals",
          "Sandals",
          "Shoes",
          "Sandals",
          "Boots",
          "Shoes",
          "Sandals",
          "Shoes",
          "Sandals",
          "Sneakers",
          "Sneakers",
          "Sneakers",
          "Sneakers",
          "Boots",
          "Boots",
          "Boots",
          "Shoes",
          "Sneakers",
          "Sneakers",
          "Boots",
          "Sandals",
          "Sandals",
          "Sandals",
          "Sandals",
          "Sandals",
          "Shoes",
          "Sandals",
          "Sneakers",
          "Shoes"
         ],
         "xaxis": "x",
         "yaxis": "y"
        },
        {
         "bingroup": "x",
         "hovertemplate": "Category=Outerwear<br>Item Purchased=%{x}<br>count=%{y}<extra></extra>",
         "legendgroup": "Outerwear",
         "marker": {
          "color": "#00cc96",
          "pattern": {
           "shape": ""
          }
         },
         "name": "Outerwear",
         "orientation": "v",
         "showlegend": true,
         "type": "histogram",
         "x": [
          "Coat",
          "Coat",
          "Coat",
          "Jacket",
          "Jacket",
          "Coat",
          "Coat",
          "Jacket",
          "Coat",
          "Coat",
          "Jacket",
          "Coat",
          "Jacket",
          "Jacket",
          "Coat",
          "Jacket",
          "Coat",
          "Coat",
          "Coat",
          "Jacket",
          "Coat",
          "Jacket",
          "Coat",
          "Coat",
          "Jacket",
          "Jacket",
          "Jacket",
          "Jacket",
          "Coat",
          "Coat",
          "Coat",
          "Coat",
          "Jacket",
          "Coat",
          "Coat",
          "Coat",
          "Coat",
          "Coat",
          "Jacket",
          "Coat",
          "Coat",
          "Coat",
          "Jacket",
          "Jacket",
          "Jacket",
          "Coat",
          "Jacket",
          "Coat",
          "Coat",
          "Coat",
          "Jacket",
          "Coat",
          "Jacket",
          "Coat",
          "Jacket",
          "Coat",
          "Coat",
          "Jacket",
          "Jacket",
          "Jacket",
          "Coat",
          "Coat",
          "Jacket",
          "Jacket",
          "Coat",
          "Jacket",
          "Jacket",
          "Jacket",
          "Jacket",
          "Jacket",
          "Coat",
          "Coat",
          "Coat",
          "Coat",
          "Jacket",
          "Coat",
          "Jacket",
          "Coat",
          "Jacket",
          "Jacket",
          "Jacket",
          "Coat",
          "Coat",
          "Coat",
          "Coat",
          "Jacket",
          "Coat",
          "Jacket",
          "Jacket",
          "Coat",
          "Coat",
          "Jacket",
          "Jacket",
          "Jacket",
          "Coat",
          "Coat",
          "Coat",
          "Jacket",
          "Coat",
          "Coat",
          "Coat",
          "Coat",
          "Coat",
          "Coat",
          "Jacket",
          "Coat",
          "Jacket",
          "Jacket",
          "Coat",
          "Coat",
          "Jacket",
          "Jacket",
          "Coat",
          "Coat",
          "Coat",
          "Coat",
          "Jacket",
          "Coat",
          "Jacket",
          "Jacket",
          "Jacket",
          "Coat",
          "Jacket",
          "Coat",
          "Coat",
          "Jacket",
          "Jacket",
          "Coat",
          "Coat",
          "Jacket",
          "Jacket",
          "Jacket",
          "Jacket",
          "Jacket",
          "Coat",
          "Jacket",
          "Jacket",
          "Coat",
          "Jacket",
          "Coat",
          "Coat",
          "Coat",
          "Jacket",
          "Coat",
          "Coat",
          "Coat",
          "Jacket",
          "Jacket",
          "Coat",
          "Coat",
          "Coat",
          "Jacket",
          "Jacket",
          "Jacket",
          "Coat",
          "Jacket",
          "Coat",
          "Jacket",
          "Jacket",
          "Jacket",
          "Jacket",
          "Jacket",
          "Jacket",
          "Coat",
          "Jacket",
          "Coat",
          "Jacket",
          "Coat",
          "Jacket",
          "Jacket",
          "Jacket",
          "Coat",
          "Coat",
          "Coat",
          "Jacket",
          "Coat",
          "Coat",
          "Coat",
          "Jacket",
          "Jacket",
          "Jacket",
          "Coat",
          "Coat",
          "Jacket",
          "Coat",
          "Coat",
          "Coat",
          "Coat",
          "Jacket",
          "Coat",
          "Coat",
          "Coat",
          "Jacket",
          "Jacket",
          "Coat",
          "Jacket",
          "Jacket",
          "Coat",
          "Jacket",
          "Jacket",
          "Jacket",
          "Jacket",
          "Jacket",
          "Coat",
          "Jacket",
          "Coat",
          "Coat",
          "Jacket",
          "Jacket",
          "Jacket",
          "Coat",
          "Coat",
          "Coat",
          "Jacket",
          "Jacket",
          "Coat",
          "Jacket",
          "Coat",
          "Jacket",
          "Jacket",
          "Jacket",
          "Jacket",
          "Jacket",
          "Coat",
          "Coat",
          "Coat",
          "Jacket",
          "Jacket",
          "Jacket",
          "Jacket",
          "Coat",
          "Jacket",
          "Jacket",
          "Jacket",
          "Jacket",
          "Jacket",
          "Coat",
          "Jacket",
          "Jacket",
          "Jacket",
          "Coat",
          "Coat",
          "Jacket",
          "Coat",
          "Coat",
          "Jacket",
          "Coat",
          "Coat",
          "Coat",
          "Coat",
          "Jacket",
          "Coat",
          "Jacket",
          "Coat",
          "Jacket",
          "Coat",
          "Coat",
          "Coat",
          "Jacket",
          "Jacket",
          "Jacket",
          "Coat",
          "Coat",
          "Jacket",
          "Jacket",
          "Coat",
          "Jacket",
          "Jacket",
          "Coat",
          "Jacket",
          "Coat",
          "Coat",
          "Coat",
          "Coat",
          "Coat",
          "Jacket",
          "Jacket",
          "Coat",
          "Coat",
          "Jacket",
          "Jacket",
          "Jacket",
          "Jacket",
          "Coat",
          "Jacket",
          "Jacket",
          "Jacket",
          "Jacket",
          "Coat",
          "Coat",
          "Jacket",
          "Coat",
          "Jacket",
          "Coat",
          "Jacket",
          "Coat",
          "Coat",
          "Coat",
          "Jacket",
          "Coat",
          "Jacket",
          "Jacket",
          "Coat",
          "Jacket",
          "Coat",
          "Jacket",
          "Jacket",
          "Coat",
          "Coat",
          "Coat",
          "Jacket",
          "Jacket",
          "Coat",
          "Coat",
          "Jacket",
          "Jacket",
          "Coat",
          "Jacket",
          "Jacket",
          "Jacket",
          "Jacket",
          "Jacket",
          "Coat",
          "Jacket"
         ],
         "xaxis": "x",
         "yaxis": "y"
        },
        {
         "bingroup": "x",
         "hovertemplate": "Category=Accessories<br>Item Purchased=%{x}<br>count=%{y}<extra></extra>",
         "legendgroup": "Accessories",
         "marker": {
          "color": "#ab63fa",
          "pattern": {
           "shape": ""
          }
         },
         "name": "Accessories",
         "orientation": "v",
         "showlegend": true,
         "type": "histogram",
         "x": [
          "Handbag",
          "Sunglasses",
          "Jewelry",
          "Handbag",
          "Jewelry",
          "Handbag",
          "Scarf",
          "Scarf",
          "Hat",
          "Jewelry",
          "Backpack",
          "Belt",
          "Scarf",
          "Sunglasses",
          "Backpack",
          "Handbag",
          "Belt",
          "Belt",
          "Gloves",
          "Scarf",
          "Hat",
          "Sunglasses",
          "Hat",
          "Scarf",
          "Gloves",
          "Sunglasses",
          "Sunglasses",
          "Backpack",
          "Backpack",
          "Belt",
          "Gloves",
          "Hat",
          "Hat",
          "Backpack",
          "Scarf",
          "Scarf",
          "Backpack",
          "Hat",
          "Gloves",
          "Jewelry",
          "Gloves",
          "Sunglasses",
          "Hat",
          "Gloves",
          "Gloves",
          "Backpack",
          "Sunglasses",
          "Handbag",
          "Handbag",
          "Gloves",
          "Jewelry",
          "Hat",
          "Backpack",
          "Gloves",
          "Backpack",
          "Hat",
          "Belt",
          "Backpack",
          "Scarf",
          "Jewelry",
          "Hat",
          "Hat",
          "Scarf",
          "Gloves",
          "Handbag",
          "Handbag",
          "Scarf",
          "Sunglasses",
          "Belt",
          "Hat",
          "Gloves",
          "Scarf",
          "Jewelry",
          "Gloves",
          "Sunglasses",
          "Jewelry",
          "Belt",
          "Sunglasses",
          "Belt",
          "Handbag",
          "Handbag",
          "Sunglasses",
          "Scarf",
          "Jewelry",
          "Handbag",
          "Gloves",
          "Hat",
          "Backpack",
          "Jewelry",
          "Sunglasses",
          "Jewelry",
          "Jewelry",
          "Backpack",
          "Belt",
          "Handbag",
          "Jewelry",
          "Scarf",
          "Handbag",
          "Sunglasses",
          "Hat",
          "Gloves",
          "Handbag",
          "Jewelry",
          "Handbag",
          "Backpack",
          "Jewelry",
          "Belt",
          "Scarf",
          "Hat",
          "Hat",
          "Hat",
          "Jewelry",
          "Jewelry",
          "Belt",
          "Hat",
          "Gloves",
          "Handbag",
          "Belt",
          "Scarf",
          "Jewelry",
          "Sunglasses",
          "Scarf",
          "Backpack",
          "Jewelry",
          "Sunglasses",
          "Jewelry",
          "Handbag",
          "Gloves",
          "Scarf",
          "Belt",
          "Scarf",
          "Backpack",
          "Gloves",
          "Jewelry",
          "Backpack",
          "Belt",
          "Scarf",
          "Backpack",
          "Hat",
          "Jewelry",
          "Belt",
          "Sunglasses",
          "Sunglasses",
          "Gloves",
          "Jewelry",
          "Jewelry",
          "Jewelry",
          "Gloves",
          "Hat",
          "Jewelry",
          "Sunglasses",
          "Backpack",
          "Backpack",
          "Scarf",
          "Scarf",
          "Jewelry",
          "Handbag",
          "Hat",
          "Belt",
          "Hat",
          "Backpack",
          "Handbag",
          "Scarf",
          "Jewelry",
          "Gloves",
          "Scarf",
          "Hat",
          "Belt",
          "Sunglasses",
          "Gloves",
          "Gloves",
          "Backpack",
          "Backpack",
          "Belt",
          "Sunglasses",
          "Gloves",
          "Scarf",
          "Jewelry",
          "Backpack",
          "Scarf",
          "Hat",
          "Belt",
          "Backpack",
          "Jewelry",
          "Hat",
          "Backpack",
          "Handbag",
          "Sunglasses",
          "Hat",
          "Scarf",
          "Backpack",
          "Scarf",
          "Hat",
          "Jewelry",
          "Gloves",
          "Backpack",
          "Backpack",
          "Backpack",
          "Sunglasses",
          "Jewelry",
          "Sunglasses",
          "Jewelry",
          "Backpack",
          "Handbag",
          "Backpack",
          "Gloves",
          "Hat",
          "Sunglasses",
          "Scarf",
          "Handbag",
          "Handbag",
          "Backpack",
          "Gloves",
          "Sunglasses",
          "Jewelry",
          "Sunglasses",
          "Hat",
          "Gloves",
          "Scarf",
          "Backpack",
          "Sunglasses",
          "Belt",
          "Scarf",
          "Handbag",
          "Backpack",
          "Scarf",
          "Jewelry",
          "Jewelry",
          "Jewelry",
          "Hat",
          "Sunglasses",
          "Sunglasses",
          "Sunglasses",
          "Sunglasses",
          "Sunglasses",
          "Hat",
          "Scarf",
          "Gloves",
          "Scarf",
          "Gloves",
          "Belt",
          "Gloves",
          "Jewelry",
          "Belt",
          "Gloves",
          "Backpack",
          "Hat",
          "Hat",
          "Handbag",
          "Scarf",
          "Hat",
          "Handbag",
          "Handbag",
          "Scarf",
          "Backpack",
          "Belt",
          "Belt",
          "Scarf",
          "Handbag",
          "Hat",
          "Handbag",
          "Sunglasses",
          "Sunglasses",
          "Belt",
          "Gloves",
          "Handbag",
          "Backpack",
          "Gloves",
          "Belt",
          "Hat",
          "Sunglasses",
          "Hat",
          "Handbag",
          "Belt",
          "Handbag",
          "Sunglasses",
          "Backpack",
          "Handbag",
          "Scarf",
          "Belt",
          "Gloves",
          "Backpack",
          "Hat",
          "Jewelry",
          "Belt",
          "Hat",
          "Scarf",
          "Hat",
          "Sunglasses",
          "Belt",
          "Belt",
          "Belt",
          "Handbag",
          "Hat",
          "Belt",
          "Hat",
          "Backpack",
          "Hat",
          "Sunglasses",
          "Hat",
          "Scarf",
          "Jewelry",
          "Sunglasses",
          "Sunglasses",
          "Belt",
          "Gloves",
          "Hat",
          "Belt",
          "Hat",
          "Handbag",
          "Scarf",
          "Handbag",
          "Sunglasses",
          "Jewelry",
          "Hat",
          "Backpack",
          "Backpack",
          "Gloves",
          "Scarf",
          "Backpack",
          "Belt",
          "Gloves",
          "Belt",
          "Scarf",
          "Handbag",
          "Sunglasses",
          "Handbag",
          "Jewelry",
          "Gloves",
          "Handbag",
          "Jewelry",
          "Belt",
          "Belt",
          "Sunglasses",
          "Scarf",
          "Hat",
          "Jewelry",
          "Hat",
          "Scarf",
          "Jewelry",
          "Sunglasses",
          "Scarf",
          "Belt",
          "Hat",
          "Backpack",
          "Jewelry",
          "Sunglasses",
          "Backpack",
          "Scarf",
          "Jewelry",
          "Jewelry",
          "Sunglasses",
          "Handbag",
          "Gloves",
          "Hat",
          "Sunglasses",
          "Hat",
          "Backpack",
          "Sunglasses",
          "Belt",
          "Jewelry",
          "Handbag",
          "Hat",
          "Scarf",
          "Gloves",
          "Jewelry",
          "Handbag",
          "Gloves",
          "Hat",
          "Jewelry",
          "Jewelry",
          "Handbag",
          "Belt",
          "Belt",
          "Handbag",
          "Scarf",
          "Scarf",
          "Backpack",
          "Jewelry",
          "Backpack",
          "Belt",
          "Jewelry",
          "Belt",
          "Hat",
          "Scarf",
          "Belt",
          "Scarf",
          "Belt",
          "Handbag",
          "Handbag",
          "Sunglasses",
          "Handbag",
          "Gloves",
          "Gloves",
          "Jewelry",
          "Hat",
          "Handbag",
          "Gloves",
          "Hat",
          "Scarf",
          "Hat",
          "Hat",
          "Jewelry",
          "Jewelry",
          "Hat",
          "Belt",
          "Gloves",
          "Gloves",
          "Belt",
          "Belt",
          "Belt",
          "Backpack",
          "Belt",
          "Sunglasses",
          "Hat",
          "Jewelry",
          "Backpack",
          "Gloves",
          "Handbag",
          "Handbag",
          "Belt",
          "Belt",
          "Sunglasses",
          "Belt",
          "Sunglasses",
          "Hat",
          "Backpack",
          "Backpack",
          "Scarf",
          "Hat",
          "Handbag",
          "Belt",
          "Belt",
          "Scarf",
          "Gloves",
          "Handbag",
          "Sunglasses",
          "Scarf",
          "Jewelry",
          "Scarf",
          "Hat",
          "Gloves",
          "Gloves",
          "Scarf",
          "Sunglasses",
          "Hat",
          "Backpack",
          "Sunglasses",
          "Backpack",
          "Jewelry",
          "Handbag",
          "Backpack",
          "Hat",
          "Belt",
          "Handbag",
          "Backpack",
          "Hat",
          "Scarf",
          "Belt",
          "Sunglasses",
          "Jewelry",
          "Belt",
          "Gloves",
          "Jewelry",
          "Gloves",
          "Jewelry",
          "Jewelry",
          "Hat",
          "Hat",
          "Belt",
          "Gloves",
          "Jewelry",
          "Gloves",
          "Jewelry",
          "Gloves",
          "Hat",
          "Jewelry",
          "Belt",
          "Jewelry",
          "Belt",
          "Gloves",
          "Belt",
          "Sunglasses",
          "Hat",
          "Backpack",
          "Belt",
          "Hat",
          "Backpack",
          "Backpack",
          "Sunglasses",
          "Belt",
          "Handbag",
          "Jewelry",
          "Belt",
          "Hat",
          "Sunglasses",
          "Handbag",
          "Backpack",
          "Sunglasses",
          "Scarf",
          "Hat",
          "Scarf",
          "Scarf",
          "Backpack",
          "Sunglasses",
          "Backpack",
          "Jewelry",
          "Jewelry",
          "Belt",
          "Scarf",
          "Belt",
          "Handbag",
          "Backpack",
          "Jewelry",
          "Hat",
          "Jewelry",
          "Sunglasses",
          "Belt",
          "Jewelry",
          "Jewelry",
          "Hat",
          "Handbag",
          "Hat",
          "Scarf",
          "Backpack",
          "Sunglasses",
          "Gloves",
          "Sunglasses",
          "Gloves",
          "Scarf",
          "Scarf",
          "Scarf",
          "Handbag",
          "Scarf",
          "Belt",
          "Belt",
          "Jewelry",
          "Gloves",
          "Gloves",
          "Sunglasses",
          "Handbag",
          "Handbag",
          "Sunglasses",
          "Gloves",
          "Handbag",
          "Handbag",
          "Hat",
          "Sunglasses",
          "Belt",
          "Handbag",
          "Backpack",
          "Jewelry",
          "Sunglasses",
          "Jewelry",
          "Scarf",
          "Sunglasses",
          "Backpack",
          "Belt",
          "Jewelry",
          "Handbag",
          "Jewelry",
          "Sunglasses",
          "Handbag",
          "Sunglasses",
          "Belt",
          "Jewelry",
          "Hat",
          "Jewelry",
          "Jewelry",
          "Backpack",
          "Belt",
          "Scarf",
          "Jewelry",
          "Handbag",
          "Backpack",
          "Gloves",
          "Gloves",
          "Hat",
          "Backpack",
          "Belt",
          "Handbag",
          "Backpack",
          "Belt",
          "Hat",
          "Sunglasses",
          "Hat",
          "Sunglasses",
          "Jewelry",
          "Jewelry",
          "Scarf",
          "Hat",
          "Gloves",
          "Handbag",
          "Scarf",
          "Gloves",
          "Jewelry",
          "Scarf",
          "Belt",
          "Gloves",
          "Backpack",
          "Gloves",
          "Gloves",
          "Scarf",
          "Backpack",
          "Jewelry",
          "Gloves",
          "Sunglasses",
          "Jewelry",
          "Sunglasses",
          "Jewelry",
          "Backpack",
          "Scarf",
          "Jewelry",
          "Backpack",
          "Backpack",
          "Gloves",
          "Backpack",
          "Sunglasses",
          "Jewelry",
          "Jewelry",
          "Gloves",
          "Hat",
          "Backpack",
          "Gloves",
          "Gloves",
          "Gloves",
          "Hat",
          "Belt",
          "Hat",
          "Backpack",
          "Gloves",
          "Handbag",
          "Sunglasses",
          "Sunglasses",
          "Scarf",
          "Gloves",
          "Belt",
          "Jewelry",
          "Backpack",
          "Sunglasses",
          "Backpack",
          "Belt",
          "Sunglasses",
          "Scarf",
          "Backpack",
          "Belt",
          "Backpack",
          "Handbag",
          "Jewelry",
          "Scarf",
          "Scarf",
          "Sunglasses",
          "Belt",
          "Jewelry",
          "Gloves",
          "Jewelry",
          "Jewelry",
          "Hat",
          "Backpack",
          "Sunglasses",
          "Handbag",
          "Backpack",
          "Belt",
          "Jewelry",
          "Jewelry",
          "Backpack",
          "Belt",
          "Scarf",
          "Gloves",
          "Scarf",
          "Sunglasses",
          "Scarf",
          "Hat",
          "Hat",
          "Gloves",
          "Jewelry",
          "Jewelry",
          "Sunglasses",
          "Belt",
          "Scarf",
          "Jewelry",
          "Scarf",
          "Backpack",
          "Backpack",
          "Hat",
          "Sunglasses",
          "Sunglasses",
          "Handbag",
          "Hat",
          "Sunglasses",
          "Scarf",
          "Handbag",
          "Handbag",
          "Gloves",
          "Handbag",
          "Gloves",
          "Backpack",
          "Belt",
          "Gloves",
          "Jewelry",
          "Handbag",
          "Belt",
          "Scarf",
          "Scarf",
          "Scarf",
          "Gloves",
          "Handbag",
          "Scarf",
          "Sunglasses",
          "Hat",
          "Belt",
          "Jewelry",
          "Sunglasses",
          "Belt",
          "Gloves",
          "Belt",
          "Scarf",
          "Gloves",
          "Jewelry",
          "Jewelry",
          "Gloves",
          "Belt",
          "Scarf",
          "Backpack",
          "Backpack",
          "Scarf",
          "Hat",
          "Gloves",
          "Hat",
          "Gloves",
          "Handbag",
          "Belt",
          "Jewelry",
          "Sunglasses",
          "Hat",
          "Gloves",
          "Handbag",
          "Belt",
          "Sunglasses",
          "Handbag",
          "Gloves",
          "Sunglasses",
          "Gloves",
          "Handbag",
          "Gloves",
          "Hat",
          "Backpack",
          "Scarf",
          "Scarf",
          "Belt",
          "Belt",
          "Handbag",
          "Backpack",
          "Scarf",
          "Handbag",
          "Scarf",
          "Sunglasses",
          "Sunglasses",
          "Gloves",
          "Backpack",
          "Gloves",
          "Scarf",
          "Hat",
          "Scarf",
          "Backpack",
          "Scarf",
          "Hat",
          "Sunglasses",
          "Sunglasses",
          "Scarf",
          "Scarf",
          "Jewelry",
          "Backpack",
          "Jewelry",
          "Backpack",
          "Jewelry",
          "Gloves",
          "Handbag",
          "Jewelry",
          "Backpack",
          "Scarf",
          "Scarf",
          "Hat",
          "Gloves",
          "Belt",
          "Handbag",
          "Scarf",
          "Hat",
          "Gloves",
          "Belt",
          "Handbag",
          "Handbag",
          "Handbag",
          "Sunglasses",
          "Backpack",
          "Scarf",
          "Backpack",
          "Gloves",
          "Handbag",
          "Backpack",
          "Handbag",
          "Hat",
          "Handbag",
          "Belt",
          "Handbag",
          "Jewelry",
          "Gloves",
          "Jewelry",
          "Sunglasses",
          "Belt",
          "Scarf",
          "Belt",
          "Scarf",
          "Jewelry",
          "Scarf",
          "Backpack",
          "Belt",
          "Jewelry",
          "Jewelry",
          "Belt",
          "Backpack",
          "Scarf",
          "Handbag",
          "Sunglasses",
          "Sunglasses",
          "Hat",
          "Sunglasses",
          "Sunglasses",
          "Scarf",
          "Backpack",
          "Gloves",
          "Jewelry",
          "Backpack",
          "Jewelry",
          "Belt",
          "Backpack",
          "Sunglasses",
          "Gloves",
          "Handbag",
          "Backpack",
          "Scarf",
          "Scarf",
          "Sunglasses",
          "Sunglasses",
          "Belt",
          "Gloves",
          "Scarf",
          "Gloves",
          "Sunglasses",
          "Handbag",
          "Jewelry",
          "Belt",
          "Sunglasses",
          "Hat",
          "Backpack",
          "Belt",
          "Backpack",
          "Handbag",
          "Belt",
          "Sunglasses",
          "Hat",
          "Scarf",
          "Backpack",
          "Sunglasses",
          "Sunglasses",
          "Scarf",
          "Hat",
          "Backpack",
          "Belt",
          "Gloves",
          "Gloves",
          "Handbag",
          "Backpack",
          "Jewelry",
          "Sunglasses",
          "Belt",
          "Gloves",
          "Sunglasses",
          "Belt",
          "Hat",
          "Hat",
          "Handbag",
          "Gloves",
          "Backpack",
          "Scarf",
          "Belt",
          "Sunglasses",
          "Gloves",
          "Handbag",
          "Gloves",
          "Scarf",
          "Jewelry",
          "Sunglasses",
          "Backpack",
          "Backpack",
          "Hat",
          "Handbag",
          "Handbag",
          "Scarf",
          "Jewelry",
          "Scarf",
          "Scarf",
          "Hat",
          "Backpack",
          "Jewelry",
          "Belt",
          "Hat",
          "Backpack",
          "Jewelry",
          "Jewelry",
          "Backpack",
          "Backpack",
          "Hat",
          "Sunglasses",
          "Belt",
          "Jewelry",
          "Scarf",
          "Sunglasses",
          "Sunglasses",
          "Backpack",
          "Belt",
          "Sunglasses",
          "Sunglasses",
          "Handbag",
          "Sunglasses",
          "Handbag",
          "Jewelry",
          "Jewelry",
          "Backpack",
          "Hat",
          "Gloves",
          "Handbag",
          "Sunglasses",
          "Handbag",
          "Belt",
          "Jewelry",
          "Jewelry",
          "Scarf",
          "Belt",
          "Jewelry",
          "Handbag",
          "Scarf",
          "Belt",
          "Jewelry",
          "Handbag",
          "Scarf",
          "Gloves",
          "Gloves",
          "Belt",
          "Belt",
          "Belt",
          "Jewelry",
          "Sunglasses",
          "Belt",
          "Sunglasses",
          "Belt",
          "Belt",
          "Belt",
          "Belt",
          "Scarf",
          "Sunglasses",
          "Sunglasses",
          "Backpack",
          "Backpack",
          "Handbag",
          "Belt",
          "Jewelry",
          "Handbag",
          "Handbag",
          "Belt",
          "Jewelry",
          "Handbag",
          "Sunglasses",
          "Gloves",
          "Backpack",
          "Handbag",
          "Backpack",
          "Sunglasses",
          "Belt",
          "Belt",
          "Jewelry",
          "Handbag",
          "Belt",
          "Belt",
          "Scarf",
          "Handbag",
          "Sunglasses",
          "Hat",
          "Hat",
          "Jewelry",
          "Handbag",
          "Belt",
          "Handbag",
          "Scarf",
          "Handbag",
          "Jewelry",
          "Sunglasses",
          "Gloves",
          "Sunglasses",
          "Gloves",
          "Sunglasses",
          "Handbag",
          "Belt",
          "Belt",
          "Belt",
          "Handbag",
          "Belt",
          "Jewelry",
          "Hat",
          "Backpack",
          "Sunglasses",
          "Jewelry",
          "Belt",
          "Handbag",
          "Sunglasses",
          "Jewelry",
          "Gloves",
          "Sunglasses",
          "Belt",
          "Gloves",
          "Handbag",
          "Scarf",
          "Jewelry",
          "Sunglasses",
          "Sunglasses",
          "Handbag",
          "Sunglasses",
          "Scarf",
          "Jewelry",
          "Belt",
          "Jewelry",
          "Belt",
          "Belt",
          "Sunglasses",
          "Handbag",
          "Gloves",
          "Backpack",
          "Backpack",
          "Sunglasses",
          "Hat",
          "Scarf",
          "Belt",
          "Sunglasses",
          "Belt",
          "Scarf",
          "Hat",
          "Handbag",
          "Scarf",
          "Hat",
          "Handbag",
          "Backpack",
          "Belt",
          "Handbag",
          "Belt",
          "Hat",
          "Belt",
          "Handbag",
          "Scarf",
          "Handbag",
          "Hat",
          "Hat",
          "Scarf",
          "Hat",
          "Handbag",
          "Gloves",
          "Backpack",
          "Sunglasses",
          "Hat",
          "Gloves",
          "Hat",
          "Handbag",
          "Jewelry",
          "Handbag",
          "Belt",
          "Sunglasses",
          "Handbag",
          "Scarf",
          "Gloves",
          "Belt",
          "Hat",
          "Handbag",
          "Hat",
          "Jewelry",
          "Scarf",
          "Sunglasses",
          "Backpack",
          "Gloves",
          "Gloves",
          "Jewelry",
          "Hat",
          "Scarf",
          "Hat",
          "Jewelry",
          "Belt",
          "Belt",
          "Gloves",
          "Handbag",
          "Hat",
          "Handbag",
          "Jewelry",
          "Jewelry",
          "Scarf",
          "Jewelry",
          "Backpack",
          "Scarf",
          "Sunglasses",
          "Handbag",
          "Handbag",
          "Gloves",
          "Gloves",
          "Scarf",
          "Handbag",
          "Backpack",
          "Handbag",
          "Jewelry",
          "Handbag",
          "Jewelry",
          "Hat",
          "Backpack",
          "Sunglasses",
          "Scarf",
          "Sunglasses",
          "Handbag",
          "Handbag",
          "Jewelry",
          "Hat",
          "Scarf",
          "Scarf",
          "Gloves",
          "Sunglasses",
          "Backpack",
          "Gloves",
          "Handbag",
          "Scarf",
          "Belt",
          "Scarf",
          "Gloves",
          "Sunglasses",
          "Belt",
          "Scarf",
          "Sunglasses",
          "Scarf",
          "Hat",
          "Gloves",
          "Hat",
          "Gloves",
          "Belt",
          "Gloves",
          "Scarf",
          "Jewelry",
          "Hat",
          "Scarf",
          "Belt",
          "Hat",
          "Hat",
          "Gloves",
          "Backpack",
          "Sunglasses",
          "Scarf",
          "Backpack",
          "Jewelry",
          "Handbag",
          "Handbag",
          "Jewelry",
          "Backpack",
          "Jewelry",
          "Handbag",
          "Handbag",
          "Hat",
          "Jewelry",
          "Backpack",
          "Sunglasses",
          "Gloves",
          "Sunglasses",
          "Jewelry",
          "Backpack",
          "Handbag",
          "Sunglasses",
          "Gloves",
          "Jewelry",
          "Hat",
          "Hat",
          "Sunglasses",
          "Hat",
          "Gloves",
          "Belt",
          "Hat",
          "Jewelry",
          "Sunglasses",
          "Backpack",
          "Jewelry",
          "Sunglasses",
          "Backpack",
          "Jewelry",
          "Handbag",
          "Gloves",
          "Gloves",
          "Belt",
          "Gloves",
          "Hat",
          "Handbag",
          "Sunglasses",
          "Scarf",
          "Sunglasses",
          "Scarf",
          "Gloves",
          "Sunglasses",
          "Jewelry",
          "Scarf",
          "Handbag",
          "Hat",
          "Scarf",
          "Belt",
          "Hat",
          "Scarf",
          "Belt",
          "Hat",
          "Jewelry",
          "Hat",
          "Backpack",
          "Hat",
          "Jewelry",
          "Jewelry",
          "Scarf",
          "Hat",
          "Sunglasses",
          "Hat",
          "Sunglasses",
          "Scarf",
          "Hat",
          "Hat",
          "Hat",
          "Scarf",
          "Hat",
          "Jewelry",
          "Jewelry",
          "Hat",
          "Backpack",
          "Belt",
          "Handbag"
         ],
         "xaxis": "x",
         "yaxis": "y"
        }
       ],
       "layout": {
        "barmode": "relative",
        "legend": {
         "title": {
          "text": "Category"
         },
         "tracegroupgap": 0
        },
        "margin": {
         "t": 60
        },
        "template": {
         "data": {
          "bar": [
           {
            "error_x": {
             "color": "#2a3f5f"
            },
            "error_y": {
             "color": "#2a3f5f"
            },
            "marker": {
             "line": {
              "color": "#E5ECF6",
              "width": 0.5
             },
             "pattern": {
              "fillmode": "overlay",
              "size": 10,
              "solidity": 0.2
             }
            },
            "type": "bar"
           }
          ],
          "barpolar": [
           {
            "marker": {
             "line": {
              "color": "#E5ECF6",
              "width": 0.5
             },
             "pattern": {
              "fillmode": "overlay",
              "size": 10,
              "solidity": 0.2
             }
            },
            "type": "barpolar"
           }
          ],
          "carpet": [
           {
            "aaxis": {
             "endlinecolor": "#2a3f5f",
             "gridcolor": "white",
             "linecolor": "white",
             "minorgridcolor": "white",
             "startlinecolor": "#2a3f5f"
            },
            "baxis": {
             "endlinecolor": "#2a3f5f",
             "gridcolor": "white",
             "linecolor": "white",
             "minorgridcolor": "white",
             "startlinecolor": "#2a3f5f"
            },
            "type": "carpet"
           }
          ],
          "choropleth": [
           {
            "colorbar": {
             "outlinewidth": 0,
             "ticks": ""
            },
            "type": "choropleth"
           }
          ],
          "contour": [
           {
            "colorbar": {
             "outlinewidth": 0,
             "ticks": ""
            },
            "colorscale": [
             [
              0,
              "#0d0887"
             ],
             [
              0.1111111111111111,
              "#46039f"
             ],
             [
              0.2222222222222222,
              "#7201a8"
             ],
             [
              0.3333333333333333,
              "#9c179e"
             ],
             [
              0.4444444444444444,
              "#bd3786"
             ],
             [
              0.5555555555555556,
              "#d8576b"
             ],
             [
              0.6666666666666666,
              "#ed7953"
             ],
             [
              0.7777777777777778,
              "#fb9f3a"
             ],
             [
              0.8888888888888888,
              "#fdca26"
             ],
             [
              1,
              "#f0f921"
             ]
            ],
            "type": "contour"
           }
          ],
          "contourcarpet": [
           {
            "colorbar": {
             "outlinewidth": 0,
             "ticks": ""
            },
            "type": "contourcarpet"
           }
          ],
          "heatmap": [
           {
            "colorbar": {
             "outlinewidth": 0,
             "ticks": ""
            },
            "colorscale": [
             [
              0,
              "#0d0887"
             ],
             [
              0.1111111111111111,
              "#46039f"
             ],
             [
              0.2222222222222222,
              "#7201a8"
             ],
             [
              0.3333333333333333,
              "#9c179e"
             ],
             [
              0.4444444444444444,
              "#bd3786"
             ],
             [
              0.5555555555555556,
              "#d8576b"
             ],
             [
              0.6666666666666666,
              "#ed7953"
             ],
             [
              0.7777777777777778,
              "#fb9f3a"
             ],
             [
              0.8888888888888888,
              "#fdca26"
             ],
             [
              1,
              "#f0f921"
             ]
            ],
            "type": "heatmap"
           }
          ],
          "histogram": [
           {
            "marker": {
             "pattern": {
              "fillmode": "overlay",
              "size": 10,
              "solidity": 0.2
             }
            },
            "type": "histogram"
           }
          ],
          "histogram2d": [
           {
            "colorbar": {
             "outlinewidth": 0,
             "ticks": ""
            },
            "colorscale": [
             [
              0,
              "#0d0887"
             ],
             [
              0.1111111111111111,
              "#46039f"
             ],
             [
              0.2222222222222222,
              "#7201a8"
             ],
             [
              0.3333333333333333,
              "#9c179e"
             ],
             [
              0.4444444444444444,
              "#bd3786"
             ],
             [
              0.5555555555555556,
              "#d8576b"
             ],
             [
              0.6666666666666666,
              "#ed7953"
             ],
             [
              0.7777777777777778,
              "#fb9f3a"
             ],
             [
              0.8888888888888888,
              "#fdca26"
             ],
             [
              1,
              "#f0f921"
             ]
            ],
            "type": "histogram2d"
           }
          ],
          "histogram2dcontour": [
           {
            "colorbar": {
             "outlinewidth": 0,
             "ticks": ""
            },
            "colorscale": [
             [
              0,
              "#0d0887"
             ],
             [
              0.1111111111111111,
              "#46039f"
             ],
             [
              0.2222222222222222,
              "#7201a8"
             ],
             [
              0.3333333333333333,
              "#9c179e"
             ],
             [
              0.4444444444444444,
              "#bd3786"
             ],
             [
              0.5555555555555556,
              "#d8576b"
             ],
             [
              0.6666666666666666,
              "#ed7953"
             ],
             [
              0.7777777777777778,
              "#fb9f3a"
             ],
             [
              0.8888888888888888,
              "#fdca26"
             ],
             [
              1,
              "#f0f921"
             ]
            ],
            "type": "histogram2dcontour"
           }
          ],
          "mesh3d": [
           {
            "colorbar": {
             "outlinewidth": 0,
             "ticks": ""
            },
            "type": "mesh3d"
           }
          ],
          "parcoords": [
           {
            "line": {
             "colorbar": {
              "outlinewidth": 0,
              "ticks": ""
             }
            },
            "type": "parcoords"
           }
          ],
          "pie": [
           {
            "automargin": true,
            "type": "pie"
           }
          ],
          "scatter": [
           {
            "fillpattern": {
             "fillmode": "overlay",
             "size": 10,
             "solidity": 0.2
            },
            "type": "scatter"
           }
          ],
          "scatter3d": [
           {
            "line": {
             "colorbar": {
              "outlinewidth": 0,
              "ticks": ""
             }
            },
            "marker": {
             "colorbar": {
              "outlinewidth": 0,
              "ticks": ""
             }
            },
            "type": "scatter3d"
           }
          ],
          "scattercarpet": [
           {
            "marker": {
             "colorbar": {
              "outlinewidth": 0,
              "ticks": ""
             }
            },
            "type": "scattercarpet"
           }
          ],
          "scattergeo": [
           {
            "marker": {
             "colorbar": {
              "outlinewidth": 0,
              "ticks": ""
             }
            },
            "type": "scattergeo"
           }
          ],
          "scattergl": [
           {
            "marker": {
             "colorbar": {
              "outlinewidth": 0,
              "ticks": ""
             }
            },
            "type": "scattergl"
           }
          ],
          "scattermap": [
           {
            "marker": {
             "colorbar": {
              "outlinewidth": 0,
              "ticks": ""
             }
            },
            "type": "scattermap"
           }
          ],
          "scattermapbox": [
           {
            "marker": {
             "colorbar": {
              "outlinewidth": 0,
              "ticks": ""
             }
            },
            "type": "scattermapbox"
           }
          ],
          "scatterpolar": [
           {
            "marker": {
             "colorbar": {
              "outlinewidth": 0,
              "ticks": ""
             }
            },
            "type": "scatterpolar"
           }
          ],
          "scatterpolargl": [
           {
            "marker": {
             "colorbar": {
              "outlinewidth": 0,
              "ticks": ""
             }
            },
            "type": "scatterpolargl"
           }
          ],
          "scatterternary": [
           {
            "marker": {
             "colorbar": {
              "outlinewidth": 0,
              "ticks": ""
             }
            },
            "type": "scatterternary"
           }
          ],
          "surface": [
           {
            "colorbar": {
             "outlinewidth": 0,
             "ticks": ""
            },
            "colorscale": [
             [
              0,
              "#0d0887"
             ],
             [
              0.1111111111111111,
              "#46039f"
             ],
             [
              0.2222222222222222,
              "#7201a8"
             ],
             [
              0.3333333333333333,
              "#9c179e"
             ],
             [
              0.4444444444444444,
              "#bd3786"
             ],
             [
              0.5555555555555556,
              "#d8576b"
             ],
             [
              0.6666666666666666,
              "#ed7953"
             ],
             [
              0.7777777777777778,
              "#fb9f3a"
             ],
             [
              0.8888888888888888,
              "#fdca26"
             ],
             [
              1,
              "#f0f921"
             ]
            ],
            "type": "surface"
           }
          ],
          "table": [
           {
            "cells": {
             "fill": {
              "color": "#EBF0F8"
             },
             "line": {
              "color": "white"
             }
            },
            "header": {
             "fill": {
              "color": "#C8D4E3"
             },
             "line": {
              "color": "white"
             }
            },
            "type": "table"
           }
          ]
         },
         "layout": {
          "annotationdefaults": {
           "arrowcolor": "#2a3f5f",
           "arrowhead": 0,
           "arrowwidth": 1
          },
          "autotypenumbers": "strict",
          "coloraxis": {
           "colorbar": {
            "outlinewidth": 0,
            "ticks": ""
           }
          },
          "colorscale": {
           "diverging": [
            [
             0,
             "#8e0152"
            ],
            [
             0.1,
             "#c51b7d"
            ],
            [
             0.2,
             "#de77ae"
            ],
            [
             0.3,
             "#f1b6da"
            ],
            [
             0.4,
             "#fde0ef"
            ],
            [
             0.5,
             "#f7f7f7"
            ],
            [
             0.6,
             "#e6f5d0"
            ],
            [
             0.7,
             "#b8e186"
            ],
            [
             0.8,
             "#7fbc41"
            ],
            [
             0.9,
             "#4d9221"
            ],
            [
             1,
             "#276419"
            ]
           ],
           "sequential": [
            [
             0,
             "#0d0887"
            ],
            [
             0.1111111111111111,
             "#46039f"
            ],
            [
             0.2222222222222222,
             "#7201a8"
            ],
            [
             0.3333333333333333,
             "#9c179e"
            ],
            [
             0.4444444444444444,
             "#bd3786"
            ],
            [
             0.5555555555555556,
             "#d8576b"
            ],
            [
             0.6666666666666666,
             "#ed7953"
            ],
            [
             0.7777777777777778,
             "#fb9f3a"
            ],
            [
             0.8888888888888888,
             "#fdca26"
            ],
            [
             1,
             "#f0f921"
            ]
           ],
           "sequentialminus": [
            [
             0,
             "#0d0887"
            ],
            [
             0.1111111111111111,
             "#46039f"
            ],
            [
             0.2222222222222222,
             "#7201a8"
            ],
            [
             0.3333333333333333,
             "#9c179e"
            ],
            [
             0.4444444444444444,
             "#bd3786"
            ],
            [
             0.5555555555555556,
             "#d8576b"
            ],
            [
             0.6666666666666666,
             "#ed7953"
            ],
            [
             0.7777777777777778,
             "#fb9f3a"
            ],
            [
             0.8888888888888888,
             "#fdca26"
            ],
            [
             1,
             "#f0f921"
            ]
           ]
          },
          "colorway": [
           "#636efa",
           "#EF553B",
           "#00cc96",
           "#ab63fa",
           "#FFA15A",
           "#19d3f3",
           "#FF6692",
           "#B6E880",
           "#FF97FF",
           "#FECB52"
          ],
          "font": {
           "color": "#2a3f5f"
          },
          "geo": {
           "bgcolor": "white",
           "lakecolor": "white",
           "landcolor": "#E5ECF6",
           "showlakes": true,
           "showland": true,
           "subunitcolor": "white"
          },
          "hoverlabel": {
           "align": "left"
          },
          "hovermode": "closest",
          "mapbox": {
           "style": "light"
          },
          "paper_bgcolor": "white",
          "plot_bgcolor": "#E5ECF6",
          "polar": {
           "angularaxis": {
            "gridcolor": "white",
            "linecolor": "white",
            "ticks": ""
           },
           "bgcolor": "#E5ECF6",
           "radialaxis": {
            "gridcolor": "white",
            "linecolor": "white",
            "ticks": ""
           }
          },
          "scene": {
           "xaxis": {
            "backgroundcolor": "#E5ECF6",
            "gridcolor": "white",
            "gridwidth": 2,
            "linecolor": "white",
            "showbackground": true,
            "ticks": "",
            "zerolinecolor": "white"
           },
           "yaxis": {
            "backgroundcolor": "#E5ECF6",
            "gridcolor": "white",
            "gridwidth": 2,
            "linecolor": "white",
            "showbackground": true,
            "ticks": "",
            "zerolinecolor": "white"
           },
           "zaxis": {
            "backgroundcolor": "#E5ECF6",
            "gridcolor": "white",
            "gridwidth": 2,
            "linecolor": "white",
            "showbackground": true,
            "ticks": "",
            "zerolinecolor": "white"
           }
          },
          "shapedefaults": {
           "line": {
            "color": "#2a3f5f"
           }
          },
          "ternary": {
           "aaxis": {
            "gridcolor": "white",
            "linecolor": "white",
            "ticks": ""
           },
           "baxis": {
            "gridcolor": "white",
            "linecolor": "white",
            "ticks": ""
           },
           "bgcolor": "#E5ECF6",
           "caxis": {
            "gridcolor": "white",
            "linecolor": "white",
            "ticks": ""
           }
          },
          "title": {
           "x": 0.05
          },
          "xaxis": {
           "automargin": true,
           "gridcolor": "white",
           "linecolor": "white",
           "ticks": "",
           "title": {
            "standoff": 15
           },
           "zerolinecolor": "white",
           "zerolinewidth": 2
          },
          "yaxis": {
           "automargin": true,
           "gridcolor": "white",
           "linecolor": "white",
           "ticks": "",
           "title": {
            "standoff": 15
           },
           "zerolinecolor": "white",
           "zerolinewidth": 2
          }
         }
        },
        "xaxis": {
         "anchor": "y",
         "domain": [
          0,
          1
         ],
         "title": {
          "text": "Item Purchased"
         }
        },
        "yaxis": {
         "anchor": "x",
         "domain": [
          0,
          1
         ],
         "title": {
          "text": "count"
         }
        }
       }
      }
     },
     "metadata": {},
     "output_type": "display_data"
    }
   ],
   "source": [
    "fig=px.histogram(shop, x='Item Purchased', color='Category')\n",
    "fig.show()"
   ]
  },
  {
   "cell_type": "markdown",
   "metadata": {},
   "source": [
    "5. Are there any seasons or months where customer spending is significantly higher?"
   ]
  },
  {
   "cell_type": "code",
   "execution_count": 74,
   "metadata": {},
   "outputs": [
    {
     "data": {
      "text/plain": [
       "array(['Winter', 'Spring', 'Summer', 'Fall'], dtype=object)"
      ]
     },
     "execution_count": 74,
     "metadata": {},
     "output_type": "execute_result"
    }
   ],
   "source": [
    "shop['Season'].unique()"
   ]
  },
  {
   "cell_type": "code",
   "execution_count": 75,
   "metadata": {},
   "outputs": [
    {
     "data": {
      "text/plain": [
       "Season\n",
       "Spring    999\n",
       "Fall      975\n",
       "Winter    971\n",
       "Summer    955\n",
       "Name: count, dtype: int64"
      ]
     },
     "execution_count": 75,
     "metadata": {},
     "output_type": "execute_result"
    }
   ],
   "source": [
    "shop['Season'].value_counts()"
   ]
  },
  {
   "cell_type": "code",
   "execution_count": 76,
   "metadata": {},
   "outputs": [
    {
     "data": {
      "application/vnd.plotly.v1+json": {
       "config": {
        "plotlyServerURL": "https://plot.ly"
       },
       "data": [
        {
         "bingroup": "x",
         "hovertemplate": "Season=%{x}<br>count=%{y}<extra></extra>",
         "legendgroup": "",
         "marker": {
          "color": "#636efa",
          "pattern": {
           "shape": ""
          }
         },
         "name": "",
         "orientation": "v",
         "showlegend": false,
         "type": "histogram",
         "x": [
          "Winter",
          "Winter",
          "Spring",
          "Spring",
          "Spring",
          "Summer",
          "Fall",
          "Winter",
          "Summer",
          "Spring",
          "Fall",
          "Winter",
          "Winter",
          "Spring",
          "Winter",
          "Winter",
          "Spring",
          "Winter",
          "Summer",
          "Summer",
          "Winter",
          "Winter",
          "Summer",
          "Winter",
          "Fall",
          "Summer",
          "Spring",
          "Summer",
          "Fall",
          "Fall",
          "Winter",
          "Winter",
          "Summer",
          "Summer",
          "Spring",
          "Summer",
          "Winter",
          "Summer",
          "Winter",
          "Summer",
          "Winter",
          "Spring",
          "Spring",
          "Fall",
          "Summer",
          "Fall",
          "Summer",
          "Winter",
          "Summer",
          "Spring",
          "Spring",
          "Winter",
          "Summer",
          "Winter",
          "Summer",
          "Winter",
          "Summer",
          "Summer",
          "Summer",
          "Spring",
          "Summer",
          "Winter",
          "Spring",
          "Winter",
          "Fall",
          "Spring",
          "Winter",
          "Winter",
          "Summer",
          "Summer",
          "Fall",
          "Summer",
          "Winter",
          "Spring",
          "Spring",
          "Summer",
          "Summer",
          "Summer",
          "Spring",
          "Winter",
          "Summer",
          "Summer",
          "Spring",
          "Summer",
          "Spring",
          "Winter",
          "Spring",
          "Fall",
          "Fall",
          "Fall",
          "Summer",
          "Winter",
          "Winter",
          "Fall",
          "Spring",
          "Fall",
          "Spring",
          "Winter",
          "Spring",
          "Summer",
          "Fall",
          "Spring",
          "Winter",
          "Winter",
          "Spring",
          "Fall",
          "Summer",
          "Winter",
          "Spring",
          "Spring",
          "Summer",
          "Summer",
          "Spring",
          "Winter",
          "Summer",
          "Spring",
          "Spring",
          "Summer",
          "Fall",
          "Fall",
          "Summer",
          "Winter",
          "Spring",
          "Fall",
          "Spring",
          "Winter",
          "Spring",
          "Winter",
          "Spring",
          "Summer",
          "Fall",
          "Summer",
          "Fall",
          "Winter",
          "Fall",
          "Fall",
          "Winter",
          "Spring",
          "Winter",
          "Fall",
          "Fall",
          "Fall",
          "Fall",
          "Fall",
          "Fall",
          "Fall",
          "Fall",
          "Summer",
          "Fall",
          "Summer",
          "Fall",
          "Fall",
          "Summer",
          "Winter",
          "Fall",
          "Spring",
          "Fall",
          "Fall",
          "Fall",
          "Fall",
          "Summer",
          "Fall",
          "Summer",
          "Summer",
          "Spring",
          "Winter",
          "Fall",
          "Fall",
          "Summer",
          "Summer",
          "Fall",
          "Summer",
          "Summer",
          "Fall",
          "Winter",
          "Fall",
          "Spring",
          "Fall",
          "Fall",
          "Fall",
          "Fall",
          "Summer",
          "Summer",
          "Spring",
          "Spring",
          "Summer",
          "Summer",
          "Spring",
          "Spring",
          "Fall",
          "Fall",
          "Fall",
          "Summer",
          "Fall",
          "Spring",
          "Fall",
          "Summer",
          "Fall",
          "Winter",
          "Summer",
          "Summer",
          "Fall",
          "Spring",
          "Fall",
          "Fall",
          "Winter",
          "Summer",
          "Summer",
          "Spring",
          "Winter",
          "Fall",
          "Fall",
          "Fall",
          "Fall",
          "Summer",
          "Spring",
          "Spring",
          "Winter",
          "Spring",
          "Spring",
          "Spring",
          "Summer",
          "Spring",
          "Spring",
          "Summer",
          "Spring",
          "Spring",
          "Winter",
          "Spring",
          "Spring",
          "Fall",
          "Spring",
          "Winter",
          "Fall",
          "Summer",
          "Winter",
          "Winter",
          "Summer",
          "Fall",
          "Summer",
          "Winter",
          "Winter",
          "Summer",
          "Winter",
          "Spring",
          "Summer",
          "Spring",
          "Spring",
          "Winter",
          "Fall",
          "Fall",
          "Winter",
          "Summer",
          "Winter",
          "Winter",
          "Spring",
          "Spring",
          "Summer",
          "Spring",
          "Fall",
          "Winter",
          "Winter",
          "Summer",
          "Summer",
          "Fall",
          "Spring",
          "Summer",
          "Spring",
          "Spring",
          "Winter",
          "Fall",
          "Summer",
          "Summer",
          "Spring",
          "Spring",
          "Winter",
          "Fall",
          "Winter",
          "Spring",
          "Summer",
          "Fall",
          "Spring",
          "Summer",
          "Fall",
          "Summer",
          "Summer",
          "Summer",
          "Spring",
          "Winter",
          "Fall",
          "Winter",
          "Fall",
          "Spring",
          "Spring",
          "Spring",
          "Winter",
          "Spring",
          "Summer",
          "Winter",
          "Summer",
          "Spring",
          "Spring",
          "Summer",
          "Summer",
          "Winter",
          "Fall",
          "Summer",
          "Winter",
          "Fall",
          "Spring",
          "Winter",
          "Winter",
          "Spring",
          "Spring",
          "Summer",
          "Spring",
          "Fall",
          "Fall",
          "Winter",
          "Spring",
          "Summer",
          "Summer",
          "Winter",
          "Winter",
          "Summer",
          "Winter",
          "Fall",
          "Summer",
          "Fall",
          "Summer",
          "Winter",
          "Fall",
          "Winter",
          "Winter",
          "Fall",
          "Spring",
          "Fall",
          "Winter",
          "Winter",
          "Spring",
          "Summer",
          "Summer",
          "Spring",
          "Summer",
          "Winter",
          "Winter",
          "Spring",
          "Fall",
          "Fall",
          "Winter",
          "Spring",
          "Winter",
          "Fall",
          "Fall",
          "Fall",
          "Fall",
          "Spring",
          "Spring",
          "Summer",
          "Winter",
          "Summer",
          "Spring",
          "Fall",
          "Winter",
          "Summer",
          "Summer",
          "Spring",
          "Spring",
          "Spring",
          "Summer",
          "Winter",
          "Winter",
          "Summer",
          "Summer",
          "Spring",
          "Summer",
          "Fall",
          "Spring",
          "Winter",
          "Fall",
          "Fall",
          "Winter",
          "Winter",
          "Fall",
          "Fall",
          "Fall",
          "Spring",
          "Summer",
          "Summer",
          "Spring",
          "Winter",
          "Spring",
          "Spring",
          "Fall",
          "Spring",
          "Winter",
          "Fall",
          "Fall",
          "Winter",
          "Fall",
          "Winter",
          "Fall",
          "Fall",
          "Winter",
          "Spring",
          "Summer",
          "Spring",
          "Spring",
          "Spring",
          "Winter",
          "Spring",
          "Summer",
          "Summer",
          "Summer",
          "Winter",
          "Winter",
          "Spring",
          "Fall",
          "Spring",
          "Winter",
          "Spring",
          "Winter",
          "Fall",
          "Spring",
          "Winter",
          "Winter",
          "Winter",
          "Winter",
          "Winter",
          "Winter",
          "Summer",
          "Winter",
          "Fall",
          "Fall",
          "Spring",
          "Winter",
          "Summer",
          "Summer",
          "Winter",
          "Summer",
          "Winter",
          "Winter",
          "Fall",
          "Summer",
          "Summer",
          "Fall",
          "Summer",
          "Spring",
          "Summer",
          "Summer",
          "Summer",
          "Summer",
          "Summer",
          "Winter",
          "Summer",
          "Fall",
          "Fall",
          "Spring",
          "Winter",
          "Winter",
          "Summer",
          "Winter",
          "Fall",
          "Summer",
          "Winter",
          "Summer",
          "Winter",
          "Spring",
          "Fall",
          "Fall",
          "Summer",
          "Winter",
          "Winter",
          "Spring",
          "Summer",
          "Summer",
          "Spring",
          "Summer",
          "Winter",
          "Winter",
          "Summer",
          "Fall",
          "Winter",
          "Fall",
          "Summer",
          "Spring",
          "Fall",
          "Winter",
          "Spring",
          "Summer",
          "Winter",
          "Summer",
          "Fall",
          "Summer",
          "Winter",
          "Fall",
          "Fall",
          "Winter",
          "Spring",
          "Winter",
          "Fall",
          "Spring",
          "Fall",
          "Summer",
          "Winter",
          "Spring",
          "Fall",
          "Spring",
          "Winter",
          "Summer",
          "Fall",
          "Fall",
          "Winter",
          "Fall",
          "Winter",
          "Spring",
          "Fall",
          "Fall",
          "Fall",
          "Summer",
          "Spring",
          "Winter",
          "Spring",
          "Spring",
          "Summer",
          "Spring",
          "Winter",
          "Winter",
          "Winter",
          "Fall",
          "Winter",
          "Fall",
          "Winter",
          "Spring",
          "Fall",
          "Spring",
          "Fall",
          "Summer",
          "Spring",
          "Winter",
          "Spring",
          "Fall",
          "Spring",
          "Spring",
          "Summer",
          "Summer",
          "Winter",
          "Winter",
          "Winter",
          "Fall",
          "Summer",
          "Fall",
          "Fall",
          "Winter",
          "Summer",
          "Fall",
          "Winter",
          "Spring",
          "Fall",
          "Fall",
          "Fall",
          "Fall",
          "Summer",
          "Fall",
          "Winter",
          "Fall",
          "Spring",
          "Winter",
          "Summer",
          "Fall",
          "Fall",
          "Spring",
          "Summer",
          "Summer",
          "Fall",
          "Fall",
          "Winter",
          "Fall",
          "Fall",
          "Winter",
          "Spring",
          "Winter",
          "Spring",
          "Spring",
          "Spring",
          "Fall",
          "Winter",
          "Fall",
          "Fall",
          "Fall",
          "Fall",
          "Fall",
          "Fall",
          "Winter",
          "Winter",
          "Summer",
          "Summer",
          "Summer",
          "Winter",
          "Spring",
          "Spring",
          "Summer",
          "Summer",
          "Winter",
          "Fall",
          "Winter",
          "Spring",
          "Fall",
          "Fall",
          "Fall",
          "Summer",
          "Winter",
          "Fall",
          "Fall",
          "Winter",
          "Summer",
          "Spring",
          "Fall",
          "Spring",
          "Summer",
          "Fall",
          "Fall",
          "Spring",
          "Fall",
          "Fall",
          "Fall",
          "Spring",
          "Winter",
          "Fall",
          "Spring",
          "Fall",
          "Summer",
          "Winter",
          "Spring",
          "Summer",
          "Fall",
          "Summer",
          "Winter",
          "Summer",
          "Spring",
          "Summer",
          "Winter",
          "Spring",
          "Winter",
          "Summer",
          "Summer",
          "Spring",
          "Summer",
          "Winter",
          "Spring",
          "Spring",
          "Summer",
          "Winter",
          "Winter",
          "Summer",
          "Fall",
          "Summer",
          "Winter",
          "Fall",
          "Spring",
          "Fall",
          "Fall",
          "Fall",
          "Fall",
          "Winter",
          "Spring",
          "Winter",
          "Winter",
          "Fall",
          "Spring",
          "Spring",
          "Winter",
          "Winter",
          "Spring",
          "Winter",
          "Spring",
          "Winter",
          "Summer",
          "Fall",
          "Fall",
          "Spring",
          "Winter",
          "Summer",
          "Winter",
          "Summer",
          "Winter",
          "Fall",
          "Winter",
          "Summer",
          "Summer",
          "Spring",
          "Summer",
          "Spring",
          "Spring",
          "Fall",
          "Summer",
          "Fall",
          "Summer",
          "Winter",
          "Fall",
          "Winter",
          "Fall",
          "Winter",
          "Summer",
          "Spring",
          "Summer",
          "Summer",
          "Spring",
          "Summer",
          "Summer",
          "Spring",
          "Spring",
          "Summer",
          "Summer",
          "Fall",
          "Spring",
          "Spring",
          "Spring",
          "Summer",
          "Summer",
          "Fall",
          "Summer",
          "Summer",
          "Fall",
          "Fall",
          "Winter",
          "Summer",
          "Winter",
          "Winter",
          "Summer",
          "Summer",
          "Spring",
          "Spring",
          "Fall",
          "Winter",
          "Fall",
          "Spring",
          "Spring",
          "Winter",
          "Summer",
          "Summer",
          "Summer",
          "Summer",
          "Fall",
          "Spring",
          "Fall",
          "Winter",
          "Spring",
          "Fall",
          "Winter",
          "Fall",
          "Fall",
          "Fall",
          "Fall",
          "Spring",
          "Spring",
          "Summer",
          "Fall",
          "Summer",
          "Winter",
          "Fall",
          "Fall",
          "Fall",
          "Spring",
          "Fall",
          "Summer",
          "Winter",
          "Fall",
          "Spring",
          "Spring",
          "Spring",
          "Fall",
          "Fall",
          "Winter",
          "Summer",
          "Winter",
          "Spring",
          "Spring",
          "Summer",
          "Spring",
          "Spring",
          "Winter",
          "Summer",
          "Winter",
          "Winter",
          "Spring",
          "Winter",
          "Spring",
          "Summer",
          "Fall",
          "Summer",
          "Summer",
          "Spring",
          "Summer",
          "Winter",
          "Summer",
          "Fall",
          "Fall",
          "Spring",
          "Summer",
          "Summer",
          "Fall",
          "Winter",
          "Winter",
          "Summer",
          "Summer",
          "Summer",
          "Winter",
          "Fall",
          "Fall",
          "Fall",
          "Winter",
          "Summer",
          "Summer",
          "Winter",
          "Spring",
          "Summer",
          "Spring",
          "Winter",
          "Winter",
          "Spring",
          "Spring",
          "Winter",
          "Winter",
          "Spring",
          "Fall",
          "Winter",
          "Fall",
          "Fall",
          "Spring",
          "Fall",
          "Summer",
          "Fall",
          "Fall",
          "Summer",
          "Summer",
          "Winter",
          "Spring",
          "Spring",
          "Spring",
          "Summer",
          "Summer",
          "Spring",
          "Summer",
          "Winter",
          "Winter",
          "Spring",
          "Fall",
          "Fall",
          "Spring",
          "Winter",
          "Summer",
          "Spring",
          "Winter",
          "Spring",
          "Spring",
          "Summer",
          "Fall",
          "Fall",
          "Winter",
          "Spring",
          "Spring",
          "Winter",
          "Summer",
          "Winter",
          "Winter",
          "Summer",
          "Spring",
          "Summer",
          "Spring",
          "Fall",
          "Spring",
          "Spring",
          "Summer",
          "Fall",
          "Summer",
          "Summer",
          "Winter",
          "Summer",
          "Spring",
          "Spring",
          "Summer",
          "Fall",
          "Fall",
          "Winter",
          "Fall",
          "Summer",
          "Winter",
          "Spring",
          "Fall",
          "Spring",
          "Summer",
          "Summer",
          "Spring",
          "Spring",
          "Spring",
          "Spring",
          "Spring",
          "Spring",
          "Summer",
          "Fall",
          "Summer",
          "Summer",
          "Winter",
          "Spring",
          "Spring",
          "Spring",
          "Winter",
          "Winter",
          "Fall",
          "Spring",
          "Winter",
          "Winter",
          "Fall",
          "Summer",
          "Winter",
          "Spring",
          "Spring",
          "Spring",
          "Winter",
          "Summer",
          "Summer",
          "Fall",
          "Spring",
          "Winter",
          "Winter",
          "Spring",
          "Summer",
          "Winter",
          "Fall",
          "Fall",
          "Winter",
          "Winter",
          "Spring",
          "Spring",
          "Fall",
          "Summer",
          "Summer",
          "Fall",
          "Winter",
          "Spring",
          "Winter",
          "Winter",
          "Winter",
          "Spring",
          "Summer",
          "Spring",
          "Winter",
          "Summer",
          "Summer",
          "Winter",
          "Summer",
          "Fall",
          "Spring",
          "Fall",
          "Summer",
          "Spring",
          "Spring",
          "Winter",
          "Spring",
          "Spring",
          "Fall",
          "Spring",
          "Spring",
          "Spring",
          "Spring",
          "Spring",
          "Summer",
          "Summer",
          "Fall",
          "Winter",
          "Summer",
          "Winter",
          "Fall",
          "Spring",
          "Summer",
          "Fall",
          "Spring",
          "Summer",
          "Fall",
          "Spring",
          "Spring",
          "Summer",
          "Winter",
          "Summer",
          "Fall",
          "Spring",
          "Summer",
          "Winter",
          "Spring",
          "Spring",
          "Spring",
          "Winter",
          "Winter",
          "Fall",
          "Spring",
          "Summer",
          "Spring",
          "Spring",
          "Spring",
          "Winter",
          "Fall",
          "Spring",
          "Fall",
          "Summer",
          "Winter",
          "Summer",
          "Spring",
          "Spring",
          "Summer",
          "Spring",
          "Spring",
          "Summer",
          "Summer",
          "Summer",
          "Summer",
          "Summer",
          "Fall",
          "Spring",
          "Winter",
          "Fall",
          "Winter",
          "Winter",
          "Winter",
          "Summer",
          "Winter",
          "Winter",
          "Summer",
          "Summer",
          "Spring",
          "Winter",
          "Spring",
          "Fall",
          "Spring",
          "Fall",
          "Fall",
          "Fall",
          "Spring",
          "Fall",
          "Fall",
          "Fall",
          "Summer",
          "Spring",
          "Spring",
          "Summer",
          "Fall",
          "Winter",
          "Fall",
          "Fall",
          "Fall",
          "Winter",
          "Fall",
          "Fall",
          "Spring",
          "Winter",
          "Spring",
          "Winter",
          "Spring",
          "Summer",
          "Winter",
          "Summer",
          "Summer",
          "Fall",
          "Summer",
          "Spring",
          "Spring",
          "Winter",
          "Summer",
          "Fall",
          "Fall",
          "Summer",
          "Summer",
          "Fall",
          "Spring",
          "Fall",
          "Summer",
          "Spring",
          "Winter",
          "Fall",
          "Summer",
          "Fall",
          "Spring",
          "Winter",
          "Summer",
          "Fall",
          "Winter",
          "Winter",
          "Winter",
          "Winter",
          "Spring",
          "Spring",
          "Spring",
          "Spring",
          "Winter",
          "Winter",
          "Summer",
          "Fall",
          "Summer",
          "Spring",
          "Fall",
          "Spring",
          "Fall",
          "Fall",
          "Spring",
          "Fall",
          "Spring",
          "Winter",
          "Fall",
          "Fall",
          "Winter",
          "Fall",
          "Summer",
          "Spring",
          "Summer",
          "Fall",
          "Fall",
          "Winter",
          "Spring",
          "Summer",
          "Spring",
          "Winter",
          "Fall",
          "Spring",
          "Fall",
          "Spring",
          "Summer",
          "Winter",
          "Spring",
          "Winter",
          "Winter",
          "Summer",
          "Spring",
          "Spring",
          "Winter",
          "Summer",
          "Winter",
          "Summer",
          "Winter",
          "Summer",
          "Spring",
          "Winter",
          "Winter",
          "Spring",
          "Winter",
          "Fall",
          "Summer",
          "Summer",
          "Winter",
          "Spring",
          "Spring",
          "Winter",
          "Spring",
          "Fall",
          "Summer",
          "Spring",
          "Fall",
          "Summer",
          "Fall",
          "Summer",
          "Fall",
          "Summer",
          "Fall",
          "Winter",
          "Summer",
          "Winter",
          "Winter",
          "Winter",
          "Summer",
          "Summer",
          "Fall",
          "Spring",
          "Spring",
          "Spring",
          "Winter",
          "Winter",
          "Spring",
          "Winter",
          "Spring",
          "Spring",
          "Summer",
          "Spring",
          "Summer",
          "Spring",
          "Spring",
          "Fall",
          "Spring",
          "Summer",
          "Fall",
          "Summer",
          "Summer",
          "Winter",
          "Winter",
          "Summer",
          "Fall",
          "Winter",
          "Winter",
          "Winter",
          "Fall",
          "Summer",
          "Fall",
          "Winter",
          "Summer",
          "Spring",
          "Winter",
          "Spring",
          "Spring",
          "Fall",
          "Summer",
          "Winter",
          "Winter",
          "Fall",
          "Spring",
          "Summer",
          "Spring",
          "Fall",
          "Winter",
          "Summer",
          "Fall",
          "Spring",
          "Winter",
          "Winter",
          "Winter",
          "Fall",
          "Winter",
          "Summer",
          "Fall",
          "Fall",
          "Spring",
          "Winter",
          "Winter",
          "Spring",
          "Spring",
          "Summer",
          "Winter",
          "Fall",
          "Spring",
          "Summer",
          "Spring",
          "Winter",
          "Spring",
          "Winter",
          "Winter",
          "Summer",
          "Spring",
          "Summer",
          "Fall",
          "Winter",
          "Spring",
          "Winter",
          "Winter",
          "Winter",
          "Spring",
          "Fall",
          "Winter",
          "Spring",
          "Fall",
          "Winter",
          "Spring",
          "Spring",
          "Fall",
          "Spring",
          "Summer",
          "Winter",
          "Winter",
          "Winter",
          "Spring",
          "Fall",
          "Spring",
          "Winter",
          "Spring",
          "Fall",
          "Spring",
          "Winter",
          "Spring",
          "Spring",
          "Fall",
          "Spring",
          "Spring",
          "Fall",
          "Fall",
          "Winter",
          "Spring",
          "Winter",
          "Winter",
          "Spring",
          "Fall",
          "Winter",
          "Winter",
          "Winter",
          "Fall",
          "Spring",
          "Spring",
          "Summer",
          "Fall",
          "Summer",
          "Fall",
          "Spring",
          "Summer",
          "Summer",
          "Fall",
          "Spring",
          "Fall",
          "Fall",
          "Summer",
          "Spring",
          "Spring",
          "Winter",
          "Summer",
          "Summer",
          "Summer",
          "Winter",
          "Fall",
          "Winter",
          "Summer",
          "Summer",
          "Spring",
          "Spring",
          "Spring",
          "Spring",
          "Spring",
          "Fall",
          "Winter",
          "Winter",
          "Spring",
          "Summer",
          "Summer",
          "Spring",
          "Winter",
          "Winter",
          "Fall",
          "Fall",
          "Spring",
          "Spring",
          "Winter",
          "Spring",
          "Fall",
          "Spring",
          "Spring",
          "Winter",
          "Winter",
          "Fall",
          "Fall",
          "Summer",
          "Spring",
          "Fall",
          "Fall",
          "Winter",
          "Summer",
          "Spring",
          "Spring",
          "Fall",
          "Summer",
          "Spring",
          "Winter",
          "Spring",
          "Summer",
          "Spring",
          "Summer",
          "Spring",
          "Winter",
          "Fall",
          "Fall",
          "Fall",
          "Summer",
          "Fall",
          "Winter",
          "Fall",
          "Fall",
          "Summer",
          "Winter",
          "Summer",
          "Spring",
          "Fall",
          "Winter",
          "Fall",
          "Spring",
          "Spring",
          "Spring",
          "Fall",
          "Fall",
          "Winter",
          "Winter",
          "Winter",
          "Spring",
          "Fall",
          "Fall",
          "Fall",
          "Winter",
          "Spring",
          "Fall",
          "Summer",
          "Winter",
          "Spring",
          "Spring",
          "Fall",
          "Spring",
          "Winter",
          "Summer",
          "Summer",
          "Winter",
          "Fall",
          "Fall",
          "Summer",
          "Spring",
          "Winter",
          "Winter",
          "Spring",
          "Spring",
          "Winter",
          "Spring",
          "Summer",
          "Summer",
          "Summer",
          "Fall",
          "Summer",
          "Winter",
          "Summer",
          "Spring",
          "Summer",
          "Summer",
          "Summer",
          "Spring",
          "Fall",
          "Fall",
          "Fall",
          "Winter",
          "Summer",
          "Summer",
          "Summer",
          "Fall",
          "Summer",
          "Fall",
          "Winter",
          "Winter",
          "Summer",
          "Fall",
          "Winter",
          "Winter",
          "Spring",
          "Summer",
          "Spring",
          "Summer",
          "Spring",
          "Fall",
          "Fall",
          "Fall",
          "Summer",
          "Summer",
          "Summer",
          "Winter",
          "Winter",
          "Fall",
          "Spring",
          "Winter",
          "Winter",
          "Fall",
          "Spring",
          "Spring",
          "Spring",
          "Winter",
          "Fall",
          "Summer",
          "Summer",
          "Summer",
          "Winter",
          "Winter",
          "Summer",
          "Winter",
          "Fall",
          "Winter",
          "Spring",
          "Spring",
          "Spring",
          "Fall",
          "Fall",
          "Spring",
          "Fall",
          "Summer",
          "Summer",
          "Spring",
          "Fall",
          "Spring",
          "Spring",
          "Summer",
          "Summer",
          "Spring",
          "Spring",
          "Summer",
          "Winter",
          "Summer",
          "Spring",
          "Summer",
          "Summer",
          "Fall",
          "Spring",
          "Winter",
          "Winter",
          "Spring",
          "Summer",
          "Fall",
          "Summer",
          "Spring",
          "Summer",
          "Fall",
          "Winter",
          "Summer",
          "Fall",
          "Winter",
          "Spring",
          "Summer",
          "Fall",
          "Winter",
          "Winter",
          "Spring",
          "Winter",
          "Fall",
          "Winter",
          "Spring",
          "Winter",
          "Fall",
          "Summer",
          "Summer",
          "Spring",
          "Summer",
          "Summer",
          "Winter",
          "Summer",
          "Fall",
          "Spring",
          "Winter",
          "Spring",
          "Spring",
          "Winter",
          "Summer",
          "Summer",
          "Fall",
          "Summer",
          "Spring",
          "Fall",
          "Spring",
          "Winter",
          "Winter",
          "Winter",
          "Fall",
          "Spring",
          "Winter",
          "Summer",
          "Summer",
          "Summer",
          "Spring",
          "Summer",
          "Summer",
          "Spring",
          "Spring",
          "Winter",
          "Winter",
          "Fall",
          "Fall",
          "Fall",
          "Fall",
          "Winter",
          "Summer",
          "Winter",
          "Fall",
          "Summer",
          "Fall",
          "Winter",
          "Spring",
          "Spring",
          "Summer",
          "Winter",
          "Winter",
          "Summer",
          "Summer",
          "Spring",
          "Spring",
          "Spring",
          "Spring",
          "Winter",
          "Summer",
          "Summer",
          "Fall",
          "Spring",
          "Summer",
          "Spring",
          "Fall",
          "Fall",
          "Summer",
          "Winter",
          "Summer",
          "Winter",
          "Winter",
          "Summer",
          "Spring",
          "Summer",
          "Spring",
          "Fall",
          "Winter",
          "Fall",
          "Winter",
          "Spring",
          "Spring",
          "Winter",
          "Summer",
          "Summer",
          "Winter",
          "Spring",
          "Fall",
          "Fall",
          "Fall",
          "Spring",
          "Winter",
          "Summer",
          "Summer",
          "Summer",
          "Fall",
          "Spring",
          "Winter",
          "Summer",
          "Winter",
          "Winter",
          "Summer",
          "Winter",
          "Summer",
          "Winter",
          "Winter",
          "Summer",
          "Winter",
          "Winter",
          "Spring",
          "Summer",
          "Summer",
          "Summer",
          "Spring",
          "Summer",
          "Summer",
          "Fall",
          "Spring",
          "Spring",
          "Summer",
          "Spring",
          "Summer",
          "Spring",
          "Summer",
          "Summer",
          "Summer",
          "Summer",
          "Summer",
          "Summer",
          "Summer",
          "Winter",
          "Winter",
          "Summer",
          "Winter",
          "Spring",
          "Spring",
          "Spring",
          "Spring",
          "Spring",
          "Fall",
          "Winter",
          "Summer",
          "Winter",
          "Summer",
          "Spring",
          "Fall",
          "Summer",
          "Winter",
          "Summer",
          "Winter",
          "Fall",
          "Winter",
          "Fall",
          "Fall",
          "Winter",
          "Spring",
          "Winter",
          "Summer",
          "Summer",
          "Fall",
          "Summer",
          "Winter",
          "Fall",
          "Spring",
          "Spring",
          "Winter",
          "Fall",
          "Winter",
          "Winter",
          "Winter",
          "Summer",
          "Summer",
          "Winter",
          "Fall",
          "Summer",
          "Fall",
          "Spring",
          "Fall",
          "Winter",
          "Spring",
          "Fall",
          "Winter",
          "Summer",
          "Spring",
          "Summer",
          "Summer",
          "Spring",
          "Fall",
          "Spring",
          "Winter",
          "Fall",
          "Spring",
          "Fall",
          "Winter",
          "Summer",
          "Spring",
          "Winter",
          "Summer",
          "Winter",
          "Winter",
          "Winter",
          "Spring",
          "Summer",
          "Spring",
          "Winter",
          "Spring",
          "Summer",
          "Spring",
          "Fall",
          "Winter",
          "Fall",
          "Fall",
          "Winter",
          "Summer",
          "Spring",
          "Winter",
          "Summer",
          "Summer",
          "Spring",
          "Winter",
          "Fall",
          "Winter",
          "Spring",
          "Winter",
          "Winter",
          "Winter",
          "Summer",
          "Winter",
          "Winter",
          "Fall",
          "Fall",
          "Winter",
          "Winter",
          "Fall",
          "Fall",
          "Spring",
          "Fall",
          "Fall",
          "Winter",
          "Spring",
          "Spring",
          "Fall",
          "Summer",
          "Winter",
          "Summer",
          "Spring",
          "Winter",
          "Fall",
          "Summer",
          "Winter",
          "Fall",
          "Fall",
          "Summer",
          "Summer",
          "Spring",
          "Spring",
          "Summer",
          "Winter",
          "Winter",
          "Winter",
          "Summer",
          "Fall",
          "Fall",
          "Winter",
          "Summer",
          "Fall",
          "Spring",
          "Fall",
          "Summer",
          "Spring",
          "Summer",
          "Winter",
          "Fall",
          "Fall",
          "Spring",
          "Fall",
          "Spring",
          "Spring",
          "Winter",
          "Fall",
          "Winter",
          "Spring",
          "Winter",
          "Summer",
          "Winter",
          "Spring",
          "Fall",
          "Summer",
          "Spring",
          "Fall",
          "Fall",
          "Summer",
          "Summer",
          "Spring",
          "Summer",
          "Winter",
          "Summer",
          "Summer",
          "Fall",
          "Spring",
          "Fall",
          "Spring",
          "Summer",
          "Fall",
          "Winter",
          "Winter",
          "Winter",
          "Spring",
          "Spring",
          "Spring",
          "Winter",
          "Summer",
          "Fall",
          "Spring",
          "Summer",
          "Fall",
          "Fall",
          "Winter",
          "Fall",
          "Winter",
          "Winter",
          "Winter",
          "Summer",
          "Fall",
          "Spring",
          "Winter",
          "Summer",
          "Summer",
          "Winter",
          "Winter",
          "Winter",
          "Fall",
          "Winter",
          "Spring",
          "Spring",
          "Spring",
          "Summer",
          "Summer",
          "Spring",
          "Summer",
          "Summer",
          "Fall",
          "Winter",
          "Spring",
          "Fall",
          "Summer",
          "Winter",
          "Fall",
          "Spring",
          "Spring",
          "Spring",
          "Fall",
          "Summer",
          "Fall",
          "Fall",
          "Winter",
          "Fall",
          "Fall",
          "Summer",
          "Spring",
          "Fall",
          "Winter",
          "Winter",
          "Spring",
          "Summer",
          "Winter",
          "Spring",
          "Fall",
          "Winter",
          "Spring",
          "Spring",
          "Summer",
          "Fall",
          "Summer",
          "Fall",
          "Fall",
          "Fall",
          "Winter",
          "Fall",
          "Winter",
          "Summer",
          "Winter",
          "Spring",
          "Summer",
          "Spring",
          "Summer",
          "Spring",
          "Fall",
          "Winter",
          "Spring",
          "Fall",
          "Spring",
          "Winter",
          "Winter",
          "Fall",
          "Fall",
          "Winter",
          "Winter",
          "Summer",
          "Summer",
          "Spring",
          "Fall",
          "Summer",
          "Summer",
          "Fall",
          "Winter",
          "Spring",
          "Summer",
          "Summer",
          "Fall",
          "Spring",
          "Spring",
          "Spring",
          "Summer",
          "Winter",
          "Spring",
          "Summer",
          "Summer",
          "Spring",
          "Winter",
          "Fall",
          "Winter",
          "Fall",
          "Summer",
          "Winter",
          "Winter",
          "Summer",
          "Summer",
          "Winter",
          "Winter",
          "Summer",
          "Summer",
          "Summer",
          "Spring",
          "Winter",
          "Winter",
          "Winter",
          "Spring",
          "Winter",
          "Fall",
          "Summer",
          "Summer",
          "Fall",
          "Spring",
          "Summer",
          "Fall",
          "Winter",
          "Fall",
          "Spring",
          "Winter",
          "Spring",
          "Spring",
          "Summer",
          "Fall",
          "Winter",
          "Fall",
          "Spring",
          "Summer",
          "Spring",
          "Spring",
          "Winter",
          "Summer",
          "Summer",
          "Summer",
          "Summer",
          "Spring",
          "Summer",
          "Summer",
          "Winter",
          "Spring",
          "Spring",
          "Summer",
          "Winter",
          "Spring",
          "Fall",
          "Spring",
          "Summer",
          "Fall",
          "Fall",
          "Winter",
          "Winter",
          "Winter",
          "Summer",
          "Spring",
          "Fall",
          "Winter",
          "Fall",
          "Summer",
          "Spring",
          "Summer",
          "Summer",
          "Spring",
          "Fall",
          "Winter",
          "Summer",
          "Summer",
          "Winter",
          "Winter",
          "Fall",
          "Winter",
          "Winter",
          "Winter",
          "Winter",
          "Winter",
          "Fall",
          "Summer",
          "Winter",
          "Fall",
          "Fall",
          "Spring",
          "Summer",
          "Spring",
          "Winter",
          "Summer",
          "Spring",
          "Summer",
          "Winter",
          "Summer",
          "Spring",
          "Spring",
          "Spring",
          "Winter",
          "Spring",
          "Summer",
          "Spring",
          "Fall",
          "Winter",
          "Summer",
          "Winter",
          "Fall",
          "Summer",
          "Spring",
          "Winter",
          "Spring",
          "Spring",
          "Fall",
          "Spring",
          "Spring",
          "Winter",
          "Spring",
          "Fall",
          "Summer",
          "Fall",
          "Fall",
          "Summer",
          "Spring",
          "Fall",
          "Fall",
          "Summer",
          "Fall",
          "Spring",
          "Fall",
          "Winter",
          "Winter",
          "Summer",
          "Fall",
          "Fall",
          "Fall",
          "Spring",
          "Summer",
          "Fall",
          "Spring",
          "Summer",
          "Fall",
          "Summer",
          "Fall",
          "Summer",
          "Summer",
          "Spring",
          "Spring",
          "Winter",
          "Fall",
          "Fall",
          "Spring",
          "Spring",
          "Fall",
          "Summer",
          "Winter",
          "Summer",
          "Summer",
          "Spring",
          "Winter",
          "Spring",
          "Summer",
          "Spring",
          "Spring",
          "Fall",
          "Winter",
          "Winter",
          "Fall",
          "Spring",
          "Spring",
          "Fall",
          "Spring",
          "Winter",
          "Winter",
          "Summer",
          "Summer",
          "Fall",
          "Spring",
          "Fall",
          "Winter",
          "Fall",
          "Spring",
          "Fall",
          "Fall",
          "Winter",
          "Spring",
          "Fall",
          "Fall",
          "Summer",
          "Fall",
          "Fall",
          "Summer",
          "Winter",
          "Winter",
          "Summer",
          "Winter",
          "Fall",
          "Winter",
          "Fall",
          "Winter",
          "Winter",
          "Fall",
          "Winter",
          "Winter",
          "Summer",
          "Fall",
          "Winter",
          "Winter",
          "Spring",
          "Fall",
          "Summer",
          "Fall",
          "Spring",
          "Fall",
          "Winter",
          "Winter",
          "Spring",
          "Fall",
          "Winter",
          "Summer",
          "Summer",
          "Spring",
          "Winter",
          "Summer",
          "Spring",
          "Winter",
          "Spring",
          "Fall",
          "Fall",
          "Summer",
          "Fall",
          "Summer",
          "Spring",
          "Spring",
          "Winter",
          "Winter",
          "Summer",
          "Fall",
          "Summer",
          "Fall",
          "Winter",
          "Spring",
          "Spring",
          "Winter",
          "Winter",
          "Spring",
          "Winter",
          "Fall",
          "Spring",
          "Summer",
          "Winter",
          "Spring",
          "Summer",
          "Fall",
          "Spring",
          "Summer",
          "Summer",
          "Summer",
          "Summer",
          "Spring",
          "Summer",
          "Winter",
          "Winter",
          "Fall",
          "Spring",
          "Fall",
          "Summer",
          "Summer",
          "Summer",
          "Winter",
          "Winter",
          "Fall",
          "Fall",
          "Winter",
          "Winter",
          "Fall",
          "Winter",
          "Fall",
          "Fall",
          "Fall",
          "Summer",
          "Fall",
          "Winter",
          "Spring",
          "Spring",
          "Summer",
          "Fall",
          "Fall",
          "Spring",
          "Fall",
          "Spring",
          "Summer",
          "Winter",
          "Spring",
          "Winter",
          "Summer",
          "Winter",
          "Summer",
          "Winter",
          "Summer",
          "Spring",
          "Winter",
          "Summer",
          "Fall",
          "Fall",
          "Summer",
          "Winter",
          "Spring",
          "Summer",
          "Fall",
          "Summer",
          "Spring",
          "Winter",
          "Spring",
          "Fall",
          "Fall",
          "Winter",
          "Spring",
          "Fall",
          "Spring",
          "Winter",
          "Winter",
          "Summer",
          "Fall",
          "Fall",
          "Spring",
          "Spring",
          "Fall",
          "Spring",
          "Summer",
          "Spring",
          "Winter",
          "Spring",
          "Winter",
          "Summer",
          "Summer",
          "Fall",
          "Spring",
          "Summer",
          "Summer",
          "Fall",
          "Winter",
          "Fall",
          "Summer",
          "Spring",
          "Summer",
          "Fall",
          "Fall",
          "Winter",
          "Spring",
          "Spring",
          "Fall",
          "Winter",
          "Spring",
          "Fall",
          "Summer",
          "Spring",
          "Summer",
          "Summer",
          "Winter",
          "Summer",
          "Spring",
          "Winter",
          "Summer",
          "Winter",
          "Fall",
          "Winter",
          "Fall",
          "Spring",
          "Spring",
          "Summer",
          "Summer",
          "Winter",
          "Winter",
          "Winter",
          "Summer",
          "Spring",
          "Winter",
          "Spring",
          "Winter",
          "Spring",
          "Winter",
          "Winter",
          "Summer",
          "Winter",
          "Winter",
          "Fall",
          "Spring",
          "Summer",
          "Spring",
          "Fall",
          "Spring",
          "Summer",
          "Summer",
          "Winter",
          "Fall",
          "Fall",
          "Spring",
          "Summer",
          "Summer",
          "Fall",
          "Summer",
          "Fall",
          "Winter",
          "Winter",
          "Fall",
          "Spring",
          "Fall",
          "Winter",
          "Fall",
          "Fall",
          "Fall",
          "Summer",
          "Winter",
          "Summer",
          "Fall",
          "Spring",
          "Spring",
          "Fall",
          "Spring",
          "Fall",
          "Winter",
          "Winter",
          "Winter",
          "Winter",
          "Winter",
          "Summer",
          "Winter",
          "Spring",
          "Winter",
          "Spring",
          "Spring",
          "Winter",
          "Fall",
          "Spring",
          "Fall",
          "Summer",
          "Spring",
          "Fall",
          "Summer",
          "Spring",
          "Spring",
          "Winter",
          "Fall",
          "Summer",
          "Summer",
          "Fall",
          "Spring",
          "Winter",
          "Winter",
          "Spring",
          "Winter",
          "Fall",
          "Winter",
          "Spring",
          "Fall",
          "Winter",
          "Spring",
          "Winter",
          "Winter",
          "Winter",
          "Fall",
          "Winter",
          "Fall",
          "Winter",
          "Summer",
          "Fall",
          "Spring",
          "Summer",
          "Summer",
          "Winter",
          "Fall",
          "Summer",
          "Fall",
          "Summer",
          "Fall",
          "Fall",
          "Fall",
          "Winter",
          "Spring",
          "Winter",
          "Summer",
          "Winter",
          "Summer",
          "Fall",
          "Spring",
          "Spring",
          "Summer",
          "Summer",
          "Fall",
          "Winter",
          "Spring",
          "Spring",
          "Fall",
          "Fall",
          "Winter",
          "Winter",
          "Summer",
          "Spring",
          "Fall",
          "Winter",
          "Spring",
          "Fall",
          "Summer",
          "Spring",
          "Fall",
          "Fall",
          "Fall",
          "Fall",
          "Fall",
          "Winter",
          "Spring",
          "Winter",
          "Spring",
          "Winter",
          "Fall",
          "Fall",
          "Fall",
          "Winter",
          "Summer",
          "Spring",
          "Summer",
          "Winter",
          "Spring",
          "Summer",
          "Spring",
          "Winter",
          "Fall",
          "Fall",
          "Spring",
          "Summer",
          "Winter",
          "Fall",
          "Summer",
          "Summer",
          "Spring",
          "Winter",
          "Fall",
          "Summer",
          "Fall",
          "Winter",
          "Fall",
          "Summer",
          "Spring",
          "Spring",
          "Spring",
          "Summer",
          "Winter",
          "Spring",
          "Spring",
          "Summer",
          "Fall",
          "Winter",
          "Spring",
          "Summer",
          "Summer",
          "Fall",
          "Summer",
          "Fall",
          "Fall",
          "Spring",
          "Summer",
          "Winter",
          "Summer",
          "Spring",
          "Fall",
          "Spring",
          "Spring",
          "Winter",
          "Summer",
          "Summer",
          "Winter",
          "Spring",
          "Summer",
          "Spring",
          "Spring",
          "Fall",
          "Spring",
          "Summer",
          "Fall",
          "Winter",
          "Spring",
          "Spring",
          "Winter",
          "Spring",
          "Fall",
          "Fall",
          "Spring",
          "Spring",
          "Summer",
          "Summer",
          "Summer",
          "Fall",
          "Winter",
          "Spring",
          "Summer",
          "Summer",
          "Fall",
          "Summer",
          "Spring",
          "Winter",
          "Spring",
          "Spring",
          "Spring",
          "Summer",
          "Summer",
          "Winter",
          "Fall",
          "Fall",
          "Winter",
          "Spring",
          "Summer",
          "Summer",
          "Fall",
          "Fall",
          "Spring",
          "Fall",
          "Winter",
          "Spring",
          "Spring",
          "Spring",
          "Winter",
          "Winter",
          "Fall",
          "Fall",
          "Spring",
          "Winter",
          "Spring",
          "Spring",
          "Winter",
          "Fall",
          "Summer",
          "Summer",
          "Fall",
          "Winter",
          "Fall",
          "Fall",
          "Summer",
          "Summer",
          "Winter",
          "Fall",
          "Fall",
          "Summer",
          "Fall",
          "Winter",
          "Winter",
          "Summer",
          "Winter",
          "Summer",
          "Spring",
          "Summer",
          "Fall",
          "Fall",
          "Summer",
          "Spring",
          "Summer",
          "Fall",
          "Winter",
          "Fall",
          "Winter",
          "Fall",
          "Spring",
          "Spring",
          "Spring",
          "Spring",
          "Spring",
          "Fall",
          "Summer",
          "Spring",
          "Fall",
          "Winter",
          "Fall",
          "Spring",
          "Fall",
          "Spring",
          "Spring",
          "Fall",
          "Winter",
          "Winter",
          "Winter",
          "Spring",
          "Fall",
          "Summer",
          "Summer",
          "Fall",
          "Fall",
          "Summer",
          "Winter",
          "Spring",
          "Summer",
          "Fall",
          "Fall",
          "Summer",
          "Spring",
          "Winter",
          "Spring",
          "Spring",
          "Winter",
          "Summer",
          "Winter",
          "Summer",
          "Spring",
          "Spring",
          "Spring",
          "Summer",
          "Summer",
          "Spring",
          "Fall",
          "Summer",
          "Summer",
          "Summer",
          "Fall",
          "Fall",
          "Summer",
          "Winter",
          "Summer",
          "Summer",
          "Summer",
          "Spring",
          "Fall",
          "Summer",
          "Fall",
          "Winter",
          "Winter",
          "Winter",
          "Summer",
          "Summer",
          "Spring",
          "Fall",
          "Winter",
          "Spring",
          "Summer",
          "Fall",
          "Winter",
          "Spring",
          "Spring",
          "Spring",
          "Spring",
          "Fall",
          "Summer",
          "Winter",
          "Summer",
          "Summer",
          "Winter",
          "Winter",
          "Fall",
          "Spring",
          "Fall",
          "Summer",
          "Winter",
          "Spring",
          "Summer",
          "Spring",
          "Fall",
          "Spring",
          "Winter",
          "Summer",
          "Fall",
          "Winter",
          "Summer",
          "Fall",
          "Winter",
          "Spring",
          "Spring",
          "Spring",
          "Fall",
          "Summer",
          "Winter",
          "Summer",
          "Spring",
          "Fall",
          "Fall",
          "Winter",
          "Winter",
          "Spring",
          "Winter",
          "Winter",
          "Fall",
          "Spring",
          "Spring",
          "Spring",
          "Summer",
          "Spring",
          "Summer",
          "Winter",
          "Winter",
          "Winter",
          "Summer",
          "Winter",
          "Summer",
          "Winter",
          "Summer",
          "Summer",
          "Spring",
          "Spring",
          "Spring",
          "Summer",
          "Winter",
          "Summer",
          "Fall",
          "Spring",
          "Fall",
          "Winter",
          "Summer",
          "Fall",
          "Winter",
          "Spring",
          "Spring",
          "Spring",
          "Fall",
          "Winter",
          "Spring",
          "Summer",
          "Winter",
          "Winter",
          "Fall",
          "Summer",
          "Summer",
          "Fall",
          "Fall",
          "Fall",
          "Fall",
          "Spring",
          "Summer",
          "Winter",
          "Spring",
          "Spring",
          "Fall",
          "Fall",
          "Summer",
          "Spring",
          "Spring",
          "Fall",
          "Fall",
          "Fall",
          "Fall",
          "Spring",
          "Winter",
          "Winter",
          "Spring",
          "Spring",
          "Spring",
          "Winter",
          "Summer",
          "Spring",
          "Spring",
          "Summer",
          "Fall",
          "Spring",
          "Fall",
          "Winter",
          "Spring",
          "Fall",
          "Winter",
          "Winter",
          "Winter",
          "Winter",
          "Spring",
          "Fall",
          "Winter",
          "Fall",
          "Winter",
          "Spring",
          "Fall",
          "Spring",
          "Spring",
          "Spring",
          "Summer",
          "Summer",
          "Fall",
          "Fall",
          "Summer",
          "Winter",
          "Fall",
          "Spring",
          "Winter",
          "Fall",
          "Spring",
          "Summer",
          "Summer",
          "Fall",
          "Summer",
          "Fall",
          "Winter",
          "Fall",
          "Fall",
          "Fall",
          "Fall",
          "Spring",
          "Winter",
          "Summer",
          "Fall",
          "Fall",
          "Winter",
          "Winter",
          "Summer",
          "Fall",
          "Summer",
          "Spring",
          "Winter",
          "Fall",
          "Summer",
          "Summer",
          "Summer",
          "Fall",
          "Winter",
          "Fall",
          "Spring",
          "Spring",
          "Summer",
          "Spring",
          "Winter",
          "Fall",
          "Winter",
          "Winter",
          "Spring",
          "Summer",
          "Fall",
          "Spring",
          "Fall",
          "Summer",
          "Fall",
          "Fall",
          "Fall",
          "Summer",
          "Summer",
          "Winter",
          "Summer",
          "Winter",
          "Summer",
          "Fall",
          "Spring",
          "Summer",
          "Fall",
          "Spring",
          "Summer",
          "Summer",
          "Winter",
          "Winter",
          "Winter",
          "Winter",
          "Spring",
          "Summer",
          "Summer",
          "Spring",
          "Winter",
          "Spring",
          "Fall",
          "Winter",
          "Winter",
          "Spring",
          "Spring",
          "Spring",
          "Summer",
          "Summer",
          "Fall",
          "Summer",
          "Spring",
          "Winter",
          "Winter",
          "Spring",
          "Spring",
          "Spring",
          "Winter",
          "Spring",
          "Summer",
          "Winter",
          "Winter",
          "Summer",
          "Fall",
          "Winter",
          "Winter",
          "Fall",
          "Fall",
          "Winter",
          "Winter",
          "Fall",
          "Winter",
          "Spring",
          "Fall",
          "Winter",
          "Spring",
          "Winter",
          "Spring",
          "Winter",
          "Summer",
          "Spring",
          "Winter",
          "Spring",
          "Fall",
          "Spring",
          "Summer",
          "Fall",
          "Spring",
          "Spring",
          "Spring",
          "Fall",
          "Winter",
          "Summer",
          "Spring",
          "Summer",
          "Spring",
          "Summer",
          "Summer",
          "Spring",
          "Spring",
          "Winter",
          "Spring",
          "Winter",
          "Fall",
          "Spring",
          "Summer",
          "Winter",
          "Winter",
          "Fall",
          "Fall",
          "Summer",
          "Summer",
          "Spring",
          "Fall",
          "Fall",
          "Spring",
          "Fall",
          "Summer",
          "Fall",
          "Summer",
          "Fall",
          "Fall",
          "Winter",
          "Fall",
          "Fall",
          "Summer",
          "Summer",
          "Winter",
          "Summer",
          "Winter",
          "Spring",
          "Fall",
          "Fall",
          "Winter",
          "Summer",
          "Winter",
          "Spring",
          "Summer",
          "Summer",
          "Winter",
          "Spring",
          "Summer",
          "Fall",
          "Summer",
          "Spring",
          "Spring",
          "Winter",
          "Summer",
          "Spring",
          "Spring",
          "Summer",
          "Winter",
          "Winter",
          "Summer",
          "Fall",
          "Fall",
          "Winter",
          "Spring",
          "Summer",
          "Winter",
          "Winter",
          "Winter",
          "Winter",
          "Summer",
          "Fall",
          "Summer",
          "Spring",
          "Spring",
          "Summer",
          "Summer",
          "Summer",
          "Winter",
          "Fall",
          "Summer",
          "Fall",
          "Summer",
          "Spring",
          "Summer",
          "Fall",
          "Winter",
          "Summer",
          "Summer",
          "Spring",
          "Summer",
          "Summer",
          "Spring",
          "Spring",
          "Spring",
          "Spring",
          "Summer",
          "Summer",
          "Spring",
          "Fall",
          "Winter",
          "Winter",
          "Fall",
          "Winter",
          "Winter",
          "Spring",
          "Fall",
          "Summer",
          "Summer",
          "Spring",
          "Summer",
          "Spring",
          "Winter",
          "Summer",
          "Fall",
          "Spring",
          "Spring",
          "Winter",
          "Spring",
          "Summer",
          "Fall",
          "Fall",
          "Winter",
          "Winter",
          "Fall",
          "Summer",
          "Spring",
          "Winter",
          "Spring",
          "Fall",
          "Spring",
          "Spring",
          "Winter",
          "Winter",
          "Winter",
          "Summer",
          "Spring",
          "Spring",
          "Fall",
          "Spring",
          "Winter",
          "Spring",
          "Summer",
          "Spring",
          "Winter",
          "Summer",
          "Spring",
          "Spring",
          "Fall",
          "Summer",
          "Winter",
          "Fall",
          "Summer",
          "Summer",
          "Fall",
          "Winter",
          "Fall",
          "Summer",
          "Fall",
          "Winter",
          "Summer",
          "Summer",
          "Winter",
          "Summer",
          "Fall",
          "Winter",
          "Winter",
          "Fall",
          "Winter",
          "Fall",
          "Spring",
          "Fall",
          "Summer",
          "Spring",
          "Fall",
          "Spring",
          "Fall",
          "Summer",
          "Winter",
          "Fall",
          "Fall",
          "Fall",
          "Fall",
          "Summer",
          "Spring",
          "Winter",
          "Winter",
          "Fall",
          "Summer",
          "Summer",
          "Fall",
          "Summer",
          "Spring",
          "Spring",
          "Spring",
          "Fall",
          "Spring",
          "Fall",
          "Winter",
          "Summer",
          "Winter",
          "Winter",
          "Summer",
          "Spring",
          "Spring",
          "Winter",
          "Winter",
          "Fall",
          "Winter",
          "Spring",
          "Fall",
          "Fall",
          "Fall",
          "Winter",
          "Fall",
          "Winter",
          "Fall",
          "Winter",
          "Winter",
          "Fall",
          "Winter",
          "Winter",
          "Summer",
          "Winter",
          "Spring",
          "Winter",
          "Fall",
          "Spring",
          "Fall",
          "Spring",
          "Spring",
          "Fall",
          "Summer",
          "Winter",
          "Fall",
          "Spring",
          "Fall",
          "Spring",
          "Spring",
          "Fall",
          "Summer",
          "Fall",
          "Winter",
          "Spring",
          "Fall",
          "Winter",
          "Winter",
          "Winter",
          "Summer",
          "Fall",
          "Winter",
          "Fall",
          "Winter",
          "Summer",
          "Spring",
          "Winter",
          "Spring",
          "Winter",
          "Winter",
          "Spring",
          "Fall",
          "Fall",
          "Spring",
          "Fall",
          "Fall",
          "Winter",
          "Summer",
          "Winter",
          "Fall",
          "Summer",
          "Winter",
          "Winter",
          "Winter",
          "Spring",
          "Summer",
          "Winter",
          "Fall",
          "Fall",
          "Summer",
          "Fall",
          "Winter",
          "Fall",
          "Spring",
          "Winter",
          "Fall",
          "Spring",
          "Fall",
          "Spring",
          "Fall",
          "Summer",
          "Winter",
          "Spring",
          "Fall",
          "Winter",
          "Summer",
          "Fall",
          "Summer",
          "Fall",
          "Fall",
          "Fall",
          "Summer",
          "Fall",
          "Summer",
          "Fall",
          "Fall",
          "Summer",
          "Summer",
          "Summer",
          "Summer",
          "Spring",
          "Winter",
          "Spring",
          "Fall",
          "Winter",
          "Fall",
          "Winter",
          "Fall",
          "Spring",
          "Fall",
          "Summer",
          "Winter",
          "Spring",
          "Fall",
          "Winter",
          "Winter",
          "Winter",
          "Winter",
          "Fall",
          "Winter",
          "Winter",
          "Spring",
          "Winter",
          "Summer",
          "Spring",
          "Summer",
          "Summer",
          "Spring",
          "Summer",
          "Fall",
          "Winter",
          "Winter",
          "Fall",
          "Spring",
          "Spring",
          "Fall",
          "Winter",
          "Spring",
          "Spring",
          "Summer",
          "Spring",
          "Fall",
          "Spring",
          "Spring",
          "Spring",
          "Summer",
          "Spring",
          "Fall",
          "Fall",
          "Spring",
          "Spring",
          "Summer",
          "Winter",
          "Summer",
          "Fall",
          "Summer",
          "Summer",
          "Winter",
          "Fall",
          "Summer",
          "Winter",
          "Summer",
          "Summer",
          "Fall",
          "Spring",
          "Summer",
          "Summer",
          "Summer",
          "Summer",
          "Summer",
          "Fall",
          "Winter",
          "Winter",
          "Winter",
          "Fall",
          "Fall",
          "Summer",
          "Spring",
          "Spring",
          "Winter",
          "Spring",
          "Summer",
          "Summer",
          "Spring",
          "Summer",
          "Winter",
          "Fall",
          "Winter",
          "Winter",
          "Fall",
          "Fall",
          "Summer",
          "Spring",
          "Winter",
          "Fall",
          "Summer",
          "Summer",
          "Summer",
          "Winter",
          "Fall",
          "Fall",
          "Spring",
          "Summer",
          "Fall",
          "Fall",
          "Spring",
          "Summer",
          "Winter",
          "Fall",
          "Fall",
          "Spring",
          "Spring",
          "Summer",
          "Winter",
          "Fall",
          "Fall",
          "Spring",
          "Summer",
          "Spring",
          "Winter",
          "Summer",
          "Winter",
          "Winter",
          "Spring",
          "Spring",
          "Fall",
          "Winter",
          "Winter",
          "Fall",
          "Summer",
          "Summer",
          "Winter",
          "Spring",
          "Fall",
          "Summer",
          "Winter",
          "Fall",
          "Spring",
          "Spring",
          "Fall",
          "Summer",
          "Fall",
          "Winter",
          "Fall",
          "Spring",
          "Winter",
          "Winter",
          "Summer",
          "Winter",
          "Winter",
          "Fall",
          "Winter",
          "Spring",
          "Summer",
          "Fall",
          "Summer",
          "Spring",
          "Spring",
          "Summer",
          "Summer",
          "Summer",
          "Winter",
          "Fall",
          "Winter",
          "Spring",
          "Fall",
          "Spring",
          "Summer",
          "Summer",
          "Winter",
          "Winter",
          "Summer",
          "Winter",
          "Spring",
          "Summer",
          "Summer",
          "Fall",
          "Winter",
          "Fall",
          "Winter",
          "Winter",
          "Summer",
          "Summer",
          "Spring",
          "Summer",
          "Summer",
          "Winter",
          "Winter",
          "Fall",
          "Summer",
          "Fall",
          "Fall",
          "Spring",
          "Summer",
          "Summer",
          "Fall",
          "Spring",
          "Fall",
          "Winter",
          "Spring",
          "Spring",
          "Fall",
          "Spring",
          "Winter",
          "Fall",
          "Fall",
          "Fall",
          "Summer",
          "Spring",
          "Fall",
          "Spring",
          "Spring",
          "Spring",
          "Fall",
          "Winter",
          "Spring",
          "Summer",
          "Fall",
          "Winter",
          "Fall",
          "Summer",
          "Spring",
          "Summer",
          "Spring",
          "Winter",
          "Spring",
          "Summer",
          "Spring",
          "Fall",
          "Summer",
          "Winter",
          "Summer",
          "Winter",
          "Winter",
          "Fall",
          "Winter",
          "Winter",
          "Fall",
          "Spring",
          "Summer",
          "Spring",
          "Winter",
          "Fall",
          "Winter",
          "Winter",
          "Spring",
          "Summer",
          "Spring",
          "Summer",
          "Fall",
          "Fall",
          "Fall",
          "Fall",
          "Spring",
          "Fall",
          "Winter",
          "Winter",
          "Spring",
          "Fall",
          "Winter",
          "Fall",
          "Summer",
          "Fall",
          "Spring",
          "Winter",
          "Winter",
          "Summer",
          "Winter",
          "Spring",
          "Winter",
          "Spring",
          "Winter",
          "Spring",
          "Summer",
          "Summer",
          "Winter",
          "Spring",
          "Spring",
          "Summer",
          "Winter",
          "Spring",
          "Winter",
          "Fall",
          "Fall",
          "Fall",
          "Summer",
          "Spring",
          "Spring",
          "Spring",
          "Spring",
          "Spring",
          "Winter",
          "Spring",
          "Winter",
          "Fall",
          "Spring",
          "Summer",
          "Summer",
          "Fall",
          "Summer",
          "Winter",
          "Spring",
          "Winter",
          "Spring",
          "Spring",
          "Spring",
          "Fall",
          "Summer",
          "Summer",
          "Fall",
          "Fall",
          "Spring",
          "Winter",
          "Summer",
          "Summer",
          "Spring",
          "Spring",
          "Summer",
          "Spring",
          "Fall",
          "Winter",
          "Summer",
          "Spring",
          "Fall",
          "Fall",
          "Fall",
          "Spring",
          "Winter",
          "Winter",
          "Fall",
          "Summer",
          "Fall",
          "Summer",
          "Summer",
          "Fall",
          "Winter",
          "Winter",
          "Summer",
          "Spring",
          "Spring",
          "Fall",
          "Winter",
          "Spring",
          "Spring",
          "Summer",
          "Spring",
          "Spring",
          "Summer",
          "Spring",
          "Spring",
          "Spring",
          "Summer",
          "Summer",
          "Spring",
          "Fall",
          "Fall",
          "Fall",
          "Fall",
          "Fall",
          "Summer",
          "Fall",
          "Spring",
          "Summer",
          "Fall",
          "Spring",
          "Winter",
          "Winter",
          "Fall",
          "Fall",
          "Winter",
          "Summer",
          "Summer",
          "Fall",
          "Winter",
          "Fall",
          "Winter",
          "Fall",
          "Winter",
          "Summer",
          "Summer",
          "Winter",
          "Fall",
          "Spring",
          "Spring",
          "Winter",
          "Fall",
          "Summer",
          "Winter",
          "Spring",
          "Summer",
          "Spring",
          "Fall",
          "Summer",
          "Fall",
          "Winter",
          "Summer",
          "Spring",
          "Winter",
          "Winter",
          "Fall",
          "Summer",
          "Spring",
          "Fall",
          "Spring",
          "Winter",
          "Fall",
          "Spring",
          "Winter",
          "Fall",
          "Fall",
          "Winter",
          "Winter",
          "Spring",
          "Summer",
          "Fall",
          "Fall",
          "Winter",
          "Fall",
          "Summer",
          "Fall",
          "Winter",
          "Summer",
          "Fall",
          "Summer",
          "Winter",
          "Winter",
          "Spring",
          "Fall",
          "Fall",
          "Summer",
          "Winter",
          "Fall",
          "Fall",
          "Winter",
          "Spring",
          "Summer",
          "Spring",
          "Summer",
          "Spring",
          "Fall",
          "Fall",
          "Summer",
          "Spring",
          "Summer",
          "Winter",
          "Fall",
          "Fall",
          "Winter",
          "Spring",
          "Fall",
          "Summer",
          "Spring",
          "Spring",
          "Fall",
          "Winter",
          "Summer",
          "Spring",
          "Fall",
          "Fall",
          "Fall",
          "Summer",
          "Fall",
          "Spring",
          "Spring",
          "Winter",
          "Fall",
          "Fall",
          "Summer",
          "Fall",
          "Summer",
          "Fall",
          "Fall",
          "Fall",
          "Spring",
          "Winter",
          "Winter",
          "Fall",
          "Summer",
          "Winter",
          "Spring",
          "Summer",
          "Spring",
          "Spring",
          "Fall",
          "Spring",
          "Spring",
          "Spring",
          "Winter",
          "Spring",
          "Fall",
          "Summer",
          "Spring",
          "Fall",
          "Fall",
          "Summer",
          "Spring",
          "Summer",
          "Spring",
          "Fall",
          "Winter",
          "Fall",
          "Fall",
          "Winter",
          "Winter",
          "Summer",
          "Fall",
          "Spring",
          "Fall",
          "Spring",
          "Spring",
          "Fall",
          "Summer",
          "Fall",
          "Winter",
          "Fall",
          "Summer",
          "Fall",
          "Summer",
          "Winter",
          "Summer",
          "Summer",
          "Winter",
          "Fall",
          "Summer",
          "Winter",
          "Spring",
          "Spring",
          "Fall",
          "Fall",
          "Spring",
          "Fall",
          "Winter",
          "Spring",
          "Summer",
          "Winter",
          "Winter",
          "Fall",
          "Fall",
          "Spring",
          "Summer",
          "Summer",
          "Spring",
          "Summer",
          "Fall",
          "Summer",
          "Spring",
          "Fall",
          "Summer",
          "Winter",
          "Winter",
          "Fall",
          "Spring",
          "Spring",
          "Spring",
          "Fall",
          "Fall",
          "Spring",
          "Spring",
          "Winter",
          "Winter",
          "Fall",
          "Winter",
          "Spring",
          "Summer",
          "Winter",
          "Fall",
          "Summer",
          "Fall",
          "Winter",
          "Spring",
          "Winter",
          "Summer",
          "Spring",
          "Summer",
          "Summer",
          "Fall",
          "Summer",
          "Summer",
          "Spring",
          "Spring",
          "Summer",
          "Spring",
          "Winter",
          "Summer",
          "Winter",
          "Winter",
          "Spring",
          "Spring",
          "Summer",
          "Spring",
          "Spring",
          "Fall",
          "Winter",
          "Winter",
          "Fall",
          "Winter",
          "Summer",
          "Fall",
          "Winter",
          "Winter",
          "Summer",
          "Summer",
          "Fall",
          "Fall",
          "Spring",
          "Summer",
          "Summer",
          "Summer",
          "Winter",
          "Fall",
          "Summer",
          "Spring",
          "Winter",
          "Summer",
          "Winter",
          "Spring",
          "Winter",
          "Summer",
          "Winter",
          "Spring",
          "Fall",
          "Fall",
          "Spring",
          "Summer",
          "Summer",
          "Winter",
          "Fall",
          "Spring",
          "Summer",
          "Winter",
          "Winter",
          "Spring",
          "Fall",
          "Fall",
          "Fall",
          "Winter",
          "Summer",
          "Spring",
          "Spring",
          "Spring",
          "Winter",
          "Winter",
          "Summer",
          "Fall",
          "Spring",
          "Summer",
          "Spring",
          "Spring",
          "Summer",
          "Spring"
         ],
         "xaxis": "x",
         "yaxis": "y"
        }
       ],
       "layout": {
        "barmode": "relative",
        "legend": {
         "tracegroupgap": 0
        },
        "margin": {
         "t": 60
        },
        "template": {
         "data": {
          "bar": [
           {
            "error_x": {
             "color": "#2a3f5f"
            },
            "error_y": {
             "color": "#2a3f5f"
            },
            "marker": {
             "line": {
              "color": "#E5ECF6",
              "width": 0.5
             },
             "pattern": {
              "fillmode": "overlay",
              "size": 10,
              "solidity": 0.2
             }
            },
            "type": "bar"
           }
          ],
          "barpolar": [
           {
            "marker": {
             "line": {
              "color": "#E5ECF6",
              "width": 0.5
             },
             "pattern": {
              "fillmode": "overlay",
              "size": 10,
              "solidity": 0.2
             }
            },
            "type": "barpolar"
           }
          ],
          "carpet": [
           {
            "aaxis": {
             "endlinecolor": "#2a3f5f",
             "gridcolor": "white",
             "linecolor": "white",
             "minorgridcolor": "white",
             "startlinecolor": "#2a3f5f"
            },
            "baxis": {
             "endlinecolor": "#2a3f5f",
             "gridcolor": "white",
             "linecolor": "white",
             "minorgridcolor": "white",
             "startlinecolor": "#2a3f5f"
            },
            "type": "carpet"
           }
          ],
          "choropleth": [
           {
            "colorbar": {
             "outlinewidth": 0,
             "ticks": ""
            },
            "type": "choropleth"
           }
          ],
          "contour": [
           {
            "colorbar": {
             "outlinewidth": 0,
             "ticks": ""
            },
            "colorscale": [
             [
              0,
              "#0d0887"
             ],
             [
              0.1111111111111111,
              "#46039f"
             ],
             [
              0.2222222222222222,
              "#7201a8"
             ],
             [
              0.3333333333333333,
              "#9c179e"
             ],
             [
              0.4444444444444444,
              "#bd3786"
             ],
             [
              0.5555555555555556,
              "#d8576b"
             ],
             [
              0.6666666666666666,
              "#ed7953"
             ],
             [
              0.7777777777777778,
              "#fb9f3a"
             ],
             [
              0.8888888888888888,
              "#fdca26"
             ],
             [
              1,
              "#f0f921"
             ]
            ],
            "type": "contour"
           }
          ],
          "contourcarpet": [
           {
            "colorbar": {
             "outlinewidth": 0,
             "ticks": ""
            },
            "type": "contourcarpet"
           }
          ],
          "heatmap": [
           {
            "colorbar": {
             "outlinewidth": 0,
             "ticks": ""
            },
            "colorscale": [
             [
              0,
              "#0d0887"
             ],
             [
              0.1111111111111111,
              "#46039f"
             ],
             [
              0.2222222222222222,
              "#7201a8"
             ],
             [
              0.3333333333333333,
              "#9c179e"
             ],
             [
              0.4444444444444444,
              "#bd3786"
             ],
             [
              0.5555555555555556,
              "#d8576b"
             ],
             [
              0.6666666666666666,
              "#ed7953"
             ],
             [
              0.7777777777777778,
              "#fb9f3a"
             ],
             [
              0.8888888888888888,
              "#fdca26"
             ],
             [
              1,
              "#f0f921"
             ]
            ],
            "type": "heatmap"
           }
          ],
          "histogram": [
           {
            "marker": {
             "pattern": {
              "fillmode": "overlay",
              "size": 10,
              "solidity": 0.2
             }
            },
            "type": "histogram"
           }
          ],
          "histogram2d": [
           {
            "colorbar": {
             "outlinewidth": 0,
             "ticks": ""
            },
            "colorscale": [
             [
              0,
              "#0d0887"
             ],
             [
              0.1111111111111111,
              "#46039f"
             ],
             [
              0.2222222222222222,
              "#7201a8"
             ],
             [
              0.3333333333333333,
              "#9c179e"
             ],
             [
              0.4444444444444444,
              "#bd3786"
             ],
             [
              0.5555555555555556,
              "#d8576b"
             ],
             [
              0.6666666666666666,
              "#ed7953"
             ],
             [
              0.7777777777777778,
              "#fb9f3a"
             ],
             [
              0.8888888888888888,
              "#fdca26"
             ],
             [
              1,
              "#f0f921"
             ]
            ],
            "type": "histogram2d"
           }
          ],
          "histogram2dcontour": [
           {
            "colorbar": {
             "outlinewidth": 0,
             "ticks": ""
            },
            "colorscale": [
             [
              0,
              "#0d0887"
             ],
             [
              0.1111111111111111,
              "#46039f"
             ],
             [
              0.2222222222222222,
              "#7201a8"
             ],
             [
              0.3333333333333333,
              "#9c179e"
             ],
             [
              0.4444444444444444,
              "#bd3786"
             ],
             [
              0.5555555555555556,
              "#d8576b"
             ],
             [
              0.6666666666666666,
              "#ed7953"
             ],
             [
              0.7777777777777778,
              "#fb9f3a"
             ],
             [
              0.8888888888888888,
              "#fdca26"
             ],
             [
              1,
              "#f0f921"
             ]
            ],
            "type": "histogram2dcontour"
           }
          ],
          "mesh3d": [
           {
            "colorbar": {
             "outlinewidth": 0,
             "ticks": ""
            },
            "type": "mesh3d"
           }
          ],
          "parcoords": [
           {
            "line": {
             "colorbar": {
              "outlinewidth": 0,
              "ticks": ""
             }
            },
            "type": "parcoords"
           }
          ],
          "pie": [
           {
            "automargin": true,
            "type": "pie"
           }
          ],
          "scatter": [
           {
            "fillpattern": {
             "fillmode": "overlay",
             "size": 10,
             "solidity": 0.2
            },
            "type": "scatter"
           }
          ],
          "scatter3d": [
           {
            "line": {
             "colorbar": {
              "outlinewidth": 0,
              "ticks": ""
             }
            },
            "marker": {
             "colorbar": {
              "outlinewidth": 0,
              "ticks": ""
             }
            },
            "type": "scatter3d"
           }
          ],
          "scattercarpet": [
           {
            "marker": {
             "colorbar": {
              "outlinewidth": 0,
              "ticks": ""
             }
            },
            "type": "scattercarpet"
           }
          ],
          "scattergeo": [
           {
            "marker": {
             "colorbar": {
              "outlinewidth": 0,
              "ticks": ""
             }
            },
            "type": "scattergeo"
           }
          ],
          "scattergl": [
           {
            "marker": {
             "colorbar": {
              "outlinewidth": 0,
              "ticks": ""
             }
            },
            "type": "scattergl"
           }
          ],
          "scattermap": [
           {
            "marker": {
             "colorbar": {
              "outlinewidth": 0,
              "ticks": ""
             }
            },
            "type": "scattermap"
           }
          ],
          "scattermapbox": [
           {
            "marker": {
             "colorbar": {
              "outlinewidth": 0,
              "ticks": ""
             }
            },
            "type": "scattermapbox"
           }
          ],
          "scatterpolar": [
           {
            "marker": {
             "colorbar": {
              "outlinewidth": 0,
              "ticks": ""
             }
            },
            "type": "scatterpolar"
           }
          ],
          "scatterpolargl": [
           {
            "marker": {
             "colorbar": {
              "outlinewidth": 0,
              "ticks": ""
             }
            },
            "type": "scatterpolargl"
           }
          ],
          "scatterternary": [
           {
            "marker": {
             "colorbar": {
              "outlinewidth": 0,
              "ticks": ""
             }
            },
            "type": "scatterternary"
           }
          ],
          "surface": [
           {
            "colorbar": {
             "outlinewidth": 0,
             "ticks": ""
            },
            "colorscale": [
             [
              0,
              "#0d0887"
             ],
             [
              0.1111111111111111,
              "#46039f"
             ],
             [
              0.2222222222222222,
              "#7201a8"
             ],
             [
              0.3333333333333333,
              "#9c179e"
             ],
             [
              0.4444444444444444,
              "#bd3786"
             ],
             [
              0.5555555555555556,
              "#d8576b"
             ],
             [
              0.6666666666666666,
              "#ed7953"
             ],
             [
              0.7777777777777778,
              "#fb9f3a"
             ],
             [
              0.8888888888888888,
              "#fdca26"
             ],
             [
              1,
              "#f0f921"
             ]
            ],
            "type": "surface"
           }
          ],
          "table": [
           {
            "cells": {
             "fill": {
              "color": "#EBF0F8"
             },
             "line": {
              "color": "white"
             }
            },
            "header": {
             "fill": {
              "color": "#C8D4E3"
             },
             "line": {
              "color": "white"
             }
            },
            "type": "table"
           }
          ]
         },
         "layout": {
          "annotationdefaults": {
           "arrowcolor": "#2a3f5f",
           "arrowhead": 0,
           "arrowwidth": 1
          },
          "autotypenumbers": "strict",
          "coloraxis": {
           "colorbar": {
            "outlinewidth": 0,
            "ticks": ""
           }
          },
          "colorscale": {
           "diverging": [
            [
             0,
             "#8e0152"
            ],
            [
             0.1,
             "#c51b7d"
            ],
            [
             0.2,
             "#de77ae"
            ],
            [
             0.3,
             "#f1b6da"
            ],
            [
             0.4,
             "#fde0ef"
            ],
            [
             0.5,
             "#f7f7f7"
            ],
            [
             0.6,
             "#e6f5d0"
            ],
            [
             0.7,
             "#b8e186"
            ],
            [
             0.8,
             "#7fbc41"
            ],
            [
             0.9,
             "#4d9221"
            ],
            [
             1,
             "#276419"
            ]
           ],
           "sequential": [
            [
             0,
             "#0d0887"
            ],
            [
             0.1111111111111111,
             "#46039f"
            ],
            [
             0.2222222222222222,
             "#7201a8"
            ],
            [
             0.3333333333333333,
             "#9c179e"
            ],
            [
             0.4444444444444444,
             "#bd3786"
            ],
            [
             0.5555555555555556,
             "#d8576b"
            ],
            [
             0.6666666666666666,
             "#ed7953"
            ],
            [
             0.7777777777777778,
             "#fb9f3a"
            ],
            [
             0.8888888888888888,
             "#fdca26"
            ],
            [
             1,
             "#f0f921"
            ]
           ],
           "sequentialminus": [
            [
             0,
             "#0d0887"
            ],
            [
             0.1111111111111111,
             "#46039f"
            ],
            [
             0.2222222222222222,
             "#7201a8"
            ],
            [
             0.3333333333333333,
             "#9c179e"
            ],
            [
             0.4444444444444444,
             "#bd3786"
            ],
            [
             0.5555555555555556,
             "#d8576b"
            ],
            [
             0.6666666666666666,
             "#ed7953"
            ],
            [
             0.7777777777777778,
             "#fb9f3a"
            ],
            [
             0.8888888888888888,
             "#fdca26"
            ],
            [
             1,
             "#f0f921"
            ]
           ]
          },
          "colorway": [
           "#636efa",
           "#EF553B",
           "#00cc96",
           "#ab63fa",
           "#FFA15A",
           "#19d3f3",
           "#FF6692",
           "#B6E880",
           "#FF97FF",
           "#FECB52"
          ],
          "font": {
           "color": "#2a3f5f"
          },
          "geo": {
           "bgcolor": "white",
           "lakecolor": "white",
           "landcolor": "#E5ECF6",
           "showlakes": true,
           "showland": true,
           "subunitcolor": "white"
          },
          "hoverlabel": {
           "align": "left"
          },
          "hovermode": "closest",
          "mapbox": {
           "style": "light"
          },
          "paper_bgcolor": "white",
          "plot_bgcolor": "#E5ECF6",
          "polar": {
           "angularaxis": {
            "gridcolor": "white",
            "linecolor": "white",
            "ticks": ""
           },
           "bgcolor": "#E5ECF6",
           "radialaxis": {
            "gridcolor": "white",
            "linecolor": "white",
            "ticks": ""
           }
          },
          "scene": {
           "xaxis": {
            "backgroundcolor": "#E5ECF6",
            "gridcolor": "white",
            "gridwidth": 2,
            "linecolor": "white",
            "showbackground": true,
            "ticks": "",
            "zerolinecolor": "white"
           },
           "yaxis": {
            "backgroundcolor": "#E5ECF6",
            "gridcolor": "white",
            "gridwidth": 2,
            "linecolor": "white",
            "showbackground": true,
            "ticks": "",
            "zerolinecolor": "white"
           },
           "zaxis": {
            "backgroundcolor": "#E5ECF6",
            "gridcolor": "white",
            "gridwidth": 2,
            "linecolor": "white",
            "showbackground": true,
            "ticks": "",
            "zerolinecolor": "white"
           }
          },
          "shapedefaults": {
           "line": {
            "color": "#2a3f5f"
           }
          },
          "ternary": {
           "aaxis": {
            "gridcolor": "white",
            "linecolor": "white",
            "ticks": ""
           },
           "baxis": {
            "gridcolor": "white",
            "linecolor": "white",
            "ticks": ""
           },
           "bgcolor": "#E5ECF6",
           "caxis": {
            "gridcolor": "white",
            "linecolor": "white",
            "ticks": ""
           }
          },
          "title": {
           "x": 0.05
          },
          "xaxis": {
           "automargin": true,
           "gridcolor": "white",
           "linecolor": "white",
           "ticks": "",
           "title": {
            "standoff": 15
           },
           "zerolinecolor": "white",
           "zerolinewidth": 2
          },
          "yaxis": {
           "automargin": true,
           "gridcolor": "white",
           "linecolor": "white",
           "ticks": "",
           "title": {
            "standoff": 15
           },
           "zerolinecolor": "white",
           "zerolinewidth": 2
          }
         }
        },
        "xaxis": {
         "anchor": "y",
         "domain": [
          0,
          1
         ],
         "title": {
          "text": "Season"
         }
        },
        "yaxis": {
         "anchor": "x",
         "domain": [
          0,
          1
         ],
         "range": [
          800,
          1000
         ],
         "title": {
          "text": "count"
         }
        }
       }
      }
     },
     "metadata": {},
     "output_type": "display_data"
    }
   ],
   "source": [
    "fig=px.histogram(shop, x='Season', range_y=[800, 1000])\n",
    "fig.show()"
   ]
  },
  {
   "cell_type": "markdown",
   "metadata": {},
   "source": [
    "6. What is the average rating given by the customers for each product category?"
   ]
  },
  {
   "cell_type": "code",
   "execution_count": 77,
   "metadata": {},
   "outputs": [
    {
     "name": "stdout",
     "output_type": "stream",
     "text": [
      "      Category  Review Rating\n",
      "0  Accessories       3.768629\n",
      "1     Clothing       3.723143\n",
      "2     Footwear       3.790651\n",
      "3    Outerwear       3.746914\n"
     ]
    }
   ],
   "source": [
    "shop_groupby= shop.groupby('Category')['Review Rating'].mean().reset_index()\n",
    "print(shop_groupby)"
   ]
  },
  {
   "cell_type": "code",
   "execution_count": 78,
   "metadata": {},
   "outputs": [
    {
     "data": {
      "application/vnd.plotly.v1+json": {
       "config": {
        "plotlyServerURL": "https://plot.ly"
       },
       "data": [
        {
         "hovertemplate": "Category=%{x}<br>Review Rating=%{y}<extra></extra>",
         "legendgroup": "",
         "marker": {
          "color": "#636efa",
          "pattern": {
           "shape": ""
          }
         },
         "name": "",
         "orientation": "v",
         "showlegend": false,
         "textposition": "auto",
         "type": "bar",
         "x": [
          "Clothing",
          "Clothing",
          "Clothing",
          "Footwear",
          "Clothing",
          "Footwear",
          "Clothing",
          "Clothing",
          "Outerwear",
          "Accessories",
          "Footwear",
          "Clothing",
          "Outerwear",
          "Clothing",
          "Outerwear",
          "Clothing",
          "Accessories",
          "Clothing",
          "Clothing",
          "Clothing",
          "Clothing",
          "Clothing",
          "Clothing",
          "Clothing",
          "Outerwear",
          "Clothing",
          "Accessories",
          "Clothing",
          "Accessories",
          "Clothing",
          "Accessories",
          "Clothing",
          "Outerwear",
          "Clothing",
          "Clothing",
          "Clothing",
          "Clothing",
          "Clothing",
          "Clothing",
          "Clothing",
          "Accessories",
          "Accessories",
          "Outerwear",
          "Accessories",
          "Accessories",
          "Clothing",
          "Clothing",
          "Accessories",
          "Clothing",
          "Clothing",
          "Clothing",
          "Clothing",
          "Clothing",
          "Clothing",
          "Outerwear",
          "Outerwear",
          "Accessories",
          "Outerwear",
          "Clothing",
          "Accessories",
          "Clothing",
          "Accessories",
          "Footwear",
          "Accessories",
          "Footwear",
          "Accessories",
          "Clothing",
          "Outerwear",
          "Accessories",
          "Accessories",
          "Accessories",
          "Clothing",
          "Clothing",
          "Clothing",
          "Accessories",
          "Accessories",
          "Accessories",
          "Clothing",
          "Clothing",
          "Outerwear",
          "Footwear",
          "Footwear",
          "Clothing",
          "Clothing",
          "Outerwear",
          "Accessories",
          "Clothing",
          "Footwear",
          "Clothing",
          "Outerwear",
          "Accessories",
          "Accessories",
          "Outerwear",
          "Clothing",
          "Clothing",
          "Footwear",
          "Accessories",
          "Footwear",
          "Clothing",
          "Clothing",
          "Accessories",
          "Outerwear",
          "Clothing",
          "Footwear",
          "Accessories",
          "Accessories",
          "Outerwear",
          "Footwear",
          "Clothing",
          "Clothing",
          "Accessories",
          "Accessories",
          "Accessories",
          "Accessories",
          "Outerwear",
          "Clothing",
          "Footwear",
          "Footwear",
          "Clothing",
          "Outerwear",
          "Accessories",
          "Clothing",
          "Accessories",
          "Clothing",
          "Clothing",
          "Clothing",
          "Clothing",
          "Clothing",
          "Accessories",
          "Clothing",
          "Accessories",
          "Clothing",
          "Accessories",
          "Clothing",
          "Accessories",
          "Footwear",
          "Clothing",
          "Footwear",
          "Clothing",
          "Outerwear",
          "Clothing",
          "Accessories",
          "Outerwear",
          "Outerwear",
          "Footwear",
          "Accessories",
          "Clothing",
          "Footwear",
          "Accessories",
          "Clothing",
          "Footwear",
          "Accessories",
          "Clothing",
          "Clothing",
          "Clothing",
          "Clothing",
          "Clothing",
          "Accessories",
          "Clothing",
          "Accessories",
          "Accessories",
          "Accessories",
          "Accessories",
          "Clothing",
          "Accessories",
          "Accessories",
          "Footwear",
          "Accessories",
          "Footwear",
          "Outerwear",
          "Clothing",
          "Clothing",
          "Accessories",
          "Accessories",
          "Footwear",
          "Outerwear",
          "Accessories",
          "Clothing",
          "Clothing",
          "Footwear",
          "Footwear",
          "Clothing",
          "Accessories",
          "Clothing",
          "Footwear",
          "Clothing",
          "Accessories",
          "Footwear",
          "Clothing",
          "Clothing",
          "Outerwear",
          "Accessories",
          "Footwear",
          "Accessories",
          "Accessories",
          "Outerwear",
          "Footwear",
          "Accessories",
          "Accessories",
          "Accessories",
          "Clothing",
          "Clothing",
          "Accessories",
          "Accessories",
          "Footwear",
          "Clothing",
          "Clothing",
          "Accessories",
          "Clothing",
          "Footwear",
          "Outerwear",
          "Clothing",
          "Accessories",
          "Accessories",
          "Outerwear",
          "Accessories",
          "Clothing",
          "Accessories",
          "Clothing",
          "Accessories",
          "Footwear",
          "Accessories",
          "Accessories",
          "Clothing",
          "Clothing",
          "Outerwear",
          "Footwear",
          "Clothing",
          "Clothing",
          "Footwear",
          "Accessories",
          "Clothing",
          "Accessories",
          "Clothing",
          "Accessories",
          "Accessories",
          "Outerwear",
          "Clothing",
          "Clothing",
          "Clothing",
          "Clothing",
          "Clothing",
          "Outerwear",
          "Accessories",
          "Accessories",
          "Footwear",
          "Accessories",
          "Clothing",
          "Accessories",
          "Accessories",
          "Clothing",
          "Accessories",
          "Clothing",
          "Footwear",
          "Accessories",
          "Accessories",
          "Accessories",
          "Accessories",
          "Accessories",
          "Clothing",
          "Accessories",
          "Clothing",
          "Clothing",
          "Clothing",
          "Clothing",
          "Accessories",
          "Accessories",
          "Clothing",
          "Footwear",
          "Clothing",
          "Clothing",
          "Accessories",
          "Accessories",
          "Outerwear",
          "Accessories",
          "Accessories",
          "Clothing",
          "Clothing",
          "Clothing",
          "Footwear",
          "Footwear",
          "Accessories",
          "Clothing",
          "Clothing",
          "Clothing",
          "Accessories",
          "Accessories",
          "Accessories",
          "Clothing",
          "Outerwear",
          "Clothing",
          "Clothing",
          "Footwear",
          "Accessories",
          "Clothing",
          "Accessories",
          "Footwear",
          "Footwear",
          "Clothing",
          "Footwear",
          "Accessories",
          "Clothing",
          "Clothing",
          "Footwear",
          "Clothing",
          "Clothing",
          "Outerwear",
          "Accessories",
          "Accessories",
          "Clothing",
          "Clothing",
          "Clothing",
          "Clothing",
          "Clothing",
          "Clothing",
          "Accessories",
          "Accessories",
          "Clothing",
          "Accessories",
          "Clothing",
          "Accessories",
          "Footwear",
          "Accessories",
          "Clothing",
          "Clothing",
          "Clothing",
          "Accessories",
          "Outerwear",
          "Outerwear",
          "Clothing",
          "Clothing",
          "Clothing",
          "Clothing",
          "Clothing",
          "Clothing",
          "Clothing",
          "Accessories",
          "Clothing",
          "Clothing",
          "Clothing",
          "Clothing",
          "Accessories",
          "Outerwear",
          "Footwear",
          "Clothing",
          "Footwear",
          "Clothing",
          "Footwear",
          "Clothing",
          "Accessories",
          "Clothing",
          "Clothing",
          "Clothing",
          "Footwear",
          "Accessories",
          "Accessories",
          "Clothing",
          "Accessories",
          "Accessories",
          "Footwear",
          "Clothing",
          "Clothing",
          "Footwear",
          "Clothing",
          "Footwear",
          "Accessories",
          "Clothing",
          "Clothing",
          "Accessories",
          "Accessories",
          "Accessories",
          "Footwear",
          "Clothing",
          "Outerwear",
          "Accessories",
          "Accessories",
          "Footwear",
          "Accessories",
          "Clothing",
          "Clothing",
          "Accessories",
          "Accessories",
          "Clothing",
          "Accessories",
          "Clothing",
          "Clothing",
          "Accessories",
          "Outerwear",
          "Accessories",
          "Footwear",
          "Accessories",
          "Clothing",
          "Clothing",
          "Footwear",
          "Accessories",
          "Footwear",
          "Clothing",
          "Accessories",
          "Footwear",
          "Accessories",
          "Footwear",
          "Clothing",
          "Accessories",
          "Footwear",
          "Clothing",
          "Clothing",
          "Accessories",
          "Clothing",
          "Footwear",
          "Clothing",
          "Clothing",
          "Clothing",
          "Outerwear",
          "Accessories",
          "Accessories",
          "Outerwear",
          "Accessories",
          "Footwear",
          "Clothing",
          "Clothing",
          "Clothing",
          "Clothing",
          "Clothing",
          "Accessories",
          "Clothing",
          "Clothing",
          "Clothing",
          "Accessories",
          "Outerwear",
          "Footwear",
          "Clothing",
          "Accessories",
          "Clothing",
          "Clothing",
          "Footwear",
          "Outerwear",
          "Clothing",
          "Accessories",
          "Accessories",
          "Outerwear",
          "Clothing",
          "Clothing",
          "Accessories",
          "Accessories",
          "Clothing",
          "Footwear",
          "Clothing",
          "Clothing",
          "Accessories",
          "Accessories",
          "Footwear",
          "Accessories",
          "Clothing",
          "Accessories",
          "Outerwear",
          "Clothing",
          "Clothing",
          "Accessories",
          "Clothing",
          "Accessories",
          "Footwear",
          "Footwear",
          "Outerwear",
          "Accessories",
          "Accessories",
          "Clothing",
          "Clothing",
          "Accessories",
          "Accessories",
          "Clothing",
          "Clothing",
          "Accessories",
          "Clothing",
          "Outerwear",
          "Clothing",
          "Footwear",
          "Accessories",
          "Clothing",
          "Accessories",
          "Accessories",
          "Clothing",
          "Accessories",
          "Accessories",
          "Clothing",
          "Accessories",
          "Footwear",
          "Footwear",
          "Outerwear",
          "Clothing",
          "Clothing",
          "Footwear",
          "Outerwear",
          "Clothing",
          "Accessories",
          "Footwear",
          "Accessories",
          "Clothing",
          "Footwear",
          "Footwear",
          "Footwear",
          "Clothing",
          "Footwear",
          "Clothing",
          "Footwear",
          "Footwear",
          "Clothing",
          "Accessories",
          "Clothing",
          "Accessories",
          "Clothing",
          "Clothing",
          "Clothing",
          "Accessories",
          "Accessories",
          "Clothing",
          "Accessories",
          "Clothing",
          "Footwear",
          "Clothing",
          "Accessories",
          "Accessories",
          "Clothing",
          "Accessories",
          "Footwear",
          "Clothing",
          "Outerwear",
          "Clothing",
          "Clothing",
          "Footwear",
          "Clothing",
          "Outerwear",
          "Footwear",
          "Clothing",
          "Footwear",
          "Accessories",
          "Clothing",
          "Outerwear",
          "Clothing",
          "Clothing",
          "Outerwear",
          "Clothing",
          "Outerwear",
          "Footwear",
          "Clothing",
          "Footwear",
          "Outerwear",
          "Clothing",
          "Outerwear",
          "Accessories",
          "Accessories",
          "Accessories",
          "Outerwear",
          "Clothing",
          "Accessories",
          "Footwear",
          "Accessories",
          "Outerwear",
          "Clothing",
          "Footwear",
          "Accessories",
          "Accessories",
          "Outerwear",
          "Clothing",
          "Footwear",
          "Clothing",
          "Accessories",
          "Footwear",
          "Clothing",
          "Clothing",
          "Clothing",
          "Clothing",
          "Outerwear",
          "Accessories",
          "Clothing",
          "Footwear",
          "Clothing",
          "Accessories",
          "Clothing",
          "Footwear",
          "Footwear",
          "Clothing",
          "Clothing",
          "Outerwear",
          "Clothing",
          "Clothing",
          "Clothing",
          "Clothing",
          "Clothing",
          "Footwear",
          "Clothing",
          "Accessories",
          "Accessories",
          "Footwear",
          "Outerwear",
          "Clothing",
          "Footwear",
          "Footwear",
          "Accessories",
          "Clothing",
          "Footwear",
          "Accessories",
          "Accessories",
          "Footwear",
          "Accessories",
          "Accessories",
          "Accessories",
          "Accessories",
          "Clothing",
          "Accessories",
          "Clothing",
          "Clothing",
          "Accessories",
          "Accessories",
          "Outerwear",
          "Accessories",
          "Footwear",
          "Accessories",
          "Accessories",
          "Outerwear",
          "Accessories",
          "Accessories",
          "Accessories",
          "Clothing",
          "Footwear",
          "Clothing",
          "Accessories",
          "Accessories",
          "Footwear",
          "Clothing",
          "Footwear",
          "Accessories",
          "Footwear",
          "Accessories",
          "Footwear",
          "Footwear",
          "Clothing",
          "Accessories",
          "Clothing",
          "Footwear",
          "Clothing",
          "Clothing",
          "Clothing",
          "Clothing",
          "Clothing",
          "Accessories",
          "Clothing",
          "Footwear",
          "Clothing",
          "Clothing",
          "Clothing",
          "Accessories",
          "Accessories",
          "Accessories",
          "Accessories",
          "Accessories",
          "Accessories",
          "Clothing",
          "Outerwear",
          "Accessories",
          "Clothing",
          "Outerwear",
          "Clothing",
          "Accessories",
          "Clothing",
          "Clothing",
          "Clothing",
          "Clothing",
          "Accessories",
          "Clothing",
          "Outerwear",
          "Clothing",
          "Outerwear",
          "Clothing",
          "Clothing",
          "Accessories",
          "Accessories",
          "Clothing",
          "Clothing",
          "Clothing",
          "Footwear",
          "Footwear",
          "Clothing",
          "Outerwear",
          "Footwear",
          "Accessories",
          "Clothing",
          "Clothing",
          "Accessories",
          "Accessories",
          "Clothing",
          "Clothing",
          "Accessories",
          "Accessories",
          "Clothing",
          "Clothing",
          "Clothing",
          "Accessories",
          "Accessories",
          "Footwear",
          "Accessories",
          "Clothing",
          "Footwear",
          "Clothing",
          "Clothing",
          "Clothing",
          "Clothing",
          "Clothing",
          "Clothing",
          "Accessories",
          "Outerwear",
          "Accessories",
          "Footwear",
          "Clothing",
          "Clothing",
          "Outerwear",
          "Clothing",
          "Accessories",
          "Clothing",
          "Clothing",
          "Clothing",
          "Accessories",
          "Clothing",
          "Clothing",
          "Accessories",
          "Clothing",
          "Accessories",
          "Clothing",
          "Clothing",
          "Clothing",
          "Accessories",
          "Footwear",
          "Outerwear",
          "Clothing",
          "Clothing",
          "Clothing",
          "Accessories",
          "Clothing",
          "Accessories",
          "Accessories",
          "Clothing",
          "Clothing",
          "Clothing",
          "Clothing",
          "Accessories",
          "Footwear",
          "Clothing",
          "Footwear",
          "Clothing",
          "Accessories",
          "Accessories",
          "Clothing",
          "Accessories",
          "Accessories",
          "Footwear",
          "Accessories",
          "Outerwear",
          "Accessories",
          "Clothing",
          "Footwear",
          "Clothing",
          "Accessories",
          "Accessories",
          "Accessories",
          "Clothing",
          "Clothing",
          "Footwear",
          "Accessories",
          "Outerwear",
          "Accessories",
          "Clothing",
          "Footwear",
          "Clothing",
          "Clothing",
          "Accessories",
          "Accessories",
          "Accessories",
          "Clothing",
          "Clothing",
          "Clothing",
          "Clothing",
          "Footwear",
          "Accessories",
          "Clothing",
          "Clothing",
          "Clothing",
          "Clothing",
          "Accessories",
          "Accessories",
          "Clothing",
          "Accessories",
          "Clothing",
          "Accessories",
          "Footwear",
          "Clothing",
          "Accessories",
          "Footwear",
          "Clothing",
          "Outerwear",
          "Clothing",
          "Accessories",
          "Clothing",
          "Accessories",
          "Clothing",
          "Clothing",
          "Footwear",
          "Clothing",
          "Clothing",
          "Clothing",
          "Footwear",
          "Footwear",
          "Accessories",
          "Footwear",
          "Footwear",
          "Accessories",
          "Clothing",
          "Accessories",
          "Clothing",
          "Accessories",
          "Clothing",
          "Accessories",
          "Footwear",
          "Clothing",
          "Clothing",
          "Accessories",
          "Clothing",
          "Accessories",
          "Clothing",
          "Footwear",
          "Clothing",
          "Clothing",
          "Clothing",
          "Accessories",
          "Outerwear",
          "Accessories",
          "Accessories",
          "Footwear",
          "Accessories",
          "Clothing",
          "Outerwear",
          "Clothing",
          "Clothing",
          "Clothing",
          "Clothing",
          "Clothing",
          "Footwear",
          "Accessories",
          "Footwear",
          "Clothing",
          "Footwear",
          "Clothing",
          "Footwear",
          "Footwear",
          "Clothing",
          "Accessories",
          "Clothing",
          "Clothing",
          "Clothing",
          "Clothing",
          "Outerwear",
          "Clothing",
          "Footwear",
          "Clothing",
          "Outerwear",
          "Footwear",
          "Clothing",
          "Clothing",
          "Accessories",
          "Outerwear",
          "Clothing",
          "Accessories",
          "Clothing",
          "Accessories",
          "Clothing",
          "Footwear",
          "Outerwear",
          "Footwear",
          "Accessories",
          "Accessories",
          "Accessories",
          "Clothing",
          "Accessories",
          "Footwear",
          "Footwear",
          "Footwear",
          "Clothing",
          "Clothing",
          "Clothing",
          "Accessories",
          "Accessories",
          "Accessories",
          "Accessories",
          "Clothing",
          "Clothing",
          "Accessories",
          "Clothing",
          "Accessories",
          "Accessories",
          "Clothing",
          "Accessories",
          "Clothing",
          "Accessories",
          "Accessories",
          "Accessories",
          "Outerwear",
          "Clothing",
          "Clothing",
          "Clothing",
          "Clothing",
          "Accessories",
          "Accessories",
          "Clothing",
          "Clothing",
          "Clothing",
          "Footwear",
          "Clothing",
          "Clothing",
          "Clothing",
          "Clothing",
          "Clothing",
          "Clothing",
          "Accessories",
          "Outerwear",
          "Footwear",
          "Clothing",
          "Clothing",
          "Clothing",
          "Clothing",
          "Footwear",
          "Clothing",
          "Footwear",
          "Clothing",
          "Outerwear",
          "Clothing",
          "Footwear",
          "Clothing",
          "Clothing",
          "Footwear",
          "Clothing",
          "Clothing",
          "Clothing",
          "Accessories",
          "Accessories",
          "Clothing",
          "Accessories",
          "Accessories",
          "Footwear",
          "Outerwear",
          "Clothing",
          "Accessories",
          "Clothing",
          "Accessories",
          "Clothing",
          "Accessories",
          "Accessories",
          "Accessories",
          "Clothing",
          "Clothing",
          "Accessories",
          "Footwear",
          "Clothing",
          "Accessories",
          "Footwear",
          "Accessories",
          "Footwear",
          "Footwear",
          "Footwear",
          "Clothing",
          "Clothing",
          "Clothing",
          "Outerwear",
          "Clothing",
          "Accessories",
          "Footwear",
          "Outerwear",
          "Clothing",
          "Clothing",
          "Clothing",
          "Accessories",
          "Accessories",
          "Accessories",
          "Footwear",
          "Accessories",
          "Outerwear",
          "Accessories",
          "Footwear",
          "Accessories",
          "Accessories",
          "Accessories",
          "Clothing",
          "Footwear",
          "Accessories",
          "Clothing",
          "Outerwear",
          "Footwear",
          "Footwear",
          "Accessories",
          "Footwear",
          "Clothing",
          "Footwear",
          "Clothing",
          "Clothing",
          "Clothing",
          "Footwear",
          "Accessories",
          "Accessories",
          "Accessories",
          "Clothing",
          "Accessories",
          "Accessories",
          "Clothing",
          "Clothing",
          "Accessories",
          "Footwear",
          "Accessories",
          "Footwear",
          "Accessories",
          "Accessories",
          "Outerwear",
          "Clothing",
          "Clothing",
          "Accessories",
          "Outerwear",
          "Accessories",
          "Accessories",
          "Clothing",
          "Clothing",
          "Accessories",
          "Accessories",
          "Clothing",
          "Accessories",
          "Outerwear",
          "Footwear",
          "Footwear",
          "Clothing",
          "Clothing",
          "Clothing",
          "Accessories",
          "Accessories",
          "Clothing",
          "Accessories",
          "Clothing",
          "Clothing",
          "Accessories",
          "Clothing",
          "Clothing",
          "Clothing",
          "Footwear",
          "Clothing",
          "Clothing",
          "Accessories",
          "Footwear",
          "Clothing",
          "Footwear",
          "Clothing",
          "Clothing",
          "Outerwear",
          "Clothing",
          "Outerwear",
          "Accessories",
          "Outerwear",
          "Clothing",
          "Outerwear",
          "Footwear",
          "Clothing",
          "Accessories",
          "Clothing",
          "Outerwear",
          "Clothing",
          "Clothing",
          "Clothing",
          "Accessories",
          "Accessories",
          "Clothing",
          "Accessories",
          "Accessories",
          "Accessories",
          "Outerwear",
          "Outerwear",
          "Clothing",
          "Outerwear",
          "Accessories",
          "Accessories",
          "Accessories",
          "Accessories",
          "Clothing",
          "Accessories",
          "Accessories",
          "Clothing",
          "Clothing",
          "Accessories",
          "Accessories",
          "Clothing",
          "Accessories",
          "Footwear",
          "Accessories",
          "Outerwear",
          "Outerwear",
          "Accessories",
          "Accessories",
          "Clothing",
          "Clothing",
          "Accessories",
          "Clothing",
          "Clothing",
          "Accessories",
          "Clothing",
          "Clothing",
          "Footwear",
          "Clothing",
          "Clothing",
          "Clothing",
          "Footwear",
          "Clothing",
          "Accessories",
          "Clothing",
          "Accessories",
          "Accessories",
          "Accessories",
          "Accessories",
          "Accessories",
          "Footwear",
          "Clothing",
          "Accessories",
          "Accessories",
          "Clothing",
          "Footwear",
          "Accessories",
          "Clothing",
          "Accessories",
          "Clothing",
          "Accessories",
          "Clothing",
          "Clothing",
          "Footwear",
          "Clothing",
          "Clothing",
          "Accessories",
          "Clothing",
          "Clothing",
          "Outerwear",
          "Clothing",
          "Accessories",
          "Clothing",
          "Footwear",
          "Clothing",
          "Footwear",
          "Footwear",
          "Accessories",
          "Clothing",
          "Accessories",
          "Accessories",
          "Clothing",
          "Accessories",
          "Clothing",
          "Clothing",
          "Clothing",
          "Footwear",
          "Accessories",
          "Accessories",
          "Accessories",
          "Accessories",
          "Clothing",
          "Footwear",
          "Clothing",
          "Clothing",
          "Clothing",
          "Clothing",
          "Clothing",
          "Accessories",
          "Accessories",
          "Clothing",
          "Clothing",
          "Outerwear",
          "Accessories",
          "Accessories",
          "Accessories",
          "Clothing",
          "Clothing",
          "Clothing",
          "Clothing",
          "Clothing",
          "Clothing",
          "Accessories",
          "Clothing",
          "Accessories",
          "Clothing",
          "Clothing",
          "Accessories",
          "Clothing",
          "Clothing",
          "Clothing",
          "Clothing",
          "Outerwear",
          "Outerwear",
          "Clothing",
          "Accessories",
          "Accessories",
          "Footwear",
          "Clothing",
          "Footwear",
          "Outerwear",
          "Footwear",
          "Accessories",
          "Footwear",
          "Accessories",
          "Accessories",
          "Accessories",
          "Footwear",
          "Footwear",
          "Clothing",
          "Accessories",
          "Clothing",
          "Footwear",
          "Accessories",
          "Outerwear",
          "Clothing",
          "Clothing",
          "Footwear",
          "Footwear",
          "Clothing",
          "Accessories",
          "Clothing",
          "Clothing",
          "Clothing",
          "Clothing",
          "Accessories",
          "Footwear",
          "Clothing",
          "Outerwear",
          "Accessories",
          "Accessories",
          "Clothing",
          "Accessories",
          "Clothing",
          "Accessories",
          "Clothing",
          "Accessories",
          "Clothing",
          "Clothing",
          "Outerwear",
          "Accessories",
          "Clothing",
          "Clothing",
          "Clothing",
          "Clothing",
          "Clothing",
          "Clothing",
          "Clothing",
          "Accessories",
          "Footwear",
          "Clothing",
          "Clothing",
          "Footwear",
          "Footwear",
          "Footwear",
          "Accessories",
          "Outerwear",
          "Clothing",
          "Footwear",
          "Clothing",
          "Clothing",
          "Clothing",
          "Footwear",
          "Clothing",
          "Clothing",
          "Clothing",
          "Clothing",
          "Clothing",
          "Outerwear",
          "Accessories",
          "Clothing",
          "Accessories",
          "Footwear",
          "Clothing",
          "Accessories",
          "Clothing",
          "Footwear",
          "Clothing",
          "Clothing",
          "Clothing",
          "Clothing",
          "Accessories",
          "Clothing",
          "Clothing",
          "Clothing",
          "Accessories",
          "Accessories",
          "Clothing",
          "Accessories",
          "Outerwear",
          "Clothing",
          "Footwear",
          "Accessories",
          "Clothing",
          "Clothing",
          "Footwear",
          "Clothing",
          "Footwear",
          "Clothing",
          "Accessories",
          "Clothing",
          "Clothing",
          "Footwear",
          "Clothing",
          "Accessories",
          "Clothing",
          "Clothing",
          "Outerwear",
          "Clothing",
          "Clothing",
          "Clothing",
          "Footwear",
          "Clothing",
          "Footwear",
          "Footwear",
          "Clothing",
          "Accessories",
          "Clothing",
          "Clothing",
          "Accessories",
          "Accessories",
          "Clothing",
          "Clothing",
          "Clothing",
          "Accessories",
          "Accessories",
          "Footwear",
          "Outerwear",
          "Clothing",
          "Accessories",
          "Accessories",
          "Clothing",
          "Clothing",
          "Clothing",
          "Outerwear",
          "Footwear",
          "Footwear",
          "Clothing",
          "Accessories",
          "Accessories",
          "Accessories",
          "Clothing",
          "Accessories",
          "Footwear",
          "Clothing",
          "Clothing",
          "Clothing",
          "Clothing",
          "Accessories",
          "Clothing",
          "Accessories",
          "Outerwear",
          "Accessories",
          "Clothing",
          "Accessories",
          "Clothing",
          "Outerwear",
          "Accessories",
          "Accessories",
          "Clothing",
          "Clothing",
          "Clothing",
          "Outerwear",
          "Clothing",
          "Accessories",
          "Accessories",
          "Accessories",
          "Accessories",
          "Clothing",
          "Footwear",
          "Accessories",
          "Clothing",
          "Clothing",
          "Accessories",
          "Accessories",
          "Footwear",
          "Footwear",
          "Accessories",
          "Outerwear",
          "Clothing",
          "Footwear",
          "Footwear",
          "Outerwear",
          "Accessories",
          "Footwear",
          "Accessories",
          "Outerwear",
          "Clothing",
          "Clothing",
          "Accessories",
          "Accessories",
          "Clothing",
          "Accessories",
          "Accessories",
          "Outerwear",
          "Accessories",
          "Clothing",
          "Accessories",
          "Clothing",
          "Accessories",
          "Accessories",
          "Footwear",
          "Accessories",
          "Accessories",
          "Accessories",
          "Clothing",
          "Clothing",
          "Accessories",
          "Clothing",
          "Accessories",
          "Accessories",
          "Clothing",
          "Clothing",
          "Clothing",
          "Clothing",
          "Accessories",
          "Footwear",
          "Clothing",
          "Clothing",
          "Accessories",
          "Clothing",
          "Clothing",
          "Clothing",
          "Footwear",
          "Outerwear",
          "Outerwear",
          "Clothing",
          "Accessories",
          "Clothing",
          "Clothing",
          "Footwear",
          "Clothing",
          "Accessories",
          "Clothing",
          "Clothing",
          "Accessories",
          "Footwear",
          "Footwear",
          "Outerwear",
          "Footwear",
          "Footwear",
          "Clothing",
          "Clothing",
          "Footwear",
          "Clothing",
          "Accessories",
          "Clothing",
          "Clothing",
          "Footwear",
          "Clothing",
          "Clothing",
          "Outerwear",
          "Outerwear",
          "Footwear",
          "Footwear",
          "Clothing",
          "Outerwear",
          "Clothing",
          "Clothing",
          "Footwear",
          "Footwear",
          "Accessories",
          "Footwear",
          "Accessories",
          "Accessories",
          "Accessories",
          "Clothing",
          "Accessories",
          "Accessories",
          "Accessories",
          "Footwear",
          "Accessories",
          "Accessories",
          "Clothing",
          "Clothing",
          "Clothing",
          "Accessories",
          "Accessories",
          "Accessories",
          "Outerwear",
          "Accessories",
          "Clothing",
          "Accessories",
          "Accessories",
          "Clothing",
          "Accessories",
          "Footwear",
          "Clothing",
          "Accessories",
          "Accessories",
          "Footwear",
          "Clothing",
          "Outerwear",
          "Accessories",
          "Clothing",
          "Accessories",
          "Clothing",
          "Outerwear",
          "Clothing",
          "Footwear",
          "Clothing",
          "Clothing",
          "Clothing",
          "Outerwear",
          "Outerwear",
          "Accessories",
          "Clothing",
          "Clothing",
          "Clothing",
          "Clothing",
          "Clothing",
          "Clothing",
          "Footwear",
          "Clothing",
          "Footwear",
          "Clothing",
          "Clothing",
          "Accessories",
          "Accessories",
          "Accessories",
          "Accessories",
          "Accessories",
          "Clothing",
          "Clothing",
          "Clothing",
          "Accessories",
          "Outerwear",
          "Accessories",
          "Clothing",
          "Accessories",
          "Outerwear",
          "Accessories",
          "Outerwear",
          "Footwear",
          "Clothing",
          "Footwear",
          "Accessories",
          "Footwear",
          "Clothing",
          "Accessories",
          "Clothing",
          "Accessories",
          "Clothing",
          "Clothing",
          "Accessories",
          "Accessories",
          "Footwear",
          "Accessories",
          "Clothing",
          "Footwear",
          "Accessories",
          "Accessories",
          "Clothing",
          "Clothing",
          "Clothing",
          "Clothing",
          "Clothing",
          "Accessories",
          "Accessories",
          "Accessories",
          "Accessories",
          "Accessories",
          "Accessories",
          "Clothing",
          "Accessories",
          "Accessories",
          "Footwear",
          "Accessories",
          "Footwear",
          "Clothing",
          "Clothing",
          "Accessories",
          "Clothing",
          "Clothing",
          "Clothing",
          "Clothing",
          "Clothing",
          "Footwear",
          "Clothing",
          "Outerwear",
          "Footwear",
          "Accessories",
          "Accessories",
          "Accessories",
          "Clothing",
          "Clothing",
          "Footwear",
          "Clothing",
          "Accessories",
          "Footwear",
          "Clothing",
          "Clothing",
          "Footwear",
          "Clothing",
          "Accessories",
          "Accessories",
          "Accessories",
          "Accessories",
          "Accessories",
          "Clothing",
          "Footwear",
          "Clothing",
          "Accessories",
          "Clothing",
          "Clothing",
          "Accessories",
          "Clothing",
          "Clothing",
          "Footwear",
          "Clothing",
          "Clothing",
          "Clothing",
          "Clothing",
          "Accessories",
          "Clothing",
          "Accessories",
          "Accessories",
          "Clothing",
          "Footwear",
          "Accessories",
          "Accessories",
          "Accessories",
          "Clothing",
          "Accessories",
          "Clothing",
          "Clothing",
          "Footwear",
          "Accessories",
          "Clothing",
          "Clothing",
          "Footwear",
          "Clothing",
          "Accessories",
          "Clothing",
          "Outerwear",
          "Accessories",
          "Footwear",
          "Clothing",
          "Outerwear",
          "Accessories",
          "Accessories",
          "Clothing",
          "Outerwear",
          "Accessories",
          "Outerwear",
          "Accessories",
          "Accessories",
          "Footwear",
          "Clothing",
          "Clothing",
          "Accessories",
          "Outerwear",
          "Clothing",
          "Accessories",
          "Accessories",
          "Clothing",
          "Clothing",
          "Clothing",
          "Accessories",
          "Accessories",
          "Clothing",
          "Accessories",
          "Accessories",
          "Clothing",
          "Accessories",
          "Outerwear",
          "Clothing",
          "Accessories",
          "Clothing",
          "Clothing",
          "Clothing",
          "Clothing",
          "Footwear",
          "Clothing",
          "Outerwear",
          "Clothing",
          "Accessories",
          "Clothing",
          "Clothing",
          "Clothing",
          "Footwear",
          "Footwear",
          "Clothing",
          "Outerwear",
          "Clothing",
          "Clothing",
          "Accessories",
          "Clothing",
          "Accessories",
          "Clothing",
          "Outerwear",
          "Footwear",
          "Accessories",
          "Outerwear",
          "Clothing",
          "Accessories",
          "Accessories",
          "Clothing",
          "Accessories",
          "Clothing",
          "Clothing",
          "Accessories",
          "Clothing",
          "Accessories",
          "Footwear",
          "Accessories",
          "Accessories",
          "Clothing",
          "Footwear",
          "Clothing",
          "Clothing",
          "Clothing",
          "Clothing",
          "Outerwear",
          "Clothing",
          "Clothing",
          "Clothing",
          "Clothing",
          "Clothing",
          "Clothing",
          "Clothing",
          "Accessories",
          "Clothing",
          "Accessories",
          "Footwear",
          "Accessories",
          "Outerwear",
          "Clothing",
          "Clothing",
          "Clothing",
          "Clothing",
          "Accessories",
          "Accessories",
          "Clothing",
          "Clothing",
          "Clothing",
          "Clothing",
          "Accessories",
          "Accessories",
          "Accessories",
          "Clothing",
          "Clothing",
          "Footwear",
          "Clothing",
          "Accessories",
          "Clothing",
          "Accessories",
          "Outerwear",
          "Clothing",
          "Clothing",
          "Accessories",
          "Clothing",
          "Footwear",
          "Clothing",
          "Clothing",
          "Accessories",
          "Accessories",
          "Clothing",
          "Accessories",
          "Clothing",
          "Clothing",
          "Clothing",
          "Footwear",
          "Accessories",
          "Clothing",
          "Clothing",
          "Clothing",
          "Accessories",
          "Footwear",
          "Clothing",
          "Accessories",
          "Clothing",
          "Footwear",
          "Outerwear",
          "Clothing",
          "Outerwear",
          "Outerwear",
          "Footwear",
          "Accessories",
          "Accessories",
          "Accessories",
          "Clothing",
          "Clothing",
          "Accessories",
          "Accessories",
          "Accessories",
          "Outerwear",
          "Clothing",
          "Clothing",
          "Clothing",
          "Accessories",
          "Clothing",
          "Footwear",
          "Accessories",
          "Accessories",
          "Clothing",
          "Clothing",
          "Accessories",
          "Clothing",
          "Clothing",
          "Outerwear",
          "Clothing",
          "Clothing",
          "Footwear",
          "Clothing",
          "Clothing",
          "Accessories",
          "Footwear",
          "Outerwear",
          "Accessories",
          "Clothing",
          "Accessories",
          "Footwear",
          "Clothing",
          "Clothing",
          "Footwear",
          "Accessories",
          "Clothing",
          "Accessories",
          "Clothing",
          "Clothing",
          "Clothing",
          "Clothing",
          "Clothing",
          "Clothing",
          "Footwear",
          "Clothing",
          "Clothing",
          "Outerwear",
          "Accessories",
          "Accessories",
          "Clothing",
          "Accessories",
          "Accessories",
          "Clothing",
          "Accessories",
          "Clothing",
          "Accessories",
          "Accessories",
          "Clothing",
          "Footwear",
          "Clothing",
          "Accessories",
          "Outerwear",
          "Clothing",
          "Footwear",
          "Accessories",
          "Footwear",
          "Clothing",
          "Clothing",
          "Accessories",
          "Clothing",
          "Clothing",
          "Clothing",
          "Clothing",
          "Clothing",
          "Accessories",
          "Clothing",
          "Accessories",
          "Accessories",
          "Clothing",
          "Footwear",
          "Accessories",
          "Footwear",
          "Accessories",
          "Clothing",
          "Clothing",
          "Clothing",
          "Accessories",
          "Clothing",
          "Clothing",
          "Clothing",
          "Clothing",
          "Clothing",
          "Clothing",
          "Footwear",
          "Clothing",
          "Accessories",
          "Clothing",
          "Clothing",
          "Clothing",
          "Clothing",
          "Accessories",
          "Accessories",
          "Clothing",
          "Accessories",
          "Accessories",
          "Clothing",
          "Clothing",
          "Clothing",
          "Accessories",
          "Accessories",
          "Outerwear",
          "Clothing",
          "Clothing",
          "Clothing",
          "Footwear",
          "Accessories",
          "Clothing",
          "Clothing",
          "Accessories",
          "Clothing",
          "Footwear",
          "Clothing",
          "Clothing",
          "Footwear",
          "Accessories",
          "Clothing",
          "Accessories",
          "Clothing",
          "Footwear",
          "Accessories",
          "Clothing",
          "Clothing",
          "Clothing",
          "Accessories",
          "Clothing",
          "Clothing",
          "Clothing",
          "Accessories",
          "Clothing",
          "Clothing",
          "Accessories",
          "Footwear",
          "Outerwear",
          "Footwear",
          "Accessories",
          "Clothing",
          "Accessories",
          "Clothing",
          "Clothing",
          "Accessories",
          "Clothing",
          "Footwear",
          "Outerwear",
          "Clothing",
          "Accessories",
          "Clothing",
          "Clothing",
          "Accessories",
          "Accessories",
          "Footwear",
          "Clothing",
          "Clothing",
          "Clothing",
          "Clothing",
          "Clothing",
          "Clothing",
          "Clothing",
          "Clothing",
          "Accessories",
          "Accessories",
          "Footwear",
          "Clothing",
          "Accessories",
          "Clothing",
          "Clothing",
          "Accessories",
          "Clothing",
          "Footwear",
          "Clothing",
          "Footwear",
          "Accessories",
          "Clothing",
          "Clothing",
          "Clothing",
          "Outerwear",
          "Clothing",
          "Clothing",
          "Clothing",
          "Accessories",
          "Accessories",
          "Accessories",
          "Clothing",
          "Accessories",
          "Outerwear",
          "Accessories",
          "Footwear",
          "Accessories",
          "Clothing",
          "Footwear",
          "Footwear",
          "Accessories",
          "Accessories",
          "Clothing",
          "Accessories",
          "Outerwear",
          "Accessories",
          "Clothing",
          "Accessories",
          "Accessories",
          "Footwear",
          "Clothing",
          "Clothing",
          "Accessories",
          "Footwear",
          "Footwear",
          "Accessories",
          "Clothing",
          "Clothing",
          "Accessories",
          "Accessories",
          "Clothing",
          "Footwear",
          "Footwear",
          "Footwear",
          "Accessories",
          "Clothing",
          "Clothing",
          "Footwear",
          "Clothing",
          "Footwear",
          "Clothing",
          "Accessories",
          "Clothing",
          "Accessories",
          "Footwear",
          "Clothing",
          "Accessories",
          "Clothing",
          "Clothing",
          "Accessories",
          "Accessories",
          "Clothing",
          "Clothing",
          "Clothing",
          "Accessories",
          "Footwear",
          "Footwear",
          "Accessories",
          "Accessories",
          "Clothing",
          "Clothing",
          "Clothing",
          "Clothing",
          "Clothing",
          "Clothing",
          "Accessories",
          "Clothing",
          "Clothing",
          "Accessories",
          "Outerwear",
          "Footwear",
          "Accessories",
          "Clothing",
          "Accessories",
          "Clothing",
          "Accessories",
          "Footwear",
          "Footwear",
          "Accessories",
          "Clothing",
          "Accessories",
          "Accessories",
          "Clothing",
          "Accessories",
          "Accessories",
          "Clothing",
          "Clothing",
          "Clothing",
          "Accessories",
          "Clothing",
          "Outerwear",
          "Clothing",
          "Footwear",
          "Footwear",
          "Footwear",
          "Clothing",
          "Accessories",
          "Clothing",
          "Accessories",
          "Outerwear",
          "Accessories",
          "Accessories",
          "Accessories",
          "Clothing",
          "Accessories",
          "Accessories",
          "Clothing",
          "Clothing",
          "Accessories",
          "Outerwear",
          "Clothing",
          "Accessories",
          "Clothing",
          "Clothing",
          "Clothing",
          "Accessories",
          "Footwear",
          "Outerwear",
          "Clothing",
          "Clothing",
          "Footwear",
          "Clothing",
          "Clothing",
          "Clothing",
          "Clothing",
          "Footwear",
          "Clothing",
          "Clothing",
          "Clothing",
          "Clothing",
          "Accessories",
          "Clothing",
          "Footwear",
          "Accessories",
          "Accessories",
          "Clothing",
          "Clothing",
          "Accessories",
          "Clothing",
          "Accessories",
          "Accessories",
          "Clothing",
          "Clothing",
          "Accessories",
          "Outerwear",
          "Clothing",
          "Clothing",
          "Accessories",
          "Accessories",
          "Accessories",
          "Outerwear",
          "Outerwear",
          "Clothing",
          "Outerwear",
          "Footwear",
          "Footwear",
          "Outerwear",
          "Clothing",
          "Accessories",
          "Clothing",
          "Clothing",
          "Accessories",
          "Footwear",
          "Accessories",
          "Accessories",
          "Clothing",
          "Clothing",
          "Footwear",
          "Accessories",
          "Clothing",
          "Accessories",
          "Footwear",
          "Footwear",
          "Clothing",
          "Accessories",
          "Clothing",
          "Clothing",
          "Footwear",
          "Clothing",
          "Clothing",
          "Clothing",
          "Clothing",
          "Accessories",
          "Accessories",
          "Clothing",
          "Accessories",
          "Accessories",
          "Clothing",
          "Clothing",
          "Clothing",
          "Clothing",
          "Footwear",
          "Footwear",
          "Clothing",
          "Outerwear",
          "Clothing",
          "Accessories",
          "Outerwear",
          "Clothing",
          "Clothing",
          "Clothing",
          "Accessories",
          "Accessories",
          "Clothing",
          "Accessories",
          "Accessories",
          "Accessories",
          "Clothing",
          "Outerwear",
          "Accessories",
          "Clothing",
          "Clothing",
          "Footwear",
          "Clothing",
          "Footwear",
          "Clothing",
          "Outerwear",
          "Clothing",
          "Accessories",
          "Clothing",
          "Accessories",
          "Clothing",
          "Clothing",
          "Clothing",
          "Clothing",
          "Footwear",
          "Accessories",
          "Accessories",
          "Accessories",
          "Clothing",
          "Clothing",
          "Clothing",
          "Clothing",
          "Clothing",
          "Footwear",
          "Accessories",
          "Accessories",
          "Footwear",
          "Accessories",
          "Clothing",
          "Clothing",
          "Accessories",
          "Accessories",
          "Footwear",
          "Clothing",
          "Accessories",
          "Accessories",
          "Clothing",
          "Accessories",
          "Clothing",
          "Clothing",
          "Footwear",
          "Accessories",
          "Accessories",
          "Clothing",
          "Accessories",
          "Accessories",
          "Clothing",
          "Footwear",
          "Outerwear",
          "Footwear",
          "Clothing",
          "Footwear",
          "Clothing",
          "Clothing",
          "Footwear",
          "Footwear",
          "Accessories",
          "Footwear",
          "Outerwear",
          "Clothing",
          "Clothing",
          "Clothing",
          "Clothing",
          "Outerwear",
          "Accessories",
          "Clothing",
          "Accessories",
          "Footwear",
          "Footwear",
          "Footwear",
          "Clothing",
          "Accessories",
          "Outerwear",
          "Clothing",
          "Clothing",
          "Clothing",
          "Clothing",
          "Accessories",
          "Accessories",
          "Accessories",
          "Accessories",
          "Accessories",
          "Outerwear",
          "Clothing",
          "Accessories",
          "Clothing",
          "Clothing",
          "Clothing",
          "Clothing",
          "Outerwear",
          "Outerwear",
          "Clothing",
          "Clothing",
          "Clothing",
          "Accessories",
          "Accessories",
          "Footwear",
          "Footwear",
          "Clothing",
          "Footwear",
          "Accessories",
          "Clothing",
          "Accessories",
          "Clothing",
          "Clothing",
          "Accessories",
          "Clothing",
          "Footwear",
          "Outerwear",
          "Clothing",
          "Clothing",
          "Accessories",
          "Accessories",
          "Accessories",
          "Clothing",
          "Accessories",
          "Outerwear",
          "Outerwear",
          "Clothing",
          "Accessories",
          "Accessories",
          "Clothing",
          "Accessories",
          "Accessories",
          "Clothing",
          "Accessories",
          "Clothing",
          "Accessories",
          "Footwear",
          "Clothing",
          "Clothing",
          "Accessories",
          "Clothing",
          "Footwear",
          "Outerwear",
          "Clothing",
          "Footwear",
          "Footwear",
          "Footwear",
          "Outerwear",
          "Accessories",
          "Outerwear",
          "Footwear",
          "Clothing",
          "Clothing",
          "Clothing",
          "Accessories",
          "Accessories",
          "Accessories",
          "Accessories",
          "Clothing",
          "Footwear",
          "Outerwear",
          "Accessories",
          "Footwear",
          "Footwear",
          "Clothing",
          "Clothing",
          "Outerwear",
          "Clothing",
          "Clothing",
          "Footwear",
          "Clothing",
          "Outerwear",
          "Accessories",
          "Footwear",
          "Clothing",
          "Footwear",
          "Clothing",
          "Footwear",
          "Accessories",
          "Clothing",
          "Clothing",
          "Accessories",
          "Clothing",
          "Clothing",
          "Accessories",
          "Accessories",
          "Accessories",
          "Clothing",
          "Clothing",
          "Accessories",
          "Footwear",
          "Footwear",
          "Clothing",
          "Accessories",
          "Clothing",
          "Footwear",
          "Clothing",
          "Footwear",
          "Clothing",
          "Accessories",
          "Accessories",
          "Accessories",
          "Clothing",
          "Accessories",
          "Accessories",
          "Accessories",
          "Footwear",
          "Clothing",
          "Accessories",
          "Clothing",
          "Accessories",
          "Clothing",
          "Accessories",
          "Clothing",
          "Outerwear",
          "Clothing",
          "Clothing",
          "Clothing",
          "Clothing",
          "Footwear",
          "Clothing",
          "Clothing",
          "Accessories",
          "Outerwear",
          "Clothing",
          "Accessories",
          "Footwear",
          "Accessories",
          "Clothing",
          "Clothing",
          "Clothing",
          "Accessories",
          "Clothing",
          "Footwear",
          "Accessories",
          "Footwear",
          "Clothing",
          "Outerwear",
          "Clothing",
          "Clothing",
          "Outerwear",
          "Footwear",
          "Accessories",
          "Clothing",
          "Clothing",
          "Outerwear",
          "Footwear",
          "Accessories",
          "Accessories",
          "Accessories",
          "Footwear",
          "Outerwear",
          "Outerwear",
          "Clothing",
          "Footwear",
          "Outerwear",
          "Clothing",
          "Outerwear",
          "Clothing",
          "Accessories",
          "Footwear",
          "Clothing",
          "Footwear",
          "Clothing",
          "Accessories",
          "Clothing",
          "Accessories",
          "Clothing",
          "Accessories",
          "Accessories",
          "Accessories",
          "Clothing",
          "Clothing",
          "Accessories",
          "Outerwear",
          "Clothing",
          "Clothing",
          "Clothing",
          "Clothing",
          "Accessories",
          "Accessories",
          "Clothing",
          "Accessories",
          "Clothing",
          "Clothing",
          "Clothing",
          "Accessories",
          "Clothing",
          "Clothing",
          "Outerwear",
          "Footwear",
          "Clothing",
          "Clothing",
          "Clothing",
          "Footwear",
          "Clothing",
          "Footwear",
          "Clothing",
          "Clothing",
          "Clothing",
          "Clothing",
          "Accessories",
          "Accessories",
          "Clothing",
          "Clothing",
          "Clothing",
          "Accessories",
          "Accessories",
          "Clothing",
          "Clothing",
          "Clothing",
          "Clothing",
          "Footwear",
          "Accessories",
          "Outerwear",
          "Clothing",
          "Accessories",
          "Accessories",
          "Clothing",
          "Footwear",
          "Accessories",
          "Accessories",
          "Accessories",
          "Outerwear",
          "Clothing",
          "Accessories",
          "Clothing",
          "Clothing",
          "Footwear",
          "Clothing",
          "Accessories",
          "Clothing",
          "Footwear",
          "Footwear",
          "Clothing",
          "Outerwear",
          "Accessories",
          "Clothing",
          "Accessories",
          "Accessories",
          "Clothing",
          "Clothing",
          "Clothing",
          "Footwear",
          "Outerwear",
          "Outerwear",
          "Accessories",
          "Accessories",
          "Accessories",
          "Outerwear",
          "Clothing",
          "Clothing",
          "Clothing",
          "Accessories",
          "Accessories",
          "Clothing",
          "Footwear",
          "Clothing",
          "Accessories",
          "Accessories",
          "Outerwear",
          "Accessories",
          "Outerwear",
          "Accessories",
          "Footwear",
          "Accessories",
          "Accessories",
          "Accessories",
          "Accessories",
          "Clothing",
          "Footwear",
          "Footwear",
          "Outerwear",
          "Accessories",
          "Outerwear",
          "Footwear",
          "Footwear",
          "Accessories",
          "Accessories",
          "Accessories",
          "Clothing",
          "Clothing",
          "Clothing",
          "Clothing",
          "Accessories",
          "Footwear",
          "Clothing",
          "Clothing",
          "Accessories",
          "Accessories",
          "Clothing",
          "Accessories",
          "Accessories",
          "Clothing",
          "Clothing",
          "Footwear",
          "Accessories",
          "Clothing",
          "Clothing",
          "Accessories",
          "Clothing",
          "Clothing",
          "Clothing",
          "Accessories",
          "Clothing",
          "Clothing",
          "Clothing",
          "Clothing",
          "Clothing",
          "Clothing",
          "Accessories",
          "Outerwear",
          "Accessories",
          "Accessories",
          "Clothing",
          "Accessories",
          "Outerwear",
          "Clothing",
          "Clothing",
          "Clothing",
          "Clothing",
          "Clothing",
          "Accessories",
          "Accessories",
          "Accessories",
          "Accessories",
          "Clothing",
          "Outerwear",
          "Clothing",
          "Clothing",
          "Clothing",
          "Footwear",
          "Footwear",
          "Outerwear",
          "Accessories",
          "Clothing",
          "Outerwear",
          "Accessories",
          "Accessories",
          "Outerwear",
          "Clothing",
          "Footwear",
          "Clothing",
          "Accessories",
          "Clothing",
          "Clothing",
          "Footwear",
          "Accessories",
          "Footwear",
          "Clothing",
          "Clothing",
          "Outerwear",
          "Clothing",
          "Clothing",
          "Accessories",
          "Clothing",
          "Clothing",
          "Accessories",
          "Accessories",
          "Footwear",
          "Clothing",
          "Outerwear",
          "Clothing",
          "Clothing",
          "Clothing",
          "Clothing",
          "Accessories",
          "Accessories",
          "Accessories",
          "Clothing",
          "Accessories",
          "Clothing",
          "Footwear",
          "Clothing",
          "Accessories",
          "Clothing",
          "Footwear",
          "Clothing",
          "Clothing",
          "Outerwear",
          "Accessories",
          "Clothing",
          "Clothing",
          "Accessories",
          "Footwear",
          "Clothing",
          "Footwear",
          "Clothing",
          "Footwear",
          "Accessories",
          "Clothing",
          "Footwear",
          "Footwear",
          "Outerwear",
          "Accessories",
          "Accessories",
          "Footwear",
          "Footwear",
          "Clothing",
          "Accessories",
          "Clothing",
          "Accessories",
          "Clothing",
          "Accessories",
          "Clothing",
          "Clothing",
          "Footwear",
          "Footwear",
          "Accessories",
          "Clothing",
          "Footwear",
          "Clothing",
          "Clothing",
          "Accessories",
          "Clothing",
          "Accessories",
          "Clothing",
          "Footwear",
          "Footwear",
          "Accessories",
          "Accessories",
          "Outerwear",
          "Outerwear",
          "Clothing",
          "Footwear",
          "Clothing",
          "Clothing",
          "Footwear",
          "Accessories",
          "Clothing",
          "Outerwear",
          "Footwear",
          "Accessories",
          "Clothing",
          "Clothing",
          "Outerwear",
          "Accessories",
          "Outerwear",
          "Outerwear",
          "Clothing",
          "Footwear",
          "Footwear",
          "Accessories",
          "Clothing",
          "Clothing",
          "Accessories",
          "Footwear",
          "Accessories",
          "Footwear",
          "Footwear",
          "Accessories",
          "Accessories",
          "Clothing",
          "Clothing",
          "Accessories",
          "Accessories",
          "Accessories",
          "Clothing",
          "Accessories",
          "Clothing",
          "Clothing",
          "Clothing",
          "Accessories",
          "Footwear",
          "Clothing",
          "Accessories",
          "Clothing",
          "Footwear",
          "Accessories",
          "Clothing",
          "Footwear",
          "Clothing",
          "Clothing",
          "Outerwear",
          "Outerwear",
          "Footwear",
          "Clothing",
          "Clothing",
          "Accessories",
          "Accessories",
          "Accessories",
          "Accessories",
          "Accessories",
          "Clothing",
          "Footwear",
          "Clothing",
          "Footwear",
          "Clothing",
          "Accessories",
          "Clothing",
          "Accessories",
          "Clothing",
          "Clothing",
          "Clothing",
          "Clothing",
          "Footwear",
          "Outerwear",
          "Accessories",
          "Clothing",
          "Footwear",
          "Clothing",
          "Accessories",
          "Clothing",
          "Accessories",
          "Accessories",
          "Footwear",
          "Footwear",
          "Accessories",
          "Clothing",
          "Clothing",
          "Clothing",
          "Accessories",
          "Footwear",
          "Footwear",
          "Clothing",
          "Clothing",
          "Accessories",
          "Clothing",
          "Footwear",
          "Outerwear",
          "Accessories",
          "Outerwear",
          "Accessories",
          "Clothing",
          "Clothing",
          "Clothing",
          "Clothing",
          "Outerwear",
          "Clothing",
          "Clothing",
          "Accessories",
          "Clothing",
          "Clothing",
          "Clothing",
          "Clothing",
          "Clothing",
          "Outerwear",
          "Clothing",
          "Clothing",
          "Clothing",
          "Clothing",
          "Clothing",
          "Accessories",
          "Clothing",
          "Clothing",
          "Accessories",
          "Footwear",
          "Clothing",
          "Clothing",
          "Accessories",
          "Accessories",
          "Accessories",
          "Clothing",
          "Accessories",
          "Accessories",
          "Clothing",
          "Clothing",
          "Accessories",
          "Clothing",
          "Outerwear",
          "Clothing",
          "Clothing",
          "Footwear",
          "Outerwear",
          "Accessories",
          "Clothing",
          "Clothing",
          "Outerwear",
          "Clothing",
          "Accessories",
          "Accessories",
          "Clothing",
          "Accessories",
          "Footwear",
          "Outerwear",
          "Clothing",
          "Clothing",
          "Accessories",
          "Accessories",
          "Footwear",
          "Footwear",
          "Outerwear",
          "Clothing",
          "Clothing",
          "Clothing",
          "Clothing",
          "Outerwear",
          "Outerwear",
          "Clothing",
          "Clothing",
          "Clothing",
          "Clothing",
          "Footwear",
          "Accessories",
          "Clothing",
          "Accessories",
          "Clothing",
          "Accessories",
          "Clothing",
          "Clothing",
          "Clothing",
          "Clothing",
          "Clothing",
          "Clothing",
          "Clothing",
          "Clothing",
          "Accessories",
          "Clothing",
          "Clothing",
          "Footwear",
          "Accessories",
          "Accessories",
          "Footwear",
          "Clothing",
          "Accessories",
          "Clothing",
          "Clothing",
          "Clothing",
          "Accessories",
          "Accessories",
          "Clothing",
          "Clothing",
          "Outerwear",
          "Footwear",
          "Footwear",
          "Clothing",
          "Clothing",
          "Footwear",
          "Accessories",
          "Footwear",
          "Accessories",
          "Outerwear",
          "Accessories",
          "Clothing",
          "Accessories",
          "Accessories",
          "Clothing",
          "Footwear",
          "Outerwear",
          "Clothing",
          "Clothing",
          "Clothing",
          "Clothing",
          "Accessories",
          "Footwear",
          "Accessories",
          "Accessories",
          "Accessories",
          "Clothing",
          "Clothing",
          "Clothing",
          "Accessories",
          "Clothing",
          "Accessories",
          "Clothing",
          "Clothing",
          "Accessories",
          "Accessories",
          "Accessories",
          "Accessories",
          "Footwear",
          "Clothing",
          "Accessories",
          "Accessories",
          "Clothing",
          "Accessories",
          "Clothing",
          "Clothing",
          "Clothing",
          "Footwear",
          "Accessories",
          "Clothing",
          "Accessories",
          "Clothing",
          "Accessories",
          "Clothing",
          "Accessories",
          "Accessories",
          "Clothing",
          "Clothing",
          "Footwear",
          "Clothing",
          "Accessories",
          "Clothing",
          "Accessories",
          "Outerwear",
          "Clothing",
          "Clothing",
          "Footwear",
          "Outerwear",
          "Accessories",
          "Footwear",
          "Footwear",
          "Clothing",
          "Accessories",
          "Accessories",
          "Accessories",
          "Outerwear",
          "Footwear",
          "Footwear",
          "Accessories",
          "Outerwear",
          "Clothing",
          "Clothing",
          "Clothing",
          "Accessories",
          "Clothing",
          "Clothing",
          "Clothing",
          "Accessories",
          "Accessories",
          "Accessories",
          "Clothing",
          "Clothing",
          "Accessories",
          "Clothing",
          "Clothing",
          "Clothing",
          "Outerwear",
          "Clothing",
          "Clothing",
          "Accessories",
          "Clothing",
          "Clothing",
          "Accessories",
          "Footwear",
          "Outerwear",
          "Accessories",
          "Clothing",
          "Clothing",
          "Clothing",
          "Clothing",
          "Accessories",
          "Footwear",
          "Accessories",
          "Accessories",
          "Accessories",
          "Accessories",
          "Clothing",
          "Clothing",
          "Accessories",
          "Clothing",
          "Accessories",
          "Footwear",
          "Outerwear",
          "Clothing",
          "Accessories",
          "Footwear",
          "Accessories",
          "Clothing",
          "Footwear",
          "Clothing",
          "Clothing",
          "Clothing",
          "Clothing",
          "Footwear",
          "Clothing",
          "Accessories",
          "Clothing",
          "Footwear",
          "Accessories",
          "Clothing",
          "Accessories",
          "Accessories",
          "Clothing",
          "Accessories",
          "Accessories",
          "Outerwear",
          "Accessories",
          "Footwear",
          "Clothing",
          "Footwear",
          "Footwear",
          "Accessories",
          "Accessories",
          "Outerwear",
          "Accessories",
          "Footwear",
          "Footwear",
          "Footwear",
          "Footwear",
          "Accessories",
          "Accessories",
          "Accessories",
          "Clothing",
          "Outerwear",
          "Clothing",
          "Accessories",
          "Accessories",
          "Accessories",
          "Outerwear",
          "Clothing",
          "Accessories",
          "Footwear",
          "Clothing",
          "Footwear",
          "Clothing",
          "Accessories",
          "Clothing",
          "Footwear",
          "Clothing",
          "Accessories",
          "Clothing",
          "Accessories",
          "Accessories",
          "Clothing",
          "Footwear",
          "Clothing",
          "Clothing",
          "Accessories",
          "Clothing",
          "Accessories",
          "Clothing",
          "Clothing",
          "Footwear",
          "Clothing",
          "Clothing",
          "Accessories",
          "Clothing",
          "Footwear",
          "Accessories",
          "Clothing",
          "Footwear",
          "Clothing",
          "Clothing",
          "Accessories",
          "Accessories",
          "Outerwear",
          "Clothing",
          "Clothing",
          "Clothing",
          "Footwear",
          "Clothing",
          "Clothing",
          "Outerwear",
          "Accessories",
          "Accessories",
          "Clothing",
          "Clothing",
          "Accessories",
          "Accessories",
          "Outerwear",
          "Clothing",
          "Clothing",
          "Footwear",
          "Clothing",
          "Clothing",
          "Clothing",
          "Accessories",
          "Accessories",
          "Outerwear",
          "Accessories",
          "Accessories",
          "Outerwear",
          "Footwear",
          "Clothing",
          "Outerwear",
          "Clothing",
          "Clothing",
          "Footwear",
          "Footwear",
          "Clothing",
          "Outerwear",
          "Clothing",
          "Accessories",
          "Accessories",
          "Accessories",
          "Footwear",
          "Clothing",
          "Footwear",
          "Accessories",
          "Clothing",
          "Clothing",
          "Clothing",
          "Accessories",
          "Clothing",
          "Clothing",
          "Accessories",
          "Clothing",
          "Accessories",
          "Accessories",
          "Clothing",
          "Accessories",
          "Accessories",
          "Accessories",
          "Accessories",
          "Clothing",
          "Footwear",
          "Clothing",
          "Clothing",
          "Outerwear",
          "Clothing",
          "Clothing",
          "Clothing",
          "Clothing",
          "Accessories",
          "Accessories",
          "Clothing",
          "Clothing",
          "Clothing",
          "Clothing",
          "Footwear",
          "Accessories",
          "Footwear",
          "Clothing",
          "Accessories",
          "Outerwear",
          "Accessories",
          "Footwear",
          "Clothing",
          "Clothing",
          "Accessories",
          "Clothing",
          "Clothing",
          "Footwear",
          "Clothing",
          "Clothing",
          "Clothing",
          "Accessories",
          "Footwear",
          "Accessories",
          "Accessories",
          "Clothing",
          "Accessories",
          "Accessories",
          "Clothing",
          "Clothing",
          "Accessories",
          "Outerwear",
          "Outerwear",
          "Clothing",
          "Footwear",
          "Clothing",
          "Accessories",
          "Footwear",
          "Clothing",
          "Clothing",
          "Footwear",
          "Accessories",
          "Clothing",
          "Outerwear",
          "Clothing",
          "Accessories",
          "Clothing",
          "Outerwear",
          "Accessories",
          "Clothing",
          "Accessories",
          "Clothing",
          "Clothing",
          "Clothing",
          "Footwear",
          "Accessories",
          "Accessories",
          "Clothing",
          "Footwear",
          "Footwear",
          "Clothing",
          "Accessories",
          "Accessories",
          "Accessories",
          "Accessories",
          "Clothing",
          "Footwear",
          "Accessories",
          "Footwear",
          "Accessories",
          "Clothing",
          "Clothing",
          "Clothing",
          "Clothing",
          "Footwear",
          "Accessories",
          "Clothing",
          "Accessories",
          "Outerwear",
          "Outerwear",
          "Footwear",
          "Accessories",
          "Clothing",
          "Clothing",
          "Accessories",
          "Clothing",
          "Footwear",
          "Accessories",
          "Accessories",
          "Accessories",
          "Clothing",
          "Clothing",
          "Clothing",
          "Accessories",
          "Outerwear",
          "Clothing",
          "Clothing",
          "Clothing",
          "Clothing",
          "Clothing",
          "Footwear",
          "Accessories",
          "Clothing",
          "Clothing",
          "Accessories",
          "Clothing",
          "Clothing",
          "Accessories",
          "Accessories",
          "Clothing",
          "Clothing",
          "Outerwear",
          "Accessories",
          "Accessories",
          "Outerwear",
          "Clothing",
          "Accessories",
          "Accessories",
          "Outerwear",
          "Accessories",
          "Accessories",
          "Outerwear",
          "Clothing",
          "Clothing",
          "Clothing",
          "Accessories",
          "Outerwear",
          "Clothing",
          "Accessories",
          "Clothing",
          "Clothing",
          "Accessories",
          "Accessories",
          "Clothing",
          "Outerwear",
          "Accessories",
          "Clothing",
          "Accessories",
          "Outerwear",
          "Accessories",
          "Footwear",
          "Accessories",
          "Clothing",
          "Accessories",
          "Clothing",
          "Accessories",
          "Outerwear",
          "Clothing",
          "Clothing",
          "Outerwear",
          "Clothing",
          "Accessories",
          "Clothing",
          "Footwear",
          "Accessories",
          "Clothing",
          "Footwear",
          "Accessories",
          "Footwear",
          "Accessories",
          "Clothing",
          "Clothing",
          "Clothing",
          "Accessories",
          "Clothing",
          "Outerwear",
          "Clothing",
          "Accessories",
          "Clothing",
          "Outerwear",
          "Outerwear",
          "Clothing",
          "Accessories",
          "Accessories",
          "Clothing",
          "Footwear",
          "Clothing",
          "Accessories",
          "Accessories",
          "Clothing",
          "Accessories",
          "Clothing",
          "Clothing",
          "Clothing",
          "Clothing",
          "Clothing",
          "Clothing",
          "Accessories",
          "Outerwear",
          "Footwear",
          "Accessories",
          "Clothing",
          "Accessories",
          "Clothing",
          "Accessories",
          "Clothing",
          "Footwear",
          "Clothing",
          "Accessories",
          "Clothing",
          "Clothing",
          "Footwear",
          "Clothing",
          "Footwear",
          "Accessories",
          "Clothing",
          "Clothing",
          "Accessories",
          "Clothing",
          "Accessories",
          "Clothing",
          "Outerwear",
          "Clothing",
          "Accessories",
          "Clothing",
          "Clothing",
          "Clothing",
          "Clothing",
          "Clothing",
          "Clothing",
          "Accessories",
          "Clothing",
          "Footwear",
          "Clothing",
          "Clothing",
          "Clothing",
          "Clothing",
          "Clothing",
          "Accessories",
          "Accessories",
          "Clothing",
          "Footwear",
          "Accessories",
          "Clothing",
          "Clothing",
          "Clothing",
          "Clothing",
          "Clothing",
          "Footwear",
          "Footwear",
          "Footwear",
          "Accessories",
          "Footwear",
          "Clothing",
          "Footwear",
          "Outerwear",
          "Outerwear",
          "Accessories",
          "Accessories",
          "Footwear",
          "Outerwear",
          "Footwear",
          "Accessories",
          "Accessories",
          "Clothing",
          "Clothing",
          "Accessories",
          "Clothing",
          "Clothing",
          "Accessories",
          "Footwear",
          "Clothing",
          "Clothing",
          "Clothing",
          "Accessories",
          "Outerwear",
          "Clothing",
          "Accessories",
          "Accessories",
          "Clothing",
          "Clothing",
          "Clothing",
          "Clothing",
          "Accessories",
          "Footwear",
          "Footwear",
          "Outerwear",
          "Clothing",
          "Clothing",
          "Clothing",
          "Outerwear",
          "Clothing",
          "Accessories",
          "Clothing",
          "Clothing",
          "Accessories",
          "Accessories",
          "Clothing",
          "Accessories",
          "Footwear",
          "Clothing",
          "Accessories",
          "Outerwear",
          "Accessories",
          "Clothing",
          "Accessories",
          "Accessories",
          "Clothing",
          "Outerwear",
          "Footwear",
          "Clothing",
          "Clothing",
          "Clothing",
          "Footwear",
          "Footwear",
          "Accessories",
          "Accessories",
          "Clothing",
          "Footwear",
          "Clothing",
          "Accessories",
          "Clothing",
          "Clothing",
          "Clothing",
          "Clothing",
          "Footwear",
          "Clothing",
          "Clothing",
          "Footwear",
          "Clothing",
          "Accessories",
          "Clothing",
          "Accessories",
          "Clothing",
          "Footwear",
          "Accessories",
          "Footwear",
          "Clothing",
          "Clothing",
          "Footwear",
          "Accessories",
          "Clothing",
          "Accessories",
          "Accessories",
          "Clothing",
          "Accessories",
          "Clothing",
          "Clothing",
          "Footwear",
          "Accessories",
          "Clothing",
          "Clothing",
          "Footwear",
          "Clothing",
          "Footwear",
          "Clothing",
          "Clothing",
          "Clothing",
          "Accessories",
          "Footwear",
          "Clothing",
          "Accessories",
          "Clothing",
          "Accessories",
          "Clothing",
          "Clothing",
          "Accessories",
          "Clothing",
          "Accessories",
          "Footwear",
          "Clothing",
          "Footwear",
          "Footwear",
          "Clothing",
          "Accessories",
          "Accessories",
          "Footwear",
          "Accessories",
          "Clothing",
          "Clothing",
          "Outerwear",
          "Accessories",
          "Clothing",
          "Footwear",
          "Accessories",
          "Accessories",
          "Clothing",
          "Clothing",
          "Footwear",
          "Accessories",
          "Accessories",
          "Footwear",
          "Clothing",
          "Clothing",
          "Clothing",
          "Outerwear",
          "Accessories",
          "Clothing",
          "Clothing",
          "Footwear",
          "Footwear",
          "Clothing",
          "Accessories",
          "Accessories",
          "Clothing",
          "Accessories",
          "Footwear",
          "Footwear",
          "Clothing",
          "Clothing",
          "Clothing",
          "Clothing",
          "Clothing",
          "Outerwear",
          "Footwear",
          "Accessories",
          "Footwear",
          "Accessories",
          "Clothing",
          "Clothing",
          "Clothing",
          "Clothing",
          "Footwear",
          "Accessories",
          "Clothing",
          "Clothing",
          "Accessories",
          "Accessories",
          "Clothing",
          "Outerwear",
          "Footwear",
          "Footwear",
          "Accessories",
          "Clothing",
          "Clothing",
          "Accessories",
          "Clothing",
          "Accessories",
          "Clothing",
          "Clothing",
          "Clothing",
          "Clothing",
          "Clothing",
          "Clothing",
          "Footwear",
          "Accessories",
          "Accessories",
          "Clothing",
          "Outerwear",
          "Clothing",
          "Footwear",
          "Accessories",
          "Accessories",
          "Clothing",
          "Clothing",
          "Accessories",
          "Accessories",
          "Accessories",
          "Footwear",
          "Footwear",
          "Clothing",
          "Accessories",
          "Accessories",
          "Accessories",
          "Clothing",
          "Accessories",
          "Clothing",
          "Clothing",
          "Accessories",
          "Accessories",
          "Footwear",
          "Accessories",
          "Clothing",
          "Footwear",
          "Footwear",
          "Footwear",
          "Accessories",
          "Outerwear",
          "Accessories",
          "Outerwear",
          "Clothing",
          "Accessories",
          "Clothing",
          "Accessories",
          "Accessories",
          "Clothing",
          "Clothing",
          "Clothing",
          "Clothing",
          "Accessories",
          "Accessories",
          "Outerwear",
          "Accessories",
          "Clothing",
          "Outerwear",
          "Footwear",
          "Clothing",
          "Footwear",
          "Footwear",
          "Footwear",
          "Clothing",
          "Accessories",
          "Outerwear",
          "Clothing",
          "Accessories",
          "Clothing",
          "Clothing",
          "Clothing",
          "Footwear",
          "Accessories",
          "Footwear",
          "Clothing",
          "Accessories",
          "Accessories",
          "Accessories",
          "Accessories",
          "Clothing",
          "Outerwear",
          "Accessories",
          "Accessories",
          "Clothing",
          "Clothing",
          "Clothing",
          "Clothing",
          "Footwear",
          "Clothing",
          "Accessories",
          "Accessories",
          "Clothing",
          "Footwear",
          "Outerwear",
          "Clothing",
          "Clothing",
          "Clothing",
          "Clothing",
          "Clothing",
          "Clothing",
          "Accessories",
          "Accessories",
          "Footwear",
          "Footwear",
          "Footwear",
          "Accessories",
          "Clothing",
          "Footwear",
          "Accessories",
          "Clothing",
          "Clothing",
          "Accessories",
          "Accessories",
          "Clothing",
          "Footwear",
          "Accessories",
          "Accessories",
          "Clothing",
          "Clothing",
          "Clothing",
          "Clothing",
          "Accessories",
          "Outerwear",
          "Outerwear",
          "Footwear",
          "Accessories",
          "Clothing",
          "Accessories",
          "Clothing",
          "Outerwear",
          "Footwear",
          "Clothing",
          "Accessories",
          "Footwear",
          "Clothing",
          "Clothing",
          "Footwear",
          "Clothing",
          "Accessories",
          "Clothing",
          "Accessories",
          "Clothing",
          "Clothing",
          "Clothing",
          "Clothing",
          "Clothing",
          "Clothing",
          "Outerwear",
          "Clothing",
          "Accessories",
          "Clothing",
          "Clothing",
          "Accessories",
          "Outerwear",
          "Accessories",
          "Footwear",
          "Clothing",
          "Clothing",
          "Clothing",
          "Footwear",
          "Footwear",
          "Clothing",
          "Accessories",
          "Clothing",
          "Clothing",
          "Clothing",
          "Accessories",
          "Accessories",
          "Clothing",
          "Clothing",
          "Accessories",
          "Clothing",
          "Clothing",
          "Clothing",
          "Clothing",
          "Accessories",
          "Accessories",
          "Footwear",
          "Clothing",
          "Footwear",
          "Clothing",
          "Footwear",
          "Footwear",
          "Outerwear",
          "Accessories",
          "Clothing",
          "Clothing",
          "Footwear",
          "Clothing",
          "Accessories",
          "Clothing",
          "Accessories",
          "Accessories",
          "Accessories",
          "Accessories",
          "Accessories",
          "Accessories",
          "Clothing",
          "Accessories",
          "Accessories",
          "Outerwear",
          "Clothing",
          "Clothing",
          "Accessories",
          "Accessories",
          "Accessories",
          "Accessories",
          "Footwear",
          "Clothing",
          "Clothing",
          "Footwear",
          "Clothing",
          "Accessories",
          "Clothing",
          "Clothing",
          "Clothing",
          "Accessories",
          "Outerwear",
          "Accessories",
          "Footwear",
          "Clothing",
          "Accessories",
          "Footwear",
          "Accessories",
          "Clothing",
          "Clothing",
          "Clothing",
          "Outerwear",
          "Accessories",
          "Clothing",
          "Clothing",
          "Accessories",
          "Accessories",
          "Footwear",
          "Outerwear",
          "Clothing",
          "Footwear",
          "Clothing",
          "Clothing",
          "Clothing",
          "Footwear",
          "Clothing",
          "Clothing",
          "Outerwear",
          "Accessories",
          "Clothing",
          "Clothing",
          "Clothing",
          "Clothing",
          "Accessories",
          "Clothing",
          "Accessories",
          "Accessories",
          "Accessories",
          "Accessories",
          "Clothing",
          "Clothing",
          "Footwear",
          "Accessories",
          "Clothing",
          "Clothing",
          "Accessories",
          "Outerwear",
          "Clothing",
          "Accessories",
          "Clothing",
          "Clothing",
          "Accessories",
          "Outerwear",
          "Clothing",
          "Outerwear",
          "Footwear",
          "Clothing",
          "Outerwear",
          "Footwear",
          "Clothing",
          "Accessories",
          "Footwear",
          "Clothing",
          "Accessories",
          "Clothing",
          "Clothing",
          "Accessories",
          "Clothing",
          "Accessories",
          "Footwear",
          "Clothing",
          "Accessories",
          "Clothing",
          "Footwear",
          "Clothing",
          "Clothing",
          "Clothing",
          "Accessories",
          "Accessories",
          "Clothing",
          "Clothing",
          "Accessories",
          "Accessories",
          "Footwear",
          "Accessories"
         ],
         "xaxis": "x",
         "y": {
          "bdata": "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",
          "dtype": "f8"
         },
         "yaxis": "y"
        }
       ],
       "layout": {
        "barmode": "relative",
        "legend": {
         "tracegroupgap": 0
        },
        "margin": {
         "t": 60
        },
        "template": {
         "data": {
          "bar": [
           {
            "error_x": {
             "color": "#2a3f5f"
            },
            "error_y": {
             "color": "#2a3f5f"
            },
            "marker": {
             "line": {
              "color": "#E5ECF6",
              "width": 0.5
             },
             "pattern": {
              "fillmode": "overlay",
              "size": 10,
              "solidity": 0.2
             }
            },
            "type": "bar"
           }
          ],
          "barpolar": [
           {
            "marker": {
             "line": {
              "color": "#E5ECF6",
              "width": 0.5
             },
             "pattern": {
              "fillmode": "overlay",
              "size": 10,
              "solidity": 0.2
             }
            },
            "type": "barpolar"
           }
          ],
          "carpet": [
           {
            "aaxis": {
             "endlinecolor": "#2a3f5f",
             "gridcolor": "white",
             "linecolor": "white",
             "minorgridcolor": "white",
             "startlinecolor": "#2a3f5f"
            },
            "baxis": {
             "endlinecolor": "#2a3f5f",
             "gridcolor": "white",
             "linecolor": "white",
             "minorgridcolor": "white",
             "startlinecolor": "#2a3f5f"
            },
            "type": "carpet"
           }
          ],
          "choropleth": [
           {
            "colorbar": {
             "outlinewidth": 0,
             "ticks": ""
            },
            "type": "choropleth"
           }
          ],
          "contour": [
           {
            "colorbar": {
             "outlinewidth": 0,
             "ticks": ""
            },
            "colorscale": [
             [
              0,
              "#0d0887"
             ],
             [
              0.1111111111111111,
              "#46039f"
             ],
             [
              0.2222222222222222,
              "#7201a8"
             ],
             [
              0.3333333333333333,
              "#9c179e"
             ],
             [
              0.4444444444444444,
              "#bd3786"
             ],
             [
              0.5555555555555556,
              "#d8576b"
             ],
             [
              0.6666666666666666,
              "#ed7953"
             ],
             [
              0.7777777777777778,
              "#fb9f3a"
             ],
             [
              0.8888888888888888,
              "#fdca26"
             ],
             [
              1,
              "#f0f921"
             ]
            ],
            "type": "contour"
           }
          ],
          "contourcarpet": [
           {
            "colorbar": {
             "outlinewidth": 0,
             "ticks": ""
            },
            "type": "contourcarpet"
           }
          ],
          "heatmap": [
           {
            "colorbar": {
             "outlinewidth": 0,
             "ticks": ""
            },
            "colorscale": [
             [
              0,
              "#0d0887"
             ],
             [
              0.1111111111111111,
              "#46039f"
             ],
             [
              0.2222222222222222,
              "#7201a8"
             ],
             [
              0.3333333333333333,
              "#9c179e"
             ],
             [
              0.4444444444444444,
              "#bd3786"
             ],
             [
              0.5555555555555556,
              "#d8576b"
             ],
             [
              0.6666666666666666,
              "#ed7953"
             ],
             [
              0.7777777777777778,
              "#fb9f3a"
             ],
             [
              0.8888888888888888,
              "#fdca26"
             ],
             [
              1,
              "#f0f921"
             ]
            ],
            "type": "heatmap"
           }
          ],
          "histogram": [
           {
            "marker": {
             "pattern": {
              "fillmode": "overlay",
              "size": 10,
              "solidity": 0.2
             }
            },
            "type": "histogram"
           }
          ],
          "histogram2d": [
           {
            "colorbar": {
             "outlinewidth": 0,
             "ticks": ""
            },
            "colorscale": [
             [
              0,
              "#0d0887"
             ],
             [
              0.1111111111111111,
              "#46039f"
             ],
             [
              0.2222222222222222,
              "#7201a8"
             ],
             [
              0.3333333333333333,
              "#9c179e"
             ],
             [
              0.4444444444444444,
              "#bd3786"
             ],
             [
              0.5555555555555556,
              "#d8576b"
             ],
             [
              0.6666666666666666,
              "#ed7953"
             ],
             [
              0.7777777777777778,
              "#fb9f3a"
             ],
             [
              0.8888888888888888,
              "#fdca26"
             ],
             [
              1,
              "#f0f921"
             ]
            ],
            "type": "histogram2d"
           }
          ],
          "histogram2dcontour": [
           {
            "colorbar": {
             "outlinewidth": 0,
             "ticks": ""
            },
            "colorscale": [
             [
              0,
              "#0d0887"
             ],
             [
              0.1111111111111111,
              "#46039f"
             ],
             [
              0.2222222222222222,
              "#7201a8"
             ],
             [
              0.3333333333333333,
              "#9c179e"
             ],
             [
              0.4444444444444444,
              "#bd3786"
             ],
             [
              0.5555555555555556,
              "#d8576b"
             ],
             [
              0.6666666666666666,
              "#ed7953"
             ],
             [
              0.7777777777777778,
              "#fb9f3a"
             ],
             [
              0.8888888888888888,
              "#fdca26"
             ],
             [
              1,
              "#f0f921"
             ]
            ],
            "type": "histogram2dcontour"
           }
          ],
          "mesh3d": [
           {
            "colorbar": {
             "outlinewidth": 0,
             "ticks": ""
            },
            "type": "mesh3d"
           }
          ],
          "parcoords": [
           {
            "line": {
             "colorbar": {
              "outlinewidth": 0,
              "ticks": ""
             }
            },
            "type": "parcoords"
           }
          ],
          "pie": [
           {
            "automargin": true,
            "type": "pie"
           }
          ],
          "scatter": [
           {
            "fillpattern": {
             "fillmode": "overlay",
             "size": 10,
             "solidity": 0.2
            },
            "type": "scatter"
           }
          ],
          "scatter3d": [
           {
            "line": {
             "colorbar": {
              "outlinewidth": 0,
              "ticks": ""
             }
            },
            "marker": {
             "colorbar": {
              "outlinewidth": 0,
              "ticks": ""
             }
            },
            "type": "scatter3d"
           }
          ],
          "scattercarpet": [
           {
            "marker": {
             "colorbar": {
              "outlinewidth": 0,
              "ticks": ""
             }
            },
            "type": "scattercarpet"
           }
          ],
          "scattergeo": [
           {
            "marker": {
             "colorbar": {
              "outlinewidth": 0,
              "ticks": ""
             }
            },
            "type": "scattergeo"
           }
          ],
          "scattergl": [
           {
            "marker": {
             "colorbar": {
              "outlinewidth": 0,
              "ticks": ""
             }
            },
            "type": "scattergl"
           }
          ],
          "scattermap": [
           {
            "marker": {
             "colorbar": {
              "outlinewidth": 0,
              "ticks": ""
             }
            },
            "type": "scattermap"
           }
          ],
          "scattermapbox": [
           {
            "marker": {
             "colorbar": {
              "outlinewidth": 0,
              "ticks": ""
             }
            },
            "type": "scattermapbox"
           }
          ],
          "scatterpolar": [
           {
            "marker": {
             "colorbar": {
              "outlinewidth": 0,
              "ticks": ""
             }
            },
            "type": "scatterpolar"
           }
          ],
          "scatterpolargl": [
           {
            "marker": {
             "colorbar": {
              "outlinewidth": 0,
              "ticks": ""
             }
            },
            "type": "scatterpolargl"
           }
          ],
          "scatterternary": [
           {
            "marker": {
             "colorbar": {
              "outlinewidth": 0,
              "ticks": ""
             }
            },
            "type": "scatterternary"
           }
          ],
          "surface": [
           {
            "colorbar": {
             "outlinewidth": 0,
             "ticks": ""
            },
            "colorscale": [
             [
              0,
              "#0d0887"
             ],
             [
              0.1111111111111111,
              "#46039f"
             ],
             [
              0.2222222222222222,
              "#7201a8"
             ],
             [
              0.3333333333333333,
              "#9c179e"
             ],
             [
              0.4444444444444444,
              "#bd3786"
             ],
             [
              0.5555555555555556,
              "#d8576b"
             ],
             [
              0.6666666666666666,
              "#ed7953"
             ],
             [
              0.7777777777777778,
              "#fb9f3a"
             ],
             [
              0.8888888888888888,
              "#fdca26"
             ],
             [
              1,
              "#f0f921"
             ]
            ],
            "type": "surface"
           }
          ],
          "table": [
           {
            "cells": {
             "fill": {
              "color": "#EBF0F8"
             },
             "line": {
              "color": "white"
             }
            },
            "header": {
             "fill": {
              "color": "#C8D4E3"
             },
             "line": {
              "color": "white"
             }
            },
            "type": "table"
           }
          ]
         },
         "layout": {
          "annotationdefaults": {
           "arrowcolor": "#2a3f5f",
           "arrowhead": 0,
           "arrowwidth": 1
          },
          "autotypenumbers": "strict",
          "coloraxis": {
           "colorbar": {
            "outlinewidth": 0,
            "ticks": ""
           }
          },
          "colorscale": {
           "diverging": [
            [
             0,
             "#8e0152"
            ],
            [
             0.1,
             "#c51b7d"
            ],
            [
             0.2,
             "#de77ae"
            ],
            [
             0.3,
             "#f1b6da"
            ],
            [
             0.4,
             "#fde0ef"
            ],
            [
             0.5,
             "#f7f7f7"
            ],
            [
             0.6,
             "#e6f5d0"
            ],
            [
             0.7,
             "#b8e186"
            ],
            [
             0.8,
             "#7fbc41"
            ],
            [
             0.9,
             "#4d9221"
            ],
            [
             1,
             "#276419"
            ]
           ],
           "sequential": [
            [
             0,
             "#0d0887"
            ],
            [
             0.1111111111111111,
             "#46039f"
            ],
            [
             0.2222222222222222,
             "#7201a8"
            ],
            [
             0.3333333333333333,
             "#9c179e"
            ],
            [
             0.4444444444444444,
             "#bd3786"
            ],
            [
             0.5555555555555556,
             "#d8576b"
            ],
            [
             0.6666666666666666,
             "#ed7953"
            ],
            [
             0.7777777777777778,
             "#fb9f3a"
            ],
            [
             0.8888888888888888,
             "#fdca26"
            ],
            [
             1,
             "#f0f921"
            ]
           ],
           "sequentialminus": [
            [
             0,
             "#0d0887"
            ],
            [
             0.1111111111111111,
             "#46039f"
            ],
            [
             0.2222222222222222,
             "#7201a8"
            ],
            [
             0.3333333333333333,
             "#9c179e"
            ],
            [
             0.4444444444444444,
             "#bd3786"
            ],
            [
             0.5555555555555556,
             "#d8576b"
            ],
            [
             0.6666666666666666,
             "#ed7953"
            ],
            [
             0.7777777777777778,
             "#fb9f3a"
            ],
            [
             0.8888888888888888,
             "#fdca26"
            ],
            [
             1,
             "#f0f921"
            ]
           ]
          },
          "colorway": [
           "#636efa",
           "#EF553B",
           "#00cc96",
           "#ab63fa",
           "#FFA15A",
           "#19d3f3",
           "#FF6692",
           "#B6E880",
           "#FF97FF",
           "#FECB52"
          ],
          "font": {
           "color": "#2a3f5f"
          },
          "geo": {
           "bgcolor": "white",
           "lakecolor": "white",
           "landcolor": "#E5ECF6",
           "showlakes": true,
           "showland": true,
           "subunitcolor": "white"
          },
          "hoverlabel": {
           "align": "left"
          },
          "hovermode": "closest",
          "mapbox": {
           "style": "light"
          },
          "paper_bgcolor": "white",
          "plot_bgcolor": "#E5ECF6",
          "polar": {
           "angularaxis": {
            "gridcolor": "white",
            "linecolor": "white",
            "ticks": ""
           },
           "bgcolor": "#E5ECF6",
           "radialaxis": {
            "gridcolor": "white",
            "linecolor": "white",
            "ticks": ""
           }
          },
          "scene": {
           "xaxis": {
            "backgroundcolor": "#E5ECF6",
            "gridcolor": "white",
            "gridwidth": 2,
            "linecolor": "white",
            "showbackground": true,
            "ticks": "",
            "zerolinecolor": "white"
           },
           "yaxis": {
            "backgroundcolor": "#E5ECF6",
            "gridcolor": "white",
            "gridwidth": 2,
            "linecolor": "white",
            "showbackground": true,
            "ticks": "",
            "zerolinecolor": "white"
           },
           "zaxis": {
            "backgroundcolor": "#E5ECF6",
            "gridcolor": "white",
            "gridwidth": 2,
            "linecolor": "white",
            "showbackground": true,
            "ticks": "",
            "zerolinecolor": "white"
           }
          },
          "shapedefaults": {
           "line": {
            "color": "#2a3f5f"
           }
          },
          "ternary": {
           "aaxis": {
            "gridcolor": "white",
            "linecolor": "white",
            "ticks": ""
           },
           "baxis": {
            "gridcolor": "white",
            "linecolor": "white",
            "ticks": ""
           },
           "bgcolor": "#E5ECF6",
           "caxis": {
            "gridcolor": "white",
            "linecolor": "white",
            "ticks": ""
           }
          },
          "title": {
           "x": 0.05
          },
          "xaxis": {
           "automargin": true,
           "gridcolor": "white",
           "linecolor": "white",
           "ticks": "",
           "title": {
            "standoff": 15
           },
           "zerolinecolor": "white",
           "zerolinewidth": 2
          },
          "yaxis": {
           "automargin": true,
           "gridcolor": "white",
           "linecolor": "white",
           "ticks": "",
           "title": {
            "standoff": 15
           },
           "zerolinecolor": "white",
           "zerolinewidth": 2
          }
         }
        },
        "xaxis": {
         "anchor": "y",
         "domain": [
          0,
          1
         ],
         "title": {
          "text": "Category"
         }
        },
        "yaxis": {
         "anchor": "x",
         "domain": [
          0,
          1
         ],
         "title": {
          "text": "Review Rating"
         }
        }
       }
      }
     },
     "metadata": {},
     "output_type": "display_data"
    }
   ],
   "source": [
    "fig=px.bar(shop, x='Category', y='Review Rating')\n",
    "fig.show()"
   ]
  },
  {
   "cell_type": "markdown",
   "metadata": {},
   "source": [
    "7. Are there notable differences in purchase behaviour between subscribed and non-subscribed customers?"
   ]
  },
  {
   "cell_type": "code",
   "execution_count": 79,
   "metadata": {},
   "outputs": [
    {
     "data": {
      "text/plain": [
       "Subscription Status\n",
       "No     2847\n",
       "Yes    1053\n",
       "Name: count, dtype: int64"
      ]
     },
     "execution_count": 79,
     "metadata": {},
     "output_type": "execute_result"
    }
   ],
   "source": [
    "shop['Subscription Status'].value_counts()"
   ]
  },
  {
   "cell_type": "code",
   "execution_count": 80,
   "metadata": {},
   "outputs": [
    {
     "data": {
      "text/plain": [
       "<Axes: xlabel='Subscription Status', ylabel='Purchase Amount (USD)'>"
      ]
     },
     "execution_count": 80,
     "metadata": {},
     "output_type": "execute_result"
    },
    {
     "data": {
      "image/png": "[encoded data removed]",
      "text/plain": [
       "<Figure size 640x480 with 1 Axes>"
      ]
     },
     "metadata": {},
     "output_type": "display_data"
    }
   ],
   "source": [
    "sns.barplot(shop, x='Subscription Status', y='Purchase Amount (USD)')"
   ]
  },
  {
   "cell_type": "code",
   "execution_count": 81,
   "metadata": {},
   "outputs": [
    {
     "data": {
      "text/plain": [
       "np.int64(233081)"
      ]
     },
     "execution_count": 81,
     "metadata": {},
     "output_type": "execute_result"
    }
   ],
   "source": [
    "shop['Purchase Amount (USD)'].sum()"
   ]
  },
  {
   "cell_type": "code",
   "execution_count": 82,
   "metadata": {},
   "outputs": [
    {
     "data": {
      "text/plain": [
       "Subscription Status\n",
       "No     59.865121\n",
       "Yes    59.491928\n",
       "Name: Purchase Amount (USD), dtype: float64"
      ]
     },
     "execution_count": 82,
     "metadata": {},
     "output_type": "execute_result"
    }
   ],
   "source": [
    "shop.groupby('Subscription Status')['Purchase Amount (USD)'].mean()"
   ]
  },
  {
   "cell_type": "markdown",
   "metadata": {},
   "source": [
    "8. Which payment system is most popular among customers?"
   ]
  },
  {
   "cell_type": "code",
   "execution_count": 83,
   "metadata": {},
   "outputs": [
    {
     "data": {
      "text/plain": [
       "Payment Method\n",
       "Debit Card       60.915094\n",
       "Credit Card      60.074516\n",
       "Bank Transfer    59.712418\n",
       "Cash             59.704478\n",
       "PayPal           59.245199\n",
       "Venmo            58.949527\n",
       "Name: Purchase Amount (USD), dtype: float64"
      ]
     },
     "execution_count": 83,
     "metadata": {},
     "output_type": "execute_result"
    }
   ],
   "source": [
    "shop.groupby('Payment Method')['Purchase Amount (USD)'].mean().sort_values(ascending=False)"
   ]
  },
  {
   "cell_type": "code",
   "execution_count": 84,
   "metadata": {},
   "outputs": [],
   "source": [
    "shop_groupby=shop.groupby('Payment Method')['Purchase Amount (USD)'].mean().reset_index()"
   ]
  },
  {
   "cell_type": "code",
   "execution_count": 85,
   "metadata": {},
   "outputs": [
    {
     "data": {
      "application/vnd.plotly.v1+json": {
       "config": {
        "plotlyServerURL": "https://plot.ly"
       },
       "data": [
        {
         "hovertemplate": "Payment Method=%{x}<br>Purchase Amount (USD)=%{y}<extra></extra>",
         "legendgroup": "",
         "marker": {
          "color": "#636efa",
          "pattern": {
           "shape": ""
          }
         },
         "name": "",
         "orientation": "v",
         "showlegend": false,
         "textposition": "auto",
         "type": "bar",
         "x": [
          "Bank Transfer",
          "Cash",
          "Credit Card",
          "Debit Card",
          "PayPal",
          "Venmo"
         ],
         "xaxis": "x",
         "y": {
          "bdata": "hjDbhTDbTUAdBohSLNpNQPA2kLqJCU5AjLeyzyF1TkCKqrmxYp9NQCYlOhiKeU1A",
          "dtype": "f8"
         },
         "yaxis": "y"
        }
       ],
       "layout": {
        "barmode": "relative",
        "legend": {
         "tracegroupgap": 0
        },
        "margin": {
         "t": 60
        },
        "template": {
         "data": {
          "bar": [
           {
            "error_x": {
             "color": "#2a3f5f"
            },
            "error_y": {
             "color": "#2a3f5f"
            },
            "marker": {
             "line": {
              "color": "#E5ECF6",
              "width": 0.5
             },
             "pattern": {
              "fillmode": "overlay",
              "size": 10,
              "solidity": 0.2
             }
            },
            "type": "bar"
           }
          ],
          "barpolar": [
           {
            "marker": {
             "line": {
              "color": "#E5ECF6",
              "width": 0.5
             },
             "pattern": {
              "fillmode": "overlay",
              "size": 10,
              "solidity": 0.2
             }
            },
            "type": "barpolar"
           }
          ],
          "carpet": [
           {
            "aaxis": {
             "endlinecolor": "#2a3f5f",
             "gridcolor": "white",
             "linecolor": "white",
             "minorgridcolor": "white",
             "startlinecolor": "#2a3f5f"
            },
            "baxis": {
             "endlinecolor": "#2a3f5f",
             "gridcolor": "white",
             "linecolor": "white",
             "minorgridcolor": "white",
             "startlinecolor": "#2a3f5f"
            },
            "type": "carpet"
           }
          ],
          "choropleth": [
           {
            "colorbar": {
             "outlinewidth": 0,
             "ticks": ""
            },
            "type": "choropleth"
           }
          ],
          "contour": [
           {
            "colorbar": {
             "outlinewidth": 0,
             "ticks": ""
            },
            "colorscale": [
             [
              0,
              "#0d0887"
             ],
             [
              0.1111111111111111,
              "#46039f"
             ],
             [
              0.2222222222222222,
              "#7201a8"
             ],
             [
              0.3333333333333333,
              "#9c179e"
             ],
             [
              0.4444444444444444,
              "#bd3786"
             ],
             [
              0.5555555555555556,
              "#d8576b"
             ],
             [
              0.6666666666666666,
              "#ed7953"
             ],
             [
              0.7777777777777778,
              "#fb9f3a"
             ],
             [
              0.8888888888888888,
              "#fdca26"
             ],
             [
              1,
              "#f0f921"
             ]
            ],
            "type": "contour"
           }
          ],
          "contourcarpet": [
           {
            "colorbar": {
             "outlinewidth": 0,
             "ticks": ""
            },
            "type": "contourcarpet"
           }
          ],
          "heatmap": [
           {
            "colorbar": {
             "outlinewidth": 0,
             "ticks": ""
            },
            "colorscale": [
             [
              0,
              "#0d0887"
             ],
             [
              0.1111111111111111,
              "#46039f"
             ],
             [
              0.2222222222222222,
              "#7201a8"
             ],
             [
              0.3333333333333333,
              "#9c179e"
             ],
             [
              0.4444444444444444,
              "#bd3786"
             ],
             [
              0.5555555555555556,
              "#d8576b"
             ],
             [
              0.6666666666666666,
              "#ed7953"
             ],
             [
              0.7777777777777778,
              "#fb9f3a"
             ],
             [
              0.8888888888888888,
              "#fdca26"
             ],
             [
              1,
              "#f0f921"
             ]
            ],
            "type": "heatmap"
           }
          ],
          "histogram": [
           {
            "marker": {
             "pattern": {
              "fillmode": "overlay",
              "size": 10,
              "solidity": 0.2
             }
            },
            "type": "histogram"
           }
          ],
          "histogram2d": [
           {
            "colorbar": {
             "outlinewidth": 0,
             "ticks": ""
            },
            "colorscale": [
             [
              0,
              "#0d0887"
             ],
             [
              0.1111111111111111,
              "#46039f"
             ],
             [
              0.2222222222222222,
              "#7201a8"
             ],
             [
              0.3333333333333333,
              "#9c179e"
             ],
             [
              0.4444444444444444,
              "#bd3786"
             ],
             [
              0.5555555555555556,
              "#d8576b"
             ],
             [
              0.6666666666666666,
              "#ed7953"
             ],
             [
              0.7777777777777778,
              "#fb9f3a"
             ],
             [
              0.8888888888888888,
              "#fdca26"
             ],
             [
              1,
              "#f0f921"
             ]
            ],
            "type": "histogram2d"
           }
          ],
          "histogram2dcontour": [
           {
            "colorbar": {
             "outlinewidth": 0,
             "ticks": ""
            },
            "colorscale": [
             [
              0,
              "#0d0887"
             ],
             [
              0.1111111111111111,
              "#46039f"
             ],
             [
              0.2222222222222222,
              "#7201a8"
             ],
             [
              0.3333333333333333,
              "#9c179e"
             ],
             [
              0.4444444444444444,
              "#bd3786"
             ],
             [
              0.5555555555555556,
              "#d8576b"
             ],
             [
              0.6666666666666666,
              "#ed7953"
             ],
             [
              0.7777777777777778,
              "#fb9f3a"
             ],
             [
              0.8888888888888888,
              "#fdca26"
             ],
             [
              1,
              "#f0f921"
             ]
            ],
            "type": "histogram2dcontour"
           }
          ],
          "mesh3d": [
           {
            "colorbar": {
             "outlinewidth": 0,
             "ticks": ""
            },
            "type": "mesh3d"
           }
          ],
          "parcoords": [
           {
            "line": {
             "colorbar": {
              "outlinewidth": 0,
              "ticks": ""
             }
            },
            "type": "parcoords"
           }
          ],
          "pie": [
           {
            "automargin": true,
            "type": "pie"
           }
          ],
          "scatter": [
           {
            "fillpattern": {
             "fillmode": "overlay",
             "size": 10,
             "solidity": 0.2
            },
            "type": "scatter"
           }
          ],
          "scatter3d": [
           {
            "line": {
             "colorbar": {
              "outlinewidth": 0,
              "ticks": ""
             }
            },
            "marker": {
             "colorbar": {
              "outlinewidth": 0,
              "ticks": ""
             }
            },
            "type": "scatter3d"
           }
          ],
          "scattercarpet": [
           {
            "marker": {
             "colorbar": {
              "outlinewidth": 0,
              "ticks": ""
             }
            },
            "type": "scattercarpet"
           }
          ],
          "scattergeo": [
           {
            "marker": {
             "colorbar": {
              "outlinewidth": 0,
              "ticks": ""
             }
            },
            "type": "scattergeo"
           }
          ],
          "scattergl": [
           {
            "marker": {
             "colorbar": {
              "outlinewidth": 0,
              "ticks": ""
             }
            },
            "type": "scattergl"
           }
          ],
          "scattermap": [
           {
            "marker": {
             "colorbar": {
              "outlinewidth": 0,
              "ticks": ""
             }
            },
            "type": "scattermap"
           }
          ],
          "scattermapbox": [
           {
            "marker": {
             "colorbar": {
              "outlinewidth": 0,
              "ticks": ""
             }
            },
            "type": "scattermapbox"
           }
          ],
          "scatterpolar": [
           {
            "marker": {
             "colorbar": {
              "outlinewidth": 0,
              "ticks": ""
             }
            },
            "type": "scatterpolar"
           }
          ],
          "scatterpolargl": [
           {
            "marker": {
             "colorbar": {
              "outlinewidth": 0,
              "ticks": ""
             }
            },
            "type": "scatterpolargl"
           }
          ],
          "scatterternary": [
           {
            "marker": {
             "colorbar": {
              "outlinewidth": 0,
              "ticks": ""
             }
            },
            "type": "scatterternary"
           }
          ],
          "surface": [
           {
            "colorbar": {
             "outlinewidth": 0,
             "ticks": ""
            },
            "colorscale": [
             [
              0,
              "#0d0887"
             ],
             [
              0.1111111111111111,
              "#46039f"
             ],
             [
              0.2222222222222222,
              "#7201a8"
             ],
             [
              0.3333333333333333,
              "#9c179e"
             ],
             [
              0.4444444444444444,
              "#bd3786"
             ],
             [
              0.5555555555555556,
              "#d8576b"
             ],
             [
              0.6666666666666666,
              "#ed7953"
             ],
             [
              0.7777777777777778,
              "#fb9f3a"
             ],
             [
              0.8888888888888888,
              "#fdca26"
             ],
             [
              1,
              "#f0f921"
             ]
            ],
            "type": "surface"
           }
          ],
          "table": [
           {
            "cells": {
             "fill": {
              "color": "#EBF0F8"
             },
             "line": {
              "color": "white"
             }
            },
            "header": {
             "fill": {
              "color": "#C8D4E3"
             },
             "line": {
              "color": "white"
             }
            },
            "type": "table"
           }
          ]
         },
         "layout": {
          "annotationdefaults": {
           "arrowcolor": "#2a3f5f",
           "arrowhead": 0,
           "arrowwidth": 1
          },
          "autotypenumbers": "strict",
          "coloraxis": {
           "colorbar": {
            "outlinewidth": 0,
            "ticks": ""
           }
          },
          "colorscale": {
           "diverging": [
            [
             0,
             "#8e0152"
            ],
            [
             0.1,
             "#c51b7d"
            ],
            [
             0.2,
             "#de77ae"
            ],
            [
             0.3,
             "#f1b6da"
            ],
            [
             0.4,
             "#fde0ef"
            ],
            [
             0.5,
             "#f7f7f7"
            ],
            [
             0.6,
             "#e6f5d0"
            ],
            [
             0.7,
             "#b8e186"
            ],
            [
             0.8,
             "#7fbc41"
            ],
            [
             0.9,
             "#4d9221"
            ],
            [
             1,
             "#276419"
            ]
           ],
           "sequential": [
            [
             0,
             "#0d0887"
            ],
            [
             0.1111111111111111,
             "#46039f"
            ],
            [
             0.2222222222222222,
             "#7201a8"
            ],
            [
             0.3333333333333333,
             "#9c179e"
            ],
            [
             0.4444444444444444,
             "#bd3786"
            ],
            [
             0.5555555555555556,
             "#d8576b"
            ],
            [
             0.6666666666666666,
             "#ed7953"
            ],
            [
             0.7777777777777778,
             "#fb9f3a"
            ],
            [
             0.8888888888888888,
             "#fdca26"
            ],
            [
             1,
             "#f0f921"
            ]
           ],
           "sequentialminus": [
            [
             0,
             "#0d0887"
            ],
            [
             0.1111111111111111,
             "#46039f"
            ],
            [
             0.2222222222222222,
             "#7201a8"
            ],
            [
             0.3333333333333333,
             "#9c179e"
            ],
            [
             0.4444444444444444,
             "#bd3786"
            ],
            [
             0.5555555555555556,
             "#d8576b"
            ],
            [
             0.6666666666666666,
             "#ed7953"
            ],
            [
             0.7777777777777778,
             "#fb9f3a"
            ],
            [
             0.8888888888888888,
             "#fdca26"
            ],
            [
             1,
             "#f0f921"
            ]
           ]
          },
          "colorway": [
           "#636efa",
           "#EF553B",
           "#00cc96",
           "#ab63fa",
           "#FFA15A",
           "#19d3f3",
           "#FF6692",
           "#B6E880",
           "#FF97FF",
           "#FECB52"
          ],
          "font": {
           "color": "#2a3f5f"
          },
          "geo": {
           "bgcolor": "white",
           "lakecolor": "white",
           "landcolor": "#E5ECF6",
           "showlakes": true,
           "showland": true,
           "subunitcolor": "white"
          },
          "hoverlabel": {
           "align": "left"
          },
          "hovermode": "closest",
          "mapbox": {
           "style": "light"
          },
          "paper_bgcolor": "white",
          "plot_bgcolor": "#E5ECF6",
          "polar": {
           "angularaxis": {
            "gridcolor": "white",
            "linecolor": "white",
            "ticks": ""
           },
           "bgcolor": "#E5ECF6",
           "radialaxis": {
            "gridcolor": "white",
            "linecolor": "white",
            "ticks": ""
           }
          },
          "scene": {
           "xaxis": {
            "backgroundcolor": "#E5ECF6",
            "gridcolor": "white",
            "gridwidth": 2,
            "linecolor": "white",
            "showbackground": true,
            "ticks": "",
            "zerolinecolor": "white"
           },
           "yaxis": {
            "backgroundcolor": "#E5ECF6",
            "gridcolor": "white",
            "gridwidth": 2,
            "linecolor": "white",
            "showbackground": true,
            "ticks": "",
            "zerolinecolor": "white"
           },
           "zaxis": {
            "backgroundcolor": "#E5ECF6",
            "gridcolor": "white",
            "gridwidth": 2,
            "linecolor": "white",
            "showbackground": true,
            "ticks": "",
            "zerolinecolor": "white"
           }
          },
          "shapedefaults": {
           "line": {
            "color": "#2a3f5f"
           }
          },
          "ternary": {
           "aaxis": {
            "gridcolor": "white",
            "linecolor": "white",
            "ticks": ""
           },
           "baxis": {
            "gridcolor": "white",
            "linecolor": "white",
            "ticks": ""
           },
           "bgcolor": "#E5ECF6",
           "caxis": {
            "gridcolor": "white",
            "linecolor": "white",
            "ticks": ""
           }
          },
          "title": {
           "x": 0.05
          },
          "xaxis": {
           "automargin": true,
           "gridcolor": "white",
           "linecolor": "white",
           "ticks": "",
           "title": {
            "standoff": 15
           },
           "zerolinecolor": "white",
           "zerolinewidth": 2
          },
          "yaxis": {
           "automargin": true,
           "gridcolor": "white",
           "linecolor": "white",
           "ticks": "",
           "title": {
            "standoff": 15
           },
           "zerolinecolor": "white",
           "zerolinewidth": 2
          }
         }
        },
        "xaxis": {
         "anchor": "y",
         "domain": [
          0,
          1
         ],
         "title": {
          "text": "Payment Method"
         }
        },
        "yaxis": {
         "anchor": "x",
         "domain": [
          0,
          1
         ],
         "title": {
          "text": "Purchase Amount (USD)"
         }
        }
       }
      }
     },
     "metadata": {},
     "output_type": "display_data"
    }
   ],
   "source": [
    "fig= px.bar(shop_groupby, x='Payment Method', y='Purchase Amount (USD)')\n",
    "fig.show()"
   ]
  },
  {
   "cell_type": "markdown",
   "metadata": {},
   "source": [
    "9. Do customers who use promo code tend to spend more than those who don't?"
   ]
  },
  {
   "cell_type": "code",
   "execution_count": 86,
   "metadata": {},
   "outputs": [],
   "source": [
    "shop_groupby=shop.groupby('Promo Code Used')['Purchase Amount (USD)'].sum().reset_index()"
   ]
  },
  {
   "cell_type": "code",
   "execution_count": 87,
   "metadata": {},
   "outputs": [
    {
     "data": {
      "application/vnd.plotly.v1+json": {
       "config": {
        "plotlyServerURL": "https://plot.ly"
       },
       "data": [
        {
         "branchvalues": "total",
         "domain": {
          "x": [
           0,
           1
          ],
          "y": [
           0,
           1
          ]
         },
         "hovertemplate": "labels=%{label}<br>Purchase Amount (USD)=%{value}<br>parent=%{parent}<br>id=%{id}<extra></extra>",
         "ids": [
          "Male/Yes",
          "Male/No",
          "Female/No",
          "Male",
          "Female"
         ],
         "labels": [
          "Yes",
          "No",
          "No",
          "Male",
          "Female"
         ],
         "name": "",
         "parents": [
          "Male",
          "Male",
          "Female",
          "",
          ""
         ],
         "type": "sunburst",
         "values": {
          "bdata": "AAAAADBF+EAAAAAA4I3sQAAAAABwW/JAAAAAABBGA0EAAAAAcFvyQA==",
          "dtype": "f8"
         }
        }
       ],
       "layout": {
        "legend": {
         "tracegroupgap": 0
        },
        "margin": {
         "t": 60
        },
        "template": {
         "data": {
          "bar": [
           {
            "error_x": {
             "color": "#2a3f5f"
            },
            "error_y": {
             "color": "#2a3f5f"
            },
            "marker": {
             "line": {
              "color": "#E5ECF6",
              "width": 0.5
             },
             "pattern": {
              "fillmode": "overlay",
              "size": 10,
              "solidity": 0.2
             }
            },
            "type": "bar"
           }
          ],
          "barpolar": [
           {
            "marker": {
             "line": {
              "color": "#E5ECF6",
              "width": 0.5
             },
             "pattern": {
              "fillmode": "overlay",
              "size": 10,
              "solidity": 0.2
             }
            },
            "type": "barpolar"
           }
          ],
          "carpet": [
           {
            "aaxis": {
             "endlinecolor": "#2a3f5f",
             "gridcolor": "white",
             "linecolor": "white",
             "minorgridcolor": "white",
             "startlinecolor": "#2a3f5f"
            },
            "baxis": {
             "endlinecolor": "#2a3f5f",
             "gridcolor": "white",
             "linecolor": "white",
             "minorgridcolor": "white",
             "startlinecolor": "#2a3f5f"
            },
            "type": "carpet"
           }
          ],
          "choropleth": [
           {
            "colorbar": {
             "outlinewidth": 0,
             "ticks": ""
            },
            "type": "choropleth"
           }
          ],
          "contour": [
           {
            "colorbar": {
             "outlinewidth": 0,
             "ticks": ""
            },
            "colorscale": [
             [
              0,
              "#0d0887"
             ],
             [
              0.1111111111111111,
              "#46039f"
             ],
             [
              0.2222222222222222,
              "#7201a8"
             ],
             [
              0.3333333333333333,
              "#9c179e"
             ],
             [
              0.4444444444444444,
              "#bd3786"
             ],
             [
              0.5555555555555556,
              "#d8576b"
             ],
             [
              0.6666666666666666,
              "#ed7953"
             ],
             [
              0.7777777777777778,
              "#fb9f3a"
             ],
             [
              0.8888888888888888,
              "#fdca26"
             ],
             [
              1,
              "#f0f921"
             ]
            ],
            "type": "contour"
           }
          ],
          "contourcarpet": [
           {
            "colorbar": {
             "outlinewidth": 0,
             "ticks": ""
            },
            "type": "contourcarpet"
           }
          ],
          "heatmap": [
           {
            "colorbar": {
             "outlinewidth": 0,
             "ticks": ""
            },
            "colorscale": [
             [
              0,
              "#0d0887"
             ],
             [
              0.1111111111111111,
              "#46039f"
             ],
             [
              0.2222222222222222,
              "#7201a8"
             ],
             [
              0.3333333333333333,
              "#9c179e"
             ],
             [
              0.4444444444444444,
              "#bd3786"
             ],
             [
              0.5555555555555556,
              "#d8576b"
             ],
             [
              0.6666666666666666,
              "#ed7953"
             ],
             [
              0.7777777777777778,
              "#fb9f3a"
             ],
             [
              0.8888888888888888,
              "#fdca26"
             ],
             [
              1,
              "#f0f921"
             ]
            ],
            "type": "heatmap"
           }
          ],
          "histogram": [
           {
            "marker": {
             "pattern": {
              "fillmode": "overlay",
              "size": 10,
              "solidity": 0.2
             }
            },
            "type": "histogram"
           }
          ],
          "histogram2d": [
           {
            "colorbar": {
             "outlinewidth": 0,
             "ticks": ""
            },
            "colorscale": [
             [
              0,
              "#0d0887"
             ],
             [
              0.1111111111111111,
              "#46039f"
             ],
             [
              0.2222222222222222,
              "#7201a8"
             ],
             [
              0.3333333333333333,
              "#9c179e"
             ],
             [
              0.4444444444444444,
              "#bd3786"
             ],
             [
              0.5555555555555556,
              "#d8576b"
             ],
             [
              0.6666666666666666,
              "#ed7953"
             ],
             [
              0.7777777777777778,
              "#fb9f3a"
             ],
             [
              0.8888888888888888,
              "#fdca26"
             ],
             [
              1,
              "#f0f921"
             ]
            ],
            "type": "histogram2d"
           }
          ],
          "histogram2dcontour": [
           {
            "colorbar": {
             "outlinewidth": 0,
             "ticks": ""
            },
            "colorscale": [
             [
              0,
              "#0d0887"
             ],
             [
              0.1111111111111111,
              "#46039f"
             ],
             [
              0.2222222222222222,
              "#7201a8"
             ],
             [
              0.3333333333333333,
              "#9c179e"
             ],
             [
              0.4444444444444444,
              "#bd3786"
             ],
             [
              0.5555555555555556,
              "#d8576b"
             ],
             [
              0.6666666666666666,
              "#ed7953"
             ],
             [
              0.7777777777777778,
              "#fb9f3a"
             ],
             [
              0.8888888888888888,
              "#fdca26"
             ],
             [
              1,
              "#f0f921"
             ]
            ],
            "type": "histogram2dcontour"
           }
          ],
          "mesh3d": [
           {
            "colorbar": {
             "outlinewidth": 0,
             "ticks": ""
            },
            "type": "mesh3d"
           }
          ],
          "parcoords": [
           {
            "line": {
             "colorbar": {
              "outlinewidth": 0,
              "ticks": ""
             }
            },
            "type": "parcoords"
           }
          ],
          "pie": [
           {
            "automargin": true,
            "type": "pie"
           }
          ],
          "scatter": [
           {
            "fillpattern": {
             "fillmode": "overlay",
             "size": 10,
             "solidity": 0.2
            },
            "type": "scatter"
           }
          ],
          "scatter3d": [
           {
            "line": {
             "colorbar": {
              "outlinewidth": 0,
              "ticks": ""
             }
            },
            "marker": {
             "colorbar": {
              "outlinewidth": 0,
              "ticks": ""
             }
            },
            "type": "scatter3d"
           }
          ],
          "scattercarpet": [
           {
            "marker": {
             "colorbar": {
              "outlinewidth": 0,
              "ticks": ""
             }
            },
            "type": "scattercarpet"
           }
          ],
          "scattergeo": [
           {
            "marker": {
             "colorbar": {
              "outlinewidth": 0,
              "ticks": ""
             }
            },
            "type": "scattergeo"
           }
          ],
          "scattergl": [
           {
            "marker": {
             "colorbar": {
              "outlinewidth": 0,
              "ticks": ""
             }
            },
            "type": "scattergl"
           }
          ],
          "scattermap": [
           {
            "marker": {
             "colorbar": {
              "outlinewidth": 0,
              "ticks": ""
             }
            },
            "type": "scattermap"
           }
          ],
          "scattermapbox": [
           {
            "marker": {
             "colorbar": {
              "outlinewidth": 0,
              "ticks": ""
             }
            },
            "type": "scattermapbox"
           }
          ],
          "scatterpolar": [
           {
            "marker": {
             "colorbar": {
              "outlinewidth": 0,
              "ticks": ""
             }
            },
            "type": "scatterpolar"
           }
          ],
          "scatterpolargl": [
           {
            "marker": {
             "colorbar": {
              "outlinewidth": 0,
              "ticks": ""
             }
            },
            "type": "scatterpolargl"
           }
          ],
          "scatterternary": [
           {
            "marker": {
             "colorbar": {
              "outlinewidth": 0,
              "ticks": ""
             }
            },
            "type": "scatterternary"
           }
          ],
          "surface": [
           {
            "colorbar": {
             "outlinewidth": 0,
             "ticks": ""
            },
            "colorscale": [
             [
              0,
              "#0d0887"
             ],
             [
              0.1111111111111111,
              "#46039f"
             ],
             [
              0.2222222222222222,
              "#7201a8"
             ],
             [
              0.3333333333333333,
              "#9c179e"
             ],
             [
              0.4444444444444444,
              "#bd3786"
             ],
             [
              0.5555555555555556,
              "#d8576b"
             ],
             [
              0.6666666666666666,
              "#ed7953"
             ],
             [
              0.7777777777777778,
              "#fb9f3a"
             ],
             [
              0.8888888888888888,
              "#fdca26"
             ],
             [
              1,
              "#f0f921"
             ]
            ],
            "type": "surface"
           }
          ],
          "table": [
           {
            "cells": {
             "fill": {
              "color": "#EBF0F8"
             },
             "line": {
              "color": "white"
             }
            },
            "header": {
             "fill": {
              "color": "#C8D4E3"
             },
             "line": {
              "color": "white"
             }
            },
            "type": "table"
           }
          ]
         },
         "layout": {
          "annotationdefaults": {
           "arrowcolor": "#2a3f5f",
           "arrowhead": 0,
           "arrowwidth": 1
          },
          "autotypenumbers": "strict",
          "coloraxis": {
           "colorbar": {
            "outlinewidth": 0,
            "ticks": ""
           }
          },
          "colorscale": {
           "diverging": [
            [
             0,
             "#8e0152"
            ],
            [
             0.1,
             "#c51b7d"
            ],
            [
             0.2,
             "#de77ae"
            ],
            [
             0.3,
             "#f1b6da"
            ],
            [
             0.4,
             "#fde0ef"
            ],
            [
             0.5,
             "#f7f7f7"
            ],
            [
             0.6,
             "#e6f5d0"
            ],
            [
             0.7,
             "#b8e186"
            ],
            [
             0.8,
             "#7fbc41"
            ],
            [
             0.9,
             "#4d9221"
            ],
            [
             1,
             "#276419"
            ]
           ],
           "sequential": [
            [
             0,
             "#0d0887"
            ],
            [
             0.1111111111111111,
             "#46039f"
            ],
            [
             0.2222222222222222,
             "#7201a8"
            ],
            [
             0.3333333333333333,
             "#9c179e"
            ],
            [
             0.4444444444444444,
             "#bd3786"
            ],
            [
             0.5555555555555556,
             "#d8576b"
            ],
            [
             0.6666666666666666,
             "#ed7953"
            ],
            [
             0.7777777777777778,
             "#fb9f3a"
            ],
            [
             0.8888888888888888,
             "#fdca26"
            ],
            [
             1,
             "#f0f921"
            ]
           ],
           "sequentialminus": [
            [
             0,
             "#0d0887"
            ],
            [
             0.1111111111111111,
             "#46039f"
            ],
            [
             0.2222222222222222,
             "#7201a8"
            ],
            [
             0.3333333333333333,
             "#9c179e"
            ],
            [
             0.4444444444444444,
             "#bd3786"
            ],
            [
             0.5555555555555556,
             "#d8576b"
            ],
            [
             0.6666666666666666,
             "#ed7953"
            ],
            [
             0.7777777777777778,
             "#fb9f3a"
            ],
            [
             0.8888888888888888,
             "#fdca26"
            ],
            [
             1,
             "#f0f921"
            ]
           ]
          },
          "colorway": [
           "#636efa",
           "#EF553B",
           "#00cc96",
           "#ab63fa",
           "#FFA15A",
           "#19d3f3",
           "#FF6692",
           "#B6E880",
           "#FF97FF",
           "#FECB52"
          ],
          "font": {
           "color": "#2a3f5f"
          },
          "geo": {
           "bgcolor": "white",
           "lakecolor": "white",
           "landcolor": "#E5ECF6",
           "showlakes": true,
           "showland": true,
           "subunitcolor": "white"
          },
          "hoverlabel": {
           "align": "left"
          },
          "hovermode": "closest",
          "mapbox": {
           "style": "light"
          },
          "paper_bgcolor": "white",
          "plot_bgcolor": "#E5ECF6",
          "polar": {
           "angularaxis": {
            "gridcolor": "white",
            "linecolor": "white",
            "ticks": ""
           },
           "bgcolor": "#E5ECF6",
           "radialaxis": {
            "gridcolor": "white",
            "linecolor": "white",
            "ticks": ""
           }
          },
          "scene": {
           "xaxis": {
            "backgroundcolor": "#E5ECF6",
            "gridcolor": "white",
            "gridwidth": 2,
            "linecolor": "white",
            "showbackground": true,
            "ticks": "",
            "zerolinecolor": "white"
           },
           "yaxis": {
            "backgroundcolor": "#E5ECF6",
            "gridcolor": "white",
            "gridwidth": 2,
            "linecolor": "white",
            "showbackground": true,
            "ticks": "",
            "zerolinecolor": "white"
           },
           "zaxis": {
            "backgroundcolor": "#E5ECF6",
            "gridcolor": "white",
            "gridwidth": 2,
            "linecolor": "white",
            "showbackground": true,
            "ticks": "",
            "zerolinecolor": "white"
           }
          },
          "shapedefaults": {
           "line": {
            "color": "#2a3f5f"
           }
          },
          "ternary": {
           "aaxis": {
            "gridcolor": "white",
            "linecolor": "white",
            "ticks": ""
           },
           "baxis": {
            "gridcolor": "white",
            "linecolor": "white",
            "ticks": ""
           },
           "bgcolor": "#E5ECF6",
           "caxis": {
            "gridcolor": "white",
            "linecolor": "white",
            "ticks": ""
           }
          },
          "title": {
           "x": 0.05
          },
          "xaxis": {
           "automargin": true,
           "gridcolor": "white",
           "linecolor": "white",
           "ticks": "",
           "title": {
            "standoff": 15
           },
           "zerolinecolor": "white",
           "zerolinewidth": 2
          },
          "yaxis": {
           "automargin": true,
           "gridcolor": "white",
           "linecolor": "white",
           "ticks": "",
           "title": {
            "standoff": 15
           },
           "zerolinecolor": "white",
           "zerolinewidth": 2
          }
         }
        }
       }
      }
     },
     "metadata": {},
     "output_type": "display_data"
    }
   ],
   "source": [
    "fig= px.sunburst(shop, path=['Gender', 'Promo Code Used'], values='Purchase Amount (USD)')\n",
    "fig.show()"
   ]
  },
  {
   "cell_type": "code",
   "execution_count": 88,
   "metadata": {},
   "outputs": [
    {
     "data": {
      "application/vnd.plotly.v1+json": {
       "config": {
        "plotlyServerURL": "https://plot.ly"
       },
       "data": [
        {
         "hovertemplate": "Promo Code Used=%{x}<br>Purchase Amount (USD)=%{y}<extra></extra>",
         "legendgroup": "",
         "marker": {
          "color": "#636efa",
          "pattern": {
           "shape": ""
          }
         },
         "name": "",
         "orientation": "v",
         "showlegend": false,
         "textposition": "auto",
         "type": "bar",
         "x": [
          "No",
          "Yes"
         ],
         "xaxis": "x",
         "y": {
          "bdata": "JgoCAFOEAQA=",
          "dtype": "i4"
         },
         "yaxis": "y"
        }
       ],
       "layout": {
        "barmode": "relative",
        "legend": {
         "tracegroupgap": 0
        },
        "margin": {
         "t": 60
        },
        "template": {
         "data": {
          "bar": [
           {
            "error_x": {
             "color": "#2a3f5f"
            },
            "error_y": {
             "color": "#2a3f5f"
            },
            "marker": {
             "line": {
              "color": "#E5ECF6",
              "width": 0.5
             },
             "pattern": {
              "fillmode": "overlay",
              "size": 10,
              "solidity": 0.2
             }
            },
            "type": "bar"
           }
          ],
          "barpolar": [
           {
            "marker": {
             "line": {
              "color": "#E5ECF6",
              "width": 0.5
             },
             "pattern": {
              "fillmode": "overlay",
              "size": 10,
              "solidity": 0.2
             }
            },
            "type": "barpolar"
           }
          ],
          "carpet": [
           {
            "aaxis": {
             "endlinecolor": "#2a3f5f",
             "gridcolor": "white",
             "linecolor": "white",
             "minorgridcolor": "white",
             "startlinecolor": "#2a3f5f"
            },
            "baxis": {
             "endlinecolor": "#2a3f5f",
             "gridcolor": "white",
             "linecolor": "white",
             "minorgridcolor": "white",
             "startlinecolor": "#2a3f5f"
            },
            "type": "carpet"
           }
          ],
          "choropleth": [
           {
            "colorbar": {
             "outlinewidth": 0,
             "ticks": ""
            },
            "type": "choropleth"
           }
          ],
          "contour": [
           {
            "colorbar": {
             "outlinewidth": 0,
             "ticks": ""
            },
            "colorscale": [
             [
              0,
              "#0d0887"
             ],
             [
              0.1111111111111111,
              "#46039f"
             ],
             [
              0.2222222222222222,
              "#7201a8"
             ],
             [
              0.3333333333333333,
              "#9c179e"
             ],
             [
              0.4444444444444444,
              "#bd3786"
             ],
             [
              0.5555555555555556,
              "#d8576b"
             ],
             [
              0.6666666666666666,
              "#ed7953"
             ],
             [
              0.7777777777777778,
              "#fb9f3a"
             ],
             [
              0.8888888888888888,
              "#fdca26"
             ],
             [
              1,
              "#f0f921"
             ]
            ],
            "type": "contour"
           }
          ],
          "contourcarpet": [
           {
            "colorbar": {
             "outlinewidth": 0,
             "ticks": ""
            },
            "type": "contourcarpet"
           }
          ],
          "heatmap": [
           {
            "colorbar": {
             "outlinewidth": 0,
             "ticks": ""
            },
            "colorscale": [
             [
              0,
              "#0d0887"
             ],
             [
              0.1111111111111111,
              "#46039f"
             ],
             [
              0.2222222222222222,
              "#7201a8"
             ],
             [
              0.3333333333333333,
              "#9c179e"
             ],
             [
              0.4444444444444444,
              "#bd3786"
             ],
             [
              0.5555555555555556,
              "#d8576b"
             ],
             [
              0.6666666666666666,
              "#ed7953"
             ],
             [
              0.7777777777777778,
              "#fb9f3a"
             ],
             [
              0.8888888888888888,
              "#fdca26"
             ],
             [
              1,
              "#f0f921"
             ]
            ],
            "type": "heatmap"
           }
          ],
          "histogram": [
           {
            "marker": {
             "pattern": {
              "fillmode": "overlay",
              "size": 10,
              "solidity": 0.2
             }
            },
            "type": "histogram"
           }
          ],
          "histogram2d": [
           {
            "colorbar": {
             "outlinewidth": 0,
             "ticks": ""
            },
            "colorscale": [
             [
              0,
              "#0d0887"
             ],
             [
              0.1111111111111111,
              "#46039f"
             ],
             [
              0.2222222222222222,
              "#7201a8"
             ],
             [
              0.3333333333333333,
              "#9c179e"
             ],
             [
              0.4444444444444444,
              "#bd3786"
             ],
             [
              0.5555555555555556,
              "#d8576b"
             ],
             [
              0.6666666666666666,
              "#ed7953"
             ],
             [
              0.7777777777777778,
              "#fb9f3a"
             ],
             [
              0.8888888888888888,
              "#fdca26"
             ],
             [
              1,
              "#f0f921"
             ]
            ],
            "type": "histogram2d"
           }
          ],
          "histogram2dcontour": [
           {
            "colorbar": {
             "outlinewidth": 0,
             "ticks": ""
            },
            "colorscale": [
             [
              0,
              "#0d0887"
             ],
             [
              0.1111111111111111,
              "#46039f"
             ],
             [
              0.2222222222222222,
              "#7201a8"
             ],
             [
              0.3333333333333333,
              "#9c179e"
             ],
             [
              0.4444444444444444,
              "#bd3786"
             ],
             [
              0.5555555555555556,
              "#d8576b"
             ],
             [
              0.6666666666666666,
              "#ed7953"
             ],
             [
              0.7777777777777778,
              "#fb9f3a"
             ],
             [
              0.8888888888888888,
              "#fdca26"
             ],
             [
              1,
              "#f0f921"
             ]
            ],
            "type": "histogram2dcontour"
           }
          ],
          "mesh3d": [
           {
            "colorbar": {
             "outlinewidth": 0,
             "ticks": ""
            },
            "type": "mesh3d"
           }
          ],
          "parcoords": [
           {
            "line": {
             "colorbar": {
              "outlinewidth": 0,
              "ticks": ""
             }
            },
            "type": "parcoords"
           }
          ],
          "pie": [
           {
            "automargin": true,
            "type": "pie"
           }
          ],
          "scatter": [
           {
            "fillpattern": {
             "fillmode": "overlay",
             "size": 10,
             "solidity": 0.2
            },
            "type": "scatter"
           }
          ],
          "scatter3d": [
           {
            "line": {
             "colorbar": {
              "outlinewidth": 0,
              "ticks": ""
             }
            },
            "marker": {
             "colorbar": {
              "outlinewidth": 0,
              "ticks": ""
             }
            },
            "type": "scatter3d"
           }
          ],
          "scattercarpet": [
           {
            "marker": {
             "colorbar": {
              "outlinewidth": 0,
              "ticks": ""
             }
            },
            "type": "scattercarpet"
           }
          ],
          "scattergeo": [
           {
            "marker": {
             "colorbar": {
              "outlinewidth": 0,
              "ticks": ""
             }
            },
            "type": "scattergeo"
           }
          ],
          "scattergl": [
           {
            "marker": {
             "colorbar": {
              "outlinewidth": 0,
              "ticks": ""
             }
            },
            "type": "scattergl"
           }
          ],
          "scattermap": [
           {
            "marker": {
             "colorbar": {
              "outlinewidth": 0,
              "ticks": ""
             }
            },
            "type": "scattermap"
           }
          ],
          "scattermapbox": [
           {
            "marker": {
             "colorbar": {
              "outlinewidth": 0,
              "ticks": ""
             }
            },
            "type": "scattermapbox"
           }
          ],
          "scatterpolar": [
           {
            "marker": {
             "colorbar": {
              "outlinewidth": 0,
              "ticks": ""
             }
            },
            "type": "scatterpolar"
           }
          ],
          "scatterpolargl": [
           {
            "marker": {
             "colorbar": {
              "outlinewidth": 0,
              "ticks": ""
             }
            },
            "type": "scatterpolargl"
           }
          ],
          "scatterternary": [
           {
            "marker": {
             "colorbar": {
              "outlinewidth": 0,
              "ticks": ""
             }
            },
            "type": "scatterternary"
           }
          ],
          "surface": [
           {
            "colorbar": {
             "outlinewidth": 0,
             "ticks": ""
            },
            "colorscale": [
             [
              0,
              "#0d0887"
             ],
             [
              0.1111111111111111,
              "#46039f"
             ],
             [
              0.2222222222222222,
              "#7201a8"
             ],
             [
              0.3333333333333333,
              "#9c179e"
             ],
             [
              0.4444444444444444,
              "#bd3786"
             ],
             [
              0.5555555555555556,
              "#d8576b"
             ],
             [
              0.6666666666666666,
              "#ed7953"
             ],
             [
              0.7777777777777778,
              "#fb9f3a"
             ],
             [
              0.8888888888888888,
              "#fdca26"
             ],
             [
              1,
              "#f0f921"
             ]
            ],
            "type": "surface"
           }
          ],
          "table": [
           {
            "cells": {
             "fill": {
              "color": "#EBF0F8"
             },
             "line": {
              "color": "white"
             }
            },
            "header": {
             "fill": {
              "color": "#C8D4E3"
             },
             "line": {
              "color": "white"
             }
            },
            "type": "table"
           }
          ]
         },
         "layout": {
          "annotationdefaults": {
           "arrowcolor": "#2a3f5f",
           "arrowhead": 0,
           "arrowwidth": 1
          },
          "autotypenumbers": "strict",
          "coloraxis": {
           "colorbar": {
            "outlinewidth": 0,
            "ticks": ""
           }
          },
          "colorscale": {
           "diverging": [
            [
             0,
             "#8e0152"
            ],
            [
             0.1,
             "#c51b7d"
            ],
            [
             0.2,
             "#de77ae"
            ],
            [
             0.3,
             "#f1b6da"
            ],
            [
             0.4,
             "#fde0ef"
            ],
            [
             0.5,
             "#f7f7f7"
            ],
            [
             0.6,
             "#e6f5d0"
            ],
            [
             0.7,
             "#b8e186"
            ],
            [
             0.8,
             "#7fbc41"
            ],
            [
             0.9,
             "#4d9221"
            ],
            [
             1,
             "#276419"
            ]
           ],
           "sequential": [
            [
             0,
             "#0d0887"
            ],
            [
             0.1111111111111111,
             "#46039f"
            ],
            [
             0.2222222222222222,
             "#7201a8"
            ],
            [
             0.3333333333333333,
             "#9c179e"
            ],
            [
             0.4444444444444444,
             "#bd3786"
            ],
            [
             0.5555555555555556,
             "#d8576b"
            ],
            [
             0.6666666666666666,
             "#ed7953"
            ],
            [
             0.7777777777777778,
             "#fb9f3a"
            ],
            [
             0.8888888888888888,
             "#fdca26"
            ],
            [
             1,
             "#f0f921"
            ]
           ],
           "sequentialminus": [
            [
             0,
             "#0d0887"
            ],
            [
             0.1111111111111111,
             "#46039f"
            ],
            [
             0.2222222222222222,
             "#7201a8"
            ],
            [
             0.3333333333333333,
             "#9c179e"
            ],
            [
             0.4444444444444444,
             "#bd3786"
            ],
            [
             0.5555555555555556,
             "#d8576b"
            ],
            [
             0.6666666666666666,
             "#ed7953"
            ],
            [
             0.7777777777777778,
             "#fb9f3a"
            ],
            [
             0.8888888888888888,
             "#fdca26"
            ],
            [
             1,
             "#f0f921"
            ]
           ]
          },
          "colorway": [
           "#636efa",
           "#EF553B",
           "#00cc96",
           "#ab63fa",
           "#FFA15A",
           "#19d3f3",
           "#FF6692",
           "#B6E880",
           "#FF97FF",
           "#FECB52"
          ],
          "font": {
           "color": "#2a3f5f"
          },
          "geo": {
           "bgcolor": "white",
           "lakecolor": "white",
           "landcolor": "#E5ECF6",
           "showlakes": true,
           "showland": true,
           "subunitcolor": "white"
          },
          "hoverlabel": {
           "align": "left"
          },
          "hovermode": "closest",
          "mapbox": {
           "style": "light"
          },
          "paper_bgcolor": "white",
          "plot_bgcolor": "#E5ECF6",
          "polar": {
           "angularaxis": {
            "gridcolor": "white",
            "linecolor": "white",
            "ticks": ""
           },
           "bgcolor": "#E5ECF6",
           "radialaxis": {
            "gridcolor": "white",
            "linecolor": "white",
            "ticks": ""
           }
          },
          "scene": {
           "xaxis": {
            "backgroundcolor": "#E5ECF6",
            "gridcolor": "white",
            "gridwidth": 2,
            "linecolor": "white",
            "showbackground": true,
            "ticks": "",
            "zerolinecolor": "white"
           },
           "yaxis": {
            "backgroundcolor": "#E5ECF6",
            "gridcolor": "white",
            "gridwidth": 2,
            "linecolor": "white",
            "showbackground": true,
            "ticks": "",
            "zerolinecolor": "white"
           },
           "zaxis": {
            "backgroundcolor": "#E5ECF6",
            "gridcolor": "white",
            "gridwidth": 2,
            "linecolor": "white",
            "showbackground": true,
            "ticks": "",
            "zerolinecolor": "white"
           }
          },
          "shapedefaults": {
           "line": {
            "color": "#2a3f5f"
           }
          },
          "ternary": {
           "aaxis": {
            "gridcolor": "white",
            "linecolor": "white",
            "ticks": ""
           },
           "baxis": {
            "gridcolor": "white",
            "linecolor": "white",
            "ticks": ""
           },
           "bgcolor": "#E5ECF6",
           "caxis": {
            "gridcolor": "white",
            "linecolor": "white",
            "ticks": ""
           }
          },
          "title": {
           "x": 0.05
          },
          "xaxis": {
           "automargin": true,
           "gridcolor": "white",
           "linecolor": "white",
           "ticks": "",
           "title": {
            "standoff": 15
           },
           "zerolinecolor": "white",
           "zerolinewidth": 2
          },
          "yaxis": {
           "automargin": true,
           "gridcolor": "white",
           "linecolor": "white",
           "ticks": "",
           "title": {
            "standoff": 15
           },
           "zerolinecolor": "white",
           "zerolinewidth": 2
          }
         }
        },
        "xaxis": {
         "anchor": "y",
         "domain": [
          0,
          1
         ],
         "title": {
          "text": "Promo Code Used"
         }
        },
        "yaxis": {
         "anchor": "x",
         "domain": [
          0,
          1
         ],
         "title": {
          "text": "Purchase Amount (USD)"
         }
        }
       }
      }
     },
     "metadata": {},
     "output_type": "display_data"
    }
   ],
   "source": [
    "fig= px.bar(shop_groupby, x='Promo Code Used', y='Purchase Amount (USD)')\n",
    "fig.show()"
   ]
  },
  {
   "cell_type": "markdown",
   "metadata": {},
   "source": [
    "10. How does the frequency of purchases vary across different age groups?"
   ]
  },
  {
   "cell_type": "code",
   "execution_count": 89,
   "metadata": {},
   "outputs": [
    {
     "data": {
      "text/html": [
       "<div>\n",
       "<style scoped>\n",
       "    .dataframe tbody tr th:only-of-type {\n",
       "        vertical-align: middle;\n",
       "    }\n",
       "\n",
       "    .dataframe tbody tr th {\n",
       "        vertical-align: top;\n",
       "    }\n",
       "\n",
       "    .dataframe thead th {\n",
       "        text-align: right;\n",
       "    }\n",
       "</style>\n",
       "<table border=\"1\" class=\"dataframe\">\n",
       "  <thead>\n",
       "    <tr style=\"text-align: right;\">\n",
       "      <th></th>\n",
       "      <th>Age</th>\n",
       "      <th>Age_Category</th>\n",
       "    </tr>\n",
       "  </thead>\n",
       "  <tbody>\n",
       "    <tr>\n",
       "      <th>0</th>\n",
       "      <td>55</td>\n",
       "      <td>Old</td>\n",
       "    </tr>\n",
       "    <tr>\n",
       "      <th>1</th>\n",
       "      <td>19</td>\n",
       "      <td>Young Adult</td>\n",
       "    </tr>\n",
       "    <tr>\n",
       "      <th>2</th>\n",
       "      <td>50</td>\n",
       "      <td>Adult</td>\n",
       "    </tr>\n",
       "    <tr>\n",
       "      <th>3</th>\n",
       "      <td>21</td>\n",
       "      <td>Young Adult</td>\n",
       "    </tr>\n",
       "    <tr>\n",
       "      <th>4</th>\n",
       "      <td>45</td>\n",
       "      <td>Adult</td>\n",
       "    </tr>\n",
       "    <tr>\n",
       "      <th>...</th>\n",
       "      <td>...</td>\n",
       "      <td>...</td>\n",
       "    </tr>\n",
       "    <tr>\n",
       "      <th>3895</th>\n",
       "      <td>40</td>\n",
       "      <td>Adult</td>\n",
       "    </tr>\n",
       "    <tr>\n",
       "      <th>3896</th>\n",
       "      <td>52</td>\n",
       "      <td>Old</td>\n",
       "    </tr>\n",
       "    <tr>\n",
       "      <th>3897</th>\n",
       "      <td>46</td>\n",
       "      <td>Adult</td>\n",
       "    </tr>\n",
       "    <tr>\n",
       "      <th>3898</th>\n",
       "      <td>44</td>\n",
       "      <td>Adult</td>\n",
       "    </tr>\n",
       "    <tr>\n",
       "      <th>3899</th>\n",
       "      <td>52</td>\n",
       "      <td>Old</td>\n",
       "    </tr>\n",
       "  </tbody>\n",
       "</table>\n",
       "<p>3900 rows × 2 columns</p>\n",
       "</div>"
      ],
      "text/plain": [
       "      Age Age_Category\n",
       "0      55          Old\n",
       "1      19  Young Adult\n",
       "2      50        Adult\n",
       "3      21  Young Adult\n",
       "4      45        Adult\n",
       "...   ...          ...\n",
       "3895   40        Adult\n",
       "3896   52          Old\n",
       "3897   46        Adult\n",
       "3898   44        Adult\n",
       "3899   52          Old\n",
       "\n",
       "[3900 rows x 2 columns]"
      ]
     },
     "execution_count": 89,
     "metadata": {},
     "output_type": "execute_result"
    }
   ],
   "source": [
    "shop[['Age', 'Age_Category']]"
   ]
  },
  {
   "cell_type": "code",
   "execution_count": 90,
   "metadata": {},
   "outputs": [
    {
     "data": {
      "text/plain": [
       "['Old', 'Young Adult', 'Adult', 'teen']\n",
       "Categories (5, object): ['child' < 'teen' < 'Young Adult' < 'Adult' < 'Old']"
      ]
     },
     "execution_count": 90,
     "metadata": {},
     "output_type": "execute_result"
    }
   ],
   "source": [
    "shop['Age_Category'].unique()"
   ]
  },
  {
   "cell_type": "code",
   "execution_count": 91,
   "metadata": {},
   "outputs": [
    {
     "data": {
      "application/vnd.plotly.v1+json": {
       "config": {
        "plotlyServerURL": "https://plot.ly"
       },
       "data": [
        {
         "branchvalues": "total",
         "domain": {
          "x": [
           0,
           1
          ],
          "y": [
           0,
           1
          ]
         },
         "hovertemplate": "labels=%{label}<br>Age=%{value}<br>parent=%{parent}<br>id=%{id}<extra></extra>",
         "ids": [
          "Fortnightly/Old",
          "Fortnightly/Young Adult",
          "Weekly/Adult",
          "Weekly/Young Adult",
          "Annually/Adult",
          "Quarterly/Old",
          "Annually/Young Adult",
          "Bi-Weekly/Old",
          "Weekly/Old",
          "Monthly/Old",
          "Bi-Weekly/Young Adult",
          "Every 3 Months/Young Adult",
          "Quarterly/Adult",
          "Annually/Old",
          "Weekly/teen",
          "Annually/teen",
          "Every 3 Months/Old",
          "Monthly/Adult",
          "Fortnightly/Adult",
          "Bi-Weekly/Adult",
          "Every 3 Months/Adult",
          "Every 3 Months/teen",
          "Monthly/Young Adult",
          "Quarterly/Young Adult",
          "Bi-Weekly/teen",
          "Quarterly/teen",
          "Monthly/teen",
          "Fortnightly/teen",
          "Fortnightly",
          "Weekly",
          "Annually",
          "Quarterly",
          "Bi-Weekly",
          "Monthly",
          "Every 3 Months"
         ],
         "labels": [
          "Old",
          "Young Adult",
          "Adult",
          "Young Adult",
          "Adult",
          "Old",
          "Young Adult",
          "Old",
          "Old",
          "Old",
          "Young Adult",
          "Young Adult",
          "Adult",
          "Old",
          "teen",
          "teen",
          "Old",
          "Adult",
          "Adult",
          "Adult",
          "Adult",
          "teen",
          "Young Adult",
          "Young Adult",
          "teen",
          "teen",
          "teen",
          "teen",
          "Fortnightly",
          "Weekly",
          "Annually",
          "Quarterly",
          "Bi-Weekly",
          "Monthly",
          "Every 3 Months"
         ],
         "name": "",
         "parents": [
          "Fortnightly",
          "Fortnightly",
          "Weekly",
          "Weekly",
          "Annually",
          "Quarterly",
          "Annually",
          "Bi-Weekly",
          "Weekly",
          "Monthly",
          "Bi-Weekly",
          "Every 3 Months",
          "Quarterly",
          "Annually",
          "Weekly",
          "Annually",
          "Every 3 Months",
          "Monthly",
          "Fortnightly",
          "Bi-Weekly",
          "Every 3 Months",
          "Every 3 Months",
          "Monthly",
          "Quarterly",
          "Bi-Weekly",
          "Quarterly",
          "Monthly",
          "Fortnightly",
          "",
          "",
          "",
          "",
          "",
          "",
          ""
         ],
         "type": "sunburst",
         "values": {
          "bdata": "AAAAAAAtx0AAAAAAAEyoQAAAAAAAEMFAAAAAAADwpEAAAAAAAATBQAAAAACAO8tAAAAAAADupEAAAAAAAFLHQAAAAAAAZMhAAAAAAAAwyEAAAAAAAPqsQAAAAAAARqlAAAAAAADkvUAAAAAAAE3LQAAAAAAAQGRAAAAAAACAZkAAAAAAAIbIQAAAAAAAycFAAAAAAACKwEAAAAAAAHq+QAAAAACAP8JAAAAAAAAAa0AAAAAAAHKmQAAAAAAASqpAAAAAAACAZkAAAAAAAMBoQAAAAAAAgF9AAAAAAACAZkAAAAAAABLXQAAAAACAgNdAAAAAAEDz2EAAAAAAgJHYQAAAAADAE9dAAAAAAEDq10AAAAAAgMHYQA==",
          "dtype": "f8"
         }
        }
       ],
       "layout": {
        "legend": {
         "tracegroupgap": 0
        },
        "margin": {
         "t": 60
        },
        "template": {
         "data": {
          "bar": [
           {
            "error_x": {
             "color": "#2a3f5f"
            },
            "error_y": {
             "color": "#2a3f5f"
            },
            "marker": {
             "line": {
              "color": "#E5ECF6",
              "width": 0.5
             },
             "pattern": {
              "fillmode": "overlay",
              "size": 10,
              "solidity": 0.2
             }
            },
            "type": "bar"
           }
          ],
          "barpolar": [
           {
            "marker": {
             "line": {
              "color": "#E5ECF6",
              "width": 0.5
             },
             "pattern": {
              "fillmode": "overlay",
              "size": 10,
              "solidity": 0.2
             }
            },
            "type": "barpolar"
           }
          ],
          "carpet": [
           {
            "aaxis": {
             "endlinecolor": "#2a3f5f",
             "gridcolor": "white",
             "linecolor": "white",
             "minorgridcolor": "white",
             "startlinecolor": "#2a3f5f"
            },
            "baxis": {
             "endlinecolor": "#2a3f5f",
             "gridcolor": "white",
             "linecolor": "white",
             "minorgridcolor": "white",
             "startlinecolor": "#2a3f5f"
            },
            "type": "carpet"
           }
          ],
          "choropleth": [
           {
            "colorbar": {
             "outlinewidth": 0,
             "ticks": ""
            },
            "type": "choropleth"
           }
          ],
          "contour": [
           {
            "colorbar": {
             "outlinewidth": 0,
             "ticks": ""
            },
            "colorscale": [
             [
              0,
              "#0d0887"
             ],
             [
              0.1111111111111111,
              "#46039f"
             ],
             [
              0.2222222222222222,
              "#7201a8"
             ],
             [
              0.3333333333333333,
              "#9c179e"
             ],
             [
              0.4444444444444444,
              "#bd3786"
             ],
             [
              0.5555555555555556,
              "#d8576b"
             ],
             [
              0.6666666666666666,
              "#ed7953"
             ],
             [
              0.7777777777777778,
              "#fb9f3a"
             ],
             [
              0.8888888888888888,
              "#fdca26"
             ],
             [
              1,
              "#f0f921"
             ]
            ],
            "type": "contour"
           }
          ],
          "contourcarpet": [
           {
            "colorbar": {
             "outlinewidth": 0,
             "ticks": ""
            },
            "type": "contourcarpet"
           }
          ],
          "heatmap": [
           {
            "colorbar": {
             "outlinewidth": 0,
             "ticks": ""
            },
            "colorscale": [
             [
              0,
              "#0d0887"
             ],
             [
              0.1111111111111111,
              "#46039f"
             ],
             [
              0.2222222222222222,
              "#7201a8"
             ],
             [
              0.3333333333333333,
              "#9c179e"
             ],
             [
              0.4444444444444444,
              "#bd3786"
             ],
             [
              0.5555555555555556,
              "#d8576b"
             ],
             [
              0.6666666666666666,
              "#ed7953"
             ],
             [
              0.7777777777777778,
              "#fb9f3a"
             ],
             [
              0.8888888888888888,
              "#fdca26"
             ],
             [
              1,
              "#f0f921"
             ]
            ],
            "type": "heatmap"
           }
          ],
          "histogram": [
           {
            "marker": {
             "pattern": {
              "fillmode": "overlay",
              "size": 10,
              "solidity": 0.2
             }
            },
            "type": "histogram"
           }
          ],
          "histogram2d": [
           {
            "colorbar": {
             "outlinewidth": 0,
             "ticks": ""
            },
            "colorscale": [
             [
              0,
              "#0d0887"
             ],
             [
              0.1111111111111111,
              "#46039f"
             ],
             [
              0.2222222222222222,
              "#7201a8"
             ],
             [
              0.3333333333333333,
              "#9c179e"
             ],
             [
              0.4444444444444444,
              "#bd3786"
             ],
             [
              0.5555555555555556,
              "#d8576b"
             ],
             [
              0.6666666666666666,
              "#ed7953"
             ],
             [
              0.7777777777777778,
              "#fb9f3a"
             ],
             [
              0.8888888888888888,
              "#fdca26"
             ],
             [
              1,
              "#f0f921"
             ]
            ],
            "type": "histogram2d"
           }
          ],
          "histogram2dcontour": [
           {
            "colorbar": {
             "outlinewidth": 0,
             "ticks": ""
            },
            "colorscale": [
             [
              0,
              "#0d0887"
             ],
             [
              0.1111111111111111,
              "#46039f"
             ],
             [
              0.2222222222222222,
              "#7201a8"
             ],
             [
              0.3333333333333333,
              "#9c179e"
             ],
             [
              0.4444444444444444,
              "#bd3786"
             ],
             [
              0.5555555555555556,
              "#d8576b"
             ],
             [
              0.6666666666666666,
              "#ed7953"
             ],
             [
              0.7777777777777778,
              "#fb9f3a"
             ],
             [
              0.8888888888888888,
              "#fdca26"
             ],
             [
              1,
              "#f0f921"
             ]
            ],
            "type": "histogram2dcontour"
           }
          ],
          "mesh3d": [
           {
            "colorbar": {
             "outlinewidth": 0,
             "ticks": ""
            },
            "type": "mesh3d"
           }
          ],
          "parcoords": [
           {
            "line": {
             "colorbar": {
              "outlinewidth": 0,
              "ticks": ""
             }
            },
            "type": "parcoords"
           }
          ],
          "pie": [
           {
            "automargin": true,
            "type": "pie"
           }
          ],
          "scatter": [
           {
            "fillpattern": {
             "fillmode": "overlay",
             "size": 10,
             "solidity": 0.2
            },
            "type": "scatter"
           }
          ],
          "scatter3d": [
           {
            "line": {
             "colorbar": {
              "outlinewidth": 0,
              "ticks": ""
             }
            },
            "marker": {
             "colorbar": {
              "outlinewidth": 0,
              "ticks": ""
             }
            },
            "type": "scatter3d"
           }
          ],
          "scattercarpet": [
           {
            "marker": {
             "colorbar": {
              "outlinewidth": 0,
              "ticks": ""
             }
            },
            "type": "scattercarpet"
           }
          ],
          "scattergeo": [
           {
            "marker": {
             "colorbar": {
              "outlinewidth": 0,
              "ticks": ""
             }
            },
            "type": "scattergeo"
           }
          ],
          "scattergl": [
           {
            "marker": {
             "colorbar": {
              "outlinewidth": 0,
              "ticks": ""
             }
            },
            "type": "scattergl"
           }
          ],
          "scattermap": [
           {
            "marker": {
             "colorbar": {
              "outlinewidth": 0,
              "ticks": ""
             }
            },
            "type": "scattermap"
           }
          ],
          "scattermapbox": [
           {
            "marker": {
             "colorbar": {
              "outlinewidth": 0,
              "ticks": ""
             }
            },
            "type": "scattermapbox"
           }
          ],
          "scatterpolar": [
           {
            "marker": {
             "colorbar": {
              "outlinewidth": 0,
              "ticks": ""
             }
            },
            "type": "scatterpolar"
           }
          ],
          "scatterpolargl": [
           {
            "marker": {
             "colorbar": {
              "outlinewidth": 0,
              "ticks": ""
             }
            },
            "type": "scatterpolargl"
           }
          ],
          "scatterternary": [
           {
            "marker": {
             "colorbar": {
              "outlinewidth": 0,
              "ticks": ""
             }
            },
            "type": "scatterternary"
           }
          ],
          "surface": [
           {
            "colorbar": {
             "outlinewidth": 0,
             "ticks": ""
            },
            "colorscale": [
             [
              0,
              "#0d0887"
             ],
             [
              0.1111111111111111,
              "#46039f"
             ],
             [
              0.2222222222222222,
              "#7201a8"
             ],
             [
              0.3333333333333333,
              "#9c179e"
             ],
             [
              0.4444444444444444,
              "#bd3786"
             ],
             [
              0.5555555555555556,
              "#d8576b"
             ],
             [
              0.6666666666666666,
              "#ed7953"
             ],
             [
              0.7777777777777778,
              "#fb9f3a"
             ],
             [
              0.8888888888888888,
              "#fdca26"
             ],
             [
              1,
              "#f0f921"
             ]
            ],
            "type": "surface"
           }
          ],
          "table": [
           {
            "cells": {
             "fill": {
              "color": "#EBF0F8"
             },
             "line": {
              "color": "white"
             }
            },
            "header": {
             "fill": {
              "color": "#C8D4E3"
             },
             "line": {
              "color": "white"
             }
            },
            "type": "table"
           }
          ]
         },
         "layout": {
          "annotationdefaults": {
           "arrowcolor": "#2a3f5f",
           "arrowhead": 0,
           "arrowwidth": 1
          },
          "autotypenumbers": "strict",
          "coloraxis": {
           "colorbar": {
            "outlinewidth": 0,
            "ticks": ""
           }
          },
          "colorscale": {
           "diverging": [
            [
             0,
             "#8e0152"
            ],
            [
             0.1,
             "#c51b7d"
            ],
            [
             0.2,
             "#de77ae"
            ],
            [
             0.3,
             "#f1b6da"
            ],
            [
             0.4,
             "#fde0ef"
            ],
            [
             0.5,
             "#f7f7f7"
            ],
            [
             0.6,
             "#e6f5d0"
            ],
            [
             0.7,
             "#b8e186"
            ],
            [
             0.8,
             "#7fbc41"
            ],
            [
             0.9,
             "#4d9221"
            ],
            [
             1,
             "#276419"
            ]
           ],
           "sequential": [
            [
             0,
             "#0d0887"
            ],
            [
             0.1111111111111111,
             "#46039f"
            ],
            [
             0.2222222222222222,
             "#7201a8"
            ],
            [
             0.3333333333333333,
             "#9c179e"
            ],
            [
             0.4444444444444444,
             "#bd3786"
            ],
            [
             0.5555555555555556,
             "#d8576b"
            ],
            [
             0.6666666666666666,
             "#ed7953"
            ],
            [
             0.7777777777777778,
             "#fb9f3a"
            ],
            [
             0.8888888888888888,
             "#fdca26"
            ],
            [
             1,
             "#f0f921"
            ]
           ],
           "sequentialminus": [
            [
             0,
             "#0d0887"
            ],
            [
             0.1111111111111111,
             "#46039f"
            ],
            [
             0.2222222222222222,
             "#7201a8"
            ],
            [
             0.3333333333333333,
             "#9c179e"
            ],
            [
             0.4444444444444444,
             "#bd3786"
            ],
            [
             0.5555555555555556,
             "#d8576b"
            ],
            [
             0.6666666666666666,
             "#ed7953"
            ],
            [
             0.7777777777777778,
             "#fb9f3a"
            ],
            [
             0.8888888888888888,
             "#fdca26"
            ],
            [
             1,
             "#f0f921"
            ]
           ]
          },
          "colorway": [
           "#636efa",
           "#EF553B",
           "#00cc96",
           "#ab63fa",
           "#FFA15A",
           "#19d3f3",
           "#FF6692",
           "#B6E880",
           "#FF97FF",
           "#FECB52"
          ],
          "font": {
           "color": "#2a3f5f"
          },
          "geo": {
           "bgcolor": "white",
           "lakecolor": "white",
           "landcolor": "#E5ECF6",
           "showlakes": true,
           "showland": true,
           "subunitcolor": "white"
          },
          "hoverlabel": {
           "align": "left"
          },
          "hovermode": "closest",
          "mapbox": {
           "style": "light"
          },
          "paper_bgcolor": "white",
          "plot_bgcolor": "#E5ECF6",
          "polar": {
           "angularaxis": {
            "gridcolor": "white",
            "linecolor": "white",
            "ticks": ""
           },
           "bgcolor": "#E5ECF6",
           "radialaxis": {
            "gridcolor": "white",
            "linecolor": "white",
            "ticks": ""
           }
          },
          "scene": {
           "xaxis": {
            "backgroundcolor": "#E5ECF6",
            "gridcolor": "white",
            "gridwidth": 2,
            "linecolor": "white",
            "showbackground": true,
            "ticks": "",
            "zerolinecolor": "white"
           },
           "yaxis": {
            "backgroundcolor": "#E5ECF6",
            "gridcolor": "white",
            "gridwidth": 2,
            "linecolor": "white",
            "showbackground": true,
            "ticks": "",
            "zerolinecolor": "white"
           },
           "zaxis": {
            "backgroundcolor": "#E5ECF6",
            "gridcolor": "white",
            "gridwidth": 2,
            "linecolor": "white",
            "showbackground": true,
            "ticks": "",
            "zerolinecolor": "white"
           }
          },
          "shapedefaults": {
           "line": {
            "color": "#2a3f5f"
           }
          },
          "ternary": {
           "aaxis": {
            "gridcolor": "white",
            "linecolor": "white",
            "ticks": ""
           },
           "baxis": {
            "gridcolor": "white",
            "linecolor": "white",
            "ticks": ""
           },
           "bgcolor": "#E5ECF6",
           "caxis": {
            "gridcolor": "white",
            "linecolor": "white",
            "ticks": ""
           }
          },
          "title": {
           "x": 0.05
          },
          "xaxis": {
           "automargin": true,
           "gridcolor": "white",
           "linecolor": "white",
           "ticks": "",
           "title": {
            "standoff": 15
           },
           "zerolinecolor": "white",
           "zerolinewidth": 2
          },
          "yaxis": {
           "automargin": true,
           "gridcolor": "white",
           "linecolor": "white",
           "ticks": "",
           "title": {
            "standoff": 15
           },
           "zerolinecolor": "white",
           "zerolinewidth": 2
          }
         }
        }
       }
      }
     },
     "metadata": {},
     "output_type": "display_data"
    }
   ],
   "source": [
    "shop_groupby=shop.groupby('Frequency of Purchases')['Age'].sum()\n",
    "px.sunburst(shop, path=['Frequency of Purchases', 'Age_Category'], values='Age')"
   ]
  },
  {
   "cell_type": "markdown",
   "metadata": {},
   "source": [
    "11. Are there any correlations between size of product and purchase amount?"
   ]
  },
  {
   "cell_type": "code",
   "execution_count": 92,
   "metadata": {},
   "outputs": [],
   "source": [
    "shop_groupby=shop.groupby('Size')['Purchase Amount (USD)'].sum().reset_index()"
   ]
  },
  {
   "cell_type": "code",
   "execution_count": 93,
   "metadata": {},
   "outputs": [
    {
     "data": {
      "application/vnd.plotly.v1+json": {
       "config": {
        "plotlyServerURL": "https://plot.ly"
       },
       "data": [
        {
         "hovertemplate": "Size=%{x}<br>Purchase Amount (USD)=%{y}<extra></extra>",
         "legendgroup": "",
         "marker": {
          "color": "#636efa",
          "pattern": {
           "shape": ""
          }
         },
         "name": "",
         "orientation": "v",
         "showlegend": false,
         "textposition": "auto",
         "type": "bar",
         "x": [
          "L",
          "M",
          "S",
          "XL"
         ],
         "xaxis": "x",
         "y": {
          "bdata": "4/AAAM+aAQAUngAAs2QAAA==",
          "dtype": "i4"
         },
         "yaxis": "y"
        }
       ],
       "layout": {
        "barmode": "relative",
        "legend": {
         "tracegroupgap": 0
        },
        "margin": {
         "t": 60
        },
        "template": {
         "data": {
          "bar": [
           {
            "error_x": {
             "color": "#2a3f5f"
            },
            "error_y": {
             "color": "#2a3f5f"
            },
            "marker": {
             "line": {
              "color": "#E5ECF6",
              "width": 0.5
             },
             "pattern": {
              "fillmode": "overlay",
              "size": 10,
              "solidity": 0.2
             }
            },
            "type": "bar"
           }
          ],
          "barpolar": [
           {
            "marker": {
             "line": {
              "color": "#E5ECF6",
              "width": 0.5
             },
             "pattern": {
              "fillmode": "overlay",
              "size": 10,
              "solidity": 0.2
             }
            },
            "type": "barpolar"
           }
          ],
          "carpet": [
           {
            "aaxis": {
             "endlinecolor": "#2a3f5f",
             "gridcolor": "white",
             "linecolor": "white",
             "minorgridcolor": "white",
             "startlinecolor": "#2a3f5f"
            },
            "baxis": {
             "endlinecolor": "#2a3f5f",
             "gridcolor": "white",
             "linecolor": "white",
             "minorgridcolor": "white",
             "startlinecolor": "#2a3f5f"
            },
            "type": "carpet"
           }
          ],
          "choropleth": [
           {
            "colorbar": {
             "outlinewidth": 0,
             "ticks": ""
            },
            "type": "choropleth"
           }
          ],
          "contour": [
           {
            "colorbar": {
             "outlinewidth": 0,
             "ticks": ""
            },
            "colorscale": [
             [
              0,
              "#0d0887"
             ],
             [
              0.1111111111111111,
              "#46039f"
             ],
             [
              0.2222222222222222,
              "#7201a8"
             ],
             [
              0.3333333333333333,
              "#9c179e"
             ],
             [
              0.4444444444444444,
              "#bd3786"
             ],
             [
              0.5555555555555556,
              "#d8576b"
             ],
             [
              0.6666666666666666,
              "#ed7953"
             ],
             [
              0.7777777777777778,
              "#fb9f3a"
             ],
             [
              0.8888888888888888,
              "#fdca26"
             ],
             [
              1,
              "#f0f921"
             ]
            ],
            "type": "contour"
           }
          ],
          "contourcarpet": [
           {
            "colorbar": {
             "outlinewidth": 0,
             "ticks": ""
            },
            "type": "contourcarpet"
           }
          ],
          "heatmap": [
           {
            "colorbar": {
             "outlinewidth": 0,
             "ticks": ""
            },
            "colorscale": [
             [
              0,
              "#0d0887"
             ],
             [
              0.1111111111111111,
              "#46039f"
             ],
             [
              0.2222222222222222,
              "#7201a8"
             ],
             [
              0.3333333333333333,
              "#9c179e"
             ],
             [
              0.4444444444444444,
              "#bd3786"
             ],
             [
              0.5555555555555556,
              "#d8576b"
             ],
             [
              0.6666666666666666,
              "#ed7953"
             ],
             [
              0.7777777777777778,
              "#fb9f3a"
             ],
             [
              0.8888888888888888,
              "#fdca26"
             ],
             [
              1,
              "#f0f921"
             ]
            ],
            "type": "heatmap"
           }
          ],
          "histogram": [
           {
            "marker": {
             "pattern": {
              "fillmode": "overlay",
              "size": 10,
              "solidity": 0.2
             }
            },
            "type": "histogram"
           }
          ],
          "histogram2d": [
           {
            "colorbar": {
             "outlinewidth": 0,
             "ticks": ""
            },
            "colorscale": [
             [
              0,
              "#0d0887"
             ],
             [
              0.1111111111111111,
              "#46039f"
             ],
             [
              0.2222222222222222,
              "#7201a8"
             ],
             [
              0.3333333333333333,
              "#9c179e"
             ],
             [
              0.4444444444444444,
              "#bd3786"
             ],
             [
              0.5555555555555556,
              "#d8576b"
             ],
             [
              0.6666666666666666,
              "#ed7953"
             ],
             [
              0.7777777777777778,
              "#fb9f3a"
             ],
             [
              0.8888888888888888,
              "#fdca26"
             ],
             [
              1,
              "#f0f921"
             ]
            ],
            "type": "histogram2d"
           }
          ],
          "histogram2dcontour": [
           {
            "colorbar": {
             "outlinewidth": 0,
             "ticks": ""
            },
            "colorscale": [
             [
              0,
              "#0d0887"
             ],
             [
              0.1111111111111111,
              "#46039f"
             ],
             [
              0.2222222222222222,
              "#7201a8"
             ],
             [
              0.3333333333333333,
              "#9c179e"
             ],
             [
              0.4444444444444444,
              "#bd3786"
             ],
             [
              0.5555555555555556,
              "#d8576b"
             ],
             [
              0.6666666666666666,
              "#ed7953"
             ],
             [
              0.7777777777777778,
              "#fb9f3a"
             ],
             [
              0.8888888888888888,
              "#fdca26"
             ],
             [
              1,
              "#f0f921"
             ]
            ],
            "type": "histogram2dcontour"
           }
          ],
          "mesh3d": [
           {
            "colorbar": {
             "outlinewidth": 0,
             "ticks": ""
            },
            "type": "mesh3d"
           }
          ],
          "parcoords": [
           {
            "line": {
             "colorbar": {
              "outlinewidth": 0,
              "ticks": ""
             }
            },
            "type": "parcoords"
           }
          ],
          "pie": [
           {
            "automargin": true,
            "type": "pie"
           }
          ],
          "scatter": [
           {
            "fillpattern": {
             "fillmode": "overlay",
             "size": 10,
             "solidity": 0.2
            },
            "type": "scatter"
           }
          ],
          "scatter3d": [
           {
            "line": {
             "colorbar": {
              "outlinewidth": 0,
              "ticks": ""
             }
            },
            "marker": {
             "colorbar": {
              "outlinewidth": 0,
              "ticks": ""
             }
            },
            "type": "scatter3d"
           }
          ],
          "scattercarpet": [
           {
            "marker": {
             "colorbar": {
              "outlinewidth": 0,
              "ticks": ""
             }
            },
            "type": "scattercarpet"
           }
          ],
          "scattergeo": [
           {
            "marker": {
             "colorbar": {
              "outlinewidth": 0,
              "ticks": ""
             }
            },
            "type": "scattergeo"
           }
          ],
          "scattergl": [
           {
            "marker": {
             "colorbar": {
              "outlinewidth": 0,
              "ticks": ""
             }
            },
            "type": "scattergl"
           }
          ],
          "scattermap": [
           {
            "marker": {
             "colorbar": {
              "outlinewidth": 0,
              "ticks": ""
             }
            },
            "type": "scattermap"
           }
          ],
          "scattermapbox": [
           {
            "marker": {
             "colorbar": {
              "outlinewidth": 0,
              "ticks": ""
             }
            },
            "type": "scattermapbox"
           }
          ],
          "scatterpolar": [
           {
            "marker": {
             "colorbar": {
              "outlinewidth": 0,
              "ticks": ""
             }
            },
            "type": "scatterpolar"
           }
          ],
          "scatterpolargl": [
           {
            "marker": {
             "colorbar": {
              "outlinewidth": 0,
              "ticks": ""
             }
            },
            "type": "scatterpolargl"
           }
          ],
          "scatterternary": [
           {
            "marker": {
             "colorbar": {
              "outlinewidth": 0,
              "ticks": ""
             }
            },
            "type": "scatterternary"
           }
          ],
          "surface": [
           {
            "colorbar": {
             "outlinewidth": 0,
             "ticks": ""
            },
            "colorscale": [
             [
              0,
              "#0d0887"
             ],
             [
              0.1111111111111111,
              "#46039f"
             ],
             [
              0.2222222222222222,
              "#7201a8"
             ],
             [
              0.3333333333333333,
              "#9c179e"
             ],
             [
              0.4444444444444444,
              "#bd3786"
             ],
             [
              0.5555555555555556,
              "#d8576b"
             ],
             [
              0.6666666666666666,
              "#ed7953"
             ],
             [
              0.7777777777777778,
              "#fb9f3a"
             ],
             [
              0.8888888888888888,
              "#fdca26"
             ],
             [
              1,
              "#f0f921"
             ]
            ],
            "type": "surface"
           }
          ],
          "table": [
           {
            "cells": {
             "fill": {
              "color": "#EBF0F8"
             },
             "line": {
              "color": "white"
             }
            },
            "header": {
             "fill": {
              "color": "#C8D4E3"
             },
             "line": {
              "color": "white"
             }
            },
            "type": "table"
           }
          ]
         },
         "layout": {
          "annotationdefaults": {
           "arrowcolor": "#2a3f5f",
           "arrowhead": 0,
           "arrowwidth": 1
          },
          "autotypenumbers": "strict",
          "coloraxis": {
           "colorbar": {
            "outlinewidth": 0,
            "ticks": ""
           }
          },
          "colorscale": {
           "diverging": [
            [
             0,
             "#8e0152"
            ],
            [
             0.1,
             "#c51b7d"
            ],
            [
             0.2,
             "#de77ae"
            ],
            [
             0.3,
             "#f1b6da"
            ],
            [
             0.4,
             "#fde0ef"
            ],
            [
             0.5,
             "#f7f7f7"
            ],
            [
             0.6,
             "#e6f5d0"
            ],
            [
             0.7,
             "#b8e186"
            ],
            [
             0.8,
             "#7fbc41"
            ],
            [
             0.9,
             "#4d9221"
            ],
            [
             1,
             "#276419"
            ]
           ],
           "sequential": [
            [
             0,
             "#0d0887"
            ],
            [
             0.1111111111111111,
             "#46039f"
            ],
            [
             0.2222222222222222,
             "#7201a8"
            ],
            [
             0.3333333333333333,
             "#9c179e"
            ],
            [
             0.4444444444444444,
             "#bd3786"
            ],
            [
             0.5555555555555556,
             "#d8576b"
            ],
            [
             0.6666666666666666,
             "#ed7953"
            ],
            [
             0.7777777777777778,
             "#fb9f3a"
            ],
            [
             0.8888888888888888,
             "#fdca26"
            ],
            [
             1,
             "#f0f921"
            ]
           ],
           "sequentialminus": [
            [
             0,
             "#0d0887"
            ],
            [
             0.1111111111111111,
             "#46039f"
            ],
            [
             0.2222222222222222,
             "#7201a8"
            ],
            [
             0.3333333333333333,
             "#9c179e"
            ],
            [
             0.4444444444444444,
             "#bd3786"
            ],
            [
             0.5555555555555556,
             "#d8576b"
            ],
            [
             0.6666666666666666,
             "#ed7953"
            ],
            [
             0.7777777777777778,
             "#fb9f3a"
            ],
            [
             0.8888888888888888,
             "#fdca26"
            ],
            [
             1,
             "#f0f921"
            ]
           ]
          },
          "colorway": [
           "#636efa",
           "#EF553B",
           "#00cc96",
           "#ab63fa",
           "#FFA15A",
           "#19d3f3",
           "#FF6692",
           "#B6E880",
           "#FF97FF",
           "#FECB52"
          ],
          "font": {
           "color": "#2a3f5f"
          },
          "geo": {
           "bgcolor": "white",
           "lakecolor": "white",
           "landcolor": "#E5ECF6",
           "showlakes": true,
           "showland": true,
           "subunitcolor": "white"
          },
          "hoverlabel": {
           "align": "left"
          },
          "hovermode": "closest",
          "mapbox": {
           "style": "light"
          },
          "paper_bgcolor": "white",
          "plot_bgcolor": "#E5ECF6",
          "polar": {
           "angularaxis": {
            "gridcolor": "white",
            "linecolor": "white",
            "ticks": ""
           },
           "bgcolor": "#E5ECF6",
           "radialaxis": {
            "gridcolor": "white",
            "linecolor": "white",
            "ticks": ""
           }
          },
          "scene": {
           "xaxis": {
            "backgroundcolor": "#E5ECF6",
            "gridcolor": "white",
            "gridwidth": 2,
            "linecolor": "white",
            "showbackground": true,
            "ticks": "",
            "zerolinecolor": "white"
           },
           "yaxis": {
            "backgroundcolor": "#E5ECF6",
            "gridcolor": "white",
            "gridwidth": 2,
            "linecolor": "white",
            "showbackground": true,
            "ticks": "",
            "zerolinecolor": "white"
           },
           "zaxis": {
            "backgroundcolor": "#E5ECF6",
            "gridcolor": "white",
            "gridwidth": 2,
            "linecolor": "white",
            "showbackground": true,
            "ticks": "",
            "zerolinecolor": "white"
           }
          },
          "shapedefaults": {
           "line": {
            "color": "#2a3f5f"
           }
          },
          "ternary": {
           "aaxis": {
            "gridcolor": "white",
            "linecolor": "white",
            "ticks": ""
           },
           "baxis": {
            "gridcolor": "white",
            "linecolor": "white",
            "ticks": ""
           },
           "bgcolor": "#E5ECF6",
           "caxis": {
            "gridcolor": "white",
            "linecolor": "white",
            "ticks": ""
           }
          },
          "title": {
           "x": 0.05
          },
          "xaxis": {
           "automargin": true,
           "gridcolor": "white",
           "linecolor": "white",
           "ticks": "",
           "title": {
            "standoff": 15
           },
           "zerolinecolor": "white",
           "zerolinewidth": 2
          },
          "yaxis": {
           "automargin": true,
           "gridcolor": "white",
           "linecolor": "white",
           "ticks": "",
           "title": {
            "standoff": 15
           },
           "zerolinecolor": "white",
           "zerolinewidth": 2
          }
         }
        },
        "xaxis": {
         "anchor": "y",
         "domain": [
          0,
          1
         ],
         "title": {
          "text": "Size"
         }
        },
        "yaxis": {
         "anchor": "x",
         "domain": [
          0,
          1
         ],
         "title": {
          "text": "Purchase Amount (USD)"
         }
        }
       }
      }
     },
     "metadata": {},
     "output_type": "display_data"
    }
   ],
   "source": [
    "fig= px.bar(shop_groupby, x='Size', y='Purchase Amount (USD)')\n",
    "fig.show()"
   ]
  },
  {
   "cell_type": "markdown",
   "metadata": {},
   "source": [
    "12. Which shipping type is preferred by customers for different product categories?"
   ]
  },
  {
   "cell_type": "code",
   "execution_count": 94,
   "metadata": {},
   "outputs": [
    {
     "data": {
      "text/plain": [
       "Category     Shipping Type \n",
       "Clothing     Standard          297\n",
       "             Free Shipping     294\n",
       "             Next Day Air      293\n",
       "             Express           290\n",
       "             Store Pickup      282\n",
       "             2-Day Shipping    281\n",
       "Accessories  Store Pickup      217\n",
       "             Next Day Air      211\n",
       "             Standard          208\n",
       "             2-Day Shipping    206\n",
       "             Express           203\n",
       "             Free Shipping     195\n",
       "Footwear     Free Shipping     122\n",
       "             Standard          100\n",
       "             Store Pickup       98\n",
       "             Express            96\n",
       "             Next Day Air       93\n",
       "             2-Day Shipping     90\n",
       "Outerwear    Free Shipping      64\n",
       "             Express            57\n",
       "             Store Pickup       53\n",
       "             Next Day Air       51\n",
       "             2-Day Shipping     50\n",
       "             Standard           49\n",
       "Name: count, dtype: int64"
      ]
     },
     "execution_count": 94,
     "metadata": {},
     "output_type": "execute_result"
    }
   ],
   "source": [
    "shop.groupby('Category')['Shipping Type'].value_counts().sort_values(ascending=False)"
   ]
  },
  {
   "cell_type": "code",
   "execution_count": 95,
   "metadata": {},
   "outputs": [
    {
     "data": {
      "text/plain": [
       "array(['Clothing', 'Footwear', 'Outerwear', 'Accessories'], dtype=object)"
      ]
     },
     "execution_count": 95,
     "metadata": {},
     "output_type": "execute_result"
    }
   ],
   "source": [
    "shop['Category'].unique()"
   ]
  },
  {
   "cell_type": "markdown",
   "metadata": {},
   "source": [
    "13. How does the presence of a discount affect the purchase decision of customers?"
   ]
  },
  {
   "cell_type": "code",
   "execution_count": 96,
   "metadata": {},
   "outputs": [
    {
     "data": {
      "application/vnd.plotly.v1+json": {
       "config": {
        "plotlyServerURL": "https://plot.ly"
       },
       "data": [
        {
         "bingroup": "x",
         "histfunc": "sum",
         "hovertemplate": "Discount Applied=%{x}<br>sum of Purchase Amount (USD)=%{y}<extra></extra>",
         "legendgroup": "",
         "marker": {
          "color": "#636efa",
          "pattern": {
           "shape": ""
          }
         },
         "name": "",
         "orientation": "v",
         "showlegend": false,
         "type": "histogram",
         "x": [
          "No",
          "Yes"
         ],
         "xaxis": "x",
         "y": {
          "bdata": "JgoCAFOEAQA=",
          "dtype": "i4"
         },
         "yaxis": "y"
        }
       ],
       "layout": {
        "barmode": "relative",
        "legend": {
         "tracegroupgap": 0
        },
        "margin": {
         "t": 60
        },
        "template": {
         "data": {
          "bar": [
           {
            "error_x": {
             "color": "#2a3f5f"
            },
            "error_y": {
             "color": "#2a3f5f"
            },
            "marker": {
             "line": {
              "color": "#E5ECF6",
              "width": 0.5
             },
             "pattern": {
              "fillmode": "overlay",
              "size": 10,
              "solidity": 0.2
             }
            },
            "type": "bar"
           }
          ],
          "barpolar": [
           {
            "marker": {
             "line": {
              "color": "#E5ECF6",
              "width": 0.5
             },
             "pattern": {
              "fillmode": "overlay",
              "size": 10,
              "solidity": 0.2
             }
            },
            "type": "barpolar"
           }
          ],
          "carpet": [
           {
            "aaxis": {
             "endlinecolor": "#2a3f5f",
             "gridcolor": "white",
             "linecolor": "white",
             "minorgridcolor": "white",
             "startlinecolor": "#2a3f5f"
            },
            "baxis": {
             "endlinecolor": "#2a3f5f",
             "gridcolor": "white",
             "linecolor": "white",
             "minorgridcolor": "white",
             "startlinecolor": "#2a3f5f"
            },
            "type": "carpet"
           }
          ],
          "choropleth": [
           {
            "colorbar": {
             "outlinewidth": 0,
             "ticks": ""
            },
            "type": "choropleth"
           }
          ],
          "contour": [
           {
            "colorbar": {
             "outlinewidth": 0,
             "ticks": ""
            },
            "colorscale": [
             [
              0,
              "#0d0887"
             ],
             [
              0.1111111111111111,
              "#46039f"
             ],
             [
              0.2222222222222222,
              "#7201a8"
             ],
             [
              0.3333333333333333,
              "#9c179e"
             ],
             [
              0.4444444444444444,
              "#bd3786"
             ],
             [
              0.5555555555555556,
              "#d8576b"
             ],
             [
              0.6666666666666666,
              "#ed7953"
             ],
             [
              0.7777777777777778,
              "#fb9f3a"
             ],
             [
              0.8888888888888888,
              "#fdca26"
             ],
             [
              1,
              "#f0f921"
             ]
            ],
            "type": "contour"
           }
          ],
          "contourcarpet": [
           {
            "colorbar": {
             "outlinewidth": 0,
             "ticks": ""
            },
            "type": "contourcarpet"
           }
          ],
          "heatmap": [
           {
            "colorbar": {
             "outlinewidth": 0,
             "ticks": ""
            },
            "colorscale": [
             [
              0,
              "#0d0887"
             ],
             [
              0.1111111111111111,
              "#46039f"
             ],
             [
              0.2222222222222222,
              "#7201a8"
             ],
             [
              0.3333333333333333,
              "#9c179e"
             ],
             [
              0.4444444444444444,
              "#bd3786"
             ],
             [
              0.5555555555555556,
              "#d8576b"
             ],
             [
              0.6666666666666666,
              "#ed7953"
             ],
             [
              0.7777777777777778,
              "#fb9f3a"
             ],
             [
              0.8888888888888888,
              "#fdca26"
             ],
             [
              1,
              "#f0f921"
             ]
            ],
            "type": "heatmap"
           }
          ],
          "histogram": [
           {
            "marker": {
             "pattern": {
              "fillmode": "overlay",
              "size": 10,
              "solidity": 0.2
             }
            },
            "type": "histogram"
           }
          ],
          "histogram2d": [
           {
            "colorbar": {
             "outlinewidth": 0,
             "ticks": ""
            },
            "colorscale": [
             [
              0,
              "#0d0887"
             ],
             [
              0.1111111111111111,
              "#46039f"
             ],
             [
              0.2222222222222222,
              "#7201a8"
             ],
             [
              0.3333333333333333,
              "#9c179e"
             ],
             [
              0.4444444444444444,
              "#bd3786"
             ],
             [
              0.5555555555555556,
              "#d8576b"
             ],
             [
              0.6666666666666666,
              "#ed7953"
             ],
             [
              0.7777777777777778,
              "#fb9f3a"
             ],
             [
              0.8888888888888888,
              "#fdca26"
             ],
             [
              1,
              "#f0f921"
             ]
            ],
            "type": "histogram2d"
           }
          ],
          "histogram2dcontour": [
           {
            "colorbar": {
             "outlinewidth": 0,
             "ticks": ""
            },
            "colorscale": [
             [
              0,
              "#0d0887"
             ],
             [
              0.1111111111111111,
              "#46039f"
             ],
             [
              0.2222222222222222,
              "#7201a8"
             ],
             [
              0.3333333333333333,
              "#9c179e"
             ],
             [
              0.4444444444444444,
              "#bd3786"
             ],
             [
              0.5555555555555556,
              "#d8576b"
             ],
             [
              0.6666666666666666,
              "#ed7953"
             ],
             [
              0.7777777777777778,
              "#fb9f3a"
             ],
             [
              0.8888888888888888,
              "#fdca26"
             ],
             [
              1,
              "#f0f921"
             ]
            ],
            "type": "histogram2dcontour"
           }
          ],
          "mesh3d": [
           {
            "colorbar": {
             "outlinewidth": 0,
             "ticks": ""
            },
            "type": "mesh3d"
           }
          ],
          "parcoords": [
           {
            "line": {
             "colorbar": {
              "outlinewidth": 0,
              "ticks": ""
             }
            },
            "type": "parcoords"
           }
          ],
          "pie": [
           {
            "automargin": true,
            "type": "pie"
           }
          ],
          "scatter": [
           {
            "fillpattern": {
             "fillmode": "overlay",
             "size": 10,
             "solidity": 0.2
            },
            "type": "scatter"
           }
          ],
          "scatter3d": [
           {
            "line": {
             "colorbar": {
              "outlinewidth": 0,
              "ticks": ""
             }
            },
            "marker": {
             "colorbar": {
              "outlinewidth": 0,
              "ticks": ""
             }
            },
            "type": "scatter3d"
           }
          ],
          "scattercarpet": [
           {
            "marker": {
             "colorbar": {
              "outlinewidth": 0,
              "ticks": ""
             }
            },
            "type": "scattercarpet"
           }
          ],
          "scattergeo": [
           {
            "marker": {
             "colorbar": {
              "outlinewidth": 0,
              "ticks": ""
             }
            },
            "type": "scattergeo"
           }
          ],
          "scattergl": [
           {
            "marker": {
             "colorbar": {
              "outlinewidth": 0,
              "ticks": ""
             }
            },
            "type": "scattergl"
           }
          ],
          "scattermap": [
           {
            "marker": {
             "colorbar": {
              "outlinewidth": 0,
              "ticks": ""
             }
            },
            "type": "scattermap"
           }
          ],
          "scattermapbox": [
           {
            "marker": {
             "colorbar": {
              "outlinewidth": 0,
              "ticks": ""
             }
            },
            "type": "scattermapbox"
           }
          ],
          "scatterpolar": [
           {
            "marker": {
             "colorbar": {
              "outlinewidth": 0,
              "ticks": ""
             }
            },
            "type": "scatterpolar"
           }
          ],
          "scatterpolargl": [
           {
            "marker": {
             "colorbar": {
              "outlinewidth": 0,
              "ticks": ""
             }
            },
            "type": "scatterpolargl"
           }
          ],
          "scatterternary": [
           {
            "marker": {
             "colorbar": {
              "outlinewidth": 0,
              "ticks": ""
             }
            },
            "type": "scatterternary"
           }
          ],
          "surface": [
           {
            "colorbar": {
             "outlinewidth": 0,
             "ticks": ""
            },
            "colorscale": [
             [
              0,
              "#0d0887"
             ],
             [
              0.1111111111111111,
              "#46039f"
             ],
             [
              0.2222222222222222,
              "#7201a8"
             ],
             [
              0.3333333333333333,
              "#9c179e"
             ],
             [
              0.4444444444444444,
              "#bd3786"
             ],
             [
              0.5555555555555556,
              "#d8576b"
             ],
             [
              0.6666666666666666,
              "#ed7953"
             ],
             [
              0.7777777777777778,
              "#fb9f3a"
             ],
             [
              0.8888888888888888,
              "#fdca26"
             ],
             [
              1,
              "#f0f921"
             ]
            ],
            "type": "surface"
           }
          ],
          "table": [
           {
            "cells": {
             "fill": {
              "color": "#EBF0F8"
             },
             "line": {
              "color": "white"
             }
            },
            "header": {
             "fill": {
              "color": "#C8D4E3"
             },
             "line": {
              "color": "white"
             }
            },
            "type": "table"
           }
          ]
         },
         "layout": {
          "annotationdefaults": {
           "arrowcolor": "#2a3f5f",
           "arrowhead": 0,
           "arrowwidth": 1
          },
          "autotypenumbers": "strict",
          "coloraxis": {
           "colorbar": {
            "outlinewidth": 0,
            "ticks": ""
           }
          },
          "colorscale": {
           "diverging": [
            [
             0,
             "#8e0152"
            ],
            [
             0.1,
             "#c51b7d"
            ],
            [
             0.2,
             "#de77ae"
            ],
            [
             0.3,
             "#f1b6da"
            ],
            [
             0.4,
             "#fde0ef"
            ],
            [
             0.5,
             "#f7f7f7"
            ],
            [
             0.6,
             "#e6f5d0"
            ],
            [
             0.7,
             "#b8e186"
            ],
            [
             0.8,
             "#7fbc41"
            ],
            [
             0.9,
             "#4d9221"
            ],
            [
             1,
             "#276419"
            ]
           ],
           "sequential": [
            [
             0,
             "#0d0887"
            ],
            [
             0.1111111111111111,
             "#46039f"
            ],
            [
             0.2222222222222222,
             "#7201a8"
            ],
            [
             0.3333333333333333,
             "#9c179e"
            ],
            [
             0.4444444444444444,
             "#bd3786"
            ],
            [
             0.5555555555555556,
             "#d8576b"
            ],
            [
             0.6666666666666666,
             "#ed7953"
            ],
            [
             0.7777777777777778,
             "#fb9f3a"
            ],
            [
             0.8888888888888888,
             "#fdca26"
            ],
            [
             1,
             "#f0f921"
            ]
           ],
           "sequentialminus": [
            [
             0,
             "#0d0887"
            ],
            [
             0.1111111111111111,
             "#46039f"
            ],
            [
             0.2222222222222222,
             "#7201a8"
            ],
            [
             0.3333333333333333,
             "#9c179e"
            ],
            [
             0.4444444444444444,
             "#bd3786"
            ],
            [
             0.5555555555555556,
             "#d8576b"
            ],
            [
             0.6666666666666666,
             "#ed7953"
            ],
            [
             0.7777777777777778,
             "#fb9f3a"
            ],
            [
             0.8888888888888888,
             "#fdca26"
            ],
            [
             1,
             "#f0f921"
            ]
           ]
          },
          "colorway": [
           "#636efa",
           "#EF553B",
           "#00cc96",
           "#ab63fa",
           "#FFA15A",
           "#19d3f3",
           "#FF6692",
           "#B6E880",
           "#FF97FF",
           "#FECB52"
          ],
          "font": {
           "color": "#2a3f5f"
          },
          "geo": {
           "bgcolor": "white",
           "lakecolor": "white",
           "landcolor": "#E5ECF6",
           "showlakes": true,
           "showland": true,
           "subunitcolor": "white"
          },
          "hoverlabel": {
           "align": "left"
          },
          "hovermode": "closest",
          "mapbox": {
           "style": "light"
          },
          "paper_bgcolor": "white",
          "plot_bgcolor": "#E5ECF6",
          "polar": {
           "angularaxis": {
            "gridcolor": "white",
            "linecolor": "white",
            "ticks": ""
           },
           "bgcolor": "#E5ECF6",
           "radialaxis": {
            "gridcolor": "white",
            "linecolor": "white",
            "ticks": ""
           }
          },
          "scene": {
           "xaxis": {
            "backgroundcolor": "#E5ECF6",
            "gridcolor": "white",
            "gridwidth": 2,
            "linecolor": "white",
            "showbackground": true,
            "ticks": "",
            "zerolinecolor": "white"
           },
           "yaxis": {
            "backgroundcolor": "#E5ECF6",
            "gridcolor": "white",
            "gridwidth": 2,
            "linecolor": "white",
            "showbackground": true,
            "ticks": "",
            "zerolinecolor": "white"
           },
           "zaxis": {
            "backgroundcolor": "#E5ECF6",
            "gridcolor": "white",
            "gridwidth": 2,
            "linecolor": "white",
            "showbackground": true,
            "ticks": "",
            "zerolinecolor": "white"
           }
          },
          "shapedefaults": {
           "line": {
            "color": "#2a3f5f"
           }
          },
          "ternary": {
           "aaxis": {
            "gridcolor": "white",
            "linecolor": "white",
            "ticks": ""
           },
           "baxis": {
            "gridcolor": "white",
            "linecolor": "white",
            "ticks": ""
           },
           "bgcolor": "#E5ECF6",
           "caxis": {
            "gridcolor": "white",
            "linecolor": "white",
            "ticks": ""
           }
          },
          "title": {
           "x": 0.05
          },
          "xaxis": {
           "automargin": true,
           "gridcolor": "white",
           "linecolor": "white",
           "ticks": "",
           "title": {
            "standoff": 15
           },
           "zerolinecolor": "white",
           "zerolinewidth": 2
          },
          "yaxis": {
           "automargin": true,
           "gridcolor": "white",
           "linecolor": "white",
           "ticks": "",
           "title": {
            "standoff": 15
           },
           "zerolinecolor": "white",
           "zerolinewidth": 2
          }
         }
        },
        "xaxis": {
         "anchor": "y",
         "domain": [
          0,
          1
         ],
         "title": {
          "text": "Discount Applied"
         }
        },
        "yaxis": {
         "anchor": "x",
         "domain": [
          0,
          1
         ],
         "title": {
          "text": "sum of Purchase Amount (USD)"
         }
        }
       }
      }
     },
     "metadata": {},
     "output_type": "display_data"
    }
   ],
   "source": [
    "shop_group=shop.groupby('Discount Applied')['Purchase Amount (USD)'].sum().reset_index()\n",
    "px.histogram(shop_group, x='Discount Applied', y='Purchase Amount (USD)')"
   ]
  },
  {
   "cell_type": "code",
   "execution_count": 97,
   "metadata": {},
   "outputs": [
    {
     "data": {
      "application/vnd.plotly.v1+json": {
       "config": {
        "plotlyServerURL": "https://plot.ly"
       },
       "data": [
        {
         "branchvalues": "total",
         "customdata": [
          [
           "Female"
          ],
          [
           "Female"
          ],
          [
           "Male"
          ],
          [
           "Male"
          ],
          [
           "Male"
          ]
         ],
         "domain": {
          "x": [
           0,
           1
          ],
          "y": [
           0,
           1
          ]
         },
         "hovertemplate": "labels=%{label}<br>Purchase Amount (USD)=%{value}<br>parent=%{parent}<br>id=%{id}<br>Gender=%{customdata[0]}<extra></extra>",
         "ids": [
          "Female/No",
          "Female",
          "Male/Yes",
          "Male/No",
          "Male"
         ],
         "labels": [
          "No",
          "Female",
          "Yes",
          "No",
          "Male"
         ],
         "marker": {
          "colors": [
           "#636efa",
           "#636efa",
           "#EF553B",
           "#EF553B",
           "#EF553B"
          ]
         },
         "name": "",
         "parents": [
          "Female",
          "",
          "Male",
          "Male",
          ""
         ],
         "type": "sunburst",
         "values": {
          "bdata": "AAAAAHBb8kAAAAAAcFvyQAAAAAAwRfhAAAAAAOCN7EAAAAAAEEYDQQ==",
          "dtype": "f8"
         }
        }
       ],
       "layout": {
        "legend": {
         "tracegroupgap": 0
        },
        "margin": {
         "t": 60
        },
        "template": {
         "data": {
          "bar": [
           {
            "error_x": {
             "color": "#2a3f5f"
            },
            "error_y": {
             "color": "#2a3f5f"
            },
            "marker": {
             "line": {
              "color": "#E5ECF6",
              "width": 0.5
             },
             "pattern": {
              "fillmode": "overlay",
              "size": 10,
              "solidity": 0.2
             }
            },
            "type": "bar"
           }
          ],
          "barpolar": [
           {
            "marker": {
             "line": {
              "color": "#E5ECF6",
              "width": 0.5
             },
             "pattern": {
              "fillmode": "overlay",
              "size": 10,
              "solidity": 0.2
             }
            },
            "type": "barpolar"
           }
          ],
          "carpet": [
           {
            "aaxis": {
             "endlinecolor": "#2a3f5f",
             "gridcolor": "white",
             "linecolor": "white",
             "minorgridcolor": "white",
             "startlinecolor": "#2a3f5f"
            },
            "baxis": {
             "endlinecolor": "#2a3f5f",
             "gridcolor": "white",
             "linecolor": "white",
             "minorgridcolor": "white",
             "startlinecolor": "#2a3f5f"
            },
            "type": "carpet"
           }
          ],
          "choropleth": [
           {
            "colorbar": {
             "outlinewidth": 0,
             "ticks": ""
            },
            "type": "choropleth"
           }
          ],
          "contour": [
           {
            "colorbar": {
             "outlinewidth": 0,
             "ticks": ""
            },
            "colorscale": [
             [
              0,
              "#0d0887"
             ],
             [
              0.1111111111111111,
              "#46039f"
             ],
             [
              0.2222222222222222,
              "#7201a8"
             ],
             [
              0.3333333333333333,
              "#9c179e"
             ],
             [
              0.4444444444444444,
              "#bd3786"
             ],
             [
              0.5555555555555556,
              "#d8576b"
             ],
             [
              0.6666666666666666,
              "#ed7953"
             ],
             [
              0.7777777777777778,
              "#fb9f3a"
             ],
             [
              0.8888888888888888,
              "#fdca26"
             ],
             [
              1,
              "#f0f921"
             ]
            ],
            "type": "contour"
           }
          ],
          "contourcarpet": [
           {
            "colorbar": {
             "outlinewidth": 0,
             "ticks": ""
            },
            "type": "contourcarpet"
           }
          ],
          "heatmap": [
           {
            "colorbar": {
             "outlinewidth": 0,
             "ticks": ""
            },
            "colorscale": [
             [
              0,
              "#0d0887"
             ],
             [
              0.1111111111111111,
              "#46039f"
             ],
             [
              0.2222222222222222,
              "#7201a8"
             ],
             [
              0.3333333333333333,
              "#9c179e"
             ],
             [
              0.4444444444444444,
              "#bd3786"
             ],
             [
              0.5555555555555556,
              "#d8576b"
             ],
             [
              0.6666666666666666,
              "#ed7953"
             ],
             [
              0.7777777777777778,
              "#fb9f3a"
             ],
             [
              0.8888888888888888,
              "#fdca26"
             ],
             [
              1,
              "#f0f921"
             ]
            ],
            "type": "heatmap"
           }
          ],
          "histogram": [
           {
            "marker": {
             "pattern": {
              "fillmode": "overlay",
              "size": 10,
              "solidity": 0.2
             }
            },
            "type": "histogram"
           }
          ],
          "histogram2d": [
           {
            "colorbar": {
             "outlinewidth": 0,
             "ticks": ""
            },
            "colorscale": [
             [
              0,
              "#0d0887"
             ],
             [
              0.1111111111111111,
              "#46039f"
             ],
             [
              0.2222222222222222,
              "#7201a8"
             ],
             [
              0.3333333333333333,
              "#9c179e"
             ],
             [
              0.4444444444444444,
              "#bd3786"
             ],
             [
              0.5555555555555556,
              "#d8576b"
             ],
             [
              0.6666666666666666,
              "#ed7953"
             ],
             [
              0.7777777777777778,
              "#fb9f3a"
             ],
             [
              0.8888888888888888,
              "#fdca26"
             ],
             [
              1,
              "#f0f921"
             ]
            ],
            "type": "histogram2d"
           }
          ],
          "histogram2dcontour": [
           {
            "colorbar": {
             "outlinewidth": 0,
             "ticks": ""
            },
            "colorscale": [
             [
              0,
              "#0d0887"
             ],
             [
              0.1111111111111111,
              "#46039f"
             ],
             [
              0.2222222222222222,
              "#7201a8"
             ],
             [
              0.3333333333333333,
              "#9c179e"
             ],
             [
              0.4444444444444444,
              "#bd3786"
             ],
             [
              0.5555555555555556,
              "#d8576b"
             ],
             [
              0.6666666666666666,
              "#ed7953"
             ],
             [
              0.7777777777777778,
              "#fb9f3a"
             ],
             [
              0.8888888888888888,
              "#fdca26"
             ],
             [
              1,
              "#f0f921"
             ]
            ],
            "type": "histogram2dcontour"
           }
          ],
          "mesh3d": [
           {
            "colorbar": {
             "outlinewidth": 0,
             "ticks": ""
            },
            "type": "mesh3d"
           }
          ],
          "parcoords": [
           {
            "line": {
             "colorbar": {
              "outlinewidth": 0,
              "ticks": ""
             }
            },
            "type": "parcoords"
           }
          ],
          "pie": [
           {
            "automargin": true,
            "type": "pie"
           }
          ],
          "scatter": [
           {
            "fillpattern": {
             "fillmode": "overlay",
             "size": 10,
             "solidity": 0.2
            },
            "type": "scatter"
           }
          ],
          "scatter3d": [
           {
            "line": {
             "colorbar": {
              "outlinewidth": 0,
              "ticks": ""
             }
            },
            "marker": {
             "colorbar": {
              "outlinewidth": 0,
              "ticks": ""
             }
            },
            "type": "scatter3d"
           }
          ],
          "scattercarpet": [
           {
            "marker": {
             "colorbar": {
              "outlinewidth": 0,
              "ticks": ""
             }
            },
            "type": "scattercarpet"
           }
          ],
          "scattergeo": [
           {
            "marker": {
             "colorbar": {
              "outlinewidth": 0,
              "ticks": ""
             }
            },
            "type": "scattergeo"
           }
          ],
          "scattergl": [
           {
            "marker": {
             "colorbar": {
              "outlinewidth": 0,
              "ticks": ""
             }
            },
            "type": "scattergl"
           }
          ],
          "scattermap": [
           {
            "marker": {
             "colorbar": {
              "outlinewidth": 0,
              "ticks": ""
             }
            },
            "type": "scattermap"
           }
          ],
          "scattermapbox": [
           {
            "marker": {
             "colorbar": {
              "outlinewidth": 0,
              "ticks": ""
             }
            },
            "type": "scattermapbox"
           }
          ],
          "scatterpolar": [
           {
            "marker": {
             "colorbar": {
              "outlinewidth": 0,
              "ticks": ""
             }
            },
            "type": "scatterpolar"
           }
          ],
          "scatterpolargl": [
           {
            "marker": {
             "colorbar": {
              "outlinewidth": 0,
              "ticks": ""
             }
            },
            "type": "scatterpolargl"
           }
          ],
          "scatterternary": [
           {
            "marker": {
             "colorbar": {
              "outlinewidth": 0,
              "ticks": ""
             }
            },
            "type": "scatterternary"
           }
          ],
          "surface": [
           {
            "colorbar": {
             "outlinewidth": 0,
             "ticks": ""
            },
            "colorscale": [
             [
              0,
              "#0d0887"
             ],
             [
              0.1111111111111111,
              "#46039f"
             ],
             [
              0.2222222222222222,
              "#7201a8"
             ],
             [
              0.3333333333333333,
              "#9c179e"
             ],
             [
              0.4444444444444444,
              "#bd3786"
             ],
             [
              0.5555555555555556,
              "#d8576b"
             ],
             [
              0.6666666666666666,
              "#ed7953"
             ],
             [
              0.7777777777777778,
              "#fb9f3a"
             ],
             [
              0.8888888888888888,
              "#fdca26"
             ],
             [
              1,
              "#f0f921"
             ]
            ],
            "type": "surface"
           }
          ],
          "table": [
           {
            "cells": {
             "fill": {
              "color": "#EBF0F8"
             },
             "line": {
              "color": "white"
             }
            },
            "header": {
             "fill": {
              "color": "#C8D4E3"
             },
             "line": {
              "color": "white"
             }
            },
            "type": "table"
           }
          ]
         },
         "layout": {
          "annotationdefaults": {
           "arrowcolor": "#2a3f5f",
           "arrowhead": 0,
           "arrowwidth": 1
          },
          "autotypenumbers": "strict",
          "coloraxis": {
           "colorbar": {
            "outlinewidth": 0,
            "ticks": ""
           }
          },
          "colorscale": {
           "diverging": [
            [
             0,
             "#8e0152"
            ],
            [
             0.1,
             "#c51b7d"
            ],
            [
             0.2,
             "#de77ae"
            ],
            [
             0.3,
             "#f1b6da"
            ],
            [
             0.4,
             "#fde0ef"
            ],
            [
             0.5,
             "#f7f7f7"
            ],
            [
             0.6,
             "#e6f5d0"
            ],
            [
             0.7,
             "#b8e186"
            ],
            [
             0.8,
             "#7fbc41"
            ],
            [
             0.9,
             "#4d9221"
            ],
            [
             1,
             "#276419"
            ]
           ],
           "sequential": [
            [
             0,
             "#0d0887"
            ],
            [
             0.1111111111111111,
             "#46039f"
            ],
            [
             0.2222222222222222,
             "#7201a8"
            ],
            [
             0.3333333333333333,
             "#9c179e"
            ],
            [
             0.4444444444444444,
             "#bd3786"
            ],
            [
             0.5555555555555556,
             "#d8576b"
            ],
            [
             0.6666666666666666,
             "#ed7953"
            ],
            [
             0.7777777777777778,
             "#fb9f3a"
            ],
            [
             0.8888888888888888,
             "#fdca26"
            ],
            [
             1,
             "#f0f921"
            ]
           ],
           "sequentialminus": [
            [
             0,
             "#0d0887"
            ],
            [
             0.1111111111111111,
             "#46039f"
            ],
            [
             0.2222222222222222,
             "#7201a8"
            ],
            [
             0.3333333333333333,
             "#9c179e"
            ],
            [
             0.4444444444444444,
             "#bd3786"
            ],
            [
             0.5555555555555556,
             "#d8576b"
            ],
            [
             0.6666666666666666,
             "#ed7953"
            ],
            [
             0.7777777777777778,
             "#fb9f3a"
            ],
            [
             0.8888888888888888,
             "#fdca26"
            ],
            [
             1,
             "#f0f921"
            ]
           ]
          },
          "colorway": [
           "#636efa",
           "#EF553B",
           "#00cc96",
           "#ab63fa",
           "#FFA15A",
           "#19d3f3",
           "#FF6692",
           "#B6E880",
           "#FF97FF",
           "#FECB52"
          ],
          "font": {
           "color": "#2a3f5f"
          },
          "geo": {
           "bgcolor": "white",
           "lakecolor": "white",
           "landcolor": "#E5ECF6",
           "showlakes": true,
           "showland": true,
           "subunitcolor": "white"
          },
          "hoverlabel": {
           "align": "left"
          },
          "hovermode": "closest",
          "mapbox": {
           "style": "light"
          },
          "paper_bgcolor": "white",
          "plot_bgcolor": "#E5ECF6",
          "polar": {
           "angularaxis": {
            "gridcolor": "white",
            "linecolor": "white",
            "ticks": ""
           },
           "bgcolor": "#E5ECF6",
           "radialaxis": {
            "gridcolor": "white",
            "linecolor": "white",
            "ticks": ""
           }
          },
          "scene": {
           "xaxis": {
            "backgroundcolor": "#E5ECF6",
            "gridcolor": "white",
            "gridwidth": 2,
            "linecolor": "white",
            "showbackground": true,
            "ticks": "",
            "zerolinecolor": "white"
           },
           "yaxis": {
            "backgroundcolor": "#E5ECF6",
            "gridcolor": "white",
            "gridwidth": 2,
            "linecolor": "white",
            "showbackground": true,
            "ticks": "",
            "zerolinecolor": "white"
           },
           "zaxis": {
            "backgroundcolor": "#E5ECF6",
            "gridcolor": "white",
            "gridwidth": 2,
            "linecolor": "white",
            "showbackground": true,
            "ticks": "",
            "zerolinecolor": "white"
           }
          },
          "shapedefaults": {
           "line": {
            "color": "#2a3f5f"
           }
          },
          "ternary": {
           "aaxis": {
            "gridcolor": "white",
            "linecolor": "white",
            "ticks": ""
           },
           "baxis": {
            "gridcolor": "white",
            "linecolor": "white",
            "ticks": ""
           },
           "bgcolor": "#E5ECF6",
           "caxis": {
            "gridcolor": "white",
            "linecolor": "white",
            "ticks": ""
           }
          },
          "title": {
           "x": 0.05
          },
          "xaxis": {
           "automargin": true,
           "gridcolor": "white",
           "linecolor": "white",
           "ticks": "",
           "title": {
            "standoff": 15
           },
           "zerolinecolor": "white",
           "zerolinewidth": 2
          },
          "yaxis": {
           "automargin": true,
           "gridcolor": "white",
           "linecolor": "white",
           "ticks": "",
           "title": {
            "standoff": 15
           },
           "zerolinecolor": "white",
           "zerolinewidth": 2
          }
         }
        }
       }
      }
     },
     "metadata": {},
     "output_type": "display_data"
    }
   ],
   "source": [
    "fig=px.sunburst(shop, path=['Gender', 'Discount Applied'], values='Purchase Amount (USD)', color='Gender')\n",
    "fig.show()"
   ]
  },
  {
   "cell_type": "markdown",
   "metadata": {},
   "source": [
    "14. Are there specific colors that are more popular among customers?"
   ]
  },
  {
   "cell_type": "code",
   "execution_count": 98,
   "metadata": {},
   "outputs": [
    {
     "data": {
      "application/vnd.plotly.v1+json": {
       "config": {
        "plotlyServerURL": "https://plot.ly"
       },
       "data": [
        {
         "bingroup": "x",
         "hovertemplate": "Color=%{x}<br>count=%{y}<extra></extra>",
         "legendgroup": "",
         "marker": {
          "color": "#636efa",
          "pattern": {
           "shape": ""
          }
         },
         "name": "",
         "orientation": "v",
         "showlegend": false,
         "type": "histogram",
         "x": [
          "Gray",
          "Maroon",
          "Maroon",
          "Maroon",
          "Turquoise",
          "White",
          "Gray",
          "Charcoal",
          "Silver",
          "Pink",
          "Purple",
          "Olive",
          "Gold",
          "Violet",
          "Teal",
          "Teal",
          "Gray",
          "Lavender",
          "Black",
          "Green",
          "Black",
          "Charcoal",
          "Peach",
          "White",
          "Green",
          "Silver",
          "Red",
          "Cyan",
          "Gray",
          "Black",
          "Black",
          "Brown",
          "Silver",
          "Green",
          "Violet",
          "Cyan",
          "Maroon",
          "Cyan",
          "Red",
          "Turquoise",
          "Beige",
          "Orange",
          "Beige",
          "Lavender",
          "Silver",
          "Indigo",
          "White",
          "Charcoal",
          "Orange",
          "Indigo",
          "Red",
          "Gray",
          "Green",
          "Peach",
          "Brown",
          "Lavender",
          "Brown",
          "White",
          "Charcoal",
          "Yellow",
          "Brown",
          "Orange",
          "Magenta",
          "Lavender",
          "Green",
          "Purple",
          "Magenta",
          "Gray",
          "Silver",
          "Cyan",
          "Magenta",
          "Gold",
          "Olive",
          "Teal",
          "Violet",
          "Blue",
          "Teal",
          "Gold",
          "Maroon",
          "Olive",
          "Blue",
          "Maroon",
          "Olive",
          "Turquoise",
          "Peach",
          "Charcoal",
          "Pink",
          "Green",
          "Orange",
          "Pink",
          "Violet",
          "Green",
          "Olive",
          "Purple",
          "Silver",
          "Pink",
          "Gold",
          "Teal",
          "Teal",
          "Indigo",
          "Maroon",
          "White",
          "Violet",
          "Red",
          "Pink",
          "Charcoal",
          "White",
          "Olive",
          "Purple",
          "Violet",
          "Black",
          "Purple",
          "Red",
          "Maroon",
          "Blue",
          "Gray",
          "Blue",
          "Yellow",
          "Orange",
          "Orange",
          "Red",
          "Olive",
          "Brown",
          "Brown",
          "Gray",
          "Indigo",
          "Pink",
          "Gray",
          "Gold",
          "Olive",
          "Violet",
          "Indigo",
          "Orange",
          "Violet",
          "Gray",
          "Purple",
          "White",
          "Turquoise",
          "Maroon",
          "White",
          "Yellow",
          "Turquoise",
          "Violet",
          "Beige",
          "Silver",
          "Teal",
          "Black",
          "Purple",
          "Gray",
          "White",
          "Cyan",
          "Turquoise",
          "Brown",
          "Maroon",
          "Charcoal",
          "Olive",
          "Lavender",
          "Yellow",
          "Teal",
          "Charcoal",
          "Orange",
          "Olive",
          "Turquoise",
          "Purple",
          "Purple",
          "Yellow",
          "Indigo",
          "Green",
          "Magenta",
          "Gold",
          "Maroon",
          "Blue",
          "Violet",
          "Turquoise",
          "Brown",
          "Violet",
          "Black",
          "Magenta",
          "Lavender",
          "Violet",
          "Green",
          "Beige",
          "Purple",
          "Beige",
          "Cyan",
          "Silver",
          "Lavender",
          "Purple",
          "Pink",
          "Maroon",
          "Beige",
          "Gray",
          "Turquoise",
          "Silver",
          "Olive",
          "Magenta",
          "Lavender",
          "Black",
          "Turquoise",
          "Green",
          "Teal",
          "Beige",
          "Magenta",
          "Yellow",
          "Yellow",
          "Silver",
          "Silver",
          "Silver",
          "Gold",
          "Olive",
          "Teal",
          "Maroon",
          "Blue",
          "Peach",
          "Blue",
          "Orange",
          "Yellow",
          "Purple",
          "Magenta",
          "Cyan",
          "Indigo",
          "Magenta",
          "Gray",
          "Turquoise",
          "Beige",
          "Olive",
          "Violet",
          "Turquoise",
          "White",
          "Silver",
          "Olive",
          "Blue",
          "Purple",
          "Yellow",
          "Silver",
          "Cyan",
          "Green",
          "Beige",
          "Peach",
          "Yellow",
          "Turquoise",
          "Peach",
          "Gray",
          "Olive",
          "Indigo",
          "Charcoal",
          "Beige",
          "Brown",
          "Blue",
          "Teal",
          "Black",
          "Gold",
          "Violet",
          "Cyan",
          "White",
          "Charcoal",
          "Violet",
          "Red",
          "Lavender",
          "Gold",
          "Red",
          "Magenta",
          "Teal",
          "Purple",
          "Charcoal",
          "Gray",
          "White",
          "Olive",
          "Charcoal",
          "Charcoal",
          "Orange",
          "Yellow",
          "Beige",
          "Silver",
          "Indigo",
          "Lavender",
          "Turquoise",
          "Green",
          "Orange",
          "Turquoise",
          "Cyan",
          "Charcoal",
          "Teal",
          "Maroon",
          "Red",
          "Yellow",
          "Gray",
          "Blue",
          "Lavender",
          "Yellow",
          "Indigo",
          "Violet",
          "Green",
          "White",
          "Gold",
          "Indigo",
          "Lavender",
          "Purple",
          "Lavender",
          "Maroon",
          "Teal",
          "Green",
          "Olive",
          "Turquoise",
          "Green",
          "Teal",
          "White",
          "Orange",
          "Beige",
          "Yellow",
          "Charcoal",
          "Silver",
          "Green",
          "Pink",
          "Purple",
          "Orange",
          "Charcoal",
          "Teal",
          "Beige",
          "White",
          "White",
          "Orange",
          "Cyan",
          "Orange",
          "Olive",
          "Charcoal",
          "White",
          "Teal",
          "Yellow",
          "White",
          "Beige",
          "Beige",
          "Maroon",
          "Teal",
          "Lavender",
          "Maroon",
          "Orange",
          "Cyan",
          "Silver",
          "Teal",
          "Blue",
          "Blue",
          "Olive",
          "Purple",
          "Charcoal",
          "Olive",
          "Violet",
          "Red",
          "Beige",
          "Green",
          "Violet",
          "Teal",
          "Yellow",
          "Yellow",
          "Olive",
          "Magenta",
          "Black",
          "Olive",
          "Magenta",
          "Olive",
          "Teal",
          "White",
          "Charcoal",
          "Yellow",
          "Charcoal",
          "Gray",
          "Turquoise",
          "Cyan",
          "Charcoal",
          "Silver",
          "Olive",
          "Pink",
          "Orange",
          "White",
          "Purple",
          "Olive",
          "Gray",
          "Silver",
          "Orange",
          "Magenta",
          "Beige",
          "Lavender",
          "Peach",
          "Magenta",
          "Beige",
          "Yellow",
          "Brown",
          "Silver",
          "Orange",
          "Purple",
          "Indigo",
          "Gray",
          "Black",
          "Maroon",
          "Beige",
          "Brown",
          "Black",
          "Indigo",
          "Silver",
          "Blue",
          "Green",
          "Orange",
          "Cyan",
          "Orange",
          "Indigo",
          "Silver",
          "Peach",
          "Teal",
          "White",
          "Brown",
          "Lavender",
          "Indigo",
          "Yellow",
          "White",
          "Violet",
          "Lavender",
          "Olive",
          "Beige",
          "Purple",
          "Teal",
          "Peach",
          "Violet",
          "Purple",
          "Teal",
          "Gold",
          "Teal",
          "Violet",
          "Black",
          "Gold",
          "Gold",
          "Brown",
          "Cyan",
          "Indigo",
          "Orange",
          "Pink",
          "Olive",
          "Cyan",
          "Peach",
          "Turquoise",
          "Turquoise",
          "Maroon",
          "Maroon",
          "Olive",
          "Magenta",
          "Red",
          "Olive",
          "Silver",
          "Turquoise",
          "Yellow",
          "Peach",
          "Beige",
          "Pink",
          "Violet",
          "Peach",
          "Gold",
          "Gold",
          "Indigo",
          "Blue",
          "Black",
          "Black",
          "Teal",
          "Yellow",
          "White",
          "Orange",
          "Silver",
          "Pink",
          "Turquoise",
          "Orange",
          "Peach",
          "Pink",
          "Teal",
          "White",
          "Gray",
          "Olive",
          "Maroon",
          "Magenta",
          "Magenta",
          "Green",
          "Turquoise",
          "Yellow",
          "Gray",
          "Peach",
          "Yellow",
          "White",
          "Lavender",
          "Blue",
          "Charcoal",
          "Red",
          "Olive",
          "Green",
          "Silver",
          "Silver",
          "Black",
          "Red",
          "Indigo",
          "Cyan",
          "Maroon",
          "Silver",
          "Lavender",
          "Silver",
          "Purple",
          "Cyan",
          "Cyan",
          "Lavender",
          "Maroon",
          "Gray",
          "Olive",
          "Magenta",
          "Yellow",
          "Cyan",
          "Teal",
          "Yellow",
          "Peach",
          "Peach",
          "Olive",
          "Charcoal",
          "Indigo",
          "Silver",
          "Beige",
          "Blue",
          "White",
          "Gold",
          "Blue",
          "Orange",
          "Gold",
          "Cyan",
          "Red",
          "Yellow",
          "Beige",
          "Orange",
          "Magenta",
          "Purple",
          "Black",
          "Pink",
          "Pink",
          "Maroon",
          "Maroon",
          "Turquoise",
          "Green",
          "Violet",
          "Lavender",
          "Gray",
          "Teal",
          "Red",
          "Yellow",
          "Magenta",
          "Brown",
          "Blue",
          "Black",
          "Olive",
          "Olive",
          "Green",
          "Peach",
          "White",
          "Red",
          "White",
          "Indigo",
          "White",
          "Teal",
          "Indigo",
          "Red",
          "Blue",
          "Blue",
          "Black",
          "Olive",
          "Lavender",
          "Indigo",
          "Red",
          "Red",
          "Pink",
          "Purple",
          "Cyan",
          "Cyan",
          "Charcoal",
          "Red",
          "Peach",
          "Black",
          "Black",
          "Purple",
          "Violet",
          "Orange",
          "Charcoal",
          "Turquoise",
          "Yellow",
          "White",
          "Gray",
          "Blue",
          "Maroon",
          "Violet",
          "Orange",
          "Turquoise",
          "Olive",
          "Brown",
          "Green",
          "Brown",
          "Silver",
          "White",
          "Gold",
          "Green",
          "Teal",
          "Charcoal",
          "Maroon",
          "Lavender",
          "Green",
          "Pink",
          "Charcoal",
          "Blue",
          "Purple",
          "Gold",
          "Purple",
          "Charcoal",
          "Black",
          "Lavender",
          "Lavender",
          "Lavender",
          "Olive",
          "Teal",
          "Maroon",
          "Cyan",
          "Charcoal",
          "Black",
          "Red",
          "Peach",
          "White",
          "Pink",
          "Red",
          "Indigo",
          "Black",
          "White",
          "Beige",
          "Silver",
          "Violet",
          "Red",
          "Orange",
          "Teal",
          "Brown",
          "Indigo",
          "Cyan",
          "Blue",
          "Olive",
          "Gray",
          "Red",
          "Red",
          "Green",
          "Blue",
          "Purple",
          "Pink",
          "Charcoal",
          "Brown",
          "Orange",
          "Magenta",
          "Yellow",
          "Beige",
          "Olive",
          "Gray",
          "Purple",
          "Beige",
          "White",
          "White",
          "Gold",
          "Olive",
          "Green",
          "Magenta",
          "Charcoal",
          "Indigo",
          "Peach",
          "Turquoise",
          "Blue",
          "Turquoise",
          "Gray",
          "Purple",
          "Black",
          "Peach",
          "Indigo",
          "Beige",
          "Yellow",
          "Peach",
          "Turquoise",
          "Teal",
          "Turquoise",
          "Magenta",
          "Purple",
          "Brown",
          "Violet",
          "Yellow",
          "Magenta",
          "Beige",
          "Turquoise",
          "Peach",
          "Orange",
          "Red",
          "Silver",
          "Cyan",
          "Turquoise",
          "Charcoal",
          "Peach",
          "Green",
          "Brown",
          "Yellow",
          "Charcoal",
          "Olive",
          "Red",
          "White",
          "Pink",
          "Black",
          "Indigo",
          "Turquoise",
          "Purple",
          "Beige",
          "Charcoal",
          "Turquoise",
          "Maroon",
          "Black",
          "Lavender",
          "Magenta",
          "Green",
          "Olive",
          "Green",
          "Peach",
          "Turquoise",
          "Orange",
          "Silver",
          "Blue",
          "Cyan",
          "Green",
          "Silver",
          "Yellow",
          "Gray",
          "Pink",
          "Beige",
          "Indigo",
          "Red",
          "Blue",
          "Cyan",
          "Violet",
          "Orange",
          "Maroon",
          "Teal",
          "Orange",
          "Purple",
          "Orange",
          "Yellow",
          "Charcoal",
          "Gray",
          "Charcoal",
          "Orange",
          "Red",
          "Gold",
          "Brown",
          "Olive",
          "Violet",
          "Indigo",
          "Yellow",
          "Teal",
          "Pink",
          "Violet",
          "Orange",
          "Red",
          "Peach",
          "Green",
          "Violet",
          "Yellow",
          "Pink",
          "Brown",
          "Silver",
          "Pink",
          "Cyan",
          "Brown",
          "Red",
          "Silver",
          "Gray",
          "Cyan",
          "Teal",
          "Indigo",
          "Yellow",
          "Gold",
          "Maroon",
          "Silver",
          "Yellow",
          "Blue",
          "Turquoise",
          "Indigo",
          "Green",
          "Purple",
          "Peach",
          "Purple",
          "Teal",
          "Green",
          "Yellow",
          "Purple",
          "Indigo",
          "Magenta",
          "Violet",
          "Maroon",
          "Yellow",
          "Beige",
          "Black",
          "Violet",
          "Violet",
          "Brown",
          "Gold",
          "Blue",
          "Teal",
          "Silver",
          "Maroon",
          "White",
          "Charcoal",
          "Brown",
          "Lavender",
          "Violet",
          "Lavender",
          "Green",
          "Olive",
          "Olive",
          "Pink",
          "Teal",
          "Cyan",
          "Gray",
          "Peach",
          "Teal",
          "Turquoise",
          "Green",
          "Magenta",
          "Green",
          "White",
          "Brown",
          "Purple",
          "Green",
          "Peach",
          "Silver",
          "Maroon",
          "Red",
          "Blue",
          "Purple",
          "Indigo",
          "Indigo",
          "Violet",
          "Brown",
          "Gray",
          "Teal",
          "Teal",
          "Beige",
          "Violet",
          "Beige",
          "Purple",
          "Charcoal",
          "Pink",
          "Blue",
          "Lavender",
          "Charcoal",
          "Turquoise",
          "Red",
          "Yellow",
          "Orange",
          "Blue",
          "Gold",
          "Gold",
          "Cyan",
          "Olive",
          "Teal",
          "Maroon",
          "Green",
          "Charcoal",
          "Cyan",
          "Charcoal",
          "Charcoal",
          "Lavender",
          "Turquoise",
          "Green",
          "Silver",
          "Blue",
          "Charcoal",
          "Pink",
          "Pink",
          "Magenta",
          "Gray",
          "Gray",
          "Orange",
          "Black",
          "Lavender",
          "Red",
          "Silver",
          "Cyan",
          "Gold",
          "Yellow",
          "Purple",
          "Brown",
          "Turquoise",
          "Gold",
          "Olive",
          "Purple",
          "Lavender",
          "Gray",
          "Red",
          "Purple",
          "Olive",
          "Lavender",
          "Gray",
          "Red",
          "Peach",
          "Gray",
          "Violet",
          "Beige",
          "Blue",
          "Magenta",
          "Cyan",
          "Red",
          "Cyan",
          "Turquoise",
          "Silver",
          "Pink",
          "Black",
          "Green",
          "Yellow",
          "Purple",
          "Purple",
          "Blue",
          "Maroon",
          "Orange",
          "Green",
          "Gold",
          "Silver",
          "Cyan",
          "Silver",
          "Beige",
          "Teal",
          "Green",
          "Black",
          "Yellow",
          "White",
          "Green",
          "Silver",
          "Blue",
          "Magenta",
          "Yellow",
          "White",
          "Pink",
          "Magenta",
          "Teal",
          "Indigo",
          "Maroon",
          "Black",
          "Cyan",
          "Cyan",
          "Gray",
          "Violet",
          "Blue",
          "Charcoal",
          "Olive",
          "Olive",
          "Turquoise",
          "Cyan",
          "Red",
          "Cyan",
          "Turquoise",
          "Lavender",
          "Cyan",
          "Violet",
          "Beige",
          "Cyan",
          "Indigo",
          "Olive",
          "Green",
          "Green",
          "Beige",
          "Black",
          "Brown",
          "Silver",
          "Gray",
          "Pink",
          "Maroon",
          "Cyan",
          "Gold",
          "Teal",
          "Beige",
          "Olive",
          "Gray",
          "Black",
          "Turquoise",
          "Brown",
          "Magenta",
          "Silver",
          "Red",
          "Indigo",
          "Green",
          "Gray",
          "Peach",
          "Charcoal",
          "Orange",
          "Beige",
          "Yellow",
          "White",
          "Gray",
          "Peach",
          "Violet",
          "Magenta",
          "Maroon",
          "Cyan",
          "White",
          "Brown",
          "Red",
          "Orange",
          "White",
          "Green",
          "Black",
          "Gold",
          "Lavender",
          "Turquoise",
          "Pink",
          "Silver",
          "Gray",
          "Indigo",
          "Teal",
          "Green",
          "Violet",
          "Cyan",
          "Blue",
          "Orange",
          "Charcoal",
          "Beige",
          "Black",
          "Lavender",
          "Lavender",
          "Turquoise",
          "Purple",
          "Olive",
          "Turquoise",
          "Teal",
          "Lavender",
          "Purple",
          "Blue",
          "Teal",
          "Lavender",
          "Silver",
          "Olive",
          "Brown",
          "Yellow",
          "Brown",
          "Cyan",
          "Magenta",
          "Magenta",
          "Orange",
          "Maroon",
          "Green",
          "Teal",
          "Black",
          "Magenta",
          "Olive",
          "Yellow",
          "Purple",
          "Beige",
          "Indigo",
          "Pink",
          "Blue",
          "Cyan",
          "Orange",
          "Black",
          "Maroon",
          "Violet",
          "Beige",
          "Gray",
          "Gray",
          "Brown",
          "Indigo",
          "Violet",
          "Blue",
          "Red",
          "Peach",
          "Olive",
          "White",
          "Magenta",
          "Beige",
          "Gold",
          "Purple",
          "White",
          "Indigo",
          "Charcoal",
          "Pink",
          "Silver",
          "Blue",
          "Blue",
          "Brown",
          "Cyan",
          "Teal",
          "Purple",
          "Turquoise",
          "Olive",
          "White",
          "Turquoise",
          "Silver",
          "Violet",
          "Lavender",
          "Magenta",
          "Indigo",
          "Black",
          "Peach",
          "Beige",
          "Black",
          "Turquoise",
          "Peach",
          "Gold",
          "Silver",
          "Peach",
          "Charcoal",
          "Beige",
          "Olive",
          "Violet",
          "Peach",
          "Teal",
          "Violet",
          "Cyan",
          "Olive",
          "Pink",
          "Purple",
          "Violet",
          "Peach",
          "Charcoal",
          "Lavender",
          "Purple",
          "Indigo",
          "Magenta",
          "Peach",
          "Charcoal",
          "Purple",
          "Orange",
          "Lavender",
          "Beige",
          "Maroon",
          "Charcoal",
          "White",
          "Lavender",
          "Black",
          "Teal",
          "Magenta",
          "Brown",
          "Peach",
          "Cyan",
          "Pink",
          "Purple",
          "Purple",
          "White",
          "Silver",
          "Green",
          "Teal",
          "Indigo",
          "Pink",
          "Indigo",
          "Red",
          "Violet",
          "Cyan",
          "Red",
          "Gray",
          "Gold",
          "Pink",
          "Cyan",
          "Red",
          "Gold",
          "Charcoal",
          "Orange",
          "Blue",
          "Blue",
          "Orange",
          "Blue",
          "White",
          "Green",
          "Silver",
          "Lavender",
          "Beige",
          "Violet",
          "Gray",
          "Red",
          "Lavender",
          "Peach",
          "Indigo",
          "Black",
          "Beige",
          "Red",
          "Black",
          "Teal",
          "Blue",
          "Beige",
          "Teal",
          "Maroon",
          "Yellow",
          "Indigo",
          "Magenta",
          "Beige",
          "Maroon",
          "Magenta",
          "Teal",
          "Orange",
          "Charcoal",
          "Turquoise",
          "Pink",
          "Teal",
          "White",
          "Maroon",
          "Violet",
          "Brown",
          "Indigo",
          "Black",
          "Black",
          "Olive",
          "Orange",
          "Pink",
          "Olive",
          "Cyan",
          "White",
          "Red",
          "Blue",
          "Olive",
          "Green",
          "Yellow",
          "Black",
          "Blue",
          "Pink",
          "Lavender",
          "Cyan",
          "Cyan",
          "Gold",
          "Green",
          "Red",
          "Magenta",
          "Red",
          "Yellow",
          "Turquoise",
          "Cyan",
          "Yellow",
          "Yellow",
          "Maroon",
          "Brown",
          "Gold",
          "Charcoal",
          "Beige",
          "Indigo",
          "Red",
          "White",
          "Charcoal",
          "Violet",
          "Magenta",
          "White",
          "Pink",
          "Lavender",
          "Pink",
          "Silver",
          "Violet",
          "Charcoal",
          "Charcoal",
          "Red",
          "Peach",
          "Purple",
          "Orange",
          "Magenta",
          "Red",
          "Black",
          "Peach",
          "Olive",
          "Gold",
          "Gold",
          "Turquoise",
          "Green",
          "Maroon",
          "Brown",
          "Brown",
          "Blue",
          "Lavender",
          "Peach",
          "Gray",
          "Charcoal",
          "Lavender",
          "Green",
          "Gray",
          "Orange",
          "Silver",
          "Olive",
          "Turquoise",
          "Turquoise",
          "Green",
          "Violet",
          "Charcoal",
          "White",
          "Olive",
          "Violet",
          "Violet",
          "Black",
          "Charcoal",
          "Yellow",
          "Blue",
          "Charcoal",
          "Red",
          "Indigo",
          "Beige",
          "Maroon",
          "Yellow",
          "Silver",
          "Olive",
          "Teal",
          "Silver",
          "Indigo",
          "Teal",
          "Charcoal",
          "Orange",
          "Gold",
          "Silver",
          "Orange",
          "Peach",
          "Brown",
          "Black",
          "Red",
          "Lavender",
          "Brown",
          "Maroon",
          "Violet",
          "Lavender",
          "Magenta",
          "Green",
          "Lavender",
          "Green",
          "Maroon",
          "Magenta",
          "Teal",
          "Orange",
          "Violet",
          "Yellow",
          "Orange",
          "Gold",
          "Indigo",
          "Turquoise",
          "Orange",
          "Indigo",
          "Charcoal",
          "Lavender",
          "Gold",
          "Lavender",
          "White",
          "Lavender",
          "Charcoal",
          "Silver",
          "Yellow",
          "Olive",
          "Peach",
          "Yellow",
          "Yellow",
          "Indigo",
          "Violet",
          "White",
          "White",
          "Cyan",
          "Purple",
          "Black",
          "Orange",
          "Maroon",
          "Orange",
          "Teal",
          "Gray",
          "Blue",
          "Cyan",
          "Red",
          "Pink",
          "Cyan",
          "Black",
          "Beige",
          "Gray",
          "Red",
          "Yellow",
          "Magenta",
          "Magenta",
          "Black",
          "Orange",
          "Green",
          "Peach",
          "Charcoal",
          "Gray",
          "Turquoise",
          "Red",
          "Brown",
          "Pink",
          "Olive",
          "Lavender",
          "Purple",
          "Beige",
          "Green",
          "Brown",
          "Beige",
          "Beige",
          "Indigo",
          "Silver",
          "Gold",
          "Lavender",
          "Orange",
          "Maroon",
          "White",
          "Yellow",
          "Yellow",
          "Magenta",
          "Turquoise",
          "Lavender",
          "Magenta",
          "Cyan",
          "Olive",
          "Red",
          "Blue",
          "White",
          "Peach",
          "Charcoal",
          "Peach",
          "Turquoise",
          "Charcoal",
          "Yellow",
          "Blue",
          "Purple",
          "Green",
          "Charcoal",
          "Indigo",
          "Black",
          "Blue",
          "Silver",
          "Brown",
          "Violet",
          "Orange",
          "Gray",
          "Gold",
          "Charcoal",
          "Black",
          "Indigo",
          "White",
          "Yellow",
          "Orange",
          "Green",
          "Gold",
          "Orange",
          "Cyan",
          "Black",
          "Yellow",
          "Maroon",
          "Black",
          "Gray",
          "Orange",
          "Cyan",
          "Magenta",
          "Pink",
          "Turquoise",
          "Violet",
          "Teal",
          "Pink",
          "Gold",
          "Red",
          "Beige",
          "Black",
          "Lavender",
          "Teal",
          "Maroon",
          "Blue",
          "Teal",
          "Maroon",
          "Silver",
          "Olive",
          "Gray",
          "Peach",
          "Yellow",
          "Violet",
          "Red",
          "Charcoal",
          "Beige",
          "Peach",
          "Violet",
          "Green",
          "Olive",
          "Silver",
          "Purple",
          "Silver",
          "Gray",
          "Turquoise",
          "Violet",
          "Pink",
          "Teal",
          "Magenta",
          "Silver",
          "Blue",
          "Black",
          "Gold",
          "Gray",
          "Magenta",
          "Yellow",
          "Teal",
          "Red",
          "Yellow",
          "Black",
          "Pink",
          "Magenta",
          "Olive",
          "Black",
          "Maroon",
          "Gold",
          "Gray",
          "Brown",
          "Purple",
          "Magenta",
          "Teal",
          "Olive",
          "Maroon",
          "Silver",
          "Black",
          "Maroon",
          "Teal",
          "Teal",
          "Beige",
          "Maroon",
          "Beige",
          "White",
          "Gray",
          "Violet",
          "Silver",
          "Red",
          "Brown",
          "Turquoise",
          "Indigo",
          "Violet",
          "Yellow",
          "Cyan",
          "Brown",
          "White",
          "Yellow",
          "White",
          "Pink",
          "Indigo",
          "White",
          "Red",
          "Red",
          "Lavender",
          "Teal",
          "Violet",
          "Silver",
          "Gold",
          "Green",
          "Turquoise",
          "Indigo",
          "Black",
          "Charcoal",
          "Turquoise",
          "Red",
          "Indigo",
          "Maroon",
          "Indigo",
          "Maroon",
          "Black",
          "Purple",
          "Teal",
          "Silver",
          "Black",
          "Black",
          "Olive",
          "Purple",
          "Indigo",
          "Lavender",
          "Cyan",
          "Gold",
          "Magenta",
          "Teal",
          "Beige",
          "Teal",
          "Indigo",
          "Purple",
          "Teal",
          "Turquoise",
          "Peach",
          "Green",
          "Turquoise",
          "Yellow",
          "Orange",
          "Brown",
          "Silver",
          "White",
          "Indigo",
          "Magenta",
          "Turquoise",
          "White",
          "Olive",
          "Maroon",
          "Violet",
          "Cyan",
          "Teal",
          "Red",
          "Yellow",
          "Silver",
          "Charcoal",
          "Purple",
          "Beige",
          "Cyan",
          "Silver",
          "Pink",
          "Gold",
          "Cyan",
          "Black",
          "Charcoal",
          "Magenta",
          "Pink",
          "Maroon",
          "Teal",
          "Orange",
          "Yellow",
          "Red",
          "Charcoal",
          "Black",
          "White",
          "Lavender",
          "White",
          "Gray",
          "Cyan",
          "Brown",
          "Purple",
          "Yellow",
          "Indigo",
          "Black",
          "Gray",
          "Indigo",
          "Green",
          "Peach",
          "Purple",
          "Beige",
          "Charcoal",
          "Gray",
          "Brown",
          "Cyan",
          "White",
          "Beige",
          "Orange",
          "Olive",
          "Teal",
          "Silver",
          "Gold",
          "Violet",
          "White",
          "Peach",
          "Orange",
          "Violet",
          "Green",
          "Peach",
          "Black",
          "Blue",
          "Magenta",
          "Violet",
          "Beige",
          "Pink",
          "Beige",
          "Green",
          "Silver",
          "Purple",
          "Gray",
          "White",
          "Silver",
          "Blue",
          "Orange",
          "Silver",
          "Gray",
          "Gold",
          "Brown",
          "Turquoise",
          "Pink",
          "Black",
          "Yellow",
          "Beige",
          "Olive",
          "Gold",
          "Purple",
          "Pink",
          "Blue",
          "Brown",
          "Charcoal",
          "Maroon",
          "Cyan",
          "Olive",
          "Gold",
          "Violet",
          "Peach",
          "Beige",
          "Cyan",
          "Silver",
          "Magenta",
          "Black",
          "Olive",
          "Green",
          "Yellow",
          "Lavender",
          "Indigo",
          "Pink",
          "Red",
          "Magenta",
          "Peach",
          "Turquoise",
          "Black",
          "Blue",
          "Beige",
          "Olive",
          "Turquoise",
          "Yellow",
          "Turquoise",
          "Lavender",
          "Turquoise",
          "Teal",
          "Black",
          "Blue",
          "Yellow",
          "Black",
          "Lavender",
          "Cyan",
          "Brown",
          "Maroon",
          "Cyan",
          "Pink",
          "Orange",
          "Lavender",
          "Beige",
          "Pink",
          "Charcoal",
          "Gray",
          "Cyan",
          "Orange",
          "Pink",
          "White",
          "Beige",
          "Magenta",
          "Violet",
          "Gold",
          "Teal",
          "Indigo",
          "Olive",
          "Violet",
          "Black",
          "Brown",
          "Silver",
          "Gray",
          "Charcoal",
          "Black",
          "Brown",
          "Purple",
          "Purple",
          "Gray",
          "Green",
          "Silver",
          "Charcoal",
          "Teal",
          "White",
          "Brown",
          "Teal",
          "Red",
          "Brown",
          "Yellow",
          "Teal",
          "Pink",
          "White",
          "Silver",
          "Blue",
          "Black",
          "Beige",
          "Charcoal",
          "Cyan",
          "Yellow",
          "Silver",
          "Green",
          "Peach",
          "Green",
          "Brown",
          "Lavender",
          "Charcoal",
          "Orange",
          "Cyan",
          "Lavender",
          "Indigo",
          "Brown",
          "Pink",
          "Turquoise",
          "Gold",
          "Blue",
          "Lavender",
          "Violet",
          "Cyan",
          "Purple",
          "Red",
          "Charcoal",
          "Gray",
          "Pink",
          "Lavender",
          "Lavender",
          "Yellow",
          "Peach",
          "Brown",
          "Gold",
          "Pink",
          "Peach",
          "Violet",
          "Purple",
          "Peach",
          "White",
          "Indigo",
          "Violet",
          "Brown",
          "Maroon",
          "Magenta",
          "Charcoal",
          "Indigo",
          "Turquoise",
          "Turquoise",
          "Gray",
          "Peach",
          "Gold",
          "Green",
          "Gold",
          "Lavender",
          "Blue",
          "Magenta",
          "Blue",
          "Blue",
          "Olive",
          "White",
          "White",
          "Purple",
          "White",
          "White",
          "Peach",
          "Gold",
          "Teal",
          "Cyan",
          "Pink",
          "Magenta",
          "Pink",
          "Turquoise",
          "Pink",
          "Gray",
          "White",
          "Blue",
          "Cyan",
          "Blue",
          "Yellow",
          "Charcoal",
          "Lavender",
          "Teal",
          "Beige",
          "Blue",
          "Purple",
          "Gold",
          "Blue",
          "Black",
          "Charcoal",
          "Purple",
          "Orange",
          "Yellow",
          "Cyan",
          "Yellow",
          "Maroon",
          "Black",
          "Lavender",
          "Violet",
          "Olive",
          "Teal",
          "Teal",
          "Beige",
          "Maroon",
          "Peach",
          "Beige",
          "Silver",
          "Peach",
          "Turquoise",
          "Orange",
          "Cyan",
          "Silver",
          "Gold",
          "Brown",
          "Silver",
          "Beige",
          "Violet",
          "Violet",
          "Lavender",
          "Red",
          "Purple",
          "Brown",
          "Gray",
          "Pink",
          "Magenta",
          "Charcoal",
          "Yellow",
          "Red",
          "Blue",
          "Cyan",
          "Pink",
          "Maroon",
          "Beige",
          "Gold",
          "Turquoise",
          "Peach",
          "Lavender",
          "Gray",
          "Blue",
          "Red",
          "Purple",
          "Indigo",
          "Gold",
          "Teal",
          "Magenta",
          "Maroon",
          "Blue",
          "Beige",
          "Olive",
          "Gold",
          "Silver",
          "Teal",
          "Green",
          "Orange",
          "Charcoal",
          "Black",
          "Yellow",
          "Gray",
          "Charcoal",
          "Peach",
          "Green",
          "Magenta",
          "Beige",
          "Black",
          "Purple",
          "Olive",
          "Purple",
          "Green",
          "Peach",
          "Blue",
          "Gray",
          "Black",
          "Silver",
          "Pink",
          "Lavender",
          "Brown",
          "Turquoise",
          "Olive",
          "White",
          "Violet",
          "Gold",
          "Violet",
          "Teal",
          "Olive",
          "Blue",
          "Magenta",
          "Gray",
          "Peach",
          "Cyan",
          "Violet",
          "Gold",
          "Gold",
          "White",
          "Gray",
          "Brown",
          "Gray",
          "Blue",
          "Gold",
          "Yellow",
          "Green",
          "Pink",
          "Pink",
          "Pink",
          "Cyan",
          "Gray",
          "White",
          "Red",
          "Black",
          "Silver",
          "Pink",
          "Cyan",
          "White",
          "Purple",
          "Yellow",
          "Blue",
          "Cyan",
          "Indigo",
          "Indigo",
          "Silver",
          "Red",
          "Peach",
          "Turquoise",
          "Pink",
          "Teal",
          "Magenta",
          "Blue",
          "Green",
          "Violet",
          "Turquoise",
          "Pink",
          "Black",
          "Gold",
          "Green",
          "White",
          "Gold",
          "Charcoal",
          "White",
          "Brown",
          "Gold",
          "Purple",
          "Brown",
          "Teal",
          "Indigo",
          "Purple",
          "Orange",
          "Indigo",
          "Lavender",
          "Purple",
          "Red",
          "Blue",
          "Blue",
          "Cyan",
          "Pink",
          "Silver",
          "Gray",
          "Indigo",
          "Maroon",
          "Beige",
          "Green",
          "Peach",
          "Black",
          "Pink",
          "Violet",
          "Green",
          "Gold",
          "Red",
          "Beige",
          "Green",
          "Black",
          "Teal",
          "Silver",
          "Turquoise",
          "Orange",
          "Gold",
          "Purple",
          "Pink",
          "Green",
          "Charcoal",
          "Maroon",
          "Olive",
          "Peach",
          "Yellow",
          "Lavender",
          "Green",
          "Orange",
          "Olive",
          "Gray",
          "Lavender",
          "Red",
          "Charcoal",
          "Orange",
          "Red",
          "Maroon",
          "Silver",
          "Pink",
          "Blue",
          "Teal",
          "Black",
          "Gray",
          "Purple",
          "Gold",
          "Silver",
          "Blue",
          "Yellow",
          "Brown",
          "Beige",
          "Blue",
          "Magenta",
          "Silver",
          "Cyan",
          "Green",
          "Blue",
          "Olive",
          "Beige",
          "Black",
          "Indigo",
          "Red",
          "Yellow",
          "Beige",
          "Green",
          "White",
          "Turquoise",
          "Indigo",
          "Orange",
          "Blue",
          "Violet",
          "Gray",
          "Cyan",
          "Yellow",
          "Orange",
          "Brown",
          "Teal",
          "Beige",
          "Blue",
          "Orange",
          "Gold",
          "Teal",
          "Beige",
          "Silver",
          "Maroon",
          "Indigo",
          "Gray",
          "Blue",
          "Cyan",
          "White",
          "Green",
          "Silver",
          "Blue",
          "Brown",
          "Red",
          "Gold",
          "Silver",
          "Gray",
          "Black",
          "Beige",
          "Peach",
          "Cyan",
          "Pink",
          "Lavender",
          "Brown",
          "Magenta",
          "Violet",
          "Teal",
          "Brown",
          "Olive",
          "Indigo",
          "Red",
          "Olive",
          "Teal",
          "Cyan",
          "Teal",
          "Beige",
          "Magenta",
          "Indigo",
          "Cyan",
          "Orange",
          "Violet",
          "Red",
          "Magenta",
          "Olive",
          "Maroon",
          "Yellow",
          "Red",
          "Purple",
          "Teal",
          "Red",
          "Brown",
          "Peach",
          "Maroon",
          "Red",
          "Orange",
          "White",
          "White",
          "Charcoal",
          "Turquoise",
          "Orange",
          "Orange",
          "Brown",
          "Magenta",
          "Violet",
          "Violet",
          "Yellow",
          "Maroon",
          "Turquoise",
          "Olive",
          "Peach",
          "Charcoal",
          "Peach",
          "Black",
          "Gray",
          "Olive",
          "Turquoise",
          "Purple",
          "Green",
          "Beige",
          "Brown",
          "Turquoise",
          "Yellow",
          "Lavender",
          "Cyan",
          "Olive",
          "Silver",
          "Red",
          "Green",
          "Gold",
          "Lavender",
          "Yellow",
          "Black",
          "Maroon",
          "Maroon",
          "Gold",
          "Violet",
          "Teal",
          "Violet",
          "Brown",
          "Brown",
          "Maroon",
          "Maroon",
          "Yellow",
          "Turquoise",
          "Silver",
          "Brown",
          "Gray",
          "Indigo",
          "Turquoise",
          "Maroon",
          "Charcoal",
          "Peach",
          "Red",
          "Indigo",
          "Lavender",
          "Red",
          "Green",
          "Gray",
          "Violet",
          "Beige",
          "Orange",
          "Purple",
          "Brown",
          "Maroon",
          "Gold",
          "Indigo",
          "Silver",
          "Red",
          "Magenta",
          "Purple",
          "Beige",
          "White",
          "Teal",
          "Gray",
          "Charcoal",
          "Olive",
          "Blue",
          "Gray",
          "Green",
          "Silver",
          "Teal",
          "Beige",
          "Lavender",
          "Gray",
          "Yellow",
          "Gray",
          "Yellow",
          "Black",
          "Beige",
          "Indigo",
          "Green",
          "Purple",
          "Orange",
          "Teal",
          "Gold",
          "Gray",
          "Cyan",
          "Teal",
          "Violet",
          "Indigo",
          "Pink",
          "Gold",
          "Maroon",
          "Brown",
          "Gold",
          "Teal",
          "Turquoise",
          "Olive",
          "Cyan",
          "Beige",
          "Blue",
          "Gold",
          "Green",
          "Green",
          "Turquoise",
          "Yellow",
          "Yellow",
          "Blue",
          "Charcoal",
          "Yellow",
          "Purple",
          "Green",
          "Charcoal",
          "Silver",
          "Turquoise",
          "Gray",
          "Red",
          "Beige",
          "Maroon",
          "Indigo",
          "Red",
          "Maroon",
          "Red",
          "Black",
          "Black",
          "Pink",
          "Blue",
          "Green",
          "Orange",
          "Orange",
          "Magenta",
          "Indigo",
          "Beige",
          "Green",
          "Red",
          "Beige",
          "Green",
          "Orange",
          "Cyan",
          "Violet",
          "Lavender",
          "Turquoise",
          "Pink",
          "Beige",
          "Silver",
          "Gold",
          "Silver",
          "Green",
          "Teal",
          "Gold",
          "Cyan",
          "Gold",
          "Violet",
          "Black",
          "Brown",
          "Indigo",
          "Yellow",
          "Purple",
          "White",
          "Turquoise",
          "Olive",
          "Beige",
          "Lavender",
          "White",
          "Brown",
          "Charcoal",
          "Maroon",
          "Red",
          "Maroon",
          "Teal",
          "Orange",
          "Olive",
          "Olive",
          "Beige",
          "Green",
          "Black",
          "Green",
          "Violet",
          "Silver",
          "Maroon",
          "Cyan",
          "Teal",
          "Olive",
          "Red",
          "Lavender",
          "Orange",
          "Brown",
          "Gray",
          "Orange",
          "Orange",
          "Turquoise",
          "Cyan",
          "Yellow",
          "White",
          "Blue",
          "Purple",
          "Gray",
          "Cyan",
          "Pink",
          "Gold",
          "Silver",
          "Gray",
          "Brown",
          "Pink",
          "Maroon",
          "Peach",
          "Brown",
          "Green",
          "Lavender",
          "Cyan",
          "Black",
          "Charcoal",
          "Silver",
          "Gray",
          "Peach",
          "Peach",
          "Cyan",
          "Magenta",
          "Teal",
          "Peach",
          "Black",
          "Teal",
          "Turquoise",
          "Gold",
          "Green",
          "Brown",
          "Blue",
          "Gold",
          "Peach",
          "Violet",
          "Yellow",
          "Black",
          "Silver",
          "Brown",
          "Peach",
          "Cyan",
          "Olive",
          "Black",
          "Orange",
          "Beige",
          "Peach",
          "Pink",
          "Brown",
          "Magenta",
          "Cyan",
          "Silver",
          "Indigo",
          "Beige",
          "Black",
          "Yellow",
          "Maroon",
          "Cyan",
          "Pink",
          "Violet",
          "Lavender",
          "Lavender",
          "Black",
          "Olive",
          "Indigo",
          "Blue",
          "Green",
          "Pink",
          "Peach",
          "Purple",
          "Peach",
          "Olive",
          "Olive",
          "Purple",
          "Violet",
          "Maroon",
          "White",
          "Olive",
          "Peach",
          "Blue",
          "Brown",
          "Black",
          "Yellow",
          "Magenta",
          "Cyan",
          "Maroon",
          "Red",
          "Black",
          "Violet",
          "Green",
          "Gold",
          "Brown",
          "Peach",
          "Peach",
          "Violet",
          "Violet",
          "Magenta",
          "Purple",
          "Purple",
          "Cyan",
          "Magenta",
          "Lavender",
          "Green",
          "Maroon",
          "Turquoise",
          "Violet",
          "Lavender",
          "Red",
          "Orange",
          "Indigo",
          "Teal",
          "Brown",
          "Pink",
          "Lavender",
          "Cyan",
          "Yellow",
          "Pink",
          "Gray",
          "Peach",
          "Red",
          "Olive",
          "Lavender",
          "Turquoise",
          "Turquoise",
          "Maroon",
          "Olive",
          "Maroon",
          "Cyan",
          "Peach",
          "Teal",
          "Green",
          "Beige",
          "Magenta",
          "Violet",
          "Charcoal",
          "Green",
          "Gray",
          "Magenta",
          "Silver",
          "Beige",
          "Peach",
          "Orange",
          "Yellow",
          "Violet",
          "Green",
          "Pink",
          "Violet",
          "Violet",
          "Pink",
          "Violet",
          "Turquoise",
          "Cyan",
          "Orange",
          "Cyan",
          "Indigo",
          "Black",
          "Purple",
          "Cyan",
          "Green",
          "Teal",
          "Teal",
          "Magenta",
          "Brown",
          "Orange",
          "Blue",
          "Magenta",
          "Magenta",
          "Magenta",
          "Olive",
          "Cyan",
          "Purple",
          "Purple",
          "Peach",
          "Gold",
          "Peach",
          "Magenta",
          "Cyan",
          "Violet",
          "Charcoal",
          "Blue",
          "Red",
          "Purple",
          "Gray",
          "Purple",
          "Silver",
          "Purple",
          "Charcoal",
          "Silver",
          "White",
          "Peach",
          "Red",
          "Olive",
          "Gray",
          "Beige",
          "Pink",
          "Red",
          "Peach",
          "Maroon",
          "Purple",
          "Maroon",
          "Gray",
          "Gray",
          "Magenta",
          "Cyan",
          "Silver",
          "Green",
          "Violet",
          "Magenta",
          "Yellow",
          "Gray",
          "Indigo",
          "Indigo",
          "Yellow",
          "Gold",
          "Green",
          "Charcoal",
          "Olive",
          "Black",
          "Silver",
          "Red",
          "Brown",
          "Silver",
          "Silver",
          "Black",
          "Purple",
          "Purple",
          "Turquoise",
          "Gold",
          "Indigo",
          "Lavender",
          "Blue",
          "Maroon",
          "Yellow",
          "Purple",
          "Peach",
          "Silver",
          "Turquoise",
          "Olive",
          "Peach",
          "Indigo",
          "Indigo",
          "Maroon",
          "Black",
          "Teal",
          "Olive",
          "Gold",
          "Gray",
          "Orange",
          "Black",
          "Teal",
          "Beige",
          "White",
          "Turquoise",
          "Teal",
          "Orange",
          "Black",
          "Violet",
          "Maroon",
          "Turquoise",
          "Gold",
          "Turquoise",
          "Maroon",
          "Purple",
          "Maroon",
          "Brown",
          "Indigo",
          "Lavender",
          "Beige",
          "Yellow",
          "Gold",
          "Indigo",
          "Cyan",
          "Silver",
          "Silver",
          "Silver",
          "Peach",
          "Pink",
          "Violet",
          "Black",
          "Purple",
          "Black",
          "Peach",
          "Magenta",
          "Magenta",
          "Black",
          "Pink",
          "Olive",
          "Olive",
          "Peach",
          "Silver",
          "Turquoise",
          "Olive",
          "Lavender",
          "Red",
          "Gray",
          "Magenta",
          "Maroon",
          "Cyan",
          "Cyan",
          "Lavender",
          "Pink",
          "Gray",
          "Yellow",
          "Pink",
          "Indigo",
          "Gray",
          "Yellow",
          "Olive",
          "Cyan",
          "Silver",
          "Silver",
          "Red",
          "Brown",
          "Orange",
          "Black",
          "Teal",
          "Yellow",
          "Gray",
          "Maroon",
          "Olive",
          "Charcoal",
          "Peach",
          "Maroon",
          "Olive",
          "Magenta",
          "Yellow",
          "Indigo",
          "Olive",
          "Maroon",
          "Indigo",
          "Gray",
          "Gray",
          "Black",
          "White",
          "Turquoise",
          "Orange",
          "Yellow",
          "Blue",
          "Violet",
          "Lavender",
          "Olive",
          "Orange",
          "White",
          "Red",
          "Magenta",
          "Violet",
          "Olive",
          "Silver",
          "Gray",
          "Olive",
          "Beige",
          "Turquoise",
          "Blue",
          "Pink",
          "Teal",
          "Cyan",
          "Purple",
          "Red",
          "Brown",
          "Magenta",
          "Olive",
          "Pink",
          "Black",
          "Beige",
          "Peach",
          "Peach",
          "Peach",
          "Teal",
          "Green",
          "Brown",
          "Brown",
          "Violet",
          "Blue",
          "Charcoal",
          "Pink",
          "Violet",
          "Teal",
          "Red",
          "Orange",
          "Magenta",
          "Yellow",
          "Yellow",
          "Pink",
          "Indigo",
          "Charcoal",
          "Blue",
          "Lavender",
          "Yellow",
          "Black",
          "Beige",
          "Silver",
          "Magenta",
          "Orange",
          "Teal",
          "Turquoise",
          "Cyan",
          "Pink",
          "Indigo",
          "Peach",
          "Beige",
          "Gold",
          "Indigo",
          "Violet",
          "Brown",
          "Purple",
          "Turquoise",
          "Violet",
          "Purple",
          "Charcoal",
          "Green",
          "White",
          "Purple",
          "Cyan",
          "Green",
          "Beige",
          "Lavender",
          "Blue",
          "Beige",
          "Blue",
          "Maroon",
          "Yellow",
          "Red",
          "Green",
          "Magenta",
          "Yellow",
          "Blue",
          "Charcoal",
          "Blue",
          "Cyan",
          "Silver",
          "Black",
          "Green",
          "Violet",
          "Pink",
          "Olive",
          "Orange",
          "Black",
          "Yellow",
          "Violet",
          "Silver",
          "Gold",
          "Magenta",
          "Red",
          "Green",
          "Red",
          "Pink",
          "Violet",
          "Indigo",
          "Red",
          "Violet",
          "Cyan",
          "Black",
          "Purple",
          "Charcoal",
          "Beige",
          "Teal",
          "Purple",
          "Blue",
          "Magenta",
          "Maroon",
          "Gold",
          "Black",
          "Black",
          "Yellow",
          "Turquoise",
          "Lavender",
          "Yellow",
          "Olive",
          "Brown",
          "Olive",
          "Purple",
          "Yellow",
          "Brown",
          "Magenta",
          "Lavender",
          "Teal",
          "Cyan",
          "Pink",
          "Magenta",
          "Teal",
          "Indigo",
          "Pink",
          "Charcoal",
          "Brown",
          "Blue",
          "Teal",
          "Pink",
          "Magenta",
          "Green",
          "White",
          "Indigo",
          "Lavender",
          "Black",
          "Charcoal",
          "Gray",
          "Gold",
          "Silver",
          "Teal",
          "Magenta",
          "Magenta",
          "Beige",
          "Maroon",
          "Indigo",
          "Maroon",
          "Teal",
          "Yellow",
          "Gold",
          "Teal",
          "Violet",
          "Yellow",
          "Maroon",
          "Silver",
          "Violet",
          "White",
          "Black",
          "White",
          "Blue",
          "Black",
          "Olive",
          "Teal",
          "Silver",
          "Pink",
          "Charcoal",
          "Silver",
          "Turquoise",
          "Turquoise",
          "Beige",
          "Cyan",
          "Gold",
          "Silver",
          "Purple",
          "Yellow",
          "Blue",
          "Blue",
          "Green",
          "Charcoal",
          "Violet",
          "Black",
          "Teal",
          "Orange",
          "Brown",
          "Green",
          "Silver",
          "Violet",
          "Peach",
          "Gold",
          "Violet",
          "Olive",
          "Orange",
          "Teal",
          "Gray",
          "Black",
          "Indigo",
          "Lavender",
          "Beige",
          "Indigo",
          "Blue",
          "Orange",
          "Yellow",
          "Cyan",
          "Yellow",
          "Cyan",
          "Green",
          "White",
          "Black",
          "Charcoal",
          "Brown",
          "Cyan",
          "Beige",
          "Magenta",
          "Indigo",
          "Maroon",
          "Gray",
          "Black",
          "Yellow",
          "White",
          "Orange",
          "Magenta",
          "Black",
          "Brown",
          "Orange",
          "Gray",
          "White",
          "White",
          "Violet",
          "Beige",
          "Beige",
          "Purple",
          "Brown",
          "Orange",
          "Cyan",
          "Charcoal",
          "Purple",
          "Peach",
          "Violet",
          "Peach",
          "Maroon",
          "Maroon",
          "Peach",
          "Silver",
          "Indigo",
          "Silver",
          "Olive",
          "Gray",
          "Black",
          "Maroon",
          "Olive",
          "Gold",
          "Pink",
          "Brown",
          "White",
          "Blue",
          "Orange",
          "Silver",
          "Gray",
          "Blue",
          "White",
          "Yellow",
          "Indigo",
          "Blue",
          "Peach",
          "Lavender",
          "Silver",
          "Gold",
          "Cyan",
          "Olive",
          "Teal",
          "Pink",
          "Orange",
          "Charcoal",
          "Red",
          "Teal",
          "Silver",
          "Black",
          "Pink",
          "Teal",
          "Teal",
          "Green",
          "Charcoal",
          "Indigo",
          "White",
          "Orange",
          "White",
          "Yellow",
          "Red",
          "Charcoal",
          "Lavender",
          "Charcoal",
          "Maroon",
          "Brown",
          "Lavender",
          "Brown",
          "Olive",
          "Lavender",
          "Gold",
          "Silver",
          "Violet",
          "Brown",
          "Teal",
          "Peach",
          "Maroon",
          "Lavender",
          "Lavender",
          "Purple",
          "Green",
          "Yellow",
          "Charcoal",
          "Blue",
          "Lavender",
          "Brown",
          "White",
          "Green",
          "Magenta",
          "Peach",
          "Charcoal",
          "Gold",
          "Purple",
          "Teal",
          "Green",
          "Orange",
          "Peach",
          "Gold",
          "Violet",
          "Charcoal",
          "Brown",
          "Blue",
          "Gold",
          "Orange",
          "Turquoise",
          "Peach",
          "Magenta",
          "Black",
          "White",
          "Violet",
          "Olive",
          "Red",
          "Green",
          "Gold",
          "Olive",
          "Brown",
          "Magenta",
          "Violet",
          "Beige",
          "Blue",
          "Orange",
          "Maroon",
          "Charcoal",
          "Olive",
          "Green",
          "Brown",
          "Cyan",
          "Beige",
          "Teal",
          "Gray",
          "Indigo",
          "Magenta",
          "Red",
          "Turquoise",
          "Peach",
          "White",
          "Maroon",
          "Beige",
          "Blue",
          "Red",
          "Blue",
          "Maroon",
          "Yellow",
          "Pink",
          "Maroon",
          "Purple",
          "Indigo",
          "Gray",
          "Lavender",
          "Charcoal",
          "Teal",
          "Blue",
          "Peach",
          "Orange",
          "Silver",
          "Red",
          "Gray",
          "Beige",
          "White",
          "Silver",
          "Cyan",
          "Maroon",
          "Purple",
          "Brown",
          "Green",
          "Peach",
          "Turquoise",
          "Olive",
          "Yellow",
          "Gray",
          "Purple",
          "Gray",
          "Lavender",
          "Indigo",
          "Green",
          "Green",
          "Olive",
          "Charcoal",
          "Gray",
          "Olive",
          "Blue",
          "Silver",
          "Magenta",
          "Black",
          "Pink",
          "Red",
          "Peach",
          "Lavender",
          "Lavender",
          "Beige",
          "Indigo",
          "Cyan",
          "Yellow",
          "Peach",
          "Yellow",
          "Orange",
          "Gray",
          "Yellow",
          "Gray",
          "Turquoise",
          "Gray",
          "Olive",
          "Peach",
          "Peach",
          "Magenta",
          "Purple",
          "Beige",
          "Purple",
          "Yellow",
          "Pink",
          "Purple",
          "Lavender",
          "Peach",
          "Orange",
          "Red",
          "Red",
          "Gold",
          "Brown",
          "Black",
          "Red",
          "Gray",
          "Pink",
          "Turquoise",
          "Charcoal",
          "Blue",
          "Turquoise",
          "Silver",
          "Lavender",
          "Gold",
          "Blue",
          "Orange",
          "White",
          "Charcoal",
          "Maroon",
          "Olive",
          "Teal",
          "Orange",
          "Maroon",
          "Turquoise",
          "Beige",
          "Beige",
          "Olive",
          "Turquoise",
          "Charcoal",
          "Green",
          "Green",
          "Green",
          "Gold",
          "Cyan",
          "Indigo",
          "Lavender",
          "Beige",
          "Purple",
          "Maroon",
          "Maroon",
          "Teal",
          "Gold",
          "Red",
          "Maroon",
          "Teal",
          "Peach",
          "Pink",
          "Black",
          "Indigo",
          "Green",
          "Teal",
          "Lavender",
          "Magenta",
          "Brown",
          "Beige",
          "Indigo",
          "Peach",
          "Magenta",
          "Turquoise",
          "Indigo",
          "Brown",
          "Yellow",
          "Magenta",
          "Olive",
          "Silver",
          "Teal",
          "White",
          "Blue",
          "Yellow",
          "Maroon",
          "Gray",
          "Indigo",
          "Pink",
          "Beige",
          "White",
          "Yellow",
          "Teal",
          "Olive",
          "Maroon",
          "White",
          "Lavender",
          "Black",
          "Green",
          "Olive",
          "Gray",
          "Teal",
          "Charcoal",
          "Violet",
          "Lavender",
          "Beige",
          "Black",
          "Black",
          "Purple",
          "Magenta",
          "Teal",
          "Teal",
          "Pink",
          "Teal",
          "Gold",
          "Brown",
          "Brown",
          "Magenta",
          "Black",
          "Teal",
          "Brown",
          "Magenta",
          "Indigo",
          "Violet",
          "Cyan",
          "Violet",
          "Black",
          "Charcoal",
          "White",
          "Gray",
          "Pink",
          "Cyan",
          "Blue",
          "Indigo",
          "Magenta",
          "Lavender",
          "Orange",
          "Cyan",
          "Green",
          "White",
          "Blue",
          "Black",
          "Red",
          "Red",
          "Gold",
          "Red",
          "Purple",
          "White",
          "Magenta",
          "Pink",
          "Black",
          "White",
          "Maroon",
          "Black",
          "Olive",
          "Gray",
          "Gold",
          "Magenta",
          "Lavender",
          "Green",
          "Violet",
          "Brown",
          "Teal",
          "Charcoal",
          "Charcoal",
          "Beige",
          "Turquoise",
          "Orange",
          "Cyan",
          "Orange",
          "Green",
          "Pink",
          "Blue",
          "Pink",
          "Blue",
          "Black",
          "Black",
          "Violet",
          "Gold",
          "Olive",
          "Pink",
          "Olive",
          "Indigo",
          "Silver",
          "Charcoal",
          "Orange",
          "Yellow",
          "Red",
          "Maroon",
          "Magenta",
          "Black",
          "Violet",
          "Gray",
          "Black",
          "Pink",
          "Silver",
          "Violet",
          "Beige",
          "Cyan",
          "Brown",
          "Blue",
          "White",
          "Cyan",
          "Maroon",
          "Olive",
          "Violet",
          "Green",
          "Magenta",
          "Turquoise",
          "Black",
          "Cyan",
          "Gray",
          "Red",
          "Olive",
          "Cyan",
          "Teal",
          "Teal",
          "Orange",
          "Peach",
          "Silver",
          "Pink",
          "Magenta",
          "Red",
          "Maroon",
          "Silver",
          "Gray",
          "Turquoise",
          "Peach",
          "Teal",
          "Red",
          "Blue",
          "Blue",
          "Indigo",
          "Charcoal",
          "Turquoise",
          "Maroon",
          "Purple",
          "Lavender",
          "Yellow",
          "Green",
          "Yellow",
          "Gold",
          "Turquoise",
          "Blue",
          "Turquoise",
          "Maroon",
          "Pink",
          "Maroon",
          "Olive",
          "Lavender",
          "Pink",
          "Cyan",
          "Maroon",
          "Red",
          "Silver",
          "Blue",
          "Gold",
          "Yellow",
          "Silver",
          "Black",
          "Yellow",
          "Pink",
          "Yellow",
          "Lavender",
          "Peach",
          "Black",
          "Olive",
          "Olive",
          "White",
          "Red",
          "Purple",
          "Purple",
          "Teal",
          "Teal",
          "Gray",
          "Magenta",
          "Black",
          "Maroon",
          "Gold",
          "Purple",
          "Blue",
          "Beige",
          "Indigo",
          "Purple",
          "Maroon",
          "Beige",
          "Brown",
          "Green",
          "Blue",
          "Magenta",
          "Turquoise",
          "Gray",
          "Purple",
          "Lavender",
          "Green",
          "Gray",
          "Yellow",
          "Orange",
          "Beige",
          "Peach",
          "Green",
          "Violet",
          "Gray",
          "Magenta",
          "Charcoal",
          "Violet",
          "Silver",
          "Green",
          "Magenta",
          "Purple",
          "Blue",
          "Yellow",
          "Brown",
          "Pink",
          "Silver",
          "Indigo",
          "Pink",
          "Lavender",
          "Orange",
          "Red",
          "Gray",
          "Violet",
          "Green",
          "Gold",
          "Maroon",
          "Olive",
          "Yellow",
          "Peach",
          "Gold",
          "Purple",
          "Charcoal",
          "Indigo",
          "Magenta",
          "Olive",
          "Blue",
          "White",
          "Cyan",
          "Cyan",
          "Orange",
          "Orange",
          "Teal",
          "Magenta",
          "Orange",
          "Peach",
          "Maroon",
          "Gold",
          "White",
          "Gray",
          "Brown",
          "Charcoal",
          "Beige",
          "Teal",
          "Black",
          "Violet",
          "Orange",
          "Turquoise",
          "Black",
          "Silver",
          "Gray",
          "Pink",
          "Red",
          "Lavender",
          "Indigo",
          "Silver",
          "Silver",
          "Green",
          "Pink",
          "Violet",
          "Red",
          "Olive",
          "Purple",
          "Gray",
          "Brown",
          "Orange",
          "Blue",
          "White",
          "Charcoal",
          "Gray",
          "Charcoal",
          "White",
          "Orange",
          "Black",
          "White",
          "Brown",
          "Pink",
          "Yellow",
          "Cyan",
          "Silver",
          "Olive",
          "Olive",
          "Charcoal",
          "Gray",
          "Maroon",
          "Black",
          "Violet",
          "Indigo",
          "Yellow",
          "Gray",
          "Red",
          "Peach",
          "Gray",
          "White",
          "Green",
          "Magenta",
          "Olive",
          "Olive",
          "Blue",
          "Charcoal",
          "Yellow",
          "Violet",
          "Magenta",
          "Red",
          "Cyan",
          "Orange",
          "Black",
          "Blue",
          "Charcoal",
          "Indigo",
          "Silver",
          "Brown",
          "Peach",
          "Magenta",
          "Beige",
          "Violet",
          "Black",
          "Cyan",
          "Green",
          "Brown",
          "Gray",
          "Orange",
          "Silver",
          "Purple",
          "Olive",
          "Teal",
          "White",
          "Black",
          "Maroon",
          "Cyan",
          "Violet",
          "Yellow",
          "Yellow",
          "Olive",
          "Olive",
          "Magenta",
          "Orange",
          "Beige",
          "Brown",
          "Indigo",
          "Gray",
          "Yellow",
          "Violet",
          "Magenta",
          "Blue",
          "Gray",
          "Gold",
          "Lavender",
          "Black",
          "Charcoal",
          "Violet",
          "Charcoal",
          "Maroon",
          "Purple",
          "Peach",
          "Olive",
          "Indigo",
          "Magenta",
          "Gold",
          "Orange",
          "Gold",
          "Purple",
          "Charcoal",
          "Cyan",
          "Cyan",
          "Green",
          "Silver",
          "Teal",
          "Magenta",
          "Maroon",
          "Gold",
          "Purple",
          "Lavender",
          "Maroon",
          "Magenta",
          "Turquoise",
          "Silver",
          "Purple",
          "Violet",
          "Peach",
          "Green",
          "Teal",
          "Silver",
          "Purple",
          "Lavender",
          "Lavender",
          "Peach",
          "Green",
          "Orange",
          "Pink",
          "Cyan",
          "Lavender",
          "Yellow",
          "Olive",
          "Brown",
          "Pink",
          "Cyan",
          "Maroon",
          "Magenta",
          "Violet",
          "Silver",
          "Maroon",
          "Gray",
          "White",
          "Brown",
          "Silver",
          "Yellow",
          "Magenta",
          "Blue",
          "Green",
          "Yellow",
          "Cyan",
          "Gold",
          "Magenta",
          "Gray",
          "Indigo",
          "White",
          "Indigo",
          "Green",
          "Turquoise",
          "Peach",
          "Olive",
          "Cyan",
          "Magenta",
          "Silver",
          "White",
          "Pink",
          "Pink",
          "Pink",
          "Blue",
          "White",
          "Teal",
          "Gray",
          "Beige",
          "Violet",
          "Blue",
          "Magenta",
          "Maroon",
          "Purple",
          "Charcoal",
          "Red",
          "Charcoal",
          "Lavender",
          "White",
          "Red",
          "Violet",
          "Orange",
          "Turquoise",
          "Violet",
          "Blue",
          "White",
          "Turquoise",
          "Pink",
          "Maroon",
          "Olive",
          "Charcoal",
          "Charcoal",
          "Indigo",
          "Teal",
          "Black",
          "Teal",
          "Green",
          "Gold",
          "Red",
          "Silver",
          "Yellow",
          "Peach",
          "Turquoise",
          "Peach",
          "Peach",
          "Orange",
          "Charcoal",
          "White",
          "Turquoise",
          "Red",
          "Peach",
          "Pink",
          "Yellow",
          "Beige",
          "Green",
          "Turquoise",
          "Orange",
          "Gold",
          "Red",
          "Teal",
          "Teal",
          "Lavender",
          "Pink",
          "Maroon",
          "Beige",
          "Orange",
          "Red",
          "Maroon",
          "Brown",
          "Olive",
          "Silver",
          "Purple",
          "Gray",
          "Cyan",
          "Gray",
          "Gold",
          "Cyan",
          "Olive",
          "Violet",
          "Yellow",
          "Gold",
          "Silver",
          "Pink",
          "Turquoise",
          "Turquoise",
          "Peach",
          "Teal",
          "Red",
          "Black",
          "Pink",
          "Peach",
          "Green",
          "Green",
          "Red",
          "Maroon",
          "Green",
          "Black",
          "Black",
          "Yellow",
          "Green",
          "Black",
          "Red",
          "Yellow",
          "Violet",
          "Cyan",
          "Pink",
          "Olive",
          "Maroon",
          "Cyan",
          "Lavender",
          "Yellow",
          "Pink",
          "Orange",
          "Orange",
          "Violet",
          "Lavender",
          "Yellow",
          "Pink",
          "Teal",
          "Magenta",
          "Beige",
          "Gray",
          "Turquoise",
          "Pink",
          "Violet",
          "Charcoal",
          "Lavender",
          "Gray",
          "Brown",
          "Violet",
          "Turquoise",
          "Peach",
          "Turquoise",
          "Violet",
          "Olive",
          "Green",
          "Teal",
          "Peach",
          "Pink",
          "Maroon",
          "Peach",
          "Maroon",
          "Pink",
          "Orange",
          "Orange",
          "Brown",
          "Silver",
          "Magenta",
          "Indigo",
          "Gold",
          "Purple",
          "Gold",
          "Gold",
          "Gold",
          "Olive",
          "Green",
          "Gray",
          "Red",
          "Charcoal",
          "Indigo",
          "Indigo",
          "Silver",
          "Purple",
          "Gray",
          "Magenta",
          "Silver",
          "Violet",
          "Green",
          "Green",
          "Peach",
          "Turquoise",
          "Pink",
          "Lavender",
          "Silver",
          "Cyan",
          "Green",
          "Orange",
          "Blue",
          "Magenta",
          "Cyan",
          "Indigo",
          "Pink",
          "Peach",
          "Lavender",
          "Black",
          "Lavender",
          "Brown",
          "Yellow",
          "Olive",
          "Blue",
          "Turquoise",
          "Yellow",
          "Turquoise",
          "Orange",
          "Blue",
          "Olive",
          "Beige",
          "Lavender",
          "Magenta",
          "Cyan",
          "Lavender",
          "Black",
          "Green",
          "Silver",
          "Beige",
          "Pink",
          "Cyan",
          "Olive",
          "Pink",
          "Maroon",
          "Red",
          "Silver",
          "Blue",
          "Purple",
          "Brown",
          "Purple",
          "Brown",
          "Charcoal",
          "Violet",
          "Yellow",
          "Green",
          "Peach",
          "Indigo",
          "White",
          "White",
          "Turquoise",
          "White",
          "Green",
          "Brown",
          "Beige"
         ],
         "xaxis": "x",
         "yaxis": "y"
        }
       ],
       "layout": {
        "barmode": "relative",
        "legend": {
         "tracegroupgap": 0
        },
        "margin": {
         "t": 60
        },
        "template": {
         "data": {
          "bar": [
           {
            "error_x": {
             "color": "#2a3f5f"
            },
            "error_y": {
             "color": "#2a3f5f"
            },
            "marker": {
             "line": {
              "color": "#E5ECF6",
              "width": 0.5
             },
             "pattern": {
              "fillmode": "overlay",
              "size": 10,
              "solidity": 0.2
             }
            },
            "type": "bar"
           }
          ],
          "barpolar": [
           {
            "marker": {
             "line": {
              "color": "#E5ECF6",
              "width": 0.5
             },
             "pattern": {
              "fillmode": "overlay",
              "size": 10,
              "solidity": 0.2
             }
            },
            "type": "barpolar"
           }
          ],
          "carpet": [
           {
            "aaxis": {
             "endlinecolor": "#2a3f5f",
             "gridcolor": "white",
             "linecolor": "white",
             "minorgridcolor": "white",
             "startlinecolor": "#2a3f5f"
            },
            "baxis": {
             "endlinecolor": "#2a3f5f",
             "gridcolor": "white",
             "linecolor": "white",
             "minorgridcolor": "white",
             "startlinecolor": "#2a3f5f"
            },
            "type": "carpet"
           }
          ],
          "choropleth": [
           {
            "colorbar": {
             "outlinewidth": 0,
             "ticks": ""
            },
            "type": "choropleth"
           }
          ],
          "contour": [
           {
            "colorbar": {
             "outlinewidth": 0,
             "ticks": ""
            },
            "colorscale": [
             [
              0,
              "#0d0887"
             ],
             [
              0.1111111111111111,
              "#46039f"
             ],
             [
              0.2222222222222222,
              "#7201a8"
             ],
             [
              0.3333333333333333,
              "#9c179e"
             ],
             [
              0.4444444444444444,
              "#bd3786"
             ],
             [
              0.5555555555555556,
              "#d8576b"
             ],
             [
              0.6666666666666666,
              "#ed7953"
             ],
             [
              0.7777777777777778,
              "#fb9f3a"
             ],
             [
              0.8888888888888888,
              "#fdca26"
             ],
             [
              1,
              "#f0f921"
             ]
            ],
            "type": "contour"
           }
          ],
          "contourcarpet": [
           {
            "colorbar": {
             "outlinewidth": 0,
             "ticks": ""
            },
            "type": "contourcarpet"
           }
          ],
          "heatmap": [
           {
            "colorbar": {
             "outlinewidth": 0,
             "ticks": ""
            },
            "colorscale": [
             [
              0,
              "#0d0887"
             ],
             [
              0.1111111111111111,
              "#46039f"
             ],
             [
              0.2222222222222222,
              "#7201a8"
             ],
             [
              0.3333333333333333,
              "#9c179e"
             ],
             [
              0.4444444444444444,
              "#bd3786"
             ],
             [
              0.5555555555555556,
              "#d8576b"
             ],
             [
              0.6666666666666666,
              "#ed7953"
             ],
             [
              0.7777777777777778,
              "#fb9f3a"
             ],
             [
              0.8888888888888888,
              "#fdca26"
             ],
             [
              1,
              "#f0f921"
             ]
            ],
            "type": "heatmap"
           }
          ],
          "histogram": [
           {
            "marker": {
             "pattern": {
              "fillmode": "overlay",
              "size": 10,
              "solidity": 0.2
             }
            },
            "type": "histogram"
           }
          ],
          "histogram2d": [
           {
            "colorbar": {
             "outlinewidth": 0,
             "ticks": ""
            },
            "colorscale": [
             [
              0,
              "#0d0887"
             ],
             [
              0.1111111111111111,
              "#46039f"
             ],
             [
              0.2222222222222222,
              "#7201a8"
             ],
             [
              0.3333333333333333,
              "#9c179e"
             ],
             [
              0.4444444444444444,
              "#bd3786"
             ],
             [
              0.5555555555555556,
              "#d8576b"
             ],
             [
              0.6666666666666666,
              "#ed7953"
             ],
             [
              0.7777777777777778,
              "#fb9f3a"
             ],
             [
              0.8888888888888888,
              "#fdca26"
             ],
             [
              1,
              "#f0f921"
             ]
            ],
            "type": "histogram2d"
           }
          ],
          "histogram2dcontour": [
           {
            "colorbar": {
             "outlinewidth": 0,
             "ticks": ""
            },
            "colorscale": [
             [
              0,
              "#0d0887"
             ],
             [
              0.1111111111111111,
              "#46039f"
             ],
             [
              0.2222222222222222,
              "#7201a8"
             ],
             [
              0.3333333333333333,
              "#9c179e"
             ],
             [
              0.4444444444444444,
              "#bd3786"
             ],
             [
              0.5555555555555556,
              "#d8576b"
             ],
             [
              0.6666666666666666,
              "#ed7953"
             ],
             [
              0.7777777777777778,
              "#fb9f3a"
             ],
             [
              0.8888888888888888,
              "#fdca26"
             ],
             [
              1,
              "#f0f921"
             ]
            ],
            "type": "histogram2dcontour"
           }
          ],
          "mesh3d": [
           {
            "colorbar": {
             "outlinewidth": 0,
             "ticks": ""
            },
            "type": "mesh3d"
           }
          ],
          "parcoords": [
           {
            "line": {
             "colorbar": {
              "outlinewidth": 0,
              "ticks": ""
             }
            },
            "type": "parcoords"
           }
          ],
          "pie": [
           {
            "automargin": true,
            "type": "pie"
           }
          ],
          "scatter": [
           {
            "fillpattern": {
             "fillmode": "overlay",
             "size": 10,
             "solidity": 0.2
            },
            "type": "scatter"
           }
          ],
          "scatter3d": [
           {
            "line": {
             "colorbar": {
              "outlinewidth": 0,
              "ticks": ""
             }
            },
            "marker": {
             "colorbar": {
              "outlinewidth": 0,
              "ticks": ""
             }
            },
            "type": "scatter3d"
           }
          ],
          "scattercarpet": [
           {
            "marker": {
             "colorbar": {
              "outlinewidth": 0,
              "ticks": ""
             }
            },
            "type": "scattercarpet"
           }
          ],
          "scattergeo": [
           {
            "marker": {
             "colorbar": {
              "outlinewidth": 0,
              "ticks": ""
             }
            },
            "type": "scattergeo"
           }
          ],
          "scattergl": [
           {
            "marker": {
             "colorbar": {
              "outlinewidth": 0,
              "ticks": ""
             }
            },
            "type": "scattergl"
           }
          ],
          "scattermap": [
           {
            "marker": {
             "colorbar": {
              "outlinewidth": 0,
              "ticks": ""
             }
            },
            "type": "scattermap"
           }
          ],
          "scattermapbox": [
           {
            "marker": {
             "colorbar": {
              "outlinewidth": 0,
              "ticks": ""
             }
            },
            "type": "scattermapbox"
           }
          ],
          "scatterpolar": [
           {
            "marker": {
             "colorbar": {
              "outlinewidth": 0,
              "ticks": ""
             }
            },
            "type": "scatterpolar"
           }
          ],
          "scatterpolargl": [
           {
            "marker": {
             "colorbar": {
              "outlinewidth": 0,
              "ticks": ""
             }
            },
            "type": "scatterpolargl"
           }
          ],
          "scatterternary": [
           {
            "marker": {
             "colorbar": {
              "outlinewidth": 0,
              "ticks": ""
             }
            },
            "type": "scatterternary"
           }
          ],
          "surface": [
           {
            "colorbar": {
             "outlinewidth": 0,
             "ticks": ""
            },
            "colorscale": [
             [
              0,
              "#0d0887"
             ],
             [
              0.1111111111111111,
              "#46039f"
             ],
             [
              0.2222222222222222,
              "#7201a8"
             ],
             [
              0.3333333333333333,
              "#9c179e"
             ],
             [
              0.4444444444444444,
              "#bd3786"
             ],
             [
              0.5555555555555556,
              "#d8576b"
             ],
             [
              0.6666666666666666,
              "#ed7953"
             ],
             [
              0.7777777777777778,
              "#fb9f3a"
             ],
             [
              0.8888888888888888,
              "#fdca26"
             ],
             [
              1,
              "#f0f921"
             ]
            ],
            "type": "surface"
           }
          ],
          "table": [
           {
            "cells": {
             "fill": {
              "color": "#EBF0F8"
             },
             "line": {
              "color": "white"
             }
            },
            "header": {
             "fill": {
              "color": "#C8D4E3"
             },
             "line": {
              "color": "white"
             }
            },
            "type": "table"
           }
          ]
         },
         "layout": {
          "annotationdefaults": {
           "arrowcolor": "#2a3f5f",
           "arrowhead": 0,
           "arrowwidth": 1
          },
          "autotypenumbers": "strict",
          "coloraxis": {
           "colorbar": {
            "outlinewidth": 0,
            "ticks": ""
           }
          },
          "colorscale": {
           "diverging": [
            [
             0,
             "#8e0152"
            ],
            [
             0.1,
             "#c51b7d"
            ],
            [
             0.2,
             "#de77ae"
            ],
            [
             0.3,
             "#f1b6da"
            ],
            [
             0.4,
             "#fde0ef"
            ],
            [
             0.5,
             "#f7f7f7"
            ],
            [
             0.6,
             "#e6f5d0"
            ],
            [
             0.7,
             "#b8e186"
            ],
            [
             0.8,
             "#7fbc41"
            ],
            [
             0.9,
             "#4d9221"
            ],
            [
             1,
             "#276419"
            ]
           ],
           "sequential": [
            [
             0,
             "#0d0887"
            ],
            [
             0.1111111111111111,
             "#46039f"
            ],
            [
             0.2222222222222222,
             "#7201a8"
            ],
            [
             0.3333333333333333,
             "#9c179e"
            ],
            [
             0.4444444444444444,
             "#bd3786"
            ],
            [
             0.5555555555555556,
             "#d8576b"
            ],
            [
             0.6666666666666666,
             "#ed7953"
            ],
            [
             0.7777777777777778,
             "#fb9f3a"
            ],
            [
             0.8888888888888888,
             "#fdca26"
            ],
            [
             1,
             "#f0f921"
            ]
           ],
           "sequentialminus": [
            [
             0,
             "#0d0887"
            ],
            [
             0.1111111111111111,
             "#46039f"
            ],
            [
             0.2222222222222222,
             "#7201a8"
            ],
            [
             0.3333333333333333,
             "#9c179e"
            ],
            [
             0.4444444444444444,
             "#bd3786"
            ],
            [
             0.5555555555555556,
             "#d8576b"
            ],
            [
             0.6666666666666666,
             "#ed7953"
            ],
            [
             0.7777777777777778,
             "#fb9f3a"
            ],
            [
             0.8888888888888888,
             "#fdca26"
            ],
            [
             1,
             "#f0f921"
            ]
           ]
          },
          "colorway": [
           "#636efa",
           "#EF553B",
           "#00cc96",
           "#ab63fa",
           "#FFA15A",
           "#19d3f3",
           "#FF6692",
           "#B6E880",
           "#FF97FF",
           "#FECB52"
          ],
          "font": {
           "color": "#2a3f5f"
          },
          "geo": {
           "bgcolor": "white",
           "lakecolor": "white",
           "landcolor": "#E5ECF6",
           "showlakes": true,
           "showland": true,
           "subunitcolor": "white"
          },
          "hoverlabel": {
           "align": "left"
          },
          "hovermode": "closest",
          "mapbox": {
           "style": "light"
          },
          "paper_bgcolor": "white",
          "plot_bgcolor": "#E5ECF6",
          "polar": {
           "angularaxis": {
            "gridcolor": "white",
            "linecolor": "white",
            "ticks": ""
           },
           "bgcolor": "#E5ECF6",
           "radialaxis": {
            "gridcolor": "white",
            "linecolor": "white",
            "ticks": ""
           }
          },
          "scene": {
           "xaxis": {
            "backgroundcolor": "#E5ECF6",
            "gridcolor": "white",
            "gridwidth": 2,
            "linecolor": "white",
            "showbackground": true,
            "ticks": "",
            "zerolinecolor": "white"
           },
           "yaxis": {
            "backgroundcolor": "#E5ECF6",
            "gridcolor": "white",
            "gridwidth": 2,
            "linecolor": "white",
            "showbackground": true,
            "ticks": "",
            "zerolinecolor": "white"
           },
           "zaxis": {
            "backgroundcolor": "#E5ECF6",
            "gridcolor": "white",
            "gridwidth": 2,
            "linecolor": "white",
            "showbackground": true,
            "ticks": "",
            "zerolinecolor": "white"
           }
          },
          "shapedefaults": {
           "line": {
            "color": "#2a3f5f"
           }
          },
          "ternary": {
           "aaxis": {
            "gridcolor": "white",
            "linecolor": "white",
            "ticks": ""
           },
           "baxis": {
            "gridcolor": "white",
            "linecolor": "white",
            "ticks": ""
           },
           "bgcolor": "#E5ECF6",
           "caxis": {
            "gridcolor": "white",
            "linecolor": "white",
            "ticks": ""
           }
          },
          "title": {
           "x": 0.05
          },
          "xaxis": {
           "automargin": true,
           "gridcolor": "white",
           "linecolor": "white",
           "ticks": "",
           "title": {
            "standoff": 15
           },
           "zerolinecolor": "white",
           "zerolinewidth": 2
          },
          "yaxis": {
           "automargin": true,
           "gridcolor": "white",
           "linecolor": "white",
           "ticks": "",
           "title": {
            "standoff": 15
           },
           "zerolinecolor": "white",
           "zerolinewidth": 2
          }
         }
        },
        "xaxis": {
         "anchor": "y",
         "domain": [
          0,
          1
         ],
         "title": {
          "text": "Color"
         }
        },
        "yaxis": {
         "anchor": "x",
         "domain": [
          0,
          1
         ],
         "title": {
          "text": "count"
         }
        }
       }
      }
     },
     "metadata": {},
     "output_type": "display_data"
    }
   ],
   "source": [
    "px.histogram(shop, x='Color')"
   ]
  },
  {
   "cell_type": "code",
   "execution_count": 99,
   "metadata": {},
   "outputs": [
    {
     "data": {
      "text/plain": [
       "Color\n",
       "Olive        177\n",
       "Yellow       174\n",
       "Silver       173\n",
       "Teal         172\n",
       "Green        169\n",
       "Black        167\n",
       "Cyan         166\n",
       "Violet       166\n",
       "Gray         159\n",
       "Maroon       158\n",
       "Orange       154\n",
       "Charcoal     153\n",
       "Pink         153\n",
       "Blue         152\n",
       "Magenta      152\n",
       "Purple       151\n",
       "Peach        149\n",
       "Red          148\n",
       "Beige        147\n",
       "Indigo       147\n",
       "Lavender     147\n",
       "Turquoise    145\n",
       "White        142\n",
       "Brown        141\n",
       "Gold         138\n",
       "Name: count, dtype: int64"
      ]
     },
     "execution_count": 99,
     "metadata": {},
     "output_type": "execute_result"
    }
   ],
   "source": [
    "shop['Color'].value_counts()"
   ]
  },
  {
   "cell_type": "markdown",
   "metadata": {},
   "source": [
    "15. What is the average number of previous purchases made by a customer?"
   ]
  },
  {
   "cell_type": "code",
   "execution_count": 100,
   "metadata": {},
   "outputs": [
    {
     "data": {
      "text/plain": [
       "np.float64(25.35153846153846)"
      ]
     },
     "execution_count": 100,
     "metadata": {},
     "output_type": "execute_result"
    }
   ],
   "source": [
    "shop['Previous Purchases'].mean()"
   ]
  },
  {
   "cell_type": "markdown",
   "metadata": {},
   "source": [
    "16. Are there noticable differences in purchase behaviors at different locations?"
   ]
  },
  {
   "cell_type": "code",
   "execution_count": 101,
   "metadata": {},
   "outputs": [
    {
     "data": {
      "text/plain": [
       "Location\n",
       "Alaska            67.597222\n",
       "Pennsylvania      66.567568\n",
       "Arizona           66.553846\n",
       "West Virginia     63.876543\n",
       "Nevada            63.379310\n",
       "Washington        63.328767\n",
       "North Dakota      62.891566\n",
       "Virginia          62.883117\n",
       "Utah              62.577465\n",
       "Michigan          62.095890\n",
       "Tennessee         61.974026\n",
       "New Mexico        61.901235\n",
       "Rhode Island      61.444444\n",
       "Texas             61.194805\n",
       "Arkansas          61.113924\n",
       "Illinois          61.054348\n",
       "Mississippi       61.037500\n",
       "Massachusetts     60.888889\n",
       "Iowa              60.884058\n",
       "North Carolina    60.794872\n",
       "Wyoming           60.690141\n",
       "South Dakota      60.514286\n",
       "New York          60.425287\n",
       "Ohio              60.376623\n",
       "Montana           60.250000\n",
       "Idaho             60.075269\n",
       "Nebraska          59.448276\n",
       "New Hampshire     59.422535\n",
       "Alabama           59.112360\n",
       "California        59.000000\n",
       "Indiana           58.924051\n",
       "Georgia           58.797468\n",
       "South Carolina    58.407895\n",
       "Oklahoma          58.346667\n",
       "Missouri          57.913580\n",
       "Hawaii            57.723077\n",
       "Louisiana         57.714286\n",
       "Oregon            57.337838\n",
       "Vermont           57.176471\n",
       "Maine             56.987013\n",
       "New Jersey        56.746269\n",
       "Minnesota         56.556818\n",
       "Colorado          56.293333\n",
       "Wisconsin         55.946667\n",
       "Florida           55.852941\n",
       "Maryland          55.755814\n",
       "Kentucky          55.721519\n",
       "Delaware          55.325581\n",
       "Kansas            54.555556\n",
       "Connecticut       54.179487\n",
       "Name: Purchase Amount (USD), dtype: float64"
      ]
     },
     "execution_count": 101,
     "metadata": {},
     "output_type": "execute_result"
    }
   ],
   "source": [
    "shop.groupby('Location')['Purchase Amount (USD)'].mean().sort_values(ascending=False)"
   ]
  },
  {
   "cell_type": "code",
   "execution_count": 102,
   "metadata": {},
   "outputs": [
    {
     "data": {
      "application/vnd.plotly.v1+json": {
       "config": {
        "plotlyServerURL": "https://plot.ly"
       },
       "data": [
        {
         "hovertemplate": "Location=%{x}<br>Purchase Amount (USD)=%{y}<extra></extra>",
         "legendgroup": "",
         "marker": {
          "color": "#636efa",
          "pattern": {
           "shape": ""
          }
         },
         "name": "",
         "orientation": "v",
         "showlegend": false,
         "textposition": "auto",
         "type": "bar",
         "x": [
          "Alabama",
          "Alaska",
          "Arizona",
          "Arkansas",
          "California",
          "Colorado",
          "Connecticut",
          "Delaware",
          "Florida",
          "Georgia",
          "Hawaii",
          "Idaho",
          "Illinois",
          "Indiana",
          "Iowa",
          "Kansas",
          "Kentucky",
          "Louisiana",
          "Maine",
          "Maryland",
          "Massachusetts",
          "Michigan",
          "Minnesota",
          "Mississippi",
          "Missouri",
          "Montana",
          "Nebraska",
          "Nevada",
          "New Hampshire",
          "New Jersey",
          "New Mexico",
          "New York",
          "North Carolina",
          "North Dakota",
          "Ohio",
          "Oklahoma",
          "Oregon",
          "Pennsylvania",
          "Rhode Island",
          "South Carolina",
          "South Dakota",
          "Tennessee",
          "Texas",
          "Utah",
          "Vermont",
          "Virginia",
          "Washington",
          "West Virginia",
          "Wisconsin",
          "Wyoming"
         ],
         "xaxis": "x",
         "y": {
          "bdata": "MYc5zGGOTUDkOI7jOOZQQDdyIzdyo1BAHdkzEJWOTkAAAAAAAIBNQCa/WPKLJUxAcPmWb/kWS0DKmrKmrKlLQC0tLS0t7UtAzO9qcRNmTUDJjdzIjdxMQIommmiiCU5AetOb3vSGTkDtGYhKR3ZNQD+jxM8ocU5AchzHcRxHS0C5CfO7WtxLQLdt27Zt20xAWvkJcVZ+TEDoC/qCvuBLQBzHcRzHcU5AxIgRI0YMT0AXXXTRRUdMQM3MzMzMhE5A+mGRMvD0TEAAAAAAACBOQBKWexphuU1A1AjLPY2wT0DD5kCiFbZNQD1QObuFX0xAi5SBp1vzTkD9ZuvQbzZOQFy+5Vu+ZU5AR1Pn1x5yT0DVwN4xNTBOQCz5xZJfLE1AtG4wRT6rTEBFPusGU6RQQI7jOI7juE5AQ3kN5TU0TUAd1EEd1EFOQLTyE+Ks/E5AvmNqYO+YTkA9Gb9d6klPQJeWlpaWlkxAKMRZ+QlxT0ChQoUKFapPQK75YZEy8E9A+cWSXyz5S0ALmwOJVlhOQA==",
          "dtype": "f8"
         },
         "yaxis": "y"
        }
       ],
       "layout": {
        "barmode": "relative",
        "legend": {
         "tracegroupgap": 0
        },
        "margin": {
         "t": 60
        },
        "template": {
         "data": {
          "bar": [
           {
            "error_x": {
             "color": "#2a3f5f"
            },
            "error_y": {
             "color": "#2a3f5f"
            },
            "marker": {
             "line": {
              "color": "#E5ECF6",
              "width": 0.5
             },
             "pattern": {
              "fillmode": "overlay",
              "size": 10,
              "solidity": 0.2
             }
            },
            "type": "bar"
           }
          ],
          "barpolar": [
           {
            "marker": {
             "line": {
              "color": "#E5ECF6",
              "width": 0.5
             },
             "pattern": {
              "fillmode": "overlay",
              "size": 10,
              "solidity": 0.2
             }
            },
            "type": "barpolar"
           }
          ],
          "carpet": [
           {
            "aaxis": {
             "endlinecolor": "#2a3f5f",
             "gridcolor": "white",
             "linecolor": "white",
             "minorgridcolor": "white",
             "startlinecolor": "#2a3f5f"
            },
            "baxis": {
             "endlinecolor": "#2a3f5f",
             "gridcolor": "white",
             "linecolor": "white",
             "minorgridcolor": "white",
             "startlinecolor": "#2a3f5f"
            },
            "type": "carpet"
           }
          ],
          "choropleth": [
           {
            "colorbar": {
             "outlinewidth": 0,
             "ticks": ""
            },
            "type": "choropleth"
           }
          ],
          "contour": [
           {
            "colorbar": {
             "outlinewidth": 0,
             "ticks": ""
            },
            "colorscale": [
             [
              0,
              "#0d0887"
             ],
             [
              0.1111111111111111,
              "#46039f"
             ],
             [
              0.2222222222222222,
              "#7201a8"
             ],
             [
              0.3333333333333333,
              "#9c179e"
             ],
             [
              0.4444444444444444,
              "#bd3786"
             ],
             [
              0.5555555555555556,
              "#d8576b"
             ],
             [
              0.6666666666666666,
              "#ed7953"
             ],
             [
              0.7777777777777778,
              "#fb9f3a"
             ],
             [
              0.8888888888888888,
              "#fdca26"
             ],
             [
              1,
              "#f0f921"
             ]
            ],
            "type": "contour"
           }
          ],
          "contourcarpet": [
           {
            "colorbar": {
             "outlinewidth": 0,
             "ticks": ""
            },
            "type": "contourcarpet"
           }
          ],
          "heatmap": [
           {
            "colorbar": {
             "outlinewidth": 0,
             "ticks": ""
            },
            "colorscale": [
             [
              0,
              "#0d0887"
             ],
             [
              0.1111111111111111,
              "#46039f"
             ],
             [
              0.2222222222222222,
              "#7201a8"
             ],
             [
              0.3333333333333333,
              "#9c179e"
             ],
             [
              0.4444444444444444,
              "#bd3786"
             ],
             [
              0.5555555555555556,
              "#d8576b"
             ],
             [
              0.6666666666666666,
              "#ed7953"
             ],
             [
              0.7777777777777778,
              "#fb9f3a"
             ],
             [
              0.8888888888888888,
              "#fdca26"
             ],
             [
              1,
              "#f0f921"
             ]
            ],
            "type": "heatmap"
           }
          ],
          "histogram": [
           {
            "marker": {
             "pattern": {
              "fillmode": "overlay",
              "size": 10,
              "solidity": 0.2
             }
            },
            "type": "histogram"
           }
          ],
          "histogram2d": [
           {
            "colorbar": {
             "outlinewidth": 0,
             "ticks": ""
            },
            "colorscale": [
             [
              0,
              "#0d0887"
             ],
             [
              0.1111111111111111,
              "#46039f"
             ],
             [
              0.2222222222222222,
              "#7201a8"
             ],
             [
              0.3333333333333333,
              "#9c179e"
             ],
             [
              0.4444444444444444,
              "#bd3786"
             ],
             [
              0.5555555555555556,
              "#d8576b"
             ],
             [
              0.6666666666666666,
              "#ed7953"
             ],
             [
              0.7777777777777778,
              "#fb9f3a"
             ],
             [
              0.8888888888888888,
              "#fdca26"
             ],
             [
              1,
              "#f0f921"
             ]
            ],
            "type": "histogram2d"
           }
          ],
          "histogram2dcontour": [
           {
            "colorbar": {
             "outlinewidth": 0,
             "ticks": ""
            },
            "colorscale": [
             [
              0,
              "#0d0887"
             ],
             [
              0.1111111111111111,
              "#46039f"
             ],
             [
              0.2222222222222222,
              "#7201a8"
             ],
             [
              0.3333333333333333,
              "#9c179e"
             ],
             [
              0.4444444444444444,
              "#bd3786"
             ],
             [
              0.5555555555555556,
              "#d8576b"
             ],
             [
              0.6666666666666666,
              "#ed7953"
             ],
             [
              0.7777777777777778,
              "#fb9f3a"
             ],
             [
              0.8888888888888888,
              "#fdca26"
             ],
             [
              1,
              "#f0f921"
             ]
            ],
            "type": "histogram2dcontour"
           }
          ],
          "mesh3d": [
           {
            "colorbar": {
             "outlinewidth": 0,
             "ticks": ""
            },
            "type": "mesh3d"
           }
          ],
          "parcoords": [
           {
            "line": {
             "colorbar": {
              "outlinewidth": 0,
              "ticks": ""
             }
            },
            "type": "parcoords"
           }
          ],
          "pie": [
           {
            "automargin": true,
            "type": "pie"
           }
          ],
          "scatter": [
           {
            "fillpattern": {
             "fillmode": "overlay",
             "size": 10,
             "solidity": 0.2
            },
            "type": "scatter"
           }
          ],
          "scatter3d": [
           {
            "line": {
             "colorbar": {
              "outlinewidth": 0,
              "ticks": ""
             }
            },
            "marker": {
             "colorbar": {
              "outlinewidth": 0,
              "ticks": ""
             }
            },
            "type": "scatter3d"
           }
          ],
          "scattercarpet": [
           {
            "marker": {
             "colorbar": {
              "outlinewidth": 0,
              "ticks": ""
             }
            },
            "type": "scattercarpet"
           }
          ],
          "scattergeo": [
           {
            "marker": {
             "colorbar": {
              "outlinewidth": 0,
              "ticks": ""
             }
            },
            "type": "scattergeo"
           }
          ],
          "scattergl": [
           {
            "marker": {
             "colorbar": {
              "outlinewidth": 0,
              "ticks": ""
             }
            },
            "type": "scattergl"
           }
          ],
          "scattermap": [
           {
            "marker": {
             "colorbar": {
              "outlinewidth": 0,
              "ticks": ""
             }
            },
            "type": "scattermap"
           }
          ],
          "scattermapbox": [
           {
            "marker": {
             "colorbar": {
              "outlinewidth": 0,
              "ticks": ""
             }
            },
            "type": "scattermapbox"
           }
          ],
          "scatterpolar": [
           {
            "marker": {
             "colorbar": {
              "outlinewidth": 0,
              "ticks": ""
             }
            },
            "type": "scatterpolar"
           }
          ],
          "scatterpolargl": [
           {
            "marker": {
             "colorbar": {
              "outlinewidth": 0,
              "ticks": ""
             }
            },
            "type": "scatterpolargl"
           }
          ],
          "scatterternary": [
           {
            "marker": {
             "colorbar": {
              "outlinewidth": 0,
              "ticks": ""
             }
            },
            "type": "scatterternary"
           }
          ],
          "surface": [
           {
            "colorbar": {
             "outlinewidth": 0,
             "ticks": ""
            },
            "colorscale": [
             [
              0,
              "#0d0887"
             ],
             [
              0.1111111111111111,
              "#46039f"
             ],
             [
              0.2222222222222222,
              "#7201a8"
             ],
             [
              0.3333333333333333,
              "#9c179e"
             ],
             [
              0.4444444444444444,
              "#bd3786"
             ],
             [
              0.5555555555555556,
              "#d8576b"
             ],
             [
              0.6666666666666666,
              "#ed7953"
             ],
             [
              0.7777777777777778,
              "#fb9f3a"
             ],
             [
              0.8888888888888888,
              "#fdca26"
             ],
             [
              1,
              "#f0f921"
             ]
            ],
            "type": "surface"
           }
          ],
          "table": [
           {
            "cells": {
             "fill": {
              "color": "#EBF0F8"
             },
             "line": {
              "color": "white"
             }
            },
            "header": {
             "fill": {
              "color": "#C8D4E3"
             },
             "line": {
              "color": "white"
             }
            },
            "type": "table"
           }
          ]
         },
         "layout": {
          "annotationdefaults": {
           "arrowcolor": "#2a3f5f",
           "arrowhead": 0,
           "arrowwidth": 1
          },
          "autotypenumbers": "strict",
          "coloraxis": {
           "colorbar": {
            "outlinewidth": 0,
            "ticks": ""
           }
          },
          "colorscale": {
           "diverging": [
            [
             0,
             "#8e0152"
            ],
            [
             0.1,
             "#c51b7d"
            ],
            [
             0.2,
             "#de77ae"
            ],
            [
             0.3,
             "#f1b6da"
            ],
            [
             0.4,
             "#fde0ef"
            ],
            [
             0.5,
             "#f7f7f7"
            ],
            [
             0.6,
             "#e6f5d0"
            ],
            [
             0.7,
             "#b8e186"
            ],
            [
             0.8,
             "#7fbc41"
            ],
            [
             0.9,
             "#4d9221"
            ],
            [
             1,
             "#276419"
            ]
           ],
           "sequential": [
            [
             0,
             "#0d0887"
            ],
            [
             0.1111111111111111,
             "#46039f"
            ],
            [
             0.2222222222222222,
             "#7201a8"
            ],
            [
             0.3333333333333333,
             "#9c179e"
            ],
            [
             0.4444444444444444,
             "#bd3786"
            ],
            [
             0.5555555555555556,
             "#d8576b"
            ],
            [
             0.6666666666666666,
             "#ed7953"
            ],
            [
             0.7777777777777778,
             "#fb9f3a"
            ],
            [
             0.8888888888888888,
             "#fdca26"
            ],
            [
             1,
             "#f0f921"
            ]
           ],
           "sequentialminus": [
            [
             0,
             "#0d0887"
            ],
            [
             0.1111111111111111,
             "#46039f"
            ],
            [
             0.2222222222222222,
             "#7201a8"
            ],
            [
             0.3333333333333333,
             "#9c179e"
            ],
            [
             0.4444444444444444,
             "#bd3786"
            ],
            [
             0.5555555555555556,
             "#d8576b"
            ],
            [
             0.6666666666666666,
             "#ed7953"
            ],
            [
             0.7777777777777778,
             "#fb9f3a"
            ],
            [
             0.8888888888888888,
             "#fdca26"
            ],
            [
             1,
             "#f0f921"
            ]
           ]
          },
          "colorway": [
           "#636efa",
           "#EF553B",
           "#00cc96",
           "#ab63fa",
           "#FFA15A",
           "#19d3f3",
           "#FF6692",
           "#B6E880",
           "#FF97FF",
           "#FECB52"
          ],
          "font": {
           "color": "#2a3f5f"
          },
          "geo": {
           "bgcolor": "white",
           "lakecolor": "white",
           "landcolor": "#E5ECF6",
           "showlakes": true,
           "showland": true,
           "subunitcolor": "white"
          },
          "hoverlabel": {
           "align": "left"
          },
          "hovermode": "closest",
          "mapbox": {
           "style": "light"
          },
          "paper_bgcolor": "white",
          "plot_bgcolor": "#E5ECF6",
          "polar": {
           "angularaxis": {
            "gridcolor": "white",
            "linecolor": "white",
            "ticks": ""
           },
           "bgcolor": "#E5ECF6",
           "radialaxis": {
            "gridcolor": "white",
            "linecolor": "white",
            "ticks": ""
           }
          },
          "scene": {
           "xaxis": {
            "backgroundcolor": "#E5ECF6",
            "gridcolor": "white",
            "gridwidth": 2,
            "linecolor": "white",
            "showbackground": true,
            "ticks": "",
            "zerolinecolor": "white"
           },
           "yaxis": {
            "backgroundcolor": "#E5ECF6",
            "gridcolor": "white",
            "gridwidth": 2,
            "linecolor": "white",
            "showbackground": true,
            "ticks": "",
            "zerolinecolor": "white"
           },
           "zaxis": {
            "backgroundcolor": "#E5ECF6",
            "gridcolor": "white",
            "gridwidth": 2,
            "linecolor": "white",
            "showbackground": true,
            "ticks": "",
            "zerolinecolor": "white"
           }
          },
          "shapedefaults": {
           "line": {
            "color": "#2a3f5f"
           }
          },
          "ternary": {
           "aaxis": {
            "gridcolor": "white",
            "linecolor": "white",
            "ticks": ""
           },
           "baxis": {
            "gridcolor": "white",
            "linecolor": "white",
            "ticks": ""
           },
           "bgcolor": "#E5ECF6",
           "caxis": {
            "gridcolor": "white",
            "linecolor": "white",
            "ticks": ""
           }
          },
          "title": {
           "x": 0.05
          },
          "xaxis": {
           "automargin": true,
           "gridcolor": "white",
           "linecolor": "white",
           "ticks": "",
           "title": {
            "standoff": 15
           },
           "zerolinecolor": "white",
           "zerolinewidth": 2
          },
          "yaxis": {
           "automargin": true,
           "gridcolor": "white",
           "linecolor": "white",
           "ticks": "",
           "title": {
            "standoff": 15
           },
           "zerolinecolor": "white",
           "zerolinewidth": 2
          }
         }
        },
        "xaxis": {
         "anchor": "y",
         "domain": [
          0,
          1
         ],
         "title": {
          "text": "Location"
         }
        },
        "yaxis": {
         "anchor": "x",
         "domain": [
          0,
          1
         ],
         "title": {
          "text": "Purchase Amount (USD)"
         }
        }
       }
      }
     },
     "metadata": {},
     "output_type": "display_data"
    }
   ],
   "source": [
    "shop_group=shop.groupby('Location')['Purchase Amount (USD)'].mean().reset_index()\n",
    "fig=px.bar(shop_group, x='Location', y='Purchase Amount (USD)')\n",
    "fig.show()"
   ]
  },
  {
   "cell_type": "markdown",
   "metadata": {},
   "source": [
    "17. Is there relationship between customer age and category of product they purchase?"
   ]
  },
  {
   "cell_type": "code",
   "execution_count": 103,
   "metadata": {},
   "outputs": [],
   "source": [
    "shop_group=shop.groupby('Category')['Age'].mean().reset_index()"
   ]
  },
  {
   "cell_type": "code",
   "execution_count": 104,
   "metadata": {},
   "outputs": [
    {
     "data": {
      "application/vnd.plotly.v1+json": {
       "config": {
        "plotlyServerURL": "https://plot.ly"
       },
       "data": [
        {
         "hovertemplate": "Category=%{x}<br>Age=%{y}<extra></extra>",
         "legendgroup": "",
         "marker": {
          "color": "#636efa",
          "pattern": {
           "shape": ""
          }
         },
         "name": "",
         "orientation": "v",
         "showlegend": false,
         "textposition": "auto",
         "type": "bar",
         "x": [
          "Accessories",
          "Clothing",
          "Footwear",
          "Outerwear"
         ],
         "xaxis": "x",
         "y": {
          "bdata": "/SXLX7IcRkDZ1S0BOORFQHcmyrGgOEZAKQNPt+YnRkA=",
          "dtype": "f8"
         },
         "yaxis": "y"
        }
       ],
       "layout": {
        "barmode": "relative",
        "legend": {
         "tracegroupgap": 0
        },
        "margin": {
         "t": 60
        },
        "template": {
         "data": {
          "bar": [
           {
            "error_x": {
             "color": "#2a3f5f"
            },
            "error_y": {
             "color": "#2a3f5f"
            },
            "marker": {
             "line": {
              "color": "#E5ECF6",
              "width": 0.5
             },
             "pattern": {
              "fillmode": "overlay",
              "size": 10,
              "solidity": 0.2
             }
            },
            "type": "bar"
           }
          ],
          "barpolar": [
           {
            "marker": {
             "line": {
              "color": "#E5ECF6",
              "width": 0.5
             },
             "pattern": {
              "fillmode": "overlay",
              "size": 10,
              "solidity": 0.2
             }
            },
            "type": "barpolar"
           }
          ],
          "carpet": [
           {
            "aaxis": {
             "endlinecolor": "#2a3f5f",
             "gridcolor": "white",
             "linecolor": "white",
             "minorgridcolor": "white",
             "startlinecolor": "#2a3f5f"
            },
            "baxis": {
             "endlinecolor": "#2a3f5f",
             "gridcolor": "white",
             "linecolor": "white",
             "minorgridcolor": "white",
             "startlinecolor": "#2a3f5f"
            },
            "type": "carpet"
           }
          ],
          "choropleth": [
           {
            "colorbar": {
             "outlinewidth": 0,
             "ticks": ""
            },
            "type": "choropleth"
           }
          ],
          "contour": [
           {
            "colorbar": {
             "outlinewidth": 0,
             "ticks": ""
            },
            "colorscale": [
             [
              0,
              "#0d0887"
             ],
             [
              0.1111111111111111,
              "#46039f"
             ],
             [
              0.2222222222222222,
              "#7201a8"
             ],
             [
              0.3333333333333333,
              "#9c179e"
             ],
             [
              0.4444444444444444,
              "#bd3786"
             ],
             [
              0.5555555555555556,
              "#d8576b"
             ],
             [
              0.6666666666666666,
              "#ed7953"
             ],
             [
              0.7777777777777778,
              "#fb9f3a"
             ],
             [
              0.8888888888888888,
              "#fdca26"
             ],
             [
              1,
              "#f0f921"
             ]
            ],
            "type": "contour"
           }
          ],
          "contourcarpet": [
           {
            "colorbar": {
             "outlinewidth": 0,
             "ticks": ""
            },
            "type": "contourcarpet"
           }
          ],
          "heatmap": [
           {
            "colorbar": {
             "outlinewidth": 0,
             "ticks": ""
            },
            "colorscale": [
             [
              0,
              "#0d0887"
             ],
             [
              0.1111111111111111,
              "#46039f"
             ],
             [
              0.2222222222222222,
              "#7201a8"
             ],
             [
              0.3333333333333333,
              "#9c179e"
             ],
             [
              0.4444444444444444,
              "#bd3786"
             ],
             [
              0.5555555555555556,
              "#d8576b"
             ],
             [
              0.6666666666666666,
              "#ed7953"
             ],
             [
              0.7777777777777778,
              "#fb9f3a"
             ],
             [
              0.8888888888888888,
              "#fdca26"
             ],
             [
              1,
              "#f0f921"
             ]
            ],
            "type": "heatmap"
           }
          ],
          "histogram": [
           {
            "marker": {
             "pattern": {
              "fillmode": "overlay",
              "size": 10,
              "solidity": 0.2
             }
            },
            "type": "histogram"
           }
          ],
          "histogram2d": [
           {
            "colorbar": {
             "outlinewidth": 0,
             "ticks": ""
            },
            "colorscale": [
             [
              0,
              "#0d0887"
             ],
             [
              0.1111111111111111,
              "#46039f"
             ],
             [
              0.2222222222222222,
              "#7201a8"
             ],
             [
              0.3333333333333333,
              "#9c179e"
             ],
             [
              0.4444444444444444,
              "#bd3786"
             ],
             [
              0.5555555555555556,
              "#d8576b"
             ],
             [
              0.6666666666666666,
              "#ed7953"
             ],
             [
              0.7777777777777778,
              "#fb9f3a"
             ],
             [
              0.8888888888888888,
              "#fdca26"
             ],
             [
              1,
              "#f0f921"
             ]
            ],
            "type": "histogram2d"
           }
          ],
          "histogram2dcontour": [
           {
            "colorbar": {
             "outlinewidth": 0,
             "ticks": ""
            },
            "colorscale": [
             [
              0,
              "#0d0887"
             ],
             [
              0.1111111111111111,
              "#46039f"
             ],
             [
              0.2222222222222222,
              "#7201a8"
             ],
             [
              0.3333333333333333,
              "#9c179e"
             ],
             [
              0.4444444444444444,
              "#bd3786"
             ],
             [
              0.5555555555555556,
              "#d8576b"
             ],
             [
              0.6666666666666666,
              "#ed7953"
             ],
             [
              0.7777777777777778,
              "#fb9f3a"
             ],
             [
              0.8888888888888888,
              "#fdca26"
             ],
             [
              1,
              "#f0f921"
             ]
            ],
            "type": "histogram2dcontour"
           }
          ],
          "mesh3d": [
           {
            "colorbar": {
             "outlinewidth": 0,
             "ticks": ""
            },
            "type": "mesh3d"
           }
          ],
          "parcoords": [
           {
            "line": {
             "colorbar": {
              "outlinewidth": 0,
              "ticks": ""
             }
            },
            "type": "parcoords"
           }
          ],
          "pie": [
           {
            "automargin": true,
            "type": "pie"
           }
          ],
          "scatter": [
           {
            "fillpattern": {
             "fillmode": "overlay",
             "size": 10,
             "solidity": 0.2
            },
            "type": "scatter"
           }
          ],
          "scatter3d": [
           {
            "line": {
             "colorbar": {
              "outlinewidth": 0,
              "ticks": ""
             }
            },
            "marker": {
             "colorbar": {
              "outlinewidth": 0,
              "ticks": ""
             }
            },
            "type": "scatter3d"
           }
          ],
          "scattercarpet": [
           {
            "marker": {
             "colorbar": {
              "outlinewidth": 0,
              "ticks": ""
             }
            },
            "type": "scattercarpet"
           }
          ],
          "scattergeo": [
           {
            "marker": {
             "colorbar": {
              "outlinewidth": 0,
              "ticks": ""
             }
            },
            "type": "scattergeo"
           }
          ],
          "scattergl": [
           {
            "marker": {
             "colorbar": {
              "outlinewidth": 0,
              "ticks": ""
             }
            },
            "type": "scattergl"
           }
          ],
          "scattermap": [
           {
            "marker": {
             "colorbar": {
              "outlinewidth": 0,
              "ticks": ""
             }
            },
            "type": "scattermap"
           }
          ],
          "scattermapbox": [
           {
            "marker": {
             "colorbar": {
              "outlinewidth": 0,
              "ticks": ""
             }
            },
            "type": "scattermapbox"
           }
          ],
          "scatterpolar": [
           {
            "marker": {
             "colorbar": {
              "outlinewidth": 0,
              "ticks": ""
             }
            },
            "type": "scatterpolar"
           }
          ],
          "scatterpolargl": [
           {
            "marker": {
             "colorbar": {
              "outlinewidth": 0,
              "ticks": ""
             }
            },
            "type": "scatterpolargl"
           }
          ],
          "scatterternary": [
           {
            "marker": {
             "colorbar": {
              "outlinewidth": 0,
              "ticks": ""
             }
            },
            "type": "scatterternary"
           }
          ],
          "surface": [
           {
            "colorbar": {
             "outlinewidth": 0,
             "ticks": ""
            },
            "colorscale": [
             [
              0,
              "#0d0887"
             ],
             [
              0.1111111111111111,
              "#46039f"
             ],
             [
              0.2222222222222222,
              "#7201a8"
             ],
             [
              0.3333333333333333,
              "#9c179e"
             ],
             [
              0.4444444444444444,
              "#bd3786"
             ],
             [
              0.5555555555555556,
              "#d8576b"
             ],
             [
              0.6666666666666666,
              "#ed7953"
             ],
             [
              0.7777777777777778,
              "#fb9f3a"
             ],
             [
              0.8888888888888888,
              "#fdca26"
             ],
             [
              1,
              "#f0f921"
             ]
            ],
            "type": "surface"
           }
          ],
          "table": [
           {
            "cells": {
             "fill": {
              "color": "#EBF0F8"
             },
             "line": {
              "color": "white"
             }
            },
            "header": {
             "fill": {
              "color": "#C8D4E3"
             },
             "line": {
              "color": "white"
             }
            },
            "type": "table"
           }
          ]
         },
         "layout": {
          "annotationdefaults": {
           "arrowcolor": "#2a3f5f",
           "arrowhead": 0,
           "arrowwidth": 1
          },
          "autotypenumbers": "strict",
          "coloraxis": {
           "colorbar": {
            "outlinewidth": 0,
            "ticks": ""
           }
          },
          "colorscale": {
           "diverging": [
            [
             0,
             "#8e0152"
            ],
            [
             0.1,
             "#c51b7d"
            ],
            [
             0.2,
             "#de77ae"
            ],
            [
             0.3,
             "#f1b6da"
            ],
            [
             0.4,
             "#fde0ef"
            ],
            [
             0.5,
             "#f7f7f7"
            ],
            [
             0.6,
             "#e6f5d0"
            ],
            [
             0.7,
             "#b8e186"
            ],
            [
             0.8,
             "#7fbc41"
            ],
            [
             0.9,
             "#4d9221"
            ],
            [
             1,
             "#276419"
            ]
           ],
           "sequential": [
            [
             0,
             "#0d0887"
            ],
            [
             0.1111111111111111,
             "#46039f"
            ],
            [
             0.2222222222222222,
             "#7201a8"
            ],
            [
             0.3333333333333333,
             "#9c179e"
            ],
            [
             0.4444444444444444,
             "#bd3786"
            ],
            [
             0.5555555555555556,
             "#d8576b"
            ],
            [
             0.6666666666666666,
             "#ed7953"
            ],
            [
             0.7777777777777778,
             "#fb9f3a"
            ],
            [
             0.8888888888888888,
             "#fdca26"
            ],
            [
             1,
             "#f0f921"
            ]
           ],
           "sequentialminus": [
            [
             0,
             "#0d0887"
            ],
            [
             0.1111111111111111,
             "#46039f"
            ],
            [
             0.2222222222222222,
             "#7201a8"
            ],
            [
             0.3333333333333333,
             "#9c179e"
            ],
            [
             0.4444444444444444,
             "#bd3786"
            ],
            [
             0.5555555555555556,
             "#d8576b"
            ],
            [
             0.6666666666666666,
             "#ed7953"
            ],
            [
             0.7777777777777778,
             "#fb9f3a"
            ],
            [
             0.8888888888888888,
             "#fdca26"
            ],
            [
             1,
             "#f0f921"
            ]
           ]
          },
          "colorway": [
           "#636efa",
           "#EF553B",
           "#00cc96",
           "#ab63fa",
           "#FFA15A",
           "#19d3f3",
           "#FF6692",
           "#B6E880",
           "#FF97FF",
           "#FECB52"
          ],
          "font": {
           "color": "#2a3f5f"
          },
          "geo": {
           "bgcolor": "white",
           "lakecolor": "white",
           "landcolor": "#E5ECF6",
           "showlakes": true,
           "showland": true,
           "subunitcolor": "white"
          },
          "hoverlabel": {
           "align": "left"
          },
          "hovermode": "closest",
          "mapbox": {
           "style": "light"
          },
          "paper_bgcolor": "white",
          "plot_bgcolor": "#E5ECF6",
          "polar": {
           "angularaxis": {
            "gridcolor": "white",
            "linecolor": "white",
            "ticks": ""
           },
           "bgcolor": "#E5ECF6",
           "radialaxis": {
            "gridcolor": "white",
            "linecolor": "white",
            "ticks": ""
           }
          },
          "scene": {
           "xaxis": {
            "backgroundcolor": "#E5ECF6",
            "gridcolor": "white",
            "gridwidth": 2,
            "linecolor": "white",
            "showbackground": true,
            "ticks": "",
            "zerolinecolor": "white"
           },
           "yaxis": {
            "backgroundcolor": "#E5ECF6",
            "gridcolor": "white",
            "gridwidth": 2,
            "linecolor": "white",
            "showbackground": true,
            "ticks": "",
            "zerolinecolor": "white"
           },
           "zaxis": {
            "backgroundcolor": "#E5ECF6",
            "gridcolor": "white",
            "gridwidth": 2,
            "linecolor": "white",
            "showbackground": true,
            "ticks": "",
            "zerolinecolor": "white"
           }
          },
          "shapedefaults": {
           "line": {
            "color": "#2a3f5f"
           }
          },
          "ternary": {
           "aaxis": {
            "gridcolor": "white",
            "linecolor": "white",
            "ticks": ""
           },
           "baxis": {
            "gridcolor": "white",
            "linecolor": "white",
            "ticks": ""
           },
           "bgcolor": "#E5ECF6",
           "caxis": {
            "gridcolor": "white",
            "linecolor": "white",
            "ticks": ""
           }
          },
          "title": {
           "x": 0.05
          },
          "xaxis": {
           "automargin": true,
           "gridcolor": "white",
           "linecolor": "white",
           "ticks": "",
           "title": {
            "standoff": 15
           },
           "zerolinecolor": "white",
           "zerolinewidth": 2
          },
          "yaxis": {
           "automargin": true,
           "gridcolor": "white",
           "linecolor": "white",
           "ticks": "",
           "title": {
            "standoff": 15
           },
           "zerolinecolor": "white",
           "zerolinewidth": 2
          }
         }
        },
        "xaxis": {
         "anchor": "y",
         "domain": [
          0,
          1
         ],
         "title": {
          "text": "Category"
         }
        },
        "yaxis": {
         "anchor": "x",
         "domain": [
          0,
          1
         ],
         "title": {
          "text": "Age"
         }
        }
       }
      }
     },
     "metadata": {},
     "output_type": "display_data"
    }
   ],
   "source": [
    "fig=px.bar(shop_group, x='Category', y='Age')\n",
    "fig.show()\n"
   ]
  },
  {
   "cell_type": "markdown",
   "metadata": {},
   "source": [
    "18. How does avergae purchase amount differ between men and women?"
   ]
  },
  {
   "cell_type": "code",
   "execution_count": 105,
   "metadata": {},
   "outputs": [
    {
     "data": {
      "application/vnd.plotly.v1+json": {
       "config": {
        "plotlyServerURL": "https://plot.ly"
       },
       "data": [
        {
         "hovertemplate": "Gender=%{x}<br>Purchase Amount (USD)=%{y}<extra></extra>",
         "legendgroup": "",
         "marker": {
          "color": "#636efa",
          "pattern": {
           "shape": ""
          }
         },
         "name": "",
         "orientation": "v",
         "showlegend": false,
         "textposition": "auto",
         "type": "bar",
         "x": [
          "Female",
          "Male"
         ],
         "xaxis": "x",
         "y": {
          "bdata": "tyUBAMJoAgA=",
          "dtype": "i4"
         },
         "yaxis": "y"
        }
       ],
       "layout": {
        "barmode": "relative",
        "legend": {
         "tracegroupgap": 0
        },
        "margin": {
         "t": 60
        },
        "template": {
         "data": {
          "bar": [
           {
            "error_x": {
             "color": "#2a3f5f"
            },
            "error_y": {
             "color": "#2a3f5f"
            },
            "marker": {
             "line": {
              "color": "#E5ECF6",
              "width": 0.5
             },
             "pattern": {
              "fillmode": "overlay",
              "size": 10,
              "solidity": 0.2
             }
            },
            "type": "bar"
           }
          ],
          "barpolar": [
           {
            "marker": {
             "line": {
              "color": "#E5ECF6",
              "width": 0.5
             },
             "pattern": {
              "fillmode": "overlay",
              "size": 10,
              "solidity": 0.2
             }
            },
            "type": "barpolar"
           }
          ],
          "carpet": [
           {
            "aaxis": {
             "endlinecolor": "#2a3f5f",
             "gridcolor": "white",
             "linecolor": "white",
             "minorgridcolor": "white",
             "startlinecolor": "#2a3f5f"
            },
            "baxis": {
             "endlinecolor": "#2a3f5f",
             "gridcolor": "white",
             "linecolor": "white",
             "minorgridcolor": "white",
             "startlinecolor": "#2a3f5f"
            },
            "type": "carpet"
           }
          ],
          "choropleth": [
           {
            "colorbar": {
             "outlinewidth": 0,
             "ticks": ""
            },
            "type": "choropleth"
           }
          ],
          "contour": [
           {
            "colorbar": {
             "outlinewidth": 0,
             "ticks": ""
            },
            "colorscale": [
             [
              0,
              "#0d0887"
             ],
             [
              0.1111111111111111,
              "#46039f"
             ],
             [
              0.2222222222222222,
              "#7201a8"
             ],
             [
              0.3333333333333333,
              "#9c179e"
             ],
             [
              0.4444444444444444,
              "#bd3786"
             ],
             [
              0.5555555555555556,
              "#d8576b"
             ],
             [
              0.6666666666666666,
              "#ed7953"
             ],
             [
              0.7777777777777778,
              "#fb9f3a"
             ],
             [
              0.8888888888888888,
              "#fdca26"
             ],
             [
              1,
              "#f0f921"
             ]
            ],
            "type": "contour"
           }
          ],
          "contourcarpet": [
           {
            "colorbar": {
             "outlinewidth": 0,
             "ticks": ""
            },
            "type": "contourcarpet"
           }
          ],
          "heatmap": [
           {
            "colorbar": {
             "outlinewidth": 0,
             "ticks": ""
            },
            "colorscale": [
             [
              0,
              "#0d0887"
             ],
             [
              0.1111111111111111,
              "#46039f"
             ],
             [
              0.2222222222222222,
              "#7201a8"
             ],
             [
              0.3333333333333333,
              "#9c179e"
             ],
             [
              0.4444444444444444,
              "#bd3786"
             ],
             [
              0.5555555555555556,
              "#d8576b"
             ],
             [
              0.6666666666666666,
              "#ed7953"
             ],
             [
              0.7777777777777778,
              "#fb9f3a"
             ],
             [
              0.8888888888888888,
              "#fdca26"
             ],
             [
              1,
              "#f0f921"
             ]
            ],
            "type": "heatmap"
           }
          ],
          "histogram": [
           {
            "marker": {
             "pattern": {
              "fillmode": "overlay",
              "size": 10,
              "solidity": 0.2
             }
            },
            "type": "histogram"
           }
          ],
          "histogram2d": [
           {
            "colorbar": {
             "outlinewidth": 0,
             "ticks": ""
            },
            "colorscale": [
             [
              0,
              "#0d0887"
             ],
             [
              0.1111111111111111,
              "#46039f"
             ],
             [
              0.2222222222222222,
              "#7201a8"
             ],
             [
              0.3333333333333333,
              "#9c179e"
             ],
             [
              0.4444444444444444,
              "#bd3786"
             ],
             [
              0.5555555555555556,
              "#d8576b"
             ],
             [
              0.6666666666666666,
              "#ed7953"
             ],
             [
              0.7777777777777778,
              "#fb9f3a"
             ],
             [
              0.8888888888888888,
              "#fdca26"
             ],
             [
              1,
              "#f0f921"
             ]
            ],
            "type": "histogram2d"
           }
          ],
          "histogram2dcontour": [
           {
            "colorbar": {
             "outlinewidth": 0,
             "ticks": ""
            },
            "colorscale": [
             [
              0,
              "#0d0887"
             ],
             [
              0.1111111111111111,
              "#46039f"
             ],
             [
              0.2222222222222222,
              "#7201a8"
             ],
             [
              0.3333333333333333,
              "#9c179e"
             ],
             [
              0.4444444444444444,
              "#bd3786"
             ],
             [
              0.5555555555555556,
              "#d8576b"
             ],
             [
              0.6666666666666666,
              "#ed7953"
             ],
             [
              0.7777777777777778,
              "#fb9f3a"
             ],
             [
              0.8888888888888888,
              "#fdca26"
             ],
             [
              1,
              "#f0f921"
             ]
            ],
            "type": "histogram2dcontour"
           }
          ],
          "mesh3d": [
           {
            "colorbar": {
             "outlinewidth": 0,
             "ticks": ""
            },
            "type": "mesh3d"
           }
          ],
          "parcoords": [
           {
            "line": {
             "colorbar": {
              "outlinewidth": 0,
              "ticks": ""
             }
            },
            "type": "parcoords"
           }
          ],
          "pie": [
           {
            "automargin": true,
            "type": "pie"
           }
          ],
          "scatter": [
           {
            "fillpattern": {
             "fillmode": "overlay",
             "size": 10,
             "solidity": 0.2
            },
            "type": "scatter"
           }
          ],
          "scatter3d": [
           {
            "line": {
             "colorbar": {
              "outlinewidth": 0,
              "ticks": ""
             }
            },
            "marker": {
             "colorbar": {
              "outlinewidth": 0,
              "ticks": ""
             }
            },
            "type": "scatter3d"
           }
          ],
          "scattercarpet": [
           {
            "marker": {
             "colorbar": {
              "outlinewidth": 0,
              "ticks": ""
             }
            },
            "type": "scattercarpet"
           }
          ],
          "scattergeo": [
           {
            "marker": {
             "colorbar": {
              "outlinewidth": 0,
              "ticks": ""
             }
            },
            "type": "scattergeo"
           }
          ],
          "scattergl": [
           {
            "marker": {
             "colorbar": {
              "outlinewidth": 0,
              "ticks": ""
             }
            },
            "type": "scattergl"
           }
          ],
          "scattermap": [
           {
            "marker": {
             "colorbar": {
              "outlinewidth": 0,
              "ticks": ""
             }
            },
            "type": "scattermap"
           }
          ],
          "scattermapbox": [
           {
            "marker": {
             "colorbar": {
              "outlinewidth": 0,
              "ticks": ""
             }
            },
            "type": "scattermapbox"
           }
          ],
          "scatterpolar": [
           {
            "marker": {
             "colorbar": {
              "outlinewidth": 0,
              "ticks": ""
             }
            },
            "type": "scatterpolar"
           }
          ],
          "scatterpolargl": [
           {
            "marker": {
             "colorbar": {
              "outlinewidth": 0,
              "ticks": ""
             }
            },
            "type": "scatterpolargl"
           }
          ],
          "scatterternary": [
           {
            "marker": {
             "colorbar": {
              "outlinewidth": 0,
              "ticks": ""
             }
            },
            "type": "scatterternary"
           }
          ],
          "surface": [
           {
            "colorbar": {
             "outlinewidth": 0,
             "ticks": ""
            },
            "colorscale": [
             [
              0,
              "#0d0887"
             ],
             [
              0.1111111111111111,
              "#46039f"
             ],
             [
              0.2222222222222222,
              "#7201a8"
             ],
             [
              0.3333333333333333,
              "#9c179e"
             ],
             [
              0.4444444444444444,
              "#bd3786"
             ],
             [
              0.5555555555555556,
              "#d8576b"
             ],
             [
              0.6666666666666666,
              "#ed7953"
             ],
             [
              0.7777777777777778,
              "#fb9f3a"
             ],
             [
              0.8888888888888888,
              "#fdca26"
             ],
             [
              1,
              "#f0f921"
             ]
            ],
            "type": "surface"
           }
          ],
          "table": [
           {
            "cells": {
             "fill": {
              "color": "#EBF0F8"
             },
             "line": {
              "color": "white"
             }
            },
            "header": {
             "fill": {
              "color": "#C8D4E3"
             },
             "line": {
              "color": "white"
             }
            },
            "type": "table"
           }
          ]
         },
         "layout": {
          "annotationdefaults": {
           "arrowcolor": "#2a3f5f",
           "arrowhead": 0,
           "arrowwidth": 1
          },
          "autotypenumbers": "strict",
          "coloraxis": {
           "colorbar": {
            "outlinewidth": 0,
            "ticks": ""
           }
          },
          "colorscale": {
           "diverging": [
            [
             0,
             "#8e0152"
            ],
            [
             0.1,
             "#c51b7d"
            ],
            [
             0.2,
             "#de77ae"
            ],
            [
             0.3,
             "#f1b6da"
            ],
            [
             0.4,
             "#fde0ef"
            ],
            [
             0.5,
             "#f7f7f7"
            ],
            [
             0.6,
             "#e6f5d0"
            ],
            [
             0.7,
             "#b8e186"
            ],
            [
             0.8,
             "#7fbc41"
            ],
            [
             0.9,
             "#4d9221"
            ],
            [
             1,
             "#276419"
            ]
           ],
           "sequential": [
            [
             0,
             "#0d0887"
            ],
            [
             0.1111111111111111,
             "#46039f"
            ],
            [
             0.2222222222222222,
             "#7201a8"
            ],
            [
             0.3333333333333333,
             "#9c179e"
            ],
            [
             0.4444444444444444,
             "#bd3786"
            ],
            [
             0.5555555555555556,
             "#d8576b"
            ],
            [
             0.6666666666666666,
             "#ed7953"
            ],
            [
             0.7777777777777778,
             "#fb9f3a"
            ],
            [
             0.8888888888888888,
             "#fdca26"
            ],
            [
             1,
             "#f0f921"
            ]
           ],
           "sequentialminus": [
            [
             0,
             "#0d0887"
            ],
            [
             0.1111111111111111,
             "#46039f"
            ],
            [
             0.2222222222222222,
             "#7201a8"
            ],
            [
             0.3333333333333333,
             "#9c179e"
            ],
            [
             0.4444444444444444,
             "#bd3786"
            ],
            [
             0.5555555555555556,
             "#d8576b"
            ],
            [
             0.6666666666666666,
             "#ed7953"
            ],
            [
             0.7777777777777778,
             "#fb9f3a"
            ],
            [
             0.8888888888888888,
             "#fdca26"
            ],
            [
             1,
             "#f0f921"
            ]
           ]
          },
          "colorway": [
           "#636efa",
           "#EF553B",
           "#00cc96",
           "#ab63fa",
           "#FFA15A",
           "#19d3f3",
           "#FF6692",
           "#B6E880",
           "#FF97FF",
           "#FECB52"
          ],
          "font": {
           "color": "#2a3f5f"
          },
          "geo": {
           "bgcolor": "white",
           "lakecolor": "white",
           "landcolor": "#E5ECF6",
           "showlakes": true,
           "showland": true,
           "subunitcolor": "white"
          },
          "hoverlabel": {
           "align": "left"
          },
          "hovermode": "closest",
          "mapbox": {
           "style": "light"
          },
          "paper_bgcolor": "white",
          "plot_bgcolor": "#E5ECF6",
          "polar": {
           "angularaxis": {
            "gridcolor": "white",
            "linecolor": "white",
            "ticks": ""
           },
           "bgcolor": "#E5ECF6",
           "radialaxis": {
            "gridcolor": "white",
            "linecolor": "white",
            "ticks": ""
           }
          },
          "scene": {
           "xaxis": {
            "backgroundcolor": "#E5ECF6",
            "gridcolor": "white",
            "gridwidth": 2,
            "linecolor": "white",
            "showbackground": true,
            "ticks": "",
            "zerolinecolor": "white"
           },
           "yaxis": {
            "backgroundcolor": "#E5ECF6",
            "gridcolor": "white",
            "gridwidth": 2,
            "linecolor": "white",
            "showbackground": true,
            "ticks": "",
            "zerolinecolor": "white"
           },
           "zaxis": {
            "backgroundcolor": "#E5ECF6",
            "gridcolor": "white",
            "gridwidth": 2,
            "linecolor": "white",
            "showbackground": true,
            "ticks": "",
            "zerolinecolor": "white"
           }
          },
          "shapedefaults": {
           "line": {
            "color": "#2a3f5f"
           }
          },
          "ternary": {
           "aaxis": {
            "gridcolor": "white",
            "linecolor": "white",
            "ticks": ""
           },
           "baxis": {
            "gridcolor": "white",
            "linecolor": "white",
            "ticks": ""
           },
           "bgcolor": "#E5ECF6",
           "caxis": {
            "gridcolor": "white",
            "linecolor": "white",
            "ticks": ""
           }
          },
          "title": {
           "x": 0.05
          },
          "xaxis": {
           "automargin": true,
           "gridcolor": "white",
           "linecolor": "white",
           "ticks": "",
           "title": {
            "standoff": 15
           },
           "zerolinecolor": "white",
           "zerolinewidth": 2
          },
          "yaxis": {
           "automargin": true,
           "gridcolor": "white",
           "linecolor": "white",
           "ticks": "",
           "title": {
            "standoff": 15
           },
           "zerolinecolor": "white",
           "zerolinewidth": 2
          }
         }
        },
        "xaxis": {
         "anchor": "y",
         "domain": [
          0,
          1
         ],
         "title": {
          "text": "Gender"
         }
        },
        "yaxis": {
         "anchor": "x",
         "domain": [
          0,
          1
         ],
         "title": {
          "text": "Purchase Amount (USD)"
         }
        }
       }
      }
     },
     "metadata": {},
     "output_type": "display_data"
    }
   ],
   "source": [
    "shop_group=shop.groupby('Gender')['Purchase Amount (USD)'].sum().reset_index()\n",
    "fig=px.bar(shop_group, x='Gender', y='Purchase Amount (USD)')\n",
    "fig.show()"
   ]
  },
  {
   "cell_type": "code",
   "execution_count": 106,
   "metadata": {},
   "outputs": [
    {
     "data": {
      "application/vnd.plotly.v1+json": {
       "config": {
        "plotlyServerURL": "https://plot.ly"
       },
       "data": [
        {
         "branchvalues": "total",
         "domain": {
          "x": [
           0,
           1
          ],
          "y": [
           0,
           1
          ]
         },
         "hovertemplate": "labels=%{label}<br>Purchase Amount (USD)=%{value}<br>parent=%{parent}<br>id=%{id}<extra></extra>",
         "ids": [
          "Male/Old",
          "Male/Young Adult",
          "Male/Adult",
          "Male/teen",
          "Female/Young Adult",
          "Female/Old",
          "Female/Adult",
          "Female/teen",
          "Male",
          "Female"
         ],
         "labels": [
          "Old",
          "Young Adult",
          "Adult",
          "teen",
          "Young Adult",
          "Old",
          "Adult",
          "teen",
          "Male",
          "Female"
         ],
         "name": "",
         "parents": [
          "Male",
          "Male",
          "Male",
          "Male",
          "Female",
          "Female",
          "Female",
          "Female",
          "",
          ""
         ],
         "type": "sunburst",
         "values": {
          "bdata": "AAAAAGCW7UAAAAAA4JPhQAAAAADgfexAAAAAAAACp0AAAAAAQL3QQAAAAABAO9tAAAAAAMBK3EAAAAAAAKiSQAAAAAAQRgNBAAAAAHBb8kA=",
          "dtype": "f8"
         }
        }
       ],
       "layout": {
        "legend": {
         "tracegroupgap": 0
        },
        "margin": {
         "t": 60
        },
        "template": {
         "data": {
          "bar": [
           {
            "error_x": {
             "color": "#2a3f5f"
            },
            "error_y": {
             "color": "#2a3f5f"
            },
            "marker": {
             "line": {
              "color": "#E5ECF6",
              "width": 0.5
             },
             "pattern": {
              "fillmode": "overlay",
              "size": 10,
              "solidity": 0.2
             }
            },
            "type": "bar"
           }
          ],
          "barpolar": [
           {
            "marker": {
             "line": {
              "color": "#E5ECF6",
              "width": 0.5
             },
             "pattern": {
              "fillmode": "overlay",
              "size": 10,
              "solidity": 0.2
             }
            },
            "type": "barpolar"
           }
          ],
          "carpet": [
           {
            "aaxis": {
             "endlinecolor": "#2a3f5f",
             "gridcolor": "white",
             "linecolor": "white",
             "minorgridcolor": "white",
             "startlinecolor": "#2a3f5f"
            },
            "baxis": {
             "endlinecolor": "#2a3f5f",
             "gridcolor": "white",
             "linecolor": "white",
             "minorgridcolor": "white",
             "startlinecolor": "#2a3f5f"
            },
            "type": "carpet"
           }
          ],
          "choropleth": [
           {
            "colorbar": {
             "outlinewidth": 0,
             "ticks": ""
            },
            "type": "choropleth"
           }
          ],
          "contour": [
           {
            "colorbar": {
             "outlinewidth": 0,
             "ticks": ""
            },
            "colorscale": [
             [
              0,
              "#0d0887"
             ],
             [
              0.1111111111111111,
              "#46039f"
             ],
             [
              0.2222222222222222,
              "#7201a8"
             ],
             [
              0.3333333333333333,
              "#9c179e"
             ],
             [
              0.4444444444444444,
              "#bd3786"
             ],
             [
              0.5555555555555556,
              "#d8576b"
             ],
             [
              0.6666666666666666,
              "#ed7953"
             ],
             [
              0.7777777777777778,
              "#fb9f3a"
             ],
             [
              0.8888888888888888,
              "#fdca26"
             ],
             [
              1,
              "#f0f921"
             ]
            ],
            "type": "contour"
           }
          ],
          "contourcarpet": [
           {
            "colorbar": {
             "outlinewidth": 0,
             "ticks": ""
            },
            "type": "contourcarpet"
           }
          ],
          "heatmap": [
           {
            "colorbar": {
             "outlinewidth": 0,
             "ticks": ""
            },
            "colorscale": [
             [
              0,
              "#0d0887"
             ],
             [
              0.1111111111111111,
              "#46039f"
             ],
             [
              0.2222222222222222,
              "#7201a8"
             ],
             [
              0.3333333333333333,
              "#9c179e"
             ],
             [
              0.4444444444444444,
              "#bd3786"
             ],
             [
              0.5555555555555556,
              "#d8576b"
             ],
             [
              0.6666666666666666,
              "#ed7953"
             ],
             [
              0.7777777777777778,
              "#fb9f3a"
             ],
             [
              0.8888888888888888,
              "#fdca26"
             ],
             [
              1,
              "#f0f921"
             ]
            ],
            "type": "heatmap"
           }
          ],
          "histogram": [
           {
            "marker": {
             "pattern": {
              "fillmode": "overlay",
              "size": 10,
              "solidity": 0.2
             }
            },
            "type": "histogram"
           }
          ],
          "histogram2d": [
           {
            "colorbar": {
             "outlinewidth": 0,
             "ticks": ""
            },
            "colorscale": [
             [
              0,
              "#0d0887"
             ],
             [
              0.1111111111111111,
              "#46039f"
             ],
             [
              0.2222222222222222,
              "#7201a8"
             ],
             [
              0.3333333333333333,
              "#9c179e"
             ],
             [
              0.4444444444444444,
              "#bd3786"
             ],
             [
              0.5555555555555556,
              "#d8576b"
             ],
             [
              0.6666666666666666,
              "#ed7953"
             ],
             [
              0.7777777777777778,
              "#fb9f3a"
             ],
             [
              0.8888888888888888,
              "#fdca26"
             ],
             [
              1,
              "#f0f921"
             ]
            ],
            "type": "histogram2d"
           }
          ],
          "histogram2dcontour": [
           {
            "colorbar": {
             "outlinewidth": 0,
             "ticks": ""
            },
            "colorscale": [
             [
              0,
              "#0d0887"
             ],
             [
              0.1111111111111111,
              "#46039f"
             ],
             [
              0.2222222222222222,
              "#7201a8"
             ],
             [
              0.3333333333333333,
              "#9c179e"
             ],
             [
              0.4444444444444444,
              "#bd3786"
             ],
             [
              0.5555555555555556,
              "#d8576b"
             ],
             [
              0.6666666666666666,
              "#ed7953"
             ],
             [
              0.7777777777777778,
              "#fb9f3a"
             ],
             [
              0.8888888888888888,
              "#fdca26"
             ],
             [
              1,
              "#f0f921"
             ]
            ],
            "type": "histogram2dcontour"
           }
          ],
          "mesh3d": [
           {
            "colorbar": {
             "outlinewidth": 0,
             "ticks": ""
            },
            "type": "mesh3d"
           }
          ],
          "parcoords": [
           {
            "line": {
             "colorbar": {
              "outlinewidth": 0,
              "ticks": ""
             }
            },
            "type": "parcoords"
           }
          ],
          "pie": [
           {
            "automargin": true,
            "type": "pie"
           }
          ],
          "scatter": [
           {
            "fillpattern": {
             "fillmode": "overlay",
             "size": 10,
             "solidity": 0.2
            },
            "type": "scatter"
           }
          ],
          "scatter3d": [
           {
            "line": {
             "colorbar": {
              "outlinewidth": 0,
              "ticks": ""
             }
            },
            "marker": {
             "colorbar": {
              "outlinewidth": 0,
              "ticks": ""
             }
            },
            "type": "scatter3d"
           }
          ],
          "scattercarpet": [
           {
            "marker": {
             "colorbar": {
              "outlinewidth": 0,
              "ticks": ""
             }
            },
            "type": "scattercarpet"
           }
          ],
          "scattergeo": [
           {
            "marker": {
             "colorbar": {
              "outlinewidth": 0,
              "ticks": ""
             }
            },
            "type": "scattergeo"
           }
          ],
          "scattergl": [
           {
            "marker": {
             "colorbar": {
              "outlinewidth": 0,
              "ticks": ""
             }
            },
            "type": "scattergl"
           }
          ],
          "scattermap": [
           {
            "marker": {
             "colorbar": {
              "outlinewidth": 0,
              "ticks": ""
             }
            },
            "type": "scattermap"
           }
          ],
          "scattermapbox": [
           {
            "marker": {
             "colorbar": {
              "outlinewidth": 0,
              "ticks": ""
             }
            },
            "type": "scattermapbox"
           }
          ],
          "scatterpolar": [
           {
            "marker": {
             "colorbar": {
              "outlinewidth": 0,
              "ticks": ""
             }
            },
            "type": "scatterpolar"
           }
          ],
          "scatterpolargl": [
           {
            "marker": {
             "colorbar": {
              "outlinewidth": 0,
              "ticks": ""
             }
            },
            "type": "scatterpolargl"
           }
          ],
          "scatterternary": [
           {
            "marker": {
             "colorbar": {
              "outlinewidth": 0,
              "ticks": ""
             }
            },
            "type": "scatterternary"
           }
          ],
          "surface": [
           {
            "colorbar": {
             "outlinewidth": 0,
             "ticks": ""
            },
            "colorscale": [
             [
              0,
              "#0d0887"
             ],
             [
              0.1111111111111111,
              "#46039f"
             ],
             [
              0.2222222222222222,
              "#7201a8"
             ],
             [
              0.3333333333333333,
              "#9c179e"
             ],
             [
              0.4444444444444444,
              "#bd3786"
             ],
             [
              0.5555555555555556,
              "#d8576b"
             ],
             [
              0.6666666666666666,
              "#ed7953"
             ],
             [
              0.7777777777777778,
              "#fb9f3a"
             ],
             [
              0.8888888888888888,
              "#fdca26"
             ],
             [
              1,
              "#f0f921"
             ]
            ],
            "type": "surface"
           }
          ],
          "table": [
           {
            "cells": {
             "fill": {
              "color": "#EBF0F8"
             },
             "line": {
              "color": "white"
             }
            },
            "header": {
             "fill": {
              "color": "#C8D4E3"
             },
             "line": {
              "color": "white"
             }
            },
            "type": "table"
           }
          ]
         },
         "layout": {
          "annotationdefaults": {
           "arrowcolor": "#2a3f5f",
           "arrowhead": 0,
           "arrowwidth": 1
          },
          "autotypenumbers": "strict",
          "coloraxis": {
           "colorbar": {
            "outlinewidth": 0,
            "ticks": ""
           }
          },
          "colorscale": {
           "diverging": [
            [
             0,
             "#8e0152"
            ],
            [
             0.1,
             "#c51b7d"
            ],
            [
             0.2,
             "#de77ae"
            ],
            [
             0.3,
             "#f1b6da"
            ],
            [
             0.4,
             "#fde0ef"
            ],
            [
             0.5,
             "#f7f7f7"
            ],
            [
             0.6,
             "#e6f5d0"
            ],
            [
             0.7,
             "#b8e186"
            ],
            [
             0.8,
             "#7fbc41"
            ],
            [
             0.9,
             "#4d9221"
            ],
            [
             1,
             "#276419"
            ]
           ],
           "sequential": [
            [
             0,
             "#0d0887"
            ],
            [
             0.1111111111111111,
             "#46039f"
            ],
            [
             0.2222222222222222,
             "#7201a8"
            ],
            [
             0.3333333333333333,
             "#9c179e"
            ],
            [
             0.4444444444444444,
             "#bd3786"
            ],
            [
             0.5555555555555556,
             "#d8576b"
            ],
            [
             0.6666666666666666,
             "#ed7953"
            ],
            [
             0.7777777777777778,
             "#fb9f3a"
            ],
            [
             0.8888888888888888,
             "#fdca26"
            ],
            [
             1,
             "#f0f921"
            ]
           ],
           "sequentialminus": [
            [
             0,
             "#0d0887"
            ],
            [
             0.1111111111111111,
             "#46039f"
            ],
            [
             0.2222222222222222,
             "#7201a8"
            ],
            [
             0.3333333333333333,
             "#9c179e"
            ],
            [
             0.4444444444444444,
             "#bd3786"
            ],
            [
             0.5555555555555556,
             "#d8576b"
            ],
            [
             0.6666666666666666,
             "#ed7953"
            ],
            [
             0.7777777777777778,
             "#fb9f3a"
            ],
            [
             0.8888888888888888,
             "#fdca26"
            ],
            [
             1,
             "#f0f921"
            ]
           ]
          },
          "colorway": [
           "#636efa",
           "#EF553B",
           "#00cc96",
           "#ab63fa",
           "#FFA15A",
           "#19d3f3",
           "#FF6692",
           "#B6E880",
           "#FF97FF",
           "#FECB52"
          ],
          "font": {
           "color": "#2a3f5f"
          },
          "geo": {
           "bgcolor": "white",
           "lakecolor": "white",
           "landcolor": "#E5ECF6",
           "showlakes": true,
           "showland": true,
           "subunitcolor": "white"
          },
          "hoverlabel": {
           "align": "left"
          },
          "hovermode": "closest",
          "mapbox": {
           "style": "light"
          },
          "paper_bgcolor": "white",
          "plot_bgcolor": "#E5ECF6",
          "polar": {
           "angularaxis": {
            "gridcolor": "white",
            "linecolor": "white",
            "ticks": ""
           },
           "bgcolor": "#E5ECF6",
           "radialaxis": {
            "gridcolor": "white",
            "linecolor": "white",
            "ticks": ""
           }
          },
          "scene": {
           "xaxis": {
            "backgroundcolor": "#E5ECF6",
            "gridcolor": "white",
            "gridwidth": 2,
            "linecolor": "white",
            "showbackground": true,
            "ticks": "",
            "zerolinecolor": "white"
           },
           "yaxis": {
            "backgroundcolor": "#E5ECF6",
            "gridcolor": "white",
            "gridwidth": 2,
            "linecolor": "white",
            "showbackground": true,
            "ticks": "",
            "zerolinecolor": "white"
           },
           "zaxis": {
            "backgroundcolor": "#E5ECF6",
            "gridcolor": "white",
            "gridwidth": 2,
            "linecolor": "white",
            "showbackground": true,
            "ticks": "",
            "zerolinecolor": "white"
           }
          },
          "shapedefaults": {
           "line": {
            "color": "#2a3f5f"
           }
          },
          "ternary": {
           "aaxis": {
            "gridcolor": "white",
            "linecolor": "white",
            "ticks": ""
           },
           "baxis": {
            "gridcolor": "white",
            "linecolor": "white",
            "ticks": ""
           },
           "bgcolor": "#E5ECF6",
           "caxis": {
            "gridcolor": "white",
            "linecolor": "white",
            "ticks": ""
           }
          },
          "title": {
           "x": 0.05
          },
          "xaxis": {
           "automargin": true,
           "gridcolor": "white",
           "linecolor": "white",
           "ticks": "",
           "title": {
            "standoff": 15
           },
           "zerolinecolor": "white",
           "zerolinewidth": 2
          },
          "yaxis": {
           "automargin": true,
           "gridcolor": "white",
           "linecolor": "white",
           "ticks": "",
           "title": {
            "standoff": 15
           },
           "zerolinecolor": "white",
           "zerolinewidth": 2
          }
         }
        }
       }
      }
     },
     "metadata": {},
     "output_type": "display_data"
    }
   ],
   "source": [
    "px.sunburst(data_frame= shop, path=['Gender', 'Age_Category'], values='Purchase Amount (USD)')"
   ]
  },
  {
   "cell_type": "markdown",
   "metadata": {},
   "source": [
    "19. What is the distribution of products across different categories?"
   ]
  },
  {
   "cell_type": "code",
   "execution_count": 107,
   "metadata": {},
   "outputs": [
    {
     "data": {
      "image/png": "[encoded data removed]",
      "text/plain": [
       "<Figure size 640x480 with 1 Axes>"
      ]
     },
     "metadata": {},
     "output_type": "display_data"
    }
   ],
   "source": [
    "shop.groupby('Category').size().plot(kind='barh', color=sns.color_palette('Blues'))\n",
    "plt.gca().spines[['top', 'right']].set_visible(False)\n",
    "plt.title('Product Distribution by Category')\n",
    "plt.tight_layout()\n",
    "plt.show()"
   ]
  },
  {
   "cell_type": "markdown",
   "metadata": {},
   "source": [
    "20. What is the distribution of different shipping types used for orders?"
   ]
  },
  {
   "cell_type": "code",
   "execution_count": 108,
   "metadata": {},
   "outputs": [
    {
     "data": {
      "image/png": "[encoded data removed]",
      "text/plain": [
       "<Figure size 640x480 with 1 Axes>"
      ]
     },
     "metadata": {},
     "output_type": "display_data"
    }
   ],
   "source": [
    "shop['Shipping Type'].value_counts().plot(kind='barh', color=sns.light_palette(\"skyblue\", reverse=True))\n",
    "plt.gca().spines[['top', 'right']].set_visible(False)\n",
    "plt.title('Distribution of Shipping Types')\n",
    "plt.tight_layout()\n",
    "plt.show()"
   ]
  }
 ],
 "metadata": {
  "kernelspec": {
   "display_name": "Python 3",
   "language": "python",
   "name": "python3"
  },
  "language_info": {
   "codemirror_mode": {
    "name": "ipython",
    "version": 3
   },
   "file_extension": ".py",
   "mimetype": "text/x-python",
   "name": "python",
   "nbconvert_exporter": "python",
   "pygments_lexer": "ipython3",
   "version": "3.11.4"
  }
 },
 "nbformat": 4,
 "nbformat_minor": 2
}
